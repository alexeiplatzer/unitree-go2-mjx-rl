{
 "cells": [
  {
   "cell_type": "code",
   "execution_count": null,
   "id": "initial_id",
   "metadata": {
    "collapsed": true
   },
   "outputs": [],
   "source": [
    "# @title Install quadruped_mjx_rl and brax\n",
    "!git clone https://github.com/alexeiplatzer/unitree-go2-mjx-rl.git\n",
    "!git -C unitree-go2-mjx-rl checkout brax-integrated\n",
    "!pip install -e unitree-go2-mjx-rl\n",
    "!pip install brax==0.12.3"
   ]
  },
  {
   "metadata": {},
   "cell_type": "code",
   "outputs": [],
   "execution_count": null,
   "source": [
    "# @title Refresh the package if any necessary changes have been pushed. Important in development\n",
    "repo_path = \"./unitree-go2-mjx-rl\"\n",
    "!git -C {repo_path} pull"
   ],
   "id": "f72bc9858b213f1c"
  },
  {
   "metadata": {},
   "cell_type": "code",
   "outputs": [],
   "execution_count": null,
   "source": [
    "# @title Session setup\n",
    "# Check if MuJoCo installation was successful\n",
    "import distutils.util\n",
    "import os\n",
    "import subprocess\n",
    "if subprocess.run('nvidia-smi').returncode:\n",
    "    raise RuntimeError(\n",
    "        'Cannot communicate with GPU. '\n",
    "        'Make sure you are using a GPU Colab runtime. '\n",
    "        'Go to the Runtime menu and select Choose runtime type.'\n",
    "    )\n",
    "\n",
    "# Add an ICD config so that glvnd can pick up the Nvidia EGL driver.\n",
    "# This is usually installed as part of an Nvidia driver package, but the Colab\n",
    "# kernel doesn't install its driver via APT, and as a result the ICD is missing.\n",
    "# (https://github.com/NVIDIA/libglvnd/blob/master/src/EGL/icd_enumeration.md)\n",
    "NVIDIA_ICD_CONFIG_PATH = '/usr/share/glvnd/egl_vendor.d/10_nvidia.json'\n",
    "if not os.path.exists(NVIDIA_ICD_CONFIG_PATH):\n",
    "    with open(NVIDIA_ICD_CONFIG_PATH, 'w') as f:\n",
    "        f.write(\"\"\"{\n",
    "        \"file_format_version\" : \"1.0.0\",\n",
    "        \"ICD\" : {\n",
    "            \"library_path\" : \"libEGL_nvidia.so.0\"\n",
    "        }\n",
    "    }\n",
    "    \"\"\")\n",
    "\n",
    "# Configure MuJoCo to use the EGL rendering backend (requires GPU)\n",
    "print('Setting environment variable to use GPU rendering:')\n",
    "%env MUJOCO_GL=egl\n",
    "\n",
    "try:\n",
    "    print('Checking that the installation succeeded:')\n",
    "    import mujoco\n",
    "\n",
    "    mujoco.MjModel.from_xml_string('<mujoco/>')\n",
    "except Exception as e:\n",
    "    raise e from RuntimeError(\n",
    "        'Something went wrong during installation. Check the shell output above '\n",
    "        'for more information.\\n'\n",
    "        'If using a hosted Colab runtime, make sure you enable GPU acceleration '\n",
    "        'by going to the Runtime menu and selecting \"Choose runtime type\".'\n",
    "    )\n",
    "\n",
    "print('Installation successful.')\n",
    "\n",
    "# Tell XLA to use Triton GEMM, this improves steps/sec by ~30% on some GPUs\n",
    "xla_flags = os.environ.get('XLA_FLAGS', '')\n",
    "xla_flags += ' --xla_gpu_triton_gemm_any=True'\n",
    "os.environ['XLA_FLAGS'] = xla_flags\n",
    "\n",
    "# More legible printing from numpy.\n",
    "import numpy as np\n",
    "np.set_printoptions(precision=3, suppress=True, linewidth=100)\n",
    "\n",
    "# Prepare paths\n",
    "from etils.epath import Path\n",
    "repo_path = Path(\"unitree-go2-mjx-rl\")\n",
    "configs_path = repo_path / \"configs\"\n",
    "scenes_path = repo_path / \"resources\" / \"unitree_go2\"\n",
    "results_path = Path(\"results\")\n",
    "results_path.mkdir(parents=True, exist_ok=True)"
   ],
   "id": "8773a2196c30e599"
  },
  {
   "metadata": {},
   "cell_type": "code",
   "outputs": [],
   "execution_count": null,
   "source": [
    "from quadruped_mjx_rl.config_utils import prepare_configs\n",
    "from quadruped_mjx_rl.environments import get_env_factory\n",
    "from quadruped_mjx_rl.training import train\n",
    "\n",
    "\n",
    "robot_config = prepare_configs(configs_path / \"unitree_go2.yaml\")[\"robot\"]\n",
    "rl_configs = prepare_configs(configs_path / \"brax_example_unitree_go2.yaml\")\n",
    "\n",
    "init_scene_path = scenes_path / \"scene_mjx.xml\"\n",
    "\n",
    "train(\n",
    "    robot_config=robot_config,\n",
    "    env_config=rl_configs[\"environment\"],\n",
    "    init_scene_path=init_scene_path,\n",
    "    model_config=rl_configs[\"model\"],\n",
    "    training_config=rl_configs[\"training\"],\n",
    "    model_save_path=results_path / \"my_model\",\n",
    ")"
   ],
   "id": "3db0d0bd890c9894"
  }
 ],
 "metadata": {
  "kernelspec": {
   "display_name": "Python 3",
   "language": "python",
   "name": "python3"
  },
  "language_info": {
   "codemirror_mode": {
    "name": "ipython",
    "version": 2
   },
   "file_extension": ".py",
   "mimetype": "text/x-python",
   "name": "python",
   "nbconvert_exporter": "python",
   "pygments_lexer": "ipython2",
   "version": "2.7.6"
  }
 },
 "nbformat": 4,
 "nbformat_minor": 5
}
