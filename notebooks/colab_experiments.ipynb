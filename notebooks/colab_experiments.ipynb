{
 "cells": [
  {
   "cell_type": "code",
   "execution_count": null,
   "id": "initial_id",
   "metadata": {
    "collapsed": true
   },
   "outputs": [],
   "source": [
    "# # @title Install madrona_mjx and quadruped_mjx_rl\n",
    "\n",
    "# # install additional missing packages\n",
    "# !sudo apt install -y libx11-dev libxrandr-dev libxinerama-dev libxcursor-dev libxi-dev mesa-common-dev\n",
    "\n",
    "# # install jax with cuda enabled\n",
    "!pip install \"jax[cuda12]==0.5.1\"\n",
    "\n",
    "# # get madrona mjx and its subpackages\n",
    "# !mkdir modules\n",
    "# !git clone https://github.com/shacklettbp/madrona_mjx.git modules/madrona_mjx\n",
    "# !git -C modules/madrona_mjx submodule update --init --recursive\n",
    "\n",
    "# # build madrona mjx\n",
    "# !mkdir modules/madrona_mjx/build\n",
    "# !cd modules/madrona_mjx/build && cmake -DLOAD_VULKAN=OFF .. && make -j 8\n",
    "\n",
    "# # install madrona mjx\n",
    "# !pip install -e modules/madrona_mjx\n",
    "\n",
    "# Clones and installs our Quadruped RL package\n",
    "!git clone https://github.com/alexeiplatzer/unitree-go2-mjx-rl.git\n",
    "!pip install -e unitree-go2-mjx-rl"
   ]
  }
 ],
 "metadata": {
  "kernelspec": {
   "display_name": "Python 3",
   "language": "python",
   "name": "python3"
  },
  "language_info": {
   "codemirror_mode": {
    "name": "ipython",
    "version": 2
   },
   "file_extension": ".py",
   "mimetype": "text/x-python",
   "name": "python",
   "nbconvert_exporter": "python",
   "pygments_lexer": "ipython2",
   "version": "2.7.6"
  }
 },
 "nbformat": 4,
 "nbformat_minor": 5
}
