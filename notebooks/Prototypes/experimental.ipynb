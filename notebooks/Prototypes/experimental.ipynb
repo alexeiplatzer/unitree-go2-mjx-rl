{
 "cells": [
  {
   "cell_type": "code",
   "id": "initial_id",
   "metadata": {
    "collapsed": true,
    "ExecuteTime": {
     "end_time": "2025-02-15T13:05:37.314043Z",
     "start_time": "2025-02-15T13:05:37.308904Z"
    }
   },
   "source": [
    "from dataclasses import dataclass, asdict, field\n",
    "from ml_collections.config_dict import ConfigDict\n",
    "\n",
    "@dataclass\n",
    "class TestConfig:\n",
    "    num_epochs: int = 1\n",
    "    batch_size: int = 1\n",
    "    learning_rate: float = 0.2\n",
    "    model_config: dict[str, list[int]] = field(default_factory=lambda: {\"MLP\": [32, 32]})\n",
    "\n",
    "# test_config = TestConfig(\n",
    "#     num_epochs=1,\n",
    "#     batch_size=1,\n",
    "#     learning_rate=0.1,\n",
    "#     model_config={\n",
    "#         \"encoder\": [32, 32],\n",
    "#         \"decoder\": [32, 32],\n",
    "#     },\n",
    "# )\n",
    "\n",
    "test_config = TestConfig()\n",
    "\n",
    "configuration = asdict(test_config)\n",
    "print(configuration)\n"
   ],
   "outputs": [
    {
     "name": "stdout",
     "output_type": "stream",
     "text": [
      "{'num_epochs': 1, 'batch_size': 1, 'learning_rate': 0.2, 'model_config': {'MLP': [32, 32]}}\n"
     ]
    }
   ],
   "execution_count": 2
  }
 ],
 "metadata": {
  "kernelspec": {
   "display_name": "Python 3",
   "language": "python",
   "name": "python3"
  },
  "language_info": {
   "codemirror_mode": {
    "name": "ipython",
    "version": 2
   },
   "file_extension": ".py",
   "mimetype": "text/x-python",
   "name": "python",
   "nbconvert_exporter": "python",
   "pygments_lexer": "ipython2",
   "version": "2.7.6"
  }
 },
 "nbformat": 4,
 "nbformat_minor": 5
}
