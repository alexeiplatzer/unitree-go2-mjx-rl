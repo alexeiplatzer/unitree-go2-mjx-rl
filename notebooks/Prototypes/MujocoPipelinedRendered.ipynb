{
 "nbformat": 4,
 "nbformat_minor": 0,
 "metadata": {
  "colab": {
   "provenance": []
  },
  "kernelspec": {
   "name": "python3",
   "display_name": "Python 3"
  },
  "language_info": {
   "name": "python"
  }
 },
 "cells": [
  {
   "cell_type": "markdown",
   "source": [
    "## Preparation"
   ],
   "metadata": {
    "id": "qb2uSMBulgNt"
   }
  },
  {
   "cell_type": "markdown",
   "source": [
    "Execute the following cell once after allocating runtime.\n",
    "\n",
    "Clones the repo and installs it as an editable package"
   ],
   "metadata": {
    "id": "_rHoerPMlotW"
   }
  },
  {
   "cell_type": "code",
   "execution_count": null,
   "metadata": {
    "colab": {
     "base_uri": "https://localhost:8080/"
    },
    "id": "gNJv9QZ3640j",
    "outputId": "a777d4d9-5c26-4856-aca9-b4c254541b0b"
   },
   "outputs": [
    {
     "output_type": "stream",
     "name": "stdout",
     "text": [
      "Cloning into 'unitree-go2-mjx-rl'...\n",
      "remote: Enumerating objects: 618, done.\u001B[K\n",
      "remote: Counting objects: 100% (618/618), done.\u001B[K\n",
      "remote: Compressing objects: 100% (385/385), done.\u001B[K\n",
      "remote: Total 618 (delta 287), reused 512 (delta 184), pack-reused 0 (from 0)\u001B[K\n",
      "Receiving objects: 100% (618/618), 22.23 MiB | 10.87 MiB/s, done.\n",
      "Resolving deltas: 100% (287/287), done.\n",
      "Obtaining file:///content/unitree-go2-mjx-rl\n",
      "  Installing build dependencies ... \u001B[?25l\u001B[?25hdone\n",
      "  Checking if build backend supports build_editable ... \u001B[?25l\u001B[?25hdone\n",
      "  Getting requirements to build editable ... \u001B[?25l\u001B[?25hdone\n",
      "  Preparing editable metadata (pyproject.toml) ... \u001B[?25l\u001B[?25hdone\n",
      "Collecting mujoco (from quadruped_mjx_rl==0.0.1)\n",
      "  Downloading mujoco-3.3.0-cp311-cp311-manylinux_2_17_x86_64.manylinux2014_x86_64.whl.metadata (44 kB)\n",
      "\u001B[2K     \u001B[90m━━━━━━━━━━━━━━━━━━━━━━━━━━━━━━━━━━━━━━━━\u001B[0m \u001B[32m44.4/44.4 kB\u001B[0m \u001B[31m1.6 MB/s\u001B[0m eta \u001B[36m0:00:00\u001B[0m\n",
      "\u001B[?25hCollecting mujoco_mjx (from quadruped_mjx_rl==0.0.1)\n",
      "  Downloading mujoco_mjx-3.3.0-py3-none-any.whl.metadata (3.3 kB)\n",
      "Collecting brax (from quadruped_mjx_rl==0.0.1)\n",
      "  Downloading brax-0.12.1-py3-none-any.whl.metadata (7.7 kB)\n",
      "Collecting mediapy (from quadruped_mjx_rl==0.0.1)\n",
      "  Downloading mediapy-1.2.2-py3-none-any.whl.metadata (4.8 kB)\n",
      "Collecting ml_collections (from quadruped_mjx_rl==0.0.1)\n",
      "  Downloading ml_collections-1.0.0-py3-none-any.whl.metadata (22 kB)\n",
      "Requirement already satisfied: pyyaml in /usr/local/lib/python3.11/dist-packages (from quadruped_mjx_rl==0.0.1) (6.0.2)\n",
      "Collecting dacite (from quadruped_mjx_rl==0.0.1)\n",
      "  Downloading dacite-1.9.2-py3-none-any.whl.metadata (17 kB)\n",
      "Requirement already satisfied: absl-py in /usr/local/lib/python3.11/dist-packages (from brax->quadruped_mjx_rl==0.0.1) (1.4.0)\n",
      "Collecting dm_env (from brax->quadruped_mjx_rl==0.0.1)\n",
      "  Downloading dm_env-1.6-py3-none-any.whl.metadata (966 bytes)\n",
      "Requirement already satisfied: etils in /usr/local/lib/python3.11/dist-packages (from brax->quadruped_mjx_rl==0.0.1) (1.12.0)\n",
      "Requirement already satisfied: flask in /usr/local/lib/python3.11/dist-packages (from brax->quadruped_mjx_rl==0.0.1) (3.1.0)\n",
      "Collecting flask_cors (from brax->quadruped_mjx_rl==0.0.1)\n",
      "  Downloading flask_cors-5.0.1-py3-none-any.whl.metadata (961 bytes)\n",
      "Requirement already satisfied: flax in /usr/local/lib/python3.11/dist-packages (from brax->quadruped_mjx_rl==0.0.1) (0.10.4)\n",
      "Requirement already satisfied: grpcio in /usr/local/lib/python3.11/dist-packages (from brax->quadruped_mjx_rl==0.0.1) (1.70.0)\n",
      "Requirement already satisfied: gym in /usr/local/lib/python3.11/dist-packages (from brax->quadruped_mjx_rl==0.0.1) (0.25.2)\n",
      "Requirement already satisfied: jax>=0.4.6 in /usr/local/lib/python3.11/dist-packages (from brax->quadruped_mjx_rl==0.0.1) (0.4.33)\n",
      "Requirement already satisfied: jaxlib>=0.4.6 in /usr/local/lib/python3.11/dist-packages (from brax->quadruped_mjx_rl==0.0.1) (0.4.33)\n",
      "Collecting jaxopt (from brax->quadruped_mjx_rl==0.0.1)\n",
      "  Downloading jaxopt-0.8.3-py3-none-any.whl.metadata (2.6 kB)\n",
      "Requirement already satisfied: jinja2 in /usr/local/lib/python3.11/dist-packages (from brax->quadruped_mjx_rl==0.0.1) (3.1.5)\n",
      "Requirement already satisfied: numpy in /usr/local/lib/python3.11/dist-packages (from brax->quadruped_mjx_rl==0.0.1) (1.26.4)\n",
      "Requirement already satisfied: optax in /usr/local/lib/python3.11/dist-packages (from brax->quadruped_mjx_rl==0.0.1) (0.2.4)\n",
      "Requirement already satisfied: orbax-checkpoint in /usr/local/lib/python3.11/dist-packages (from brax->quadruped_mjx_rl==0.0.1) (0.6.4)\n",
      "Requirement already satisfied: Pillow in /usr/local/lib/python3.11/dist-packages (from brax->quadruped_mjx_rl==0.0.1) (11.1.0)\n",
      "Collecting pytinyrenderer (from brax->quadruped_mjx_rl==0.0.1)\n",
      "  Downloading pytinyrenderer-0.0.14-cp311-cp311-manylinux_2_17_x86_64.manylinux2014_x86_64.whl.metadata (1.2 kB)\n",
      "Requirement already satisfied: scipy in /usr/local/lib/python3.11/dist-packages (from brax->quadruped_mjx_rl==0.0.1) (1.13.1)\n",
      "Collecting tensorboardX (from brax->quadruped_mjx_rl==0.0.1)\n",
      "  Downloading tensorboardX-2.6.2.2-py2.py3-none-any.whl.metadata (5.8 kB)\n",
      "Collecting trimesh (from brax->quadruped_mjx_rl==0.0.1)\n",
      "  Downloading trimesh-4.6.4-py3-none-any.whl.metadata (18 kB)\n",
      "Requirement already satisfied: typing-extensions in /usr/local/lib/python3.11/dist-packages (from brax->quadruped_mjx_rl==0.0.1) (4.12.2)\n",
      "Requirement already satisfied: ipython in /usr/local/lib/python3.11/dist-packages (from mediapy->quadruped_mjx_rl==0.0.1) (7.34.0)\n",
      "Requirement already satisfied: matplotlib in /usr/local/lib/python3.11/dist-packages (from mediapy->quadruped_mjx_rl==0.0.1) (3.10.0)\n",
      "Requirement already satisfied: six in /usr/local/lib/python3.11/dist-packages (from ml_collections->quadruped_mjx_rl==0.0.1) (1.17.0)\n",
      "Collecting glfw (from mujoco->quadruped_mjx_rl==0.0.1)\n",
      "  Downloading glfw-2.8.0-py2.py27.py3.py30.py31.py32.py33.py34.py35.py36.py37.py38.p39.p310.p311.p312.p313-none-manylinux_2_28_x86_64.whl.metadata (5.4 kB)\n",
      "Requirement already satisfied: pyopengl in /usr/local/lib/python3.11/dist-packages (from mujoco->quadruped_mjx_rl==0.0.1) (3.1.9)\n",
      "Requirement already satisfied: ml-dtypes>=0.2.0 in /usr/local/lib/python3.11/dist-packages (from jax>=0.4.6->brax->quadruped_mjx_rl==0.0.1) (0.4.1)\n",
      "Requirement already satisfied: opt-einsum in /usr/local/lib/python3.11/dist-packages (from jax>=0.4.6->brax->quadruped_mjx_rl==0.0.1) (3.4.0)\n",
      "Requirement already satisfied: dm-tree in /usr/local/lib/python3.11/dist-packages (from dm_env->brax->quadruped_mjx_rl==0.0.1) (0.1.9)\n",
      "Requirement already satisfied: fsspec in /usr/local/lib/python3.11/dist-packages (from etils[epath]->mujoco->quadruped_mjx_rl==0.0.1) (2024.10.0)\n",
      "Requirement already satisfied: importlib_resources in /usr/local/lib/python3.11/dist-packages (from etils[epath]->mujoco->quadruped_mjx_rl==0.0.1) (6.5.2)\n",
      "Requirement already satisfied: zipp in /usr/local/lib/python3.11/dist-packages (from etils[epath]->mujoco->quadruped_mjx_rl==0.0.1) (3.21.0)\n",
      "Requirement already satisfied: Werkzeug>=3.1 in /usr/local/lib/python3.11/dist-packages (from flask->brax->quadruped_mjx_rl==0.0.1) (3.1.3)\n",
      "Requirement already satisfied: itsdangerous>=2.2 in /usr/local/lib/python3.11/dist-packages (from flask->brax->quadruped_mjx_rl==0.0.1) (2.2.0)\n",
      "Requirement already satisfied: click>=8.1.3 in /usr/local/lib/python3.11/dist-packages (from flask->brax->quadruped_mjx_rl==0.0.1) (8.1.8)\n",
      "Requirement already satisfied: blinker>=1.9 in /usr/local/lib/python3.11/dist-packages (from flask->brax->quadruped_mjx_rl==0.0.1) (1.9.0)\n",
      "Requirement already satisfied: MarkupSafe>=2.0 in /usr/local/lib/python3.11/dist-packages (from jinja2->brax->quadruped_mjx_rl==0.0.1) (3.0.2)\n",
      "Requirement already satisfied: msgpack in /usr/local/lib/python3.11/dist-packages (from flax->brax->quadruped_mjx_rl==0.0.1) (1.1.0)\n",
      "Requirement already satisfied: tensorstore in /usr/local/lib/python3.11/dist-packages (from flax->brax->quadruped_mjx_rl==0.0.1) (0.1.72)\n",
      "Requirement already satisfied: rich>=11.1 in /usr/local/lib/python3.11/dist-packages (from flax->brax->quadruped_mjx_rl==0.0.1) (13.9.4)\n",
      "Requirement already satisfied: treescope>=0.1.7 in /usr/local/lib/python3.11/dist-packages (from flax->brax->quadruped_mjx_rl==0.0.1) (0.1.9)\n",
      "Requirement already satisfied: cloudpickle>=1.2.0 in /usr/local/lib/python3.11/dist-packages (from gym->brax->quadruped_mjx_rl==0.0.1) (3.1.1)\n",
      "Requirement already satisfied: gym_notices>=0.0.4 in /usr/local/lib/python3.11/dist-packages (from gym->brax->quadruped_mjx_rl==0.0.1) (0.0.8)\n",
      "Requirement already satisfied: setuptools>=18.5 in /usr/local/lib/python3.11/dist-packages (from ipython->mediapy->quadruped_mjx_rl==0.0.1) (75.1.0)\n",
      "Collecting jedi>=0.16 (from ipython->mediapy->quadruped_mjx_rl==0.0.1)\n",
      "  Downloading jedi-0.19.2-py2.py3-none-any.whl.metadata (22 kB)\n",
      "Requirement already satisfied: decorator in /usr/local/lib/python3.11/dist-packages (from ipython->mediapy->quadruped_mjx_rl==0.0.1) (4.4.2)\n",
      "Requirement already satisfied: pickleshare in /usr/local/lib/python3.11/dist-packages (from ipython->mediapy->quadruped_mjx_rl==0.0.1) (0.7.5)\n",
      "Requirement already satisfied: traitlets>=4.2 in /usr/local/lib/python3.11/dist-packages (from ipython->mediapy->quadruped_mjx_rl==0.0.1) (5.7.1)\n",
      "Requirement already satisfied: prompt-toolkit!=3.0.0,!=3.0.1,<3.1.0,>=2.0.0 in /usr/local/lib/python3.11/dist-packages (from ipython->mediapy->quadruped_mjx_rl==0.0.1) (3.0.50)\n",
      "Requirement already satisfied: pygments in /usr/local/lib/python3.11/dist-packages (from ipython->mediapy->quadruped_mjx_rl==0.0.1) (2.18.0)\n",
      "Requirement already satisfied: backcall in /usr/local/lib/python3.11/dist-packages (from ipython->mediapy->quadruped_mjx_rl==0.0.1) (0.2.0)\n",
      "Requirement already satisfied: matplotlib-inline in /usr/local/lib/python3.11/dist-packages (from ipython->mediapy->quadruped_mjx_rl==0.0.1) (0.1.7)\n",
      "Requirement already satisfied: pexpect>4.3 in /usr/local/lib/python3.11/dist-packages (from ipython->mediapy->quadruped_mjx_rl==0.0.1) (4.9.0)\n",
      "Requirement already satisfied: contourpy>=1.0.1 in /usr/local/lib/python3.11/dist-packages (from matplotlib->mediapy->quadruped_mjx_rl==0.0.1) (1.3.1)\n",
      "Requirement already satisfied: cycler>=0.10 in /usr/local/lib/python3.11/dist-packages (from matplotlib->mediapy->quadruped_mjx_rl==0.0.1) (0.12.1)\n",
      "Requirement already satisfied: fonttools>=4.22.0 in /usr/local/lib/python3.11/dist-packages (from matplotlib->mediapy->quadruped_mjx_rl==0.0.1) (4.56.0)\n",
      "Requirement already satisfied: kiwisolver>=1.3.1 in /usr/local/lib/python3.11/dist-packages (from matplotlib->mediapy->quadruped_mjx_rl==0.0.1) (1.4.8)\n",
      "Requirement already satisfied: packaging>=20.0 in /usr/local/lib/python3.11/dist-packages (from matplotlib->mediapy->quadruped_mjx_rl==0.0.1) (24.2)\n",
      "Requirement already satisfied: pyparsing>=2.3.1 in /usr/local/lib/python3.11/dist-packages (from matplotlib->mediapy->quadruped_mjx_rl==0.0.1) (3.2.1)\n",
      "Requirement already satisfied: python-dateutil>=2.7 in /usr/local/lib/python3.11/dist-packages (from matplotlib->mediapy->quadruped_mjx_rl==0.0.1) (2.8.2)\n",
      "Requirement already satisfied: chex>=0.1.87 in /usr/local/lib/python3.11/dist-packages (from optax->brax->quadruped_mjx_rl==0.0.1) (0.1.89)\n",
      "Requirement already satisfied: nest_asyncio in /usr/local/lib/python3.11/dist-packages (from orbax-checkpoint->brax->quadruped_mjx_rl==0.0.1) (1.6.0)\n",
      "Requirement already satisfied: protobuf in /usr/local/lib/python3.11/dist-packages (from orbax-checkpoint->brax->quadruped_mjx_rl==0.0.1) (4.25.6)\n",
      "Requirement already satisfied: humanize in /usr/local/lib/python3.11/dist-packages (from orbax-checkpoint->brax->quadruped_mjx_rl==0.0.1) (4.11.0)\n",
      "Requirement already satisfied: toolz>=0.9.0 in /usr/local/lib/python3.11/dist-packages (from chex>=0.1.87->optax->brax->quadruped_mjx_rl==0.0.1) (0.12.1)\n",
      "Requirement already satisfied: parso<0.9.0,>=0.8.4 in /usr/local/lib/python3.11/dist-packages (from jedi>=0.16->ipython->mediapy->quadruped_mjx_rl==0.0.1) (0.8.4)\n",
      "Requirement already satisfied: ptyprocess>=0.5 in /usr/local/lib/python3.11/dist-packages (from pexpect>4.3->ipython->mediapy->quadruped_mjx_rl==0.0.1) (0.7.0)\n",
      "Requirement already satisfied: wcwidth in /usr/local/lib/python3.11/dist-packages (from prompt-toolkit!=3.0.0,!=3.0.1,<3.1.0,>=2.0.0->ipython->mediapy->quadruped_mjx_rl==0.0.1) (0.2.13)\n",
      "Requirement already satisfied: markdown-it-py>=2.2.0 in /usr/local/lib/python3.11/dist-packages (from rich>=11.1->flax->brax->quadruped_mjx_rl==0.0.1) (3.0.0)\n",
      "Requirement already satisfied: attrs>=18.2.0 in /usr/local/lib/python3.11/dist-packages (from dm-tree->dm_env->brax->quadruped_mjx_rl==0.0.1) (25.1.0)\n",
      "Requirement already satisfied: wrapt>=1.11.2 in /usr/local/lib/python3.11/dist-packages (from dm-tree->dm_env->brax->quadruped_mjx_rl==0.0.1) (1.17.2)\n",
      "Requirement already satisfied: mdurl~=0.1 in /usr/local/lib/python3.11/dist-packages (from markdown-it-py>=2.2.0->rich>=11.1->flax->brax->quadruped_mjx_rl==0.0.1) (0.1.2)\n",
      "Downloading brax-0.12.1-py3-none-any.whl (1.0 MB)\n",
      "\u001B[2K   \u001B[90m━━━━━━━━━━━━━━━━━━━━━━━━━━━━━━━━━━━━━━━━\u001B[0m \u001B[32m1.0/1.0 MB\u001B[0m \u001B[31m17.9 MB/s\u001B[0m eta \u001B[36m0:00:00\u001B[0m\n",
      "\u001B[?25hDownloading dacite-1.9.2-py3-none-any.whl (16 kB)\n",
      "Downloading mediapy-1.2.2-py3-none-any.whl (26 kB)\n",
      "Downloading ml_collections-1.0.0-py3-none-any.whl (76 kB)\n",
      "\u001B[2K   \u001B[90m━━━━━━━━━━━━━━━━━━━━━━━━━━━━━━━━━━━━━━━━\u001B[0m \u001B[32m76.5/76.5 kB\u001B[0m \u001B[31m6.5 MB/s\u001B[0m eta \u001B[36m0:00:00\u001B[0m\n",
      "\u001B[?25hDownloading mujoco-3.3.0-cp311-cp311-manylinux_2_17_x86_64.manylinux2014_x86_64.whl (6.6 MB)\n",
      "\u001B[2K   \u001B[90m━━━━━━━━━━━━━━━━━━━━━━━━━━━━━━━━━━━━━━━━\u001B[0m \u001B[32m6.6/6.6 MB\u001B[0m \u001B[31m55.7 MB/s\u001B[0m eta \u001B[36m0:00:00\u001B[0m\n",
      "\u001B[?25hDownloading mujoco_mjx-3.3.0-py3-none-any.whl (6.7 MB)\n",
      "\u001B[2K   \u001B[90m━━━━━━━━━━━━━━━━━━━━━━━━━━━━━━━━━━━━━━━━\u001B[0m \u001B[32m6.7/6.7 MB\u001B[0m \u001B[31m46.9 MB/s\u001B[0m eta \u001B[36m0:00:00\u001B[0m\n",
      "\u001B[?25hDownloading dm_env-1.6-py3-none-any.whl (26 kB)\n",
      "Downloading flask_cors-5.0.1-py3-none-any.whl (11 kB)\n",
      "Downloading glfw-2.8.0-py2.py27.py3.py30.py31.py32.py33.py34.py35.py36.py37.py38.p39.p310.p311.p312.p313-none-manylinux_2_28_x86_64.whl (243 kB)\n",
      "\u001B[2K   \u001B[90m━━━━━━━━━━━━━━━━━━━━━━━━━━━━━━━━━━━━━━━━\u001B[0m \u001B[32m243.4/243.4 kB\u001B[0m \u001B[31m17.7 MB/s\u001B[0m eta \u001B[36m0:00:00\u001B[0m\n",
      "\u001B[?25hDownloading jaxopt-0.8.3-py3-none-any.whl (172 kB)\n",
      "\u001B[2K   \u001B[90m━━━━━━━━━━━━━━━━━━━━━━━━━━━━━━━━━━━━━━━━\u001B[0m \u001B[32m172.3/172.3 kB\u001B[0m \u001B[31m12.2 MB/s\u001B[0m eta \u001B[36m0:00:00\u001B[0m\n",
      "\u001B[?25hDownloading pytinyrenderer-0.0.14-cp311-cp311-manylinux_2_17_x86_64.manylinux2014_x86_64.whl (1.9 MB)\n",
      "\u001B[2K   \u001B[90m━━━━━━━━━━━━━━━━━━━━━━━━━━━━━━━━━━━━━━━━\u001B[0m \u001B[32m1.9/1.9 MB\u001B[0m \u001B[31m64.3 MB/s\u001B[0m eta \u001B[36m0:00:00\u001B[0m\n",
      "\u001B[?25hDownloading tensorboardX-2.6.2.2-py2.py3-none-any.whl (101 kB)\n",
      "\u001B[2K   \u001B[90m━━━━━━━━━━━━━━━━━━━━━━━━━━━━━━━━━━━━━━━━\u001B[0m \u001B[32m101.7/101.7 kB\u001B[0m \u001B[31m7.4 MB/s\u001B[0m eta \u001B[36m0:00:00\u001B[0m\n",
      "\u001B[?25hDownloading trimesh-4.6.4-py3-none-any.whl (708 kB)\n",
      "\u001B[2K   \u001B[90m━━━━━━━━━━━━━━━━━━━━━━━━━━━━━━━━━━━━━━━━\u001B[0m \u001B[32m708.6/708.6 kB\u001B[0m \u001B[31m41.3 MB/s\u001B[0m eta \u001B[36m0:00:00\u001B[0m\n",
      "\u001B[?25hDownloading jedi-0.19.2-py2.py3-none-any.whl (1.6 MB)\n",
      "\u001B[2K   \u001B[90m━━━━━━━━━━━━━━━━━━━━━━━━━━━━━━━━━━━━━━━━\u001B[0m \u001B[32m1.6/1.6 MB\u001B[0m \u001B[31m59.8 MB/s\u001B[0m eta \u001B[36m0:00:00\u001B[0m\n",
      "\u001B[?25hBuilding wheels for collected packages: quadruped_mjx_rl\n",
      "  Building editable for quadruped_mjx_rl (pyproject.toml) ... \u001B[?25l\u001B[?25hdone\n",
      "  Created wheel for quadruped_mjx_rl: filename=quadruped_mjx_rl-0.0.1-0.editable-py3-none-any.whl size=1599 sha256=6f1c926916da67d59806a9232346e26954a172d52f7c05919215fcc230c26e1b\n",
      "  Stored in directory: /tmp/pip-ephem-wheel-cache-8h2xw9r3/wheels/f5/17/dc/1310c3fc1ac418e3ffd03caf359f7d6df62e5e764b13e82f9a\n",
      "Successfully built quadruped_mjx_rl\n",
      "Installing collected packages: pytinyrenderer, glfw, trimesh, tensorboardX, ml_collections, jedi, dacite, dm_env, mujoco, mediapy, flask_cors, mujoco_mjx, jaxopt, brax, quadruped_mjx_rl\n",
      "Successfully installed brax-0.12.1 dacite-1.9.2 dm_env-1.6 flask_cors-5.0.1 glfw-2.8.0 jaxopt-0.8.3 jedi-0.19.2 mediapy-1.2.2 ml_collections-1.0.0 mujoco-3.3.0 mujoco_mjx-3.3.0 pytinyrenderer-0.0.14 quadruped_mjx_rl-0.0.1 tensorboardX-2.6.2.2 trimesh-4.6.4\n"
     ]
    }
   ],
   "source": [
    "!git clone https://github.com/alexeiplatzer/unitree-go2-mjx-rl.git\n",
    "!pip install -e unitree-go2-mjx-rl/"
   ]
  },
  {
   "cell_type": "markdown",
   "source": [
    "### Next steps\n",
    "After installing the package:  \n",
    "- Upload the trained policy parameters file in the Colab file browser\n",
    "- Restart (not delete!) the kernel, to make the installed pacakge available"
   ],
   "metadata": {
    "id": "8MJIrZplmWco"
   }
  },
  {
   "cell_type": "markdown",
   "source": [
    "## Setup GPU rendering"
   ],
   "metadata": {
    "id": "4Vtjw5rHnKX5"
   }
  },
  {
   "cell_type": "markdown",
   "source": [
    "Sets up colab GPUs to be used for rendering. Not needed if using CPU. Must be executed in every session!"
   ],
   "metadata": {
    "id": "s2v1kQa8nU7m"
   }
  },
  {
   "cell_type": "code",
   "source": [
    "# Set up GPU rendering.\n",
    "from google.colab import files\n",
    "import distutils.util\n",
    "import os\n",
    "import subprocess\n",
    "if subprocess.run('nvidia-smi').returncode:\n",
    "  raise RuntimeError(\n",
    "      'Cannot communicate with GPU. '\n",
    "      'Make sure you are using a GPU Colab runtime. '\n",
    "      'Go to the Runtime menu and select Choose runtime type.')\n",
    "\n",
    "# Add an ICD config so that glvnd can pick up the Nvidia EGL driver.\n",
    "# This is usually installed as part of an Nvidia driver package, but the Colab\n",
    "# kernel doesn't install its driver via APT, and as a result the ICD is missing.\n",
    "# (https://github.com/NVIDIA/libglvnd/blob/master/src/EGL/icd_enumeration.md)\n",
    "NVIDIA_ICD_CONFIG_PATH = '/usr/share/glvnd/egl_vendor.d/10_nvidia.json'\n",
    "if not os.path.exists(NVIDIA_ICD_CONFIG_PATH):\n",
    "  with open(NVIDIA_ICD_CONFIG_PATH, 'w') as f:\n",
    "    f.write(\"\"\"{\n",
    "    \"file_format_version\" : \"1.0.0\",\n",
    "    \"ICD\" : {\n",
    "        \"library_path\" : \"libEGL_nvidia.so.0\"\n",
    "    }\n",
    "}\n",
    "\"\"\")\n",
    "\n",
    "# Configure MuJoCo to use the EGL rendering backend (requires GPU)\n",
    "print('Setting environment variable to use GPU rendering:')\n",
    "%env MUJOCO_GL=egl"
   ],
   "metadata": {
    "id": "2ITajAedB9OJ",
    "colab": {
     "base_uri": "https://localhost:8080/"
    },
    "outputId": "9051f9a6-235d-4b9d-f677-ce6c51067875"
   },
   "execution_count": null,
   "outputs": [
    {
     "output_type": "stream",
     "name": "stdout",
     "text": [
      "Setting environment variable to use GPU rendering:\n",
      "env: MUJOCO_GL=egl\n"
     ]
    }
   ]
  },
  {
   "cell_type": "markdown",
   "source": [
    "## Render"
   ],
   "metadata": {
    "id": "ots-rFPqo6qH"
   }
  },
  {
   "cell_type": "markdown",
   "source": [
    "Pull the repo in case any changes were pushed. Any updates should be immediately available as the package was installed in editable mode."
   ],
   "metadata": {
    "id": "dW4JlQfAo-pn"
   }
  },
  {
   "cell_type": "code",
   "source": [
    "!git -C ./unitree-go2-mjx-rl/ checkout old-python\n",
    "!git -C ./unitree-go2-mjx-rl/ pull"
   ],
   "metadata": {
    "colab": {
     "base_uri": "https://localhost:8080/"
    },
    "id": "SFCAyQHv8nt2",
    "outputId": "3c3678d5-86d1-4d04-b3a3-c1970a25e70a"
   },
   "execution_count": null,
   "outputs": [
    {
     "output_type": "stream",
     "name": "stdout",
     "text": [
      "Already on 'old-python'\n",
      "Your branch is up to date with 'origin/old-python'.\n",
      "Already up to date.\n"
     ]
    }
   ]
  },
  {
   "cell_type": "markdown",
   "source": [
    "Render the policy and save to the Colab content folder. Don't forget to download it!"
   ],
   "metadata": {
    "id": "p8SxuvwVuLf2"
   }
  },
  {
   "cell_type": "code",
   "source": [
    "from brax.io import model\n",
    "\n",
    "teacher_params = model.load_params(\"/content/ppo_teacher_policy\")\n",
    "student_params = model.load_params(\"/content/ppo_student_policy\")\n",
    "model.save_params(\n",
    "    \"/content/ppo_teacher_student_policy\",\n",
    "    (teacher_params, student_params),\n",
    ")"
   ],
   "metadata": {
    "id": "yel_l2zVWSYw",
    "colab": {
     "base_uri": "https://localhost:8080/",
     "height": 362
    },
    "outputId": "6f2e7144-e5c0-4813-ee86-0e4d7afc54a5"
   },
   "execution_count": null,
   "outputs": [
    {
     "output_type": "error",
     "ename": "FileNotFoundError",
     "evalue": "[Errno 2] No such file or directory: '/content/ppo_teacher_policy'",
     "traceback": [
      "\u001B[0;31m---------------------------------------------------------------------------\u001B[0m",
      "\u001B[0;31mFileNotFoundError\u001B[0m                         Traceback (most recent call last)",
      "\u001B[0;32m<ipython-input-3-0bdaddb938a7>\u001B[0m in \u001B[0;36m<cell line: 0>\u001B[0;34m()\u001B[0m\n\u001B[1;32m      1\u001B[0m \u001B[0;32mfrom\u001B[0m \u001B[0mbrax\u001B[0m\u001B[0;34m.\u001B[0m\u001B[0mio\u001B[0m \u001B[0;32mimport\u001B[0m \u001B[0mmodel\u001B[0m\u001B[0;34m\u001B[0m\u001B[0;34m\u001B[0m\u001B[0m\n\u001B[1;32m      2\u001B[0m \u001B[0;34m\u001B[0m\u001B[0m\n\u001B[0;32m----> 3\u001B[0;31m \u001B[0mteacher_params\u001B[0m \u001B[0;34m=\u001B[0m \u001B[0mmodel\u001B[0m\u001B[0;34m.\u001B[0m\u001B[0mload_params\u001B[0m\u001B[0;34m(\u001B[0m\u001B[0;34m\"/content/ppo_teacher_policy\"\u001B[0m\u001B[0;34m)\u001B[0m\u001B[0;34m\u001B[0m\u001B[0;34m\u001B[0m\u001B[0m\n\u001B[0m\u001B[1;32m      4\u001B[0m \u001B[0mstudent_params\u001B[0m \u001B[0;34m=\u001B[0m \u001B[0mmodel\u001B[0m\u001B[0;34m.\u001B[0m\u001B[0mload_params\u001B[0m\u001B[0;34m(\u001B[0m\u001B[0;34m\"/content/ppo_student_policy\"\u001B[0m\u001B[0;34m)\u001B[0m\u001B[0;34m\u001B[0m\u001B[0;34m\u001B[0m\u001B[0m\n\u001B[1;32m      5\u001B[0m model.save_params(\n",
      "\u001B[0;32m/usr/local/lib/python3.11/dist-packages/brax/io/model.py\u001B[0m in \u001B[0;36mload_params\u001B[0;34m(path)\u001B[0m\n\u001B[1;32m     21\u001B[0m \u001B[0;34m\u001B[0m\u001B[0m\n\u001B[1;32m     22\u001B[0m \u001B[0;32mdef\u001B[0m \u001B[0mload_params\u001B[0m\u001B[0;34m(\u001B[0m\u001B[0mpath\u001B[0m\u001B[0;34m:\u001B[0m \u001B[0mstr\u001B[0m\u001B[0;34m)\u001B[0m \u001B[0;34m->\u001B[0m \u001B[0mAny\u001B[0m\u001B[0;34m:\u001B[0m\u001B[0;34m\u001B[0m\u001B[0;34m\u001B[0m\u001B[0m\n\u001B[0;32m---> 23\u001B[0;31m   \u001B[0;32mwith\u001B[0m \u001B[0mepath\u001B[0m\u001B[0;34m.\u001B[0m\u001B[0mPath\u001B[0m\u001B[0;34m(\u001B[0m\u001B[0mpath\u001B[0m\u001B[0;34m)\u001B[0m\u001B[0;34m.\u001B[0m\u001B[0mopen\u001B[0m\u001B[0;34m(\u001B[0m\u001B[0;34m'rb'\u001B[0m\u001B[0;34m)\u001B[0m \u001B[0;32mas\u001B[0m \u001B[0mfin\u001B[0m\u001B[0;34m:\u001B[0m\u001B[0;34m\u001B[0m\u001B[0;34m\u001B[0m\u001B[0m\n\u001B[0m\u001B[1;32m     24\u001B[0m     \u001B[0mbuf\u001B[0m \u001B[0;34m=\u001B[0m \u001B[0mfin\u001B[0m\u001B[0;34m.\u001B[0m\u001B[0mread\u001B[0m\u001B[0;34m(\u001B[0m\u001B[0;34m)\u001B[0m\u001B[0;34m\u001B[0m\u001B[0;34m\u001B[0m\u001B[0m\n\u001B[1;32m     25\u001B[0m   \u001B[0;32mreturn\u001B[0m \u001B[0mpickle\u001B[0m\u001B[0;34m.\u001B[0m\u001B[0mloads\u001B[0m\u001B[0;34m(\u001B[0m\u001B[0mbuf\u001B[0m\u001B[0;34m)\u001B[0m\u001B[0;34m\u001B[0m\u001B[0;34m\u001B[0m\u001B[0m\n",
      "\u001B[0;32m/usr/local/lib/python3.11/dist-packages/etils/epath/gpath.py\u001B[0m in \u001B[0;36mopen\u001B[0;34m(self, mode, encoding, errors, **kwargs)\u001B[0m\n\u001B[1;32m    255\u001B[0m           \u001B[0;34mf'kwargs {list(kwargs)}` not supported in `open()`.'\u001B[0m\u001B[0;34m\u001B[0m\u001B[0;34m\u001B[0m\u001B[0m\n\u001B[1;32m    256\u001B[0m       )\n\u001B[0;32m--> 257\u001B[0;31m     \u001B[0mgfile\u001B[0m \u001B[0;34m=\u001B[0m \u001B[0mself\u001B[0m\u001B[0;34m.\u001B[0m\u001B[0m_backend\u001B[0m\u001B[0;34m.\u001B[0m\u001B[0mopen\u001B[0m\u001B[0;34m(\u001B[0m\u001B[0mself\u001B[0m\u001B[0;34m.\u001B[0m\u001B[0m_path_str\u001B[0m\u001B[0;34m,\u001B[0m \u001B[0mmode\u001B[0m\u001B[0;34m)\u001B[0m\u001B[0;34m\u001B[0m\u001B[0;34m\u001B[0m\u001B[0m\n\u001B[0m\u001B[1;32m    258\u001B[0m     \u001B[0mgfile\u001B[0m \u001B[0;34m=\u001B[0m \u001B[0mtyping\u001B[0m\u001B[0;34m.\u001B[0m\u001B[0mcast\u001B[0m\u001B[0;34m(\u001B[0m\u001B[0mtyping\u001B[0m\u001B[0;34m.\u001B[0m\u001B[0mIO\u001B[0m\u001B[0;34m[\u001B[0m\u001B[0mUnion\u001B[0m\u001B[0;34m[\u001B[0m\u001B[0mstr\u001B[0m\u001B[0;34m,\u001B[0m \u001B[0mbytes\u001B[0m\u001B[0;34m]\u001B[0m\u001B[0;34m]\u001B[0m\u001B[0;34m,\u001B[0m \u001B[0mgfile\u001B[0m\u001B[0;34m)\u001B[0m\u001B[0;34m\u001B[0m\u001B[0;34m\u001B[0m\u001B[0m\n\u001B[1;32m    259\u001B[0m     \u001B[0;32mreturn\u001B[0m \u001B[0mgfile\u001B[0m\u001B[0;34m\u001B[0m\u001B[0;34m\u001B[0m\u001B[0m\n",
      "\u001B[0;32m/usr/local/lib/python3.11/dist-packages/etils/epath/backend.py\u001B[0m in \u001B[0;36mopen\u001B[0;34m(self, path, mode)\u001B[0m\n\u001B[1;32m    131\u001B[0m     \u001B[0;32melse\u001B[0m\u001B[0;34m:\u001B[0m\u001B[0;34m\u001B[0m\u001B[0;34m\u001B[0m\u001B[0m\n\u001B[1;32m    132\u001B[0m       \u001B[0mencoding\u001B[0m \u001B[0;34m=\u001B[0m \u001B[0;34m'utf-8'\u001B[0m\u001B[0;34m\u001B[0m\u001B[0;34m\u001B[0m\u001B[0m\n\u001B[0;32m--> 133\u001B[0;31m     \u001B[0;32mreturn\u001B[0m \u001B[0mopen\u001B[0m\u001B[0;34m(\u001B[0m\u001B[0mpath\u001B[0m\u001B[0;34m,\u001B[0m \u001B[0mmode\u001B[0m\u001B[0;34m,\u001B[0m \u001B[0mencoding\u001B[0m\u001B[0;34m=\u001B[0m\u001B[0mencoding\u001B[0m\u001B[0;34m)\u001B[0m\u001B[0;34m\u001B[0m\u001B[0;34m\u001B[0m\u001B[0m\n\u001B[0m\u001B[1;32m    134\u001B[0m \u001B[0;34m\u001B[0m\u001B[0m\n\u001B[1;32m    135\u001B[0m   \u001B[0;32mdef\u001B[0m \u001B[0mexists\u001B[0m\u001B[0;34m(\u001B[0m\u001B[0mself\u001B[0m\u001B[0;34m,\u001B[0m \u001B[0mpath\u001B[0m\u001B[0;34m:\u001B[0m \u001B[0mPathLike\u001B[0m\u001B[0;34m)\u001B[0m \u001B[0;34m->\u001B[0m \u001B[0mbool\u001B[0m\u001B[0;34m:\u001B[0m\u001B[0;34m\u001B[0m\u001B[0;34m\u001B[0m\u001B[0m\n",
      "\u001B[0;31mFileNotFoundError\u001B[0m: [Errno 2] No such file or directory: '/content/ppo_teacher_policy'"
     ]
    }
   ]
  },
  {
   "cell_type": "code",
   "source": [
    "from etils.epath import Path\n",
    "from quadruped_mjx_rl import render\n",
    "from quadruped_mjx_rl.environments.ppo_enhanced_legacy import EnhancedEnvironmentConfig\n",
    "\n",
    "repo_path = Path(\"/content/unitree-go2-mjx-rl\")\n",
    "configs_path = repo_path / \"configs\"\n",
    "\n",
    "render(\n",
    "    configs_path / \"unitree_go2_environment.yaml\",\n",
    "    configs_path / \"ppo_simple.yaml\",\n",
    "    configs_path / \"render_simple.yaml\",\n",
    "    trained_model_path=Path(\"/content/ppo_simple_policy\"),\n",
    "    init_scene_path=repo_path / \"resources/unitree_go2/scene_mjx.xml\",\n",
    "    animation_save_path=\"ppo_simple.gif\",\n",
    "    # environment_config=EnhancedEnvironmentConfig(name=\"go2_teacher\"),\n",
    ")"
   ],
   "metadata": {
    "id": "hJt5TCug8BcU"
   },
   "execution_count": null,
   "outputs": []
  },
  {
   "cell_type": "code",
   "source": [
    "!pip show brax"
   ],
   "metadata": {
    "colab": {
     "base_uri": "https://localhost:8080/"
    },
    "id": "BSNx934Vh9nZ",
    "outputId": "05b0281f-499d-49e1-ab49-8cb45f46c6f0"
   },
   "execution_count": null,
   "outputs": [
    {
     "output_type": "stream",
     "name": "stdout",
     "text": [
      "Name: brax\n",
      "Version: 0.12.1\n",
      "Summary: A differentiable physics engine written in JAX.\n",
      "Home-page: http://github.com/google/brax\n",
      "Author: Brax Authors\n",
      "Author-email: no-reply@google.com\n",
      "License: Apache 2.0\n",
      "Location: /usr/local/lib/python3.11/dist-packages\n",
      "Requires: absl-py, dm_env, etils, flask, flask_cors, flax, grpcio, gym, jax, jaxlib, jaxopt, jinja2, ml_collections, mujoco, mujoco-mjx, numpy, optax, orbax-checkpoint, Pillow, pytinyrenderer, scipy, tensorboardX, trimesh, typing-extensions\n",
      "Required-by: quadruped_mjx_rl\n"
     ]
    }
   ]
  }
 ]
}
