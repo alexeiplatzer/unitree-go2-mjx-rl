{
  "cells": [
    {
      "cell_type": "code",
      "execution_count": null,
      "id": "initial_id",
      "metadata": {
        "collapsed": true,
        "cellView": "form",
        "id": "initial_id"
      },
      "outputs": [],
      "source": [
        "#@title Clone and install our Quadruped RL package\n",
        "!git clone https://github.com/alexeiplatzer/unitree-go2-mjx-rl.git\n",
        "!pip install -e unitree-go2-mjx-rl"
      ]
    },
    {
      "cell_type": "code",
      "source": [
        "#@title Refresh the package if any necessary changes have been pushed. Important in development\n",
        "repo_path = \"./unitree-go2-mjx-rl\"\n",
        "!git -C {repo_path} pull"
      ],
      "metadata": {
        "cellView": "form",
        "colab": {
          "base_uri": "https://localhost:8080/"
        },
        "id": "cIY_5HpxEggZ",
        "outputId": "f2b6c244-9454-4abd-862f-2851a0dfe888"
      },
      "id": "cIY_5HpxEggZ",
      "execution_count": 4,
      "outputs": [
        {
          "output_type": "stream",
          "name": "stdout",
          "text": [
            "remote: Enumerating objects: 13, done.\u001b[K\n",
            "remote: Counting objects:   7% (1/13)\u001b[K\rremote: Counting objects:  15% (2/13)\u001b[K\rremote: Counting objects:  23% (3/13)\u001b[K\rremote: Counting objects:  30% (4/13)\u001b[K\rremote: Counting objects:  38% (5/13)\u001b[K\rremote: Counting objects:  46% (6/13)\u001b[K\rremote: Counting objects:  53% (7/13)\u001b[K\rremote: Counting objects:  61% (8/13)\u001b[K\rremote: Counting objects:  69% (9/13)\u001b[K\rremote: Counting objects:  76% (10/13)\u001b[K\rremote: Counting objects:  84% (11/13)\u001b[K\rremote: Counting objects:  92% (12/13)\u001b[K\rremote: Counting objects: 100% (13/13)\u001b[K\rremote: Counting objects: 100% (13/13), done.\u001b[K\n",
            "remote: Compressing objects:  50% (1/2)\u001b[K\rremote: Compressing objects: 100% (2/2)\u001b[K\rremote: Compressing objects: 100% (2/2), done.\u001b[K\n",
            "remote: Total 7 (delta 4), reused 7 (delta 4), pack-reused 0 (from 0)\u001b[K\n",
            "Unpacking objects:  14% (1/7)\rUnpacking objects:  28% (2/7)\rUnpacking objects:  42% (3/7)\rUnpacking objects:  57% (4/7)\rUnpacking objects:  71% (5/7)\rUnpacking objects:  85% (6/7)\rUnpacking objects: 100% (7/7)\rUnpacking objects: 100% (7/7), 639 bytes | 319.00 KiB/s, done.\n",
            "From https://github.com/alexeiplatzer/unitree-go2-mjx-rl\n",
            "   8e3d188..fbc971e  main       -> origin/main\n",
            "Updating 8e3d188..fbc971e\n",
            "Fast-forward\n",
            " src/quadruped_mjx_rl/training/fitting/optimization.py | 5 \u001b[32m+++\u001b[m\u001b[31m--\u001b[m\n",
            " 1 file changed, 3 insertions(+), 2 deletions(-)\n"
          ]
        }
      ]
    },
    {
      "cell_type": "code",
      "source": [
        "#@title Session setup\n",
        "\n",
        "# Check if MuJoCo installation was successful\n",
        "import os\n",
        "import subprocess\n",
        "if subprocess.run('nvidia-smi').returncode:\n",
        "    raise RuntimeError(\n",
        "        'Cannot communicate with GPU. '\n",
        "        'Make sure you are using a GPU Colab runtime. '\n",
        "        'Go to the Runtime menu and select Choose runtime type.'\n",
        "    )\n",
        "\n",
        "# Add an ICD config so that glvnd can pick up the Nvidia EGL driver.\n",
        "# This is usually installed as part of an Nvidia driver package, but the Colab\n",
        "# kernel doesn't install its driver via APT, and as a result the ICD is missing.\n",
        "# (https://github.com/NVIDIA/libglvnd/blob/master/src/EGL/icd_enumeration.md)\n",
        "NVIDIA_ICD_CONFIG_PATH = '/usr/share/glvnd/egl_vendor.d/10_nvidia.json'\n",
        "if not os.path.exists(NVIDIA_ICD_CONFIG_PATH):\n",
        "    with open(NVIDIA_ICD_CONFIG_PATH, 'w') as f:\n",
        "        f.write(\"\"\"{\n",
        "        \"file_format_version\" : \"1.0.0\",\n",
        "        \"ICD\" : {\n",
        "            \"library_path\" : \"libEGL_nvidia.so.0\"\n",
        "        }\n",
        "    }\n",
        "    \"\"\")\n",
        "\n",
        "# Configure MuJoCo to use the EGL rendering backend (requires GPU)\n",
        "print('Setting environment variable to use GPU rendering:')\n",
        "%env MUJOCO_GL=egl\n",
        "\n",
        "# Tell XLA to use Triton GEMM, this improves steps/sec by ~30% on some GPUs\n",
        "xla_flags = os.environ.get('XLA_FLAGS', '')\n",
        "xla_flags += ' --xla_gpu_triton_gemm_any=True'\n",
        "os.environ['XLA_FLAGS'] = xla_flags\n",
        "\n",
        "# More legible printing from numpy.\n",
        "import numpy as np\n",
        "np.set_printoptions(precision=3, suppress=True, linewidth=100)\n",
        "\n",
        "# Prepare paths\n",
        "from etils.epath import Path\n",
        "repo_path = Path(\"unitree-go2-mjx-rl\")\n",
        "configs_path = repo_path / \"configs\"\n",
        "scenes_path = repo_path / \"resources\" / \"unitree_go2\"\n",
        "results_path = Path(\"results\")\n",
        "results_path.mkdir(parents=True, exist_ok=True)\n",
        "\n",
        "# Prepare configs\n",
        "from quadruped_mjx_rl.robots import predefined_robot_configs\n",
        "robot_config = predefined_robot_configs[\"unitree_go2\"]()\n",
        "\n",
        "from quadruped_mjx_rl.environments import JoystickBaseEnvConfig\n",
        "env_config = JoystickBaseEnvConfig()\n",
        "\n",
        "from quadruped_mjx_rl.models import ActorCriticConfig\n",
        "model_config = ActorCriticConfig(\n",
        "    modules = ActorCriticConfig.ModulesConfig(\n",
        "        policy=[128, 128, 128, 128, 128],\n",
        "        value=[256, 256, 256, 256, 256],\n",
        "    ),\n",
        ")\n",
        "\n",
        "from quadruped_mjx_rl.training.configs import TrainingConfig\n",
        "training_config = TrainingConfig(num_timesteps=1_000_000)\n",
        "\n",
        "init_scene_path = scenes_path / \"scene_mjx.xml\"\n",
        "\n",
        "from quadruped_mjx_rl.environments.physics_pipeline import load_to_spec, spec_to_model\n",
        "env_model = spec_to_model(load_to_spec(init_scene_path))\n",
        "\n",
        "from quadruped_mjx_rl.environments import resolve_env_class, get_env_factory\n",
        "env_class = resolve_env_class(env_config)\n",
        "env_model = env_class.customize_model(env_model, env_config)\n",
        "env_factory = get_env_factory(\n",
        "    robot_config=robot_config,\n",
        "    environment_config=env_config,\n",
        "    env_class=env_class,\n",
        "    env_model=env_model,\n",
        ")"
      ],
      "metadata": {
        "cellView": "form",
        "colab": {
          "base_uri": "https://localhost:8080/"
        },
        "id": "hrF4AwMoEx2p",
        "outputId": "10359d96-fc67-4aa1-ca58-07c895aa1f29"
      },
      "id": "hrF4AwMoEx2p",
      "execution_count": 1,
      "outputs": [
        {
          "output_type": "stream",
          "name": "stdout",
          "text": [
            "Setting environment variable to use GPU rendering:\n",
            "env: MUJOCO_GL=egl\n"
          ]
        }
      ]
    },
    {
      "cell_type": "code",
      "source": [
        "training_config.use_vision"
      ],
      "metadata": {
        "colab": {
          "base_uri": "https://localhost:8080/"
        },
        "id": "kY6ABFRnndXd",
        "outputId": "a8f7a806-0141-4b7d-e90b-eb4c962cb706"
      },
      "id": "kY6ABFRnndXd",
      "execution_count": 7,
      "outputs": [
        {
          "output_type": "execute_result",
          "data": {
            "text/plain": [
              "(False,)"
            ]
          },
          "metadata": {},
          "execution_count": 7
        }
      ]
    },
    {
      "cell_type": "code",
      "source": [
        "import logging\n",
        "logging.basicConfig(level=logging.INFO, force=True)\n",
        "logging.info(\"Hello\")"
      ],
      "metadata": {
        "colab": {
          "base_uri": "https://localhost:8080/"
        },
        "id": "lepXwLGnyve_",
        "outputId": "8cd8d709-a4d3-4b75-cd2f-cd29dafe4b64"
      },
      "id": "lepXwLGnyve_",
      "execution_count": 2,
      "outputs": [
        {
          "output_type": "stream",
          "name": "stderr",
          "text": [
            "INFO:root:Hello\n"
          ]
        }
      ]
    },
    {
      "cell_type": "code",
      "source": [
        "#@title Train the model\n",
        "from quadruped_mjx_rl.training.train_interface import train\n",
        "from quadruped_mjx_rl.domain_randomization.randomized_physics import domain_randomize\n",
        "policy_factories, trained_params, evaluation_metrics = train(\n",
        "    training_config=training_config,\n",
        "    model_config=model_config,\n",
        "    training_env=env_factory(),\n",
        "    evaluation_env=env_factory(),\n",
        "    randomization_fn=domain_randomize,\n",
        ")"
      ],
      "metadata": {
        "colab": {
          "base_uri": "https://localhost:8080/",
          "height": 1000
        },
        "id": "n_8GgbsDbzZS",
        "outputId": "e824e3f6-a098-4015-ed43-7b66bcb7e45e"
      },
      "id": "n_8GgbsDbzZS",
      "execution_count": 3,
      "outputs": [
        {
          "output_type": "stream",
          "name": "stderr",
          "text": [
            "INFO:2025-08-25 15:30:39,738:jax._src.xla_bridge:924: Unable to initialize backend 'rocm': module 'jaxlib.xla_extension' has no attribute 'GpuAllocatorConfig'\n",
            "INFO:jax._src.xla_bridge:Unable to initialize backend 'rocm': module 'jaxlib.xla_extension' has no attribute 'GpuAllocatorConfig'\n",
            "INFO:2025-08-25 15:30:39,744:jax._src.xla_bridge:924: Unable to initialize backend 'tpu': INTERNAL: Failed to open libtpu.so: libtpu.so: cannot open shared object file: No such file or directory\n",
            "INFO:jax._src.xla_bridge:Unable to initialize backend 'tpu': INTERNAL: Failed to open libtpu.so: libtpu.so: cannot open shared object file: No such file or directory\n",
            "INFO:root:Using JAX default device: cuda:0.\n",
            "INFO:root:MJX Warp is disabled via MJX_WARP_ENABLED=false.\n",
            "/usr/local/lib/python3.12/dist-packages/brax/io/mjcf.py:480: UserWarning: Brax System, piplines and environments are not actively being maintained. Please see MJX for a well maintained JAX-based physics engine: https://github.com/google-deepmind/mujoco/tree/main/mjx. For a host of environments that use MJX, see: https://github.com/google-deepmind/mujoco_playground.\n",
            "  warnings.warn(\n",
            "INFO:root:Using JAX default device: cuda:0.\n",
            "INFO:root:MJX Warp is disabled via MJX_WARP_ENABLED=false.\n",
            "INFO:root:Device count: 1, process count: 1 (id 0), local device count: 1, devices to be used count: 1\n",
            "INFO:root:Using JAX default device: cuda:0.\n",
            "INFO:root:MJX Warp is disabled via MJX_WARP_ENABLED=false.\n"
          ]
        },
        {
          "output_type": "display_data",
          "data": {
            "text/plain": [
              "<Figure size 640x480 with 1 Axes>"
            ],
            "image/png": "[encoded data removed]"
          },
          "metadata": {}
        },
        {
          "output_type": "stream",
          "name": "stderr",
          "text": [
            "INFO:root:Setup took 27.759566068649292\n",
            "INFO:root:Using JAX default device: cuda:0.\n",
            "INFO:root:MJX Warp is disabled via MJX_WARP_ENABLED=false.\n",
            "INFO:root:{'eval/walltime': 159.7284278869629, 'eval/episode_reward': Array(0.855, dtype=float32), 'eval/episode_reward/action_rate': Array(-10.25, dtype=float32), 'eval/episode_reward/ang_vel_xy': Array(-28.637, dtype=float32), 'eval/episode_reward/feet_air_time': Array(-0.131, dtype=float32), 'eval/episode_reward/foot_slip': Array(-16.595, dtype=float32), 'eval/episode_reward/lin_vel_z': Array(-6.064, dtype=float32), 'eval/episode_reward/orientation': Array(-33.446, dtype=float32), 'eval/episode_reward/stand_still': Array(-1.472, dtype=float32), 'eval/episode_reward/termination': Array(-0.982, dtype=float32), 'eval/episode_reward/torques': Array(-3.089, dtype=float32), 'eval/episode_reward/tracking_ang_vel': Array(60.503, dtype=float32), 'eval/episode_reward/tracking_lin_vel': Array(50.715, dtype=float32), 'eval/episode_total_dist': Array(66.331, dtype=float32), 'eval/episode_reward_std': Array(1.628, dtype=float32), 'eval/episode_reward/action_rate_std': Array(13.512, dtype=float32), 'eval/episode_reward/ang_vel_xy_std': Array(40.251, dtype=float32), 'eval/episode_reward/feet_air_time_std': Array(0.208, dtype=float32), 'eval/episode_reward/foot_slip_std': Array(25.771, dtype=float32), 'eval/episode_reward/lin_vel_z_std': Array(7.639, dtype=float32), 'eval/episode_reward/orientation_std': Array(40.004, dtype=float32), 'eval/episode_reward/stand_still_std': Array(18.381, dtype=float32), 'eval/episode_reward/termination_std': Array(0.135, dtype=float32), 'eval/episode_reward/torques_std': Array(4.138, dtype=float32), 'eval/episode_reward/tracking_ang_vel_std': Array(80.499, dtype=float32), 'eval/episode_reward/tracking_lin_vel_std': Array(106.858, dtype=float32), 'eval/episode_total_dist_std': Array(131.212, dtype=float32), 'eval/avg_episode_length': Array(160.151, dtype=float32), 'eval/std_episode_length': Array(210.306, dtype=float32), 'eval/epoch_eval_time': 159.7284278869629, 'eval/sps': 51287.05082978304}\n",
            "INFO:root:starting iteration 0 160.34272813796997\n"
          ]
        },
        {
          "output_type": "error",
          "ename": "XlaRuntimeError",
          "evalue": "INVALID_ARGUMENT: layout minor_to_major field contains 1 elements, but shape is rank 0: {0}; shape: element_type: S32 layout { tail_padding_alignment_in_elements: 1 }",
          "traceback": [
            "\u001b[0;31m---------------------------------------------------------------------------\u001b[0m",
            "\u001b[0;31mXlaRuntimeError\u001b[0m                           Traceback (most recent call last)",
            "\u001b[0;32m/tmp/ipython-input-881120020.py\u001b[0m in \u001b[0;36m<cell line: 0>\u001b[0;34m()\u001b[0m\n\u001b[1;32m      2\u001b[0m \u001b[0;32mfrom\u001b[0m \u001b[0mquadruped_mjx_rl\u001b[0m\u001b[0;34m.\u001b[0m\u001b[0mtraining\u001b[0m\u001b[0;34m.\u001b[0m\u001b[0mtrain_interface\u001b[0m \u001b[0;32mimport\u001b[0m \u001b[0mtrain\u001b[0m\u001b[0;34m\u001b[0m\u001b[0;34m\u001b[0m\u001b[0m\n\u001b[1;32m      3\u001b[0m \u001b[0;32mfrom\u001b[0m \u001b[0mquadruped_mjx_rl\u001b[0m\u001b[0;34m.\u001b[0m\u001b[0mdomain_randomization\u001b[0m\u001b[0;34m.\u001b[0m\u001b[0mrandomized_physics\u001b[0m \u001b[0;32mimport\u001b[0m \u001b[0mdomain_randomize\u001b[0m\u001b[0;34m\u001b[0m\u001b[0;34m\u001b[0m\u001b[0m\n\u001b[0;32m----> 4\u001b[0;31m policy_factories, trained_params, evaluation_metrics = train(\n\u001b[0m\u001b[1;32m      5\u001b[0m     \u001b[0mtraining_config\u001b[0m\u001b[0;34m=\u001b[0m\u001b[0mtraining_config\u001b[0m\u001b[0;34m,\u001b[0m\u001b[0;34m\u001b[0m\u001b[0;34m\u001b[0m\u001b[0m\n\u001b[1;32m      6\u001b[0m     \u001b[0mmodel_config\u001b[0m\u001b[0;34m=\u001b[0m\u001b[0mmodel_config\u001b[0m\u001b[0;34m,\u001b[0m\u001b[0;34m\u001b[0m\u001b[0;34m\u001b[0m\u001b[0m\n",
            "\u001b[0;32m/content/unitree-go2-mjx-rl/src/quadruped_mjx_rl/training/train_interface.py\u001b[0m in \u001b[0;36mtrain\u001b[0;34m(training_config, model_config, training_env, evaluation_env, max_devices_per_host, wrap_env, randomization_fn, policy_params_fn, restore_params_fn)\u001b[0m\n\u001b[1;32m    277\u001b[0m     \u001b[0mlogging\u001b[0m\u001b[0;34m.\u001b[0m\u001b[0minfo\u001b[0m\u001b[0;34m(\u001b[0m\u001b[0;34m\"Setup took %s\"\u001b[0m\u001b[0;34m,\u001b[0m \u001b[0mtime\u001b[0m\u001b[0;34m.\u001b[0m\u001b[0mtime\u001b[0m\u001b[0;34m(\u001b[0m\u001b[0;34m)\u001b[0m \u001b[0;34m-\u001b[0m \u001b[0mxt\u001b[0m\u001b[0;34m)\u001b[0m\u001b[0;34m\u001b[0m\u001b[0;34m\u001b[0m\u001b[0m\n\u001b[1;32m    278\u001b[0m \u001b[0;34m\u001b[0m\u001b[0m\n\u001b[0;32m--> 279\u001b[0;31m     final_params = backed_train(\n\u001b[0m\u001b[1;32m    280\u001b[0m         \u001b[0mtraining_config\u001b[0m\u001b[0;34m=\u001b[0m\u001b[0mtraining_config\u001b[0m\u001b[0;34m,\u001b[0m\u001b[0;34m\u001b[0m\u001b[0;34m\u001b[0m\u001b[0m\n\u001b[1;32m    281\u001b[0m         \u001b[0menv\u001b[0m\u001b[0;34m=\u001b[0m\u001b[0menv\u001b[0m\u001b[0;34m,\u001b[0m\u001b[0;34m\u001b[0m\u001b[0;34m\u001b[0m\u001b[0m\n",
            "\u001b[0;32m/content/unitree-go2-mjx-rl/src/quadruped_mjx_rl/training/train_backend.py\u001b[0m in \u001b[0;36mtrain\u001b[0;34m(training_config, env, fitter, policy_factories, metrics_aggregator, policy_params_fn, run_evaluations, env_step_per_training_step, num_training_steps_per_epoch, local_devices_to_use, num_evals_after_init, process_id, training_state, reset_fn, local_key, key_envs, env_state)\u001b[0m\n\u001b[1;32m    220\u001b[0m             \u001b[0mepoch_key\u001b[0m\u001b[0;34m,\u001b[0m \u001b[0mlocal_key\u001b[0m \u001b[0;34m=\u001b[0m \u001b[0mjax\u001b[0m\u001b[0;34m.\u001b[0m\u001b[0mrandom\u001b[0m\u001b[0;34m.\u001b[0m\u001b[0msplit\u001b[0m\u001b[0;34m(\u001b[0m\u001b[0mlocal_key\u001b[0m\u001b[0;34m)\u001b[0m\u001b[0;34m\u001b[0m\u001b[0;34m\u001b[0m\u001b[0m\n\u001b[1;32m    221\u001b[0m             \u001b[0mepoch_keys\u001b[0m \u001b[0;34m=\u001b[0m \u001b[0mjax\u001b[0m\u001b[0;34m.\u001b[0m\u001b[0mrandom\u001b[0m\u001b[0;34m.\u001b[0m\u001b[0msplit\u001b[0m\u001b[0;34m(\u001b[0m\u001b[0mepoch_key\u001b[0m\u001b[0;34m,\u001b[0m \u001b[0mlocal_devices_to_use\u001b[0m\u001b[0;34m)\u001b[0m\u001b[0;34m\u001b[0m\u001b[0;34m\u001b[0m\u001b[0m\n\u001b[0;32m--> 222\u001b[0;31m             training_state, env_state, training_metrics = training_epoch_with_timing(\n\u001b[0m\u001b[1;32m    223\u001b[0m                 \u001b[0mtraining_state\u001b[0m\u001b[0;34m,\u001b[0m \u001b[0menv_state\u001b[0m\u001b[0;34m,\u001b[0m \u001b[0mepoch_keys\u001b[0m\u001b[0;34m\u001b[0m\u001b[0;34m\u001b[0m\u001b[0m\n\u001b[1;32m    224\u001b[0m             )\n",
            "\u001b[0;32m/content/unitree-go2-mjx-rl/src/quadruped_mjx_rl/training/train_backend.py\u001b[0m in \u001b[0;36mtraining_epoch_with_timing\u001b[0;34m(training_state, env_state, key)\u001b[0m\n\u001b[1;32m    186\u001b[0m         \u001b[0mt\u001b[0m \u001b[0;34m=\u001b[0m \u001b[0mtime\u001b[0m\u001b[0;34m.\u001b[0m\u001b[0mtime\u001b[0m\u001b[0;34m(\u001b[0m\u001b[0;34m)\u001b[0m\u001b[0;34m\u001b[0m\u001b[0;34m\u001b[0m\u001b[0m\n\u001b[1;32m    187\u001b[0m         \u001b[0mtraining_state\u001b[0m\u001b[0;34m,\u001b[0m \u001b[0menv_state\u001b[0m \u001b[0;34m=\u001b[0m \u001b[0m_utils\u001b[0m\u001b[0;34m.\u001b[0m\u001b[0mstrip_weak_type\u001b[0m\u001b[0;34m(\u001b[0m\u001b[0;34m(\u001b[0m\u001b[0mtraining_state\u001b[0m\u001b[0;34m,\u001b[0m \u001b[0menv_state\u001b[0m\u001b[0;34m)\u001b[0m\u001b[0;34m)\u001b[0m\u001b[0;34m\u001b[0m\u001b[0;34m\u001b[0m\u001b[0m\n\u001b[0;32m--> 188\u001b[0;31m         \u001b[0mresult\u001b[0m \u001b[0;34m=\u001b[0m \u001b[0mtraining_epoch\u001b[0m\u001b[0;34m(\u001b[0m\u001b[0mtraining_state\u001b[0m\u001b[0;34m,\u001b[0m \u001b[0menv_state\u001b[0m\u001b[0;34m,\u001b[0m \u001b[0mkey\u001b[0m\u001b[0;34m)\u001b[0m\u001b[0;34m\u001b[0m\u001b[0;34m\u001b[0m\u001b[0m\n\u001b[0m\u001b[1;32m    189\u001b[0m         \u001b[0mtraining_state\u001b[0m\u001b[0;34m,\u001b[0m \u001b[0menv_state\u001b[0m\u001b[0;34m,\u001b[0m \u001b[0mmetrics\u001b[0m \u001b[0;34m=\u001b[0m \u001b[0m_utils\u001b[0m\u001b[0;34m.\u001b[0m\u001b[0mstrip_weak_type\u001b[0m\u001b[0;34m(\u001b[0m\u001b[0mresult\u001b[0m\u001b[0;34m)\u001b[0m\u001b[0;34m\u001b[0m\u001b[0;34m\u001b[0m\u001b[0m\n\u001b[1;32m    190\u001b[0m \u001b[0;34m\u001b[0m\u001b[0m\n",
            "    \u001b[0;31m[... skipping hidden 12 frame]\u001b[0m\n",
            "\u001b[0;32m/usr/local/lib/python3.12/dist-packages/jax/_src/compiler.py\u001b[0m in \u001b[0;36mbackend_compile\u001b[0;34m(backend, module, options, host_callbacks)\u001b[0m\n\u001b[1;32m    322\u001b[0m     \u001b[0;31m# TODO(sharadmv): remove this fallback when all backends allow `compile`\u001b[0m\u001b[0;34m\u001b[0m\u001b[0;34m\u001b[0m\u001b[0m\n\u001b[1;32m    323\u001b[0m     \u001b[0;31m# to take in `host_callbacks`\u001b[0m\u001b[0;34m\u001b[0m\u001b[0;34m\u001b[0m\u001b[0m\n\u001b[0;32m--> 324\u001b[0;31m     \u001b[0;32mreturn\u001b[0m \u001b[0mbackend\u001b[0m\u001b[0;34m.\u001b[0m\u001b[0mcompile\u001b[0m\u001b[0;34m(\u001b[0m\u001b[0mbuilt_c\u001b[0m\u001b[0;34m,\u001b[0m \u001b[0mcompile_options\u001b[0m\u001b[0;34m=\u001b[0m\u001b[0moptions\u001b[0m\u001b[0;34m)\u001b[0m\u001b[0;34m\u001b[0m\u001b[0;34m\u001b[0m\u001b[0m\n\u001b[0m\u001b[1;32m    325\u001b[0m   \u001b[0;32mexcept\u001b[0m \u001b[0mxc\u001b[0m\u001b[0;34m.\u001b[0m\u001b[0mXlaRuntimeError\u001b[0m \u001b[0;32mas\u001b[0m \u001b[0me\u001b[0m\u001b[0;34m:\u001b[0m\u001b[0;34m\u001b[0m\u001b[0;34m\u001b[0m\u001b[0m\n\u001b[1;32m    326\u001b[0m     \u001b[0;32mfor\u001b[0m \u001b[0merror_handler\u001b[0m \u001b[0;32min\u001b[0m \u001b[0m_XLA_RUNTIME_ERROR_HANDLERS\u001b[0m\u001b[0;34m:\u001b[0m\u001b[0;34m\u001b[0m\u001b[0;34m\u001b[0m\u001b[0m\n",
            "\u001b[0;31mXlaRuntimeError\u001b[0m: INVALID_ARGUMENT: layout minor_to_major field contains 1 elements, but shape is rank 0: {0}; shape: element_type: S32 layout { tail_padding_alignment_in_elements: 1 }"
          ]
        },
        {
          "output_type": "display_data",
          "data": {
            "text/plain": [
              "<Figure size 640x480 with 1 Axes>"
            ],
            "image/png": "[encoded data removed]"
          },
          "metadata": {}
        }
      ]
    }
  ],
  "metadata": {
    "kernelspec": {
      "display_name": "Python 3",
      "name": "python3"
    },
    "language_info": {
      "codemirror_mode": {
        "name": "ipython",
        "version": 2
      },
      "file_extension": ".py",
      "mimetype": "text/x-python",
      "name": "python",
      "nbconvert_exporter": "python",
      "pygments_lexer": "ipython2",
      "version": "2.7.6"
    },
    "colab": {
      "provenance": [],
      "gpuType": "T4"
    },
    "accelerator": "GPU"
  },
  "nbformat": 4,
  "nbformat_minor": 5
}