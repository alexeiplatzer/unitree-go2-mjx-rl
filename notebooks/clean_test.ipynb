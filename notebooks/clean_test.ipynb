{
  "cells": [
    {
      "cell_type": "code",
      "execution_count": null,
      "id": "initial_id",
      "metadata": {
        "collapsed": true,
        "id": "initial_id"
      },
      "outputs": [],
      "source": [
        "#@title Clone and install our Quadruped RL package\n",
        "!git clone https://github.com/alexeiplatzer/unitree-go2-mjx-rl.git\n",
        "!pip install -e unitree-go2-mjx-rl"
      ]
    },
    {
      "cell_type": "code",
      "source": [
        "!pip show jax"
      ],
      "metadata": {
        "id": "wWoxK46AZRXf",
        "outputId": "339ad1b1-2f58-484d-9a47-3c694ebc286e",
        "colab": {
          "base_uri": "https://localhost:8080/"
        }
      },
      "id": "wWoxK46AZRXf",
      "execution_count": 2,
      "outputs": [
        {
          "output_type": "stream",
          "name": "stdout",
          "text": [
            "Name: jax\n",
            "Version: 0.5.2\n",
            "Summary: Differentiate, compile, and transform Numpy code.\n",
            "Home-page: https://github.com/jax-ml/jax\n",
            "Author: JAX team\n",
            "Author-email: jax-dev@google.com\n",
            "License: Apache-2.0\n",
            "Location: /usr/local/lib/python3.12/dist-packages\n",
            "Requires: jaxlib, ml_dtypes, numpy, opt_einsum, scipy\n",
            "Required-by: chex, dopamine_rl, flax, mujoco-mjx, optax, orbax-checkpoint, quadruped_mjx_rl\n"
          ]
        }
      ]
    },
    {
      "cell_type": "code",
      "source": [
        "#@title Refresh the package if any necessary changes have been pushed. Important in development\n",
        "repo_path = \"./unitree-go2-mjx-rl\"\n",
        "!git -C {repo_path} pull"
      ],
      "metadata": {
        "cellView": "form",
        "id": "cIY_5HpxEggZ"
      },
      "id": "cIY_5HpxEggZ",
      "execution_count": null,
      "outputs": []
    },
    {
      "cell_type": "code",
      "source": [
        "#@title Session setup\n",
        "\n",
        "# Configure logging\n",
        "import logging\n",
        "logging.basicConfig(level=logging.INFO, force=True)\n",
        "logging.info(\"Logging switched on.\")\n",
        "\n",
        "# Check if MuJoCo installation was successful\n",
        "import os\n",
        "import subprocess\n",
        "if subprocess.run('nvidia-smi').returncode:\n",
        "    raise RuntimeError(\n",
        "        'Cannot communicate with GPU. '\n",
        "        'Make sure you are using a GPU Colab runtime. '\n",
        "        'Go to the Runtime menu and select Choose runtime type.'\n",
        "    )\n",
        "\n",
        "# Add an ICD config so that glvnd can pick up the Nvidia EGL driver.\n",
        "# This is usually installed as part of an Nvidia driver package, but the Colab\n",
        "# kernel doesn't install its driver via APT, and as a result the ICD is missing.\n",
        "# (https://github.com/NVIDIA/libglvnd/blob/master/src/EGL/icd_enumeration.md)\n",
        "NVIDIA_ICD_CONFIG_PATH = '/usr/share/glvnd/egl_vendor.d/10_nvidia.json'\n",
        "if not os.path.exists(NVIDIA_ICD_CONFIG_PATH):\n",
        "    with open(NVIDIA_ICD_CONFIG_PATH, 'w') as f:\n",
        "        f.write(\"\"\"{\n",
        "        \"file_format_version\" : \"1.0.0\",\n",
        "        \"ICD\" : {\n",
        "            \"library_path\" : \"libEGL_nvidia.so.0\"\n",
        "        }\n",
        "    }\n",
        "    \"\"\")\n",
        "\n",
        "# Configure MuJoCo to use the EGL rendering backend (requires GPU)\n",
        "print('Setting environment variable to use GPU rendering:')\n",
        "%env MUJOCO_GL=egl\n",
        "\n",
        "# Tell XLA to use Triton GEMM, this improves steps/sec by ~30% on some GPUs\n",
        "xla_flags = os.environ.get('XLA_FLAGS', '')\n",
        "xla_flags += ' --xla_gpu_triton_gemm_any=True'\n",
        "os.environ['XLA_FLAGS'] = xla_flags\n",
        "\n",
        "# More legible printing from numpy.\n",
        "import numpy as np\n",
        "np.set_printoptions(precision=3, suppress=True, linewidth=100)\n",
        "\n",
        "# Prepare paths\n",
        "from etils.epath import Path\n",
        "repo_path = Path(\"unitree-go2-mjx-rl\")\n",
        "configs_path = repo_path / \"configs\"\n",
        "scenes_path = repo_path / \"resources\" / \"unitree_go2\"\n",
        "results_path = Path(\"results\")\n",
        "results_path.mkdir(parents=True, exist_ok=True)\n",
        "\n",
        "# Prepare configs\n",
        "from quadruped_mjx_rl.robots import predefined_robot_configs\n",
        "robot_config = predefined_robot_configs[\"unitree_go2\"]()\n",
        "\n",
        "from quadruped_mjx_rl.environments import JoystickBaseEnvConfig\n",
        "env_config = JoystickBaseEnvConfig()\n",
        "\n",
        "from quadruped_mjx_rl.models import ActorCriticConfig\n",
        "model_config = ActorCriticConfig(\n",
        "    modules = ActorCriticConfig.ModulesConfig(\n",
        "        policy=[128, 128, 128, 128],\n",
        "        value=[256, 256, 256, 256],\n",
        "    ),\n",
        ")\n",
        "\n",
        "from quadruped_mjx_rl.training.configs import TrainingConfig\n",
        "training_config = TrainingConfig(num_timesteps=1_000_000, num_envs=2048, num_eval_envs=2048, batch_size=256)\n",
        "\n",
        "# Set up the terrain\n",
        "init_scene_path = scenes_path / \"scene_mjx_empty_arena.xml\"\n",
        "\n",
        "from quadruped_mjx_rl.environments.physics_pipeline import load_to_spec, spec_to_model\n",
        "from quadruped_mjx_rl.terrain_gen.obstacles import FlatTile, StripesTile\n",
        "from quadruped_mjx_rl.terrain_gen.tile import TerrainConfig\n",
        "flat_tile = FlatTile()\n",
        "stripes_tile = StripesTile()\n",
        "terrain = TerrainConfig(tiles=[[flat_tile] * 6])\n",
        "print(terrain.tiles)\n",
        "env_spec = load_to_spec(init_scene_path)\n",
        "terrain.make_arena(env_spec)\n",
        "env_model = spec_to_model(env_spec)\n",
        "\n",
        "# Prepare initial position\n",
        "x, y, z_offset = terrain.get_tile_center_qpos(0, 0)\n",
        "init_qpos = env_model.keyframe(\"home\").qpos\n",
        "init_qpos[0] = x\n",
        "init_qpos[1] = y\n",
        "init_qpos[2] += z_offset\n",
        "\n",
        "# Render the situation\n",
        "import mujoco\n",
        "from quadruped_mjx_rl.environments.rendering import show_image\n",
        "camera = mujoco.MjvCamera()\n",
        "mujoco.mjv_defaultCamera(camera)\n",
        "camera.lookat = [0, 0, 0]\n",
        "camera.distance = 18\n",
        "camera.elevation = -30\n",
        "mj_data = mujoco.MjData(env_model)\n",
        "mj_data.qpos = init_qpos\n",
        "with mujoco.Renderer(env_model) as renderer:\n",
        "    mujoco.mj_forward(env_model, mj_data)\n",
        "    renderer.update_scene(mj_data, camera=camera)\n",
        "    image = renderer.render()\n",
        "show_image(image)\n",
        "\n",
        "\n",
        "from quadruped_mjx_rl.environments import resolve_env_class, get_env_factory\n",
        "env_class = resolve_env_class(env_config)\n",
        "env_model = env_class.customize_model(env_model, env_config)\n",
        "env_factory = get_env_factory(\n",
        "    robot_config=robot_config,\n",
        "    environment_config=env_config,\n",
        "    env_class=env_class,\n",
        "    env_model=env_model,\n",
        ")\n",
        "\n",
        "# Create the environment\n",
        "print(\"Setup finished, initializing the environment...\")\n",
        "env = env_factory()\n",
        "eval_env = env_factory()\n",
        "\n",
        "# Checkpointing\n",
        "from quadruped_mjx_rl.models.io import save_params, load_params\n",
        "# restore_params = load_params(results_path / \"resulting_params\")\n",
        "logging.info(\"Params restored, starting training...\")\n",
        "\n",
        "# Try to launch a vision policy training\n",
        "from quadruped_mjx_rl.training.train_interface import train\n",
        "params = train(\n",
        "    training_config=training_config,\n",
        "    model_config=model_config,\n",
        "    training_env=env,\n",
        "    evaluation_env=eval_env,\n",
        "    # restore_params=restore_params,\n",
        ")\n",
        "\n",
        "save_params(results_path / \"resulting_params\", params)"
      ],
      "metadata": {
        "colab": {
          "base_uri": "https://localhost:8080/",
          "height": 1000
        },
        "id": "hrF4AwMoEx2p",
        "outputId": "676a02c7-dad7-4740-e3b6-fd964fd11e5e"
      },
      "id": "hrF4AwMoEx2p",
      "execution_count": 1,
      "outputs": [
        {
          "output_type": "stream",
          "name": "stderr",
          "text": [
            "INFO:root:Logging switched on.\n"
          ]
        },
        {
          "output_type": "stream",
          "name": "stdout",
          "text": [
            "Setting environment variable to use GPU rendering:\n",
            "env: MUJOCO_GL=egl\n"
          ]
        },
        {
          "output_type": "stream",
          "name": "stderr",
          "text": [
            "INFO:OpenGL.acceleratesupport:No OpenGL_accelerate module loaded: No module named 'OpenGL_accelerate'\n"
          ]
        },
        {
          "output_type": "stream",
          "name": "stdout",
          "text": [
            "[[FlatTile(color=Color(r=0.46, g=0.362, b=0.216, a=1.0), square_side=2.0, floor_thickness=0.05), FlatTile(color=Color(r=0.46, g=0.362, b=0.216, a=1.0), square_side=2.0, floor_thickness=0.05), FlatTile(color=Color(r=0.46, g=0.362, b=0.216, a=1.0), square_side=2.0, floor_thickness=0.05), FlatTile(color=Color(r=0.46, g=0.362, b=0.216, a=1.0), square_side=2.0, floor_thickness=0.05), FlatTile(color=Color(r=0.46, g=0.362, b=0.216, a=1.0), square_side=2.0, floor_thickness=0.05), FlatTile(color=Color(r=0.46, g=0.362, b=0.216, a=1.0), square_side=2.0, floor_thickness=0.05)]]\n"
          ]
        },
        {
          "output_type": "display_data",
          "data": {
            "text/plain": [
              "<IPython.core.display.HTML object>"
            ],
            "text/html": [
              "<table class=\"show_images\" style=\"border-spacing:0px;\"><tr><td style=\"padding:1px;\"><img width=\"320\" height=\"240\" style=\"image-rendering:auto; object-fit:cover;\" src=\"data:image/png;base64,iVBORw0KGgoAAAANSUhEUgAAAUAAAADwCAIAAAD+Tyo8AAAqbElEQVR4nO2dTcg1yVWAT93vgpAMTjJoIqghicNkIUQJOBNmEIIKukgQV+pKBBVxExEUAxIQRMWV7lwpQYLLiIRgIAjZhBBduJBAQvwD80NiQrIYY4Z8t1zc2327u85/naqu+773ECbf7T51TnW/9fQ5dbq6O7393T8PDSS3MLqLk7s8Ckk36uDQxuxd7nKXHnIsN7WJa7cfLW//CG5JmkfEjbT4666OIcRBeVaOOrujDt5R+7WW2+hlG/GC2POctbpY1B/DtmelxWPv4bXPYH7MCO0r+555HZqxfYy8HMg9ewxz4Du9j1Ye/p8emQML0vacPPwzfpe+0nxyG+zQGMCP0Qd4J7Ct5Nz2DKfUu3x0g9KSUaNtNAI/Ughbs3ETchMn4cavMjVneHvg3YtYEXITg+wu7aTRALiF68L2wG+viHWn9y6N5BaHlr2IVS23eJru8kikcnD2j+FOgB89hI/88BvJ+BmsIDVc+OA/1jseVUY6opH60k/MA7LpaRr96mBl8Az8cVR02/dqzON+SDLWcsj4hY37ypncMYtYd7buMqCMOCxbF7Gij3nEc6iUG+66S/rGq8Czy3Xc56bhqTABHDoEhxjPO3diiHNQLcTwHCuBNkg8pA6L2iOKWMjxUB4wehg49Zf+560Y3Y0etrVIMPZac0QE7vo3qXW2P3gP4RK2R4Vm74eF1/73SI9NPjFX4Q8zWGUPevcn/i4A0OAPYaQpB1y3ImzoXRUSXsTy/006YeV08+ChH/AA7WDYaYoIu1YbkcBrAB5pyNuMDjgo76IX158Pb2RhRqFbh2x13rwQWxFrp2eH7xzepVIsQ2ilqyNf0qpAVmh6VGnpRWXoYQP5sI+uXsZazySJ9aWPiqMLov1sRvdWSlnpdkdtYJ52F43Q586J9lBXBMXI0NOueHVHyFLK2x3Od3pHkpGKLV0koOf8baRbOTXWPGd/GakvMRITB6MY1vZm9+jNHrAiVo/2Sp1RUNzppAz1t2AEGU+tu25DzVcfHRd78nj6vJFDOp0N/vj3pyhaSp+zEflpEhVzVuxlo81RrwRYmQDUyo0u166VcXq9T6YZ+QRvk+cJ9MVdwZb//DIA072LGFgVNvYb1+MQ1Vk6H3jY9aIK28j1FoItDef4vmIOvE+w6zVAevh5tJQrpcFCJ7uHIN9m2is4xyE/oDpuGXrw3ukdQh5sBVIjAV1bmzA8jWT33fJExtse+M/+0CTkVEd/oMgTt/VubLFaH6iP2EaNtBnu4ReouzxYcf+hq98g0gp1A+SzKrWUcqi7MA+fyVHfDcrJLXyIBJXq4lTMfNdhFyF8x1fq3N6QvUXM2km7szHSpaEiLgfkyrJFxX3gh8XnHcLxpf/3DSLEED8rGy3lqLLi8dxP7kzeZRbTYOhLewPCExxGItEjd3rv4pabHzyZTKH3P7AbP7k33flGMs7M9irKYdYlVntC9D5PIw0PZ8fuDX4mRDEM7Mi1zZ1FM2LbQ+4rYjn8jMVnaGeGOrIRJPyE7PSJg3oRh30Lwj0Aj8Hnfdlnf+kCg+/Qqz9x0OHoWhBOArwrpV7Xvbu8M2ZR7tWjpt3xRrxfvdZb/H1bqzDQUWzv8n3gAR9YirE+ZtwUZYCHBYPDriB+VKvv23qF4rTRGzlGWFh9awtQbov+ioFac6Dt3pC+FSfk0n3baHEDvC+iBnOtuLi160OwcMfhGqa6RtbTt7DaIEM20xqPNw+w5XSFjcxhh/iwHRtN2j8t2EpCIY/Em3srpc+/XzfQUMeZ653exrI9wbnbVw52+KSh2QypbVnI0bfQU+tNbn9ncnBR/IGuKv6vHNghD8qEbRFXWcQKGNXtIxrX+HFi2beKO6JIZ0CDegXk6sl29Vx/baDmA9/NYtzN8xnRyR4HavERA/sIlwz6qC97ggnXRW9n3Bar0MLfOBrR0fjU9We0XreQFhOoQb+E4CXc9a6eJGtxhz8D3ABUvM3ug12fa7WV3U9EoDgJc9RDBvgYAtlvBm976Fbk5AnKIpZ5VA0US1mP0d1pdniDc+1fheix6/E0aTT7GIK2A9ttMXF7A3bl94F7jjYxsWlhupeBm5HYI2356RNNTmn/EkKFMHHbwPbGirIK3W2A8slJoMUGjbpJu971rjFVLKwKucfLl0vJxt3YlrPxTRW6z8ClcowoW3Hqbhn7CkBK024HDHtl/zwvWLZ4Y6J3LNtyNt70jRyF5bbR8OampTdKOSptvnjUsDiWNKp2vCm2W4Fd/zRSQDjdB9EW90Uer9Sch7pFUpINl+k6vJFmrYK2CeBaVrveVG25QOUuoWI64d4Po1S/Qr00ZF6TgTZI+Fa6Ayupeyuln97GkNzpfbCSnSHL2w4zRMk1blc/p6ClWj0Hrkpz89p9BCRxK0vucmviLT/757tmydsxzzrR0oro+R9mUChm9meAg8oG/WWM9wG2lTG+bGRPqQPwLk3MW4RJteHpYMfDDDEqAU1HGf2PgUO3uE/OSB86UeNdtYJMmE5rwjUyB5ZOf+s7truxccdyX9Gf/11eoT47Vyk6IzbwVJdWmaWUDw3UR8Nnx6neTrLLK9Rn55RPh5bVfrlP+zSSzZdXr0bG5nOcvvXsyW4Xiz0I12XB/ntGeDyOrUI/ElBbdmD3gxPFdoekofUaoUZRNNgV4VoXq7H7wAOwuhOl1U7Hx69e6o/Rtf5Yb6JGHN9G8PlBPVhVQP1KnVYDsy+orWf1PaVFn3plvAELJIMXXmmkfdBWFK0KFXQlVpMB24vV1nebHTLiBQCT8S4K3iUbhjJytaADO4hqGen4p5Hag+pfwLlDB9qZGEy8a5R1ZhgxB+MeVfpm4XprtvZppMa4Rq4La2fl4dHokKCCVYM5sO2Ojr9MrOpLwUsl0jaAm+HaE9Rd733dQPCuHqzOF6SaTEZkyOHLGl1SiTQH8G64dhnlHWP2bUXo2FK8YixGvAtA8Q5HnSebAc1aKbOYkL4C3ABXhcEqny0p7XUFeOiiHwPS0Gf366Brw7bqRV1VYDNIB37gux2ubWAi29zJ3EWUeZnt5ayM3bA1zaowHByrZ2ybfR+4Aatmk6HGBpPxbvl0EuLAM3D9N5bLpKAtnShVoxiklQC3wDUOL1x7NETHX0aCefJD3f9yQJ8pCm/Lva94qiOQdi3k2DEUIto7gtp6kj+A1FcRVCB3oB07EhTsblRHIH2kfdNGBInAdYigyl/R9/K9j/gJ0xfqOR8dHw+0hGuJMGNQNSOdipVY/XHdjdXmfHaE0Oeq7YNFZjfiUOpHOBquVVT3RTofcSWDPd0+UmknUCvc1vV4qMjaqDO2tYtcS4Mh6ksojR8hKsN1T6ST/DRSXXzsimsYqMZGQzE5gphOiOouKqKqddsdbBfSa61tnsx4Pm43kJoK6YRrAKgW9b58jn81iH6YR+/PifcOYJuRLtrw5bHrTuP3gefdqQ+uaIGhpn2FllXGR9EnzafbJn8y3hFg11OtQHoJl3A4152LpZSmPmRVC6P4y2ld7+eEWXpIiLvWNtjNWOwmXsMCdkl1ONLriCstLJv3F2+ltMRju2T0n+o2xp11puPdPWSJLdwb8TA/07/ZTbqj43thPJE/dMJHr7T557y/3feBzeG0VRS1NbojOoIYZ7tyGLa6s0fvkqPIoL2JfPQcOMZH8UvXxt7e32hEUAd44aZK9v54iiUplgq+Fhd4PNam4tuvEMbwXPNGDls+HJwJe29k9ZRbAdIq1uPqBbwa7DCqk8FYmYTXZt0AFoBtAbZ2v0e9Ky0PFc4WojlX3b+lYF5vobDMlcTlrNuVcjMABxIbjmsPeO6I9hT+bO/zIQUz0lwDOYF2pdz0Qo6qrDjwFlBbim6H0v79HOjx4FHet16LtGUWzfGMFrH6ELtfdB2A1d07YJKa3vaDv+VrmS8eNra5ncV+jSlVqCXybWEtdHtim4zpPViN8zgy5hEPFlltOWTPl60bis0BPG/nwDdHbEdWvY5GBtIq1mMxDF9DS580o9oSoqN5PpYahDm1X7cdjauhPvvgbfGIRDw5xpXKfBuHhL9pvSfPqVhKWbv84kZwbXETyy23fgGoG+6eMNyW7Wik2ZTbyfMV5pDvA8cMwTa4BtbDm/ltbaVOgh5TUFjS27bF7VqqWyJNx2cdzEdiu+jYKdGUVpXOw1yE+NnfwULYWydeuVqyDH/1AkmytT+PpyTuthZ9idLlGfwrdUYjVjJV5arjDS7M0MsvvjXUMzqMImtQiOWqUKfHO9NamgOkHuVfNk/Edo1kyNcmaXstzOufQO7FFdZesFfqVAesbp968Ptplml4LwIf+Ztfffmlt+p88MNbwxDfS+XRc4OLVT6xmvNeymCe/kt1oNy1aUh1IK/bUn3OhP5yc4b8FOnpCSCfIE87Tsu9p0vX5r3nXafT2uy0/fx/J81rZSXpRKzHSZug2quGZxFT7JuVa3qbLBaWygcCEpj28oSfX11RHsL8SguqY3NDysXyHG6aL5tsTnXaWksAkCAd4fTdbU8TTIefIQMc8uJ6dYCU4ZAhpwur54aHA0CGU76YPbtLAKcEAHDIzscJg6DtSqzNXstpRSnq8LuRyvJMPckzLUlhpEQL7YB4aVgqoMoMwzB1FbW/PJwNmYei1VJ57e7s4XCE0+liZEnyeX570VkynK4z9nSA02kynC4XkLS4Ah4yQJojsCxDhtkgyHDtfrGUnf2iEr7IoZJkazSm0ILFtUAMxWhU3ExiqS49AXgqMQxFH5QXoGlPBjgcIMOK4etlYfpxZvj86/xinXOGPMdeODN8Jnb6OV2LBIAjuG1OrMHG3qzWSWq/xjixAUpsC7qGZTTbGAE8sgkeTRgf6PkwH+ETxvDMZUnyOWmHK8YHgFOakuQDwAkOcCEznfUznKaE/3INyZATQIZDggxwuv6M/T4wYaEnYYjq7nwKHVDkz625pTyaTt08yXRMjNFdsynKYOlxuWU5K6Zi/gItXAHWl5K0/rl0Wszt5wQ4zVlxhpQn3SmcpgNAvuQE54aHBCnD06kD59j7dIrMCeBJgtMF8gvA1fTSzbWGXehuigSrq6bBt1rqDxORV158G4FoubHcUnmMmpq26GKDWX1GvVEoCkWyEZQxStD5bRmBNTaLa8o5zOYTAMAhXaey+fzzzPClIjUFXoA0pfmzqQPA06XZS3C2fuB7J1BxpYxtNHRF76neMNP05Zfehm1G0crF9rTeqxSGWypYiansJvc2heKNZtmQCZVMJ5dk8skwc9HfdG8z914G+bT+Ay1azawe0oXSQ14xfM6WU4bTtIQjZXhyvrF0AMjTzwPkfInDAPAkaYpY+0GLEhssmE2XH1/nXsHzZ1/OvGm1GazPAXxDssBTyh/iJv3R2Fwa12gyk+fZDn8BKmewaPrN+0WvC2XeDivjc+BNAJdC9Bx+89RoKkTnBJAgnaapegIASPmSe2e4TKGLT6vMUhmChiW2MGj3YGnh6L+IbhmEV/Lq//3gF7/07Atv/w7Ac9O25wDgC1/4z+ef/5Fvfutf3/Dst+29WvbNGuf1VTGN5ia+ockzagGdEqMVqVl4y4ydeePiiNIB8mnRiynSzlXoc10qTdYyABwgnSBPdS+YmD/3MwOkfCh6XJzBjG8uBNHLYuuthtzCInn7v2KDpTHagtLS9v/lF5f5szLwkpa//dpbvvGtb735TW8EeB7guVdf/Z4zvZ/9/L8///xbP/NPXz4e1W9BI8WRHaTF/+qNz9cFSpnZnliFjX3GcqmTin9snE7/f5hbJ0gJIMEhrbqWpinuef58mFodACBdovRFofw+8CwVwZZr2jDG+qOrTjE8HQDI8wTYSgUeh1977bUnpydf+59vfeWrn/vEJ/7j9a97Ajl/+zv5hXe85ctf/MoHPvD7f/an73vPe95JGNSLNRQvmzCzzVlBtIyGU6UCkypvdJjp7lITpi38Gq98jairk3EOxQnS6Wr8sgUu6XQCyBkgTQs/JrUkPMxQioW/TP6oEA+lkkpd36paLzIiT9vtxf7ZZ5555pln/v6jn/yF937fO37jewEA4I2f+kx+7bvfeM9Pps98+g/WfitlOXb10XuZdlINrQyjdhgjy4sIfwlAjZeXALSatWmSLngv/2gzwxdQp7bLTDstbvyeGc4w1bpyevMLLxIHOXtgf9epKyQzv1RdsO6Pa6Rp9tUv/LHPNABs0rb//tJ3X//sO9/4+s/+4vv+5Jtf+68PffC9APC/P/xLb3j1n3/5t/8cAD7+6b8kulf5Z7LOd0p99CqgMbvRQS0zRjJcHikQ7aN2ynh7onfNBp9uVS5TrnypMEMu+pXhNC+6nJo9BciAArwvtLHE2jtja1F1sK+89LaPfPjXayxgU8E3fuyv/+FdP/C1X/nDj55/v/NdL/3oj7/7b//qLwDg4//4O/C6FxbKVvZQ4W/SKpugRjSWT+xP0ciCKMG+xvJ8Phmn393qzuqn03XHaWPjNLe7Lup6eq1C10xlxyG2Ha5RU4CVvPzS2+sMbCeWP/vu3/zQB9/7Y29//lOf/pdzvP3yxz76d5/8/M/90L+9549+660/s5n98tNIpVB5ptgkF1tKI6ZcGrWsMcKvu2ZydeYJB+aO15NL5F/au0y6D9NtYYBDviTdefJ1PE1UT2n2E0hvfuEnlrY7zmkN3PYltgmrqHzkw7/2ip/hcuasn0uXx+g+akcenov/MgqiZTTFLf9NGRFjZmlfTNqpXs1yuv53k6Tn+X0Ai6d/82T5rHC6Niu+D1z2BPthl4z+U/Dp9m5M+ttLLunK84THeWMG9ULt2uigBh2nZRN8NBZmnUQzU1Z6TXEYbYIa2YRTTRxWdo+vk6+r3KsYPxW0zgNj/iBDhsvPvKxFows5MvIvo9RHV4vrvXE9L0dd1h+xPxrSjSn8WhnWIFrqWBkQhRm1YhNmcKOmKE0mSkfl0iiK9QyvPabi7zYzDHBdxXXRTPMDTOVtpL2gvQFi+XXjYl64kVdWS6D1DCvVlsNBf0L0DAeNE07N2hkHsaWaNQ5rIi3btzQ96nBVSddVlud3ccyPNJ3/cY4Xhwz58k6s4SNtd2L3+zgLz6cpUOf1aFOKPoqammdiO++urPPw/REZ3lS8UAnMpan+rzXnVZawzOLOzwyn6S1ZCdJU1rq0PkA6OV+ps2pFG2gGbTBdu3z37Hff/9PYZiYUayCkDmQzznhhoDIFtKUyT+lmLwWhqInqOGbU4vtATMYVufQ2Dk915nnTvPGQ4On1QqB8pY4KV2ynGgxSMQytnb5O6HCKMsxUrRz2NcZ97tA5RP2ZR4e+hjGUnE39TH9cTGf4vYqrBpJLr3mefy/ium5puy3GDhFg++Iq+cL2v/LS2+gUt2R43tLiuMr4rIl11kHMiCaz3cw5ld41lSRUTIk0FOeQYpidFMwMly/8Susnh3M+P+7v+cB3A2hHJjZr//YW/69sH+Kn8Jgxto4/t5Qg1fht90fhhedc+TfljbSOw/Pst2yXAC5v4Vm/F9qWHksNBJUxoaX+3gqtJrLBuLNUHqcjCOubOPpmdWG6aJoq3qxyStf3Qi/D/BLpc4xO88fNCGu2zbJK7cDf4dNKai2TIaKCxTfsibFpoFMWWjQR82feoH4qe5YDu1Kan1pTrNIMzzPeBJfnB1OGFbNLhhOkvP20iifMtomxvaJrTTcNLSMOpg/GIaddPe9Q+fV1CZ3G88gp7dTvLafomw1nhou+JQBYptbTHNiTIzbgdtQPPmib6W2/8m7TEugltO0wRgNFvR19E03lDNRXB40pTcdMp1p5CGwifa08X/Lk7TXnwnACyOVaaN/oHxjaNsTWdLriAYbSfz3Je8xK/HZ881ImcxZveovXi42XjTLzmg7J8uFwecCwLKVPr7PULeSI5rbtBx88trk2LWN2vbhJ7jVDMTfk7dDJJ2mk/kjFq4YvkRYnw+zN4ZQgZ3YhB96lHYNtILRx1yQ7+7/3/p+y52b6fvBmG11XmAGqbFiGSqUXh/AxE/Ulrs3io7qd8OtkeJr0Igwf0vc//y6yz+xWSQKLUJn5ZWgYaaPq2F54E7zjTTUG7nKXi5Qf+J5ll/SYaKs1WX0wiF58yPr6q/C5rwbaq+nhXneYmwt7YLqjbnJu3EbxhmUK7ZpBtoCW3SPqqZo2iK4a+fqr8PVX27jWGFiNBJ/HHbHHXCu6Q6jUk+w/FSn52q5aeZ5GalKC8ia1LlD71JdcXjp0rdJF8pmIYh5zfd229pIwlXXLoltYP6kJ/naf7RhLjnRIr1ppP/CNO1S3NG0WlQaDtjLtD3EWJvIIcsZsqlmjSh4AJA1chUrZT21LQ1tCZsL0wVkFsJfc4Amt0K7L9FWKAIFG9xF9T4xjkzJRO+h1LtPWDxtoE7KZ7RV5B0B5a6Cwd35JkwJjHODgOa09Ysot7Hm0WiRrCm+jZs+BQoZUskG5CYeXN+zDmxqTC2tCvu1KtlO5w9D/DYYoz1eA9wizNTE2cLi7b1M1070BEQ+HDEacnmxVEUkNsrCWcZhL1bTdQHcjNM1eEjrDfIRYdI2hU27UZCrrLKGpfT8wVn3CVX54PW5Eb5EI5HlBKMsmFkwtMONXNmeOfbTT64hX6tAZHGNpC6xt/06TPCTM1VFEY0tb70LgDSmVoSMcic/EpUeCGb/mOHNssYjlrtmoQ2dwjDVfX9riGkZpf9wtg57pnTkokiFZiNUcvIoIqe0VF58j0mxbRmL83LM9Q+4Vb23cNoHWfwRjxmJVtHSa8ZewSWZJk1uqnJVh3ByR/7JpNu0Xt8bl2IqVWJYZqnprzZA1XFmCQbW1GBPLWNEfIxGqFLo6j4rEe5u7Vl5acvFPIc0WUm/MsFjHJlZiGSNt+zBrCLDOia9f/TGAWi+W2akti0Tb4NgKKXdtso2l2fTdqWKPdCqwmUQRgYXROCi3HaG94xorOljNWAlRDDcTlmwLJBPWJXcY5uW3kSgvxG9yn2+gq4j15Mtm3d6g7vTeead4F+JrRIrVllhON0ASaHWy7UuzyfvMxWWFdbfWph4nVHMbC605N1Z7tGQWjeS2EOWFP5Y2eFumjsVO1poUcDmeW8Gsqn5lqYili7fVGbI5Aw7htiFOD4lVh6CH34BqFiRD/kumznjrlTo9fVV6JAzQJLNFrJYZshxBa6eyHXF95Ig6pHHQpuOzoSSGBHE507bfvEU85nUTrvRFF7EU2XQdtzZAFb56ETseri36025aK4v34VjO5MaeZg9tAcMWtQYbpB05tlD6Wm47oh0oetaEW/+ctgu3t/M1w86uO3GOrt2vsTcb0+/BlEC+3YTk2IJ1sj2WYC8trt8LHZskawGtibQBw70xqBHG94IaH3LW3gQAT/2NXGCrk211ZCZhxknmTOOOiAQ7X1PokGBrqzhJjppB25JYl+XR0vNZxI6Zb8kamqlMK56Y1ZhZ2hA3E23ZAtj20hAWlo8V6LZJkm+MW4vNYUF1C3VEhls4srZeHK+kKW1M/5Bv74gNsfx3s8NN8gVjx0vtBG6LbT5ih8K1spzW3ntDcZGg6TJXBarzjv71zUwTiYN88SGj7Va9aqp80Ve+1K5BkhwdaeOIrS+kNXC3m8Sk0bJh7Xzb7W41Piomz77IrE+w82KH3EnL88BRRanQkJshByHgzu3jXCz0UrGls5QdYFfo8q0VYi4gVSXeefpYSapZg1Fujkqwk6AyCwqwUEzeN0lu+2E03f7KNhrV3eNy2QFLLLbl0Cr32xYRF47i8m+JzNglJyrBxrNrxOIMMAftjmE2IsDS7d1R37cvwHxgM1cEs0NHG7ATKNfMalPubXgwhGgMMw49RAPBf2th+3tRxArJkMO4BYh9tW1dX8KMGZq1jsEu4PlGiqEuEeYikONEZoi3fAkgtkkzlmYbZ8vk76uRDMzjhDZ045LkXb+NJjeITq53z5T1wnTVseqYtEuvk7KbY1dI2WQal8bql4NkCeP11tXjhBHx1s7KzsRWs/pA+KwR8cpOD3qW10LLmHWT1wZtxQwx6Vw6wibYwlSZngfPjxMa6lIRwbZuZlufHm/1rL2v8f0ohQZPh5Kaat0UOi7NvvLsmS0rj2Crv4zJx57oXlQ9IbcG2phLjqNRR/F1LGwJlEuYhC/N/1G2tyXxLebM56CUkqUZlh3jGTOy7/yDqEIDv7lbUaomQ/bm9xHzggjp4NTkoiftefpP4VQRom0rLWLnzDlfmhnmytKFiO2V/q2U3Sa35pk4o2QPz62xsdYUxpFF54SxGYg6miCu7UuzaCI4S5F5pWIPy86FX6apcgbdWymNSXLXSFsPbTto6ufqowrVf2S94HZfvHv1R8nW+xVM4uR4cuzFVNkamYsur9uXjxOWJtQOo9B1xVuhUY9IW5PwRzlzSgxe3AxUV62q8ip/0ZsIZty8k2kmN0RM5exZ70XehSrfStkhVXZAa4+0DcOs+6LjM91D9H6NVVp6B26oBuxc/CKDM3Y5URTA8AuEOSbbH3skU2upiEUZs0HbPsw2CbCRoCra3UZiPeeCvJo8MKmkLxLsvP4nOXmW0mz9hNmWaKyCn5ZmTRFL48/mTNjGaHDq8dyiVRNfy2rFocUzD94qaQwj9txReg0km0+v97AkL1VqcmzzYi+0iCXb16ortzEaHdEtsy9HM6/KgxJFImrCEVFV4CTImiuaMmECqmggOEBt5KyfJAsAt4d2ryQ5o/+0NFNsdsuY1Dt5YQ5mu0hQcFKOgZW2tX+bq7YpwWYvQdVTZf0bOXGAq7g1hlmuURi0ngDbhNVgMqPMGSdfEcYoi+gkmDS5ydi2eiak14AZpsVqmMGTRPAVr8Va6L7BVqcbRKzCEr2/ApIqvnpGYY0v18oiY9OiPTmj5tYaXjVsJSXC0BSc5To2yGRus2lnWJ5pPm53qKSKXvXMtke89e8MajFqulyKULUyNPWEaPsqR2TimSuq2dzXEjBvrC98p6V70/3ko4VeK7c6HAOgtU1ofeU1r/qt8OkW8QClrJJWlNpsg6xQLjv/dk6bl2NMvr1c3FimTwK+zEt7P1lThbamowoidfFY5cVDbAtcHzyoblHzas69XXSS02YfzIuG3FSZJlOoeAm9ogA2RSl1DK3lVgttVYy1XJ52kXZflmj52e5SFGBXIa37LPdyTHpgXpjIHMnTHrZTCLZChiF8HxjdQO1rliSrMuSHBO1eH0Pc47PdSC+WPk07eVW5aS51HSQL3xYEBHBTgr3adCx2E4akHW1S5ZbojgDteJ8tZQT/bDcANAQ7FmZdhrrSJQCTfcGVZKzjWOQlimPsspDj2iXyi+4frVvFrS9P1jlSZxOBclOQmiUDMDcgQ4O2Lvks9vAWSHQCp8psam2IxlBegpLwWlnMhiYqW4esClpPLUqdQdTKw8bUK+RnQaE+btPzY9XcF9bjVap+VU2VtZNke+06l48TourFD2Rrk2A7JrTj0errT8+S1UrQuF0dromhbw7O9OfINrrmr4QuB3xM7VpVhY5GV57ZxnF709C29qi33wN1/QJgjbHFv4XMlW4rlbOqil7ripcwJyYzfaEK3QrdwFS5cbztyO1oUX0pdL7ayF/Al36vxs6WkG3F5qJhwn+QpqxFr1qM8Qf6O3M7TrxtiWu15Z6AyyNQ7E0M4eVfxIu0LyaTtSykRUBqbc6rtw/0h6Jr5Vayj+wckFijwTHjbkByTZmoBdv7bYSVjfVPuXi0bri6xYSo15JsCMjli93LfrjirZZEX3osNWQlFFqdqTEpDRHm0BQxjdHT+g+YORO56tUuqn/dTebNy8iXcFt0fxa1LrprWBHLw210XSo42AYy607ve3kPkKD5rRZVAReDwxXMVlN0N4SJ7WW3EMJ1WngzjOSzHEvlzb+0PuhGEUWp3eNtZ273Ddmtsl9HEdjvKgOA4d00WDe0y6XK3UJMvmqZyl1Ian1cKbiFbrtX4O3EbYCTG0qv0a66CDFMOL0uziaqqtnETDSqcB1xbVku5AiLunuF3Aho3XPyOsuBfpoJMd6qw7WcaQfk2BVT5eI6osqVL7s53QyLuTFui7Q81auxtdAaK/XZ8ijBNpxYoc2YcGpE03O62oKpKD1F8+wNyxiMQpagyKuvFkxx+aKsfC+0UKPqnydXQBtIrEo7mNjWF4C6ea6CLXse3ozn6rCsLHStKCeR91S5TG/kuKOr1q6lbMcwzbi2s60ejJbgYykm6eU8rlpivN3NBWR1lYsHOAdUp4KmuPHcBs1JG2TZYW3qpBg6YhcscRRrIc+GSV06MeX6VFr1ZNe+SbIur75MksnO0GuhK+Ptztyqem9r7ul9gMZ+ou8bNnCx/Uof+hUVCkVTRrqwF0Iysa3smLvWhb2RIxjdPtBaLyVaJW1XooP0TYmUdhunvfRotvOc0K1S82UbzzyZLndV1rrSdv+iCh0fco3Tyt7Bti7MBgXphy40uzqaWC1FdJVCW6+wrKlaK2pd160Xs0dqojs8uvFJspf6O7RWoQMUCEDRzMn1HpEJofmyjbniZSp36QMy9kaObtlyX27t5I2SFe97gahePilIAbO92EVMwd0JtvaQK77THZZXH9c/sX9SfVBsxVU7fWSYVDLOd1vzw9rfP7pTX9yeJZBwZ75NkOdOsM11Ly/Jmqo1UutaqpSPE7ZKlXvFW1cvM/kjVAjL+1PKilCiMlaoat0veJbucxHVbBbmunmykWTsyqOIycuDOWIatCNRE23dKeTWJ8nhJN0msXohiVFns06X67BsQpJnMjS7dgZkbMNa+boDf6XO1pC0CW/a96OHqhYNia0sqoW3jhT1sKXah0fptUH629wbVUNMjiDZFZA1GF93EGuhe1enMvNL1hcbxXNr7bBoYmgRuyoMT6q4sG3mRnrNFU2ZNFtmSYYyxWgRkAt/ZO8yICuxqsa6idyAeKuGNgSWKmjbqncScvyV3dVFqE0Dc/VI6IjiO6CAh2VlUu4JyJZXhWC1rnVT/oH+RtmyY2aoxjE42BbN1fbiFfcXQyZsngRvWaiHGVZD3haWpXkyWStWHGi+6FtmyGTXjivv294obPf6PnigriTmSBujcqvCHBpZ1NruZuwFRGZ3gk37JfeYSHbk1dto7HwjR23IjUqVw/JkG7S7EdvnOhBWMxbCsCpKR6bZ67YSyRiy1nKXFmPwkZztb+Roia4liY9BN5DbULb2DdiU91qwtTzLU+1tmu0Oy/JdZXO5y4Ux2ALy1bLyjRxXBxbr3AZ+N64ekydn9J8qhwHea5uGW5lEMW5EhzaOSJ7lyLzVcIflBZCEDQJZU0BulFcD6N7I0Q7dbqmyIdLSO73A+EHrGYh5X7rxVNow0KTiWUiz/Tk2Nk+Wg2+rgKzHWAC4D7ot82RtvI3k1tPTfZNmUdDu2YO2h2dLjQjPsatjspbkHTDGAR6JW8Gi0N7DpdGdegpiM3sDYg/anhCNXwO082lwJ9jFJLloXWymLy8VeTVf5doCvCe6gXmymc4W0D48Yk2iC75muPAGHA14gm2qFU1NtBPifgH5uNmtk6ZRd0h0H2+YjRIFqeZ820jDap87u55isly17oHxEQzojhpybWiqHQmKo7Ba8177iM9nO0Q3o9YGZ4R77lKAZ9f2chexTrNnXp1SOur+/O3QjeeW2BMSaXtD2/KD41r7vSBneTVk2iQWbHZdQTIYPucbG5Bzlm8jOdFtmyqHh9wBuG3NqlvQjjWmmsVJHaU2SvI8OYGSHLwxjTFsA3IYxgzAenSbZsvy/NYZb9VJRIgMy6dPxMMJIpydFqvCMqJEkowEZM401lhZ6JLyajXGKMBx6D5ubh8YtCap+OwQZ3U2qd/DKClI1ppGWmLttHm1GmP2lTq7ZcuOVFly0YXbx0wsI5vTEsFzCMnqSfKVd+9tZF9erZjOE6/UUQ93NmGODLmh0MZgNhKuvp7sUoJGzlsF0nSOLWfBWw2yhT+1nkNRQltkTTRG9lx/Fw8zxEx0XehGxduWwXYPaNt51FjuAXlcvq0PZUJD3BCSWltmyPOdp5rbTus+8m/kwPexc92m6O4TcntBO048XwrVq1ZgR8BsKhFxDRWptR1jul4tbMD6dFxtJdVpFUVg5tqowmtvbpsRW2G2P93a262exkqpnjwTJGsDMghVrC3GnMV1s2luDJpoTGCcAACQT6usTRU/kK36wcWF3CBu/SO9AbdGg0PFYKYzigV/1gYacX1brOwPRwzdkMbUk1cv2hDRGLYY40rCbaS4bHnS185oaeOjc2uxNhSxejHjaa39SOb8JAPOg4pk3Qw5bZVVnaGnx+sN6ttIfSa6tqjL9skqodzqTN0orqKUx6W6GSvoqTw3IlmoWrMz5MtWU1K9MEbk1VRSjbwTa7iEOTTkxnGrsNOD2HofDcpR2hAdBnMEyfqAvNJXRGPSEGaZu3VcJtXb20jb4VATdYkWmfnFqrp6cmmBfwTZZKJuf4CLVuLza+EE9UDeonG5mK3MJEMyGpAno5g+cJheVfQYC0n1pn//D0PJOw/0oeXXAAAAAElFTkSuQmCC\"/></td></tr></table>"
            ]
          },
          "metadata": {}
        },
        {
          "output_type": "stream",
          "name": "stdout",
          "text": [
            "Setup finished, initializing the environment...\n"
          ]
        },
        {
          "output_type": "stream",
          "name": "stderr",
          "text": [
            "INFO:2025-09-08 12:57:35,198:jax._src.xla_bridge:924: Unable to initialize backend 'rocm': module 'jaxlib.xla_extension' has no attribute 'GpuAllocatorConfig'\n",
            "INFO:jax._src.xla_bridge:Unable to initialize backend 'rocm': module 'jaxlib.xla_extension' has no attribute 'GpuAllocatorConfig'\n",
            "INFO:2025-09-08 12:57:35,204:jax._src.xla_bridge:924: Unable to initialize backend 'tpu': INTERNAL: Failed to open libtpu.so: libtpu.so: cannot open shared object file: No such file or directory\n",
            "INFO:jax._src.xla_bridge:Unable to initialize backend 'tpu': INTERNAL: Failed to open libtpu.so: libtpu.so: cannot open shared object file: No such file or directory\n",
            "INFO:root:Using JAX default device: cuda:0.\n",
            "INFO:root:MJX Warp is disabled via MJX_WARP_ENABLED=false.\n",
            "INFO:root:Using JAX default device: cuda:0.\n",
            "INFO:root:MJX Warp is disabled via MJX_WARP_ENABLED=false.\n",
            "INFO:root:Params restored, starting training...\n",
            "INFO:root:Device count: 1, process count: 1 (id 0), local device count: 1, devices to be used count: 1\n",
            "INFO:root:Using JAX default device: cuda:0.\n",
            "INFO:root:MJX Warp is disabled via MJX_WARP_ENABLED=false.\n",
            "INFO:root:observation size: (465,)\n",
            "INFO:root:observation size: (465,)\n",
            "INFO:root:Agent params type: <class 'quadruped_mjx_rl.models.architectures.raw_actor_critic.ActorCriticAgentParams'>\n"
          ]
        },
        {
          "output_type": "display_data",
          "data": {
            "text/plain": [
              "<Figure size 640x480 with 1 Axes>"
            ],
            "image/png": "[encoded data removed]"
          },
          "metadata": {}
        },
        {
          "output_type": "stream",
          "name": "stderr",
          "text": [
            "INFO:root:Setup took 29.470953702926636\n",
            "INFO:root:Using JAX default device: cuda:0.\n",
            "INFO:root:MJX Warp is disabled via MJX_WARP_ENABLED=false.\n",
            "INFO:root:eval/episode_reward: 0.71909726\n",
            "INFO:root:eval/episode_reward_std: 1.1319388\n",
            "INFO:root:current_step: 0\n",
            "INFO:root:starting iteration 0 128.79549431800842\n"
          ]
        },
        {
          "output_type": "error",
          "ename": "XlaRuntimeError",
          "evalue": "INVALID_ARGUMENT: layout minor_to_major field contains 1 elements, but shape is rank 0: {0}; shape: element_type: S32 layout { tail_padding_alignment_in_elements: 1 }",
          "traceback": [
            "\u001b[0;31m---------------------------------------------------------------------------\u001b[0m",
            "\u001b[0;31mXlaRuntimeError\u001b[0m                           Traceback (most recent call last)",
            "\u001b[0;32m/tmp/ipython-input-2170248826.py\u001b[0m in \u001b[0;36m<cell line: 0>\u001b[0;34m()\u001b[0m\n\u001b[1;32m    130\u001b[0m \u001b[0;31m# Try to launch a vision policy training\u001b[0m\u001b[0;34m\u001b[0m\u001b[0;34m\u001b[0m\u001b[0m\n\u001b[1;32m    131\u001b[0m \u001b[0;32mfrom\u001b[0m \u001b[0mquadruped_mjx_rl\u001b[0m\u001b[0;34m.\u001b[0m\u001b[0mtraining\u001b[0m\u001b[0;34m.\u001b[0m\u001b[0mtrain_interface\u001b[0m \u001b[0;32mimport\u001b[0m \u001b[0mtrain\u001b[0m\u001b[0;34m\u001b[0m\u001b[0;34m\u001b[0m\u001b[0m\n\u001b[0;32m--> 132\u001b[0;31m params = train(\n\u001b[0m\u001b[1;32m    133\u001b[0m     \u001b[0mtraining_config\u001b[0m\u001b[0;34m=\u001b[0m\u001b[0mtraining_config\u001b[0m\u001b[0;34m,\u001b[0m\u001b[0;34m\u001b[0m\u001b[0;34m\u001b[0m\u001b[0m\n\u001b[1;32m    134\u001b[0m     \u001b[0mmodel_config\u001b[0m\u001b[0;34m=\u001b[0m\u001b[0mmodel_config\u001b[0m\u001b[0;34m,\u001b[0m\u001b[0;34m\u001b[0m\u001b[0;34m\u001b[0m\u001b[0m\n",
            "\u001b[0;32m/content/unitree-go2-mjx-rl/src/quadruped_mjx_rl/training/train_interface.py\u001b[0m in \u001b[0;36mtrain\u001b[0;34m(training_config, model_config, training_env, evaluation_env, max_devices_per_host, wrap_env, randomization_fn, policy_params_fn, restore_params, run_in_cell)\u001b[0m\n\u001b[1;32m    271\u001b[0m     \u001b[0mlogging\u001b[0m\u001b[0;34m.\u001b[0m\u001b[0minfo\u001b[0m\u001b[0;34m(\u001b[0m\u001b[0;34m\"Setup took %s\"\u001b[0m\u001b[0;34m,\u001b[0m \u001b[0mtime\u001b[0m\u001b[0;34m.\u001b[0m\u001b[0mtime\u001b[0m\u001b[0;34m(\u001b[0m\u001b[0;34m)\u001b[0m \u001b[0;34m-\u001b[0m \u001b[0mxt\u001b[0m\u001b[0;34m)\u001b[0m\u001b[0;34m\u001b[0m\u001b[0;34m\u001b[0m\u001b[0m\n\u001b[1;32m    272\u001b[0m \u001b[0;34m\u001b[0m\u001b[0m\n\u001b[0;32m--> 273\u001b[0;31m     final_params = backed_train(\n\u001b[0m\u001b[1;32m    274\u001b[0m         \u001b[0mtraining_config\u001b[0m\u001b[0;34m=\u001b[0m\u001b[0mtraining_config\u001b[0m\u001b[0;34m,\u001b[0m\u001b[0;34m\u001b[0m\u001b[0;34m\u001b[0m\u001b[0m\n\u001b[1;32m    275\u001b[0m         \u001b[0menv\u001b[0m\u001b[0;34m=\u001b[0m\u001b[0menv\u001b[0m\u001b[0;34m,\u001b[0m\u001b[0;34m\u001b[0m\u001b[0;34m\u001b[0m\u001b[0m\n",
            "\u001b[0;32m/content/unitree-go2-mjx-rl/src/quadruped_mjx_rl/training/train_backend.py\u001b[0m in \u001b[0;36mtrain\u001b[0;34m(training_config, env, fitter, acting_policy_factory, policy_params_fn, run_evaluations, env_step_per_training_step, num_training_steps_per_epoch, local_devices_to_use, num_evals_after_init, process_id, training_state, reset_fn, local_key, key_envs, env_state)\u001b[0m\n\u001b[1;32m    225\u001b[0m             \u001b[0mepoch_key\u001b[0m\u001b[0;34m,\u001b[0m \u001b[0mlocal_key\u001b[0m \u001b[0;34m=\u001b[0m \u001b[0mjax\u001b[0m\u001b[0;34m.\u001b[0m\u001b[0mrandom\u001b[0m\u001b[0;34m.\u001b[0m\u001b[0msplit\u001b[0m\u001b[0;34m(\u001b[0m\u001b[0mlocal_key\u001b[0m\u001b[0;34m)\u001b[0m\u001b[0;34m\u001b[0m\u001b[0;34m\u001b[0m\u001b[0m\n\u001b[1;32m    226\u001b[0m             \u001b[0mepoch_keys\u001b[0m \u001b[0;34m=\u001b[0m \u001b[0mjax\u001b[0m\u001b[0;34m.\u001b[0m\u001b[0mrandom\u001b[0m\u001b[0;34m.\u001b[0m\u001b[0msplit\u001b[0m\u001b[0;34m(\u001b[0m\u001b[0mepoch_key\u001b[0m\u001b[0;34m,\u001b[0m \u001b[0mlocal_devices_to_use\u001b[0m\u001b[0;34m)\u001b[0m\u001b[0;34m\u001b[0m\u001b[0;34m\u001b[0m\u001b[0m\n\u001b[0;32m--> 227\u001b[0;31m             training_state, env_state, training_metrics = training_epoch_with_timing(\n\u001b[0m\u001b[1;32m    228\u001b[0m                 \u001b[0mtraining_state\u001b[0m\u001b[0;34m,\u001b[0m \u001b[0menv_state\u001b[0m\u001b[0;34m,\u001b[0m \u001b[0mepoch_keys\u001b[0m\u001b[0;34m\u001b[0m\u001b[0;34m\u001b[0m\u001b[0m\n\u001b[1;32m    229\u001b[0m             )\n",
            "\u001b[0;32m/content/unitree-go2-mjx-rl/src/quadruped_mjx_rl/training/train_backend.py\u001b[0m in \u001b[0;36mtraining_epoch_with_timing\u001b[0;34m(training_state, env_state, key)\u001b[0m\n\u001b[1;32m    187\u001b[0m         \u001b[0mt\u001b[0m \u001b[0;34m=\u001b[0m \u001b[0mtime\u001b[0m\u001b[0;34m.\u001b[0m\u001b[0mtime\u001b[0m\u001b[0;34m(\u001b[0m\u001b[0;34m)\u001b[0m\u001b[0;34m\u001b[0m\u001b[0;34m\u001b[0m\u001b[0m\n\u001b[1;32m    188\u001b[0m         \u001b[0mtraining_state\u001b[0m\u001b[0;34m,\u001b[0m \u001b[0menv_state\u001b[0m \u001b[0;34m=\u001b[0m \u001b[0m_utils\u001b[0m\u001b[0;34m.\u001b[0m\u001b[0mstrip_weak_type\u001b[0m\u001b[0;34m(\u001b[0m\u001b[0;34m(\u001b[0m\u001b[0mtraining_state\u001b[0m\u001b[0;34m,\u001b[0m \u001b[0menv_state\u001b[0m\u001b[0;34m)\u001b[0m\u001b[0;34m)\u001b[0m\u001b[0;34m\u001b[0m\u001b[0;34m\u001b[0m\u001b[0m\n\u001b[0;32m--> 189\u001b[0;31m         \u001b[0mresult\u001b[0m \u001b[0;34m=\u001b[0m \u001b[0mtraining_epoch\u001b[0m\u001b[0;34m(\u001b[0m\u001b[0mtraining_state\u001b[0m\u001b[0;34m,\u001b[0m \u001b[0menv_state\u001b[0m\u001b[0;34m,\u001b[0m \u001b[0mkey\u001b[0m\u001b[0;34m)\u001b[0m\u001b[0;34m\u001b[0m\u001b[0;34m\u001b[0m\u001b[0m\n\u001b[0m\u001b[1;32m    190\u001b[0m         \u001b[0mtraining_state\u001b[0m\u001b[0;34m,\u001b[0m \u001b[0menv_state\u001b[0m\u001b[0;34m,\u001b[0m \u001b[0mmetrics\u001b[0m \u001b[0;34m=\u001b[0m \u001b[0m_utils\u001b[0m\u001b[0;34m.\u001b[0m\u001b[0mstrip_weak_type\u001b[0m\u001b[0;34m(\u001b[0m\u001b[0mresult\u001b[0m\u001b[0;34m)\u001b[0m\u001b[0;34m\u001b[0m\u001b[0;34m\u001b[0m\u001b[0m\n\u001b[1;32m    191\u001b[0m \u001b[0;34m\u001b[0m\u001b[0m\n",
            "    \u001b[0;31m[... skipping hidden 12 frame]\u001b[0m\n",
            "\u001b[0;32m/usr/local/lib/python3.12/dist-packages/jax/_src/compiler.py\u001b[0m in \u001b[0;36mbackend_compile\u001b[0;34m(backend, module, options, host_callbacks)\u001b[0m\n\u001b[1;32m    322\u001b[0m     \u001b[0;31m# TODO(sharadmv): remove this fallback when all backends allow `compile`\u001b[0m\u001b[0;34m\u001b[0m\u001b[0;34m\u001b[0m\u001b[0m\n\u001b[1;32m    323\u001b[0m     \u001b[0;31m# to take in `host_callbacks`\u001b[0m\u001b[0;34m\u001b[0m\u001b[0;34m\u001b[0m\u001b[0m\n\u001b[0;32m--> 324\u001b[0;31m     \u001b[0;32mreturn\u001b[0m \u001b[0mbackend\u001b[0m\u001b[0;34m.\u001b[0m\u001b[0mcompile\u001b[0m\u001b[0;34m(\u001b[0m\u001b[0mbuilt_c\u001b[0m\u001b[0;34m,\u001b[0m \u001b[0mcompile_options\u001b[0m\u001b[0;34m=\u001b[0m\u001b[0moptions\u001b[0m\u001b[0;34m)\u001b[0m\u001b[0;34m\u001b[0m\u001b[0;34m\u001b[0m\u001b[0m\n\u001b[0m\u001b[1;32m    325\u001b[0m   \u001b[0;32mexcept\u001b[0m \u001b[0mxc\u001b[0m\u001b[0;34m.\u001b[0m\u001b[0mXlaRuntimeError\u001b[0m \u001b[0;32mas\u001b[0m \u001b[0me\u001b[0m\u001b[0;34m:\u001b[0m\u001b[0;34m\u001b[0m\u001b[0;34m\u001b[0m\u001b[0m\n\u001b[1;32m    326\u001b[0m     \u001b[0;32mfor\u001b[0m \u001b[0merror_handler\u001b[0m \u001b[0;32min\u001b[0m \u001b[0m_XLA_RUNTIME_ERROR_HANDLERS\u001b[0m\u001b[0;34m:\u001b[0m\u001b[0;34m\u001b[0m\u001b[0;34m\u001b[0m\u001b[0m\n",
            "\u001b[0;31mXlaRuntimeError\u001b[0m: INVALID_ARGUMENT: layout minor_to_major field contains 1 elements, but shape is rank 0: {0}; shape: element_type: S32 layout { tail_padding_alignment_in_elements: 1 }"
          ]
        }
      ]
    }
  ],
  "metadata": {
    "kernelspec": {
      "display_name": "Python 3",
      "name": "python3"
    },
    "language_info": {
      "codemirror_mode": {
        "name": "ipython",
        "version": 2
      },
      "file_extension": ".py",
      "mimetype": "text/x-python",
      "name": "python",
      "nbconvert_exporter": "python",
      "pygments_lexer": "ipython2",
      "version": "2.7.6"
    },
    "colab": {
      "provenance": [],
      "gpuType": "T4"
    },
    "accelerator": "GPU"
  },
  "nbformat": 4,
  "nbformat_minor": 5
}