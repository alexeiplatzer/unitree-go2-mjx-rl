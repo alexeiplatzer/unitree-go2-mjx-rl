{
  "cells": [
    {
      "cell_type": "code",
      "execution_count": 17,
      "id": "initial_id",
      "metadata": {
        "collapsed": true,
        "colab": {
          "base_uri": "https://localhost:8080/",
          "height": 1000
        },
        "id": "initial_id",
        "outputId": "216a77a4-9dcf-4cf3-8a9b-1f75ae5831d7",
        "cellView": "form"
      },
      "outputs": [
        {
          "output_type": "stream",
          "name": "stdout",
          "text": [
            "Reading package lists... Done\n",
            "Building dependency tree... Done\n",
            "Reading state information... Done\n",
            "libxcursor-dev is already the newest version (1:1.2.0-2build4).\n",
            "libxi-dev is already the newest version (2:1.8-1build1).\n",
            "libxinerama-dev is already the newest version (2:1.1.4-3).\n",
            "libxrandr-dev is already the newest version (2:1.5.2-1build1).\n",
            "libx11-dev is already the newest version (2:1.7.5-1ubuntu0.3).\n",
            "mesa-common-dev is already the newest version (23.2.1-1ubuntu3.1~22.04.3).\n",
            "0 upgraded, 0 newly installed, 0 to remove and 35 not upgraded.\n",
            "Requirement already satisfied: jax==0.5.2 in /usr/local/lib/python3.11/dist-packages (from jax[cuda12_local]==0.5.2) (0.5.2)\n",
            "Requirement already satisfied: jaxlib<=0.5.2,>=0.5.1 in /usr/local/lib/python3.11/dist-packages (from jax==0.5.2->jax[cuda12_local]==0.5.2) (0.5.1)\n",
            "Requirement already satisfied: ml_dtypes>=0.4.0 in /usr/local/lib/python3.11/dist-packages (from jax==0.5.2->jax[cuda12_local]==0.5.2) (0.4.1)\n",
            "Requirement already satisfied: numpy>=1.25 in /usr/local/lib/python3.11/dist-packages (from jax==0.5.2->jax[cuda12_local]==0.5.2) (2.0.2)\n",
            "Requirement already satisfied: opt_einsum in /usr/local/lib/python3.11/dist-packages (from jax==0.5.2->jax[cuda12_local]==0.5.2) (3.4.0)\n",
            "Requirement already satisfied: scipy>=1.11.1 in /usr/local/lib/python3.11/dist-packages (from jax==0.5.2->jax[cuda12_local]==0.5.2) (1.16.0)\n",
            "Requirement already satisfied: jax-cuda12-plugin==0.5.1 in /usr/local/lib/python3.11/dist-packages (from jax[cuda12_local]==0.5.2) (0.5.1)\n",
            "Requirement already satisfied: jax-cuda12-pjrt==0.5.1 in /usr/local/lib/python3.11/dist-packages (from jax-cuda12-plugin==0.5.1->jax[cuda12_local]==0.5.2) (0.5.1)\n",
            "mkdir: cannot create directory ‘modules’: File exists\n",
            "fatal: destination path 'modules/madrona_mjx' already exists and is not an empty directory.\n",
            "mkdir: cannot create directory ‘modules/madrona_mjx/build’: File exists\n",
            "-- Populating madronabundledtoolchain\n",
            "-- Configuring done (0.0s)\n",
            "-- Generating done (0.0s)\n",
            "-- Build files have been written to: /content/modules/madrona_mjx/external/madrona/external/madrona-toolchain/cmake-tmp/madronabundledtoolchain-subbuild\n",
            "[100%] Built target madronabundledtoolchain-populate\n",
            "-- Populating madronaprecompileddeps\n",
            "-- Configuring done (0.0s)\n",
            "-- Generating done (0.0s)\n",
            "-- Build files have been written to: /content/modules/madrona_mjx/external/madrona/external/madrona-deps/cmake-tmp/madronaprecompileddeps-subbuild\n",
            "[100%] Built target madronaprecompileddeps-populate\n",
            "\u001b[0mCMake Deprecation Warning at external/madrona/external/fast_float/CMakeLists.txt:1 (cmake_minimum_required):\n",
            "  Compatibility with CMake < 3.10 will be removed from a future version of\n",
            "  CMake.\n",
            "\n",
            "  Update the VERSION argument <min> value.  Or, use the <min>...<max> syntax\n",
            "  to tell CMake that the project requires at least <min> but has been updated\n",
            "  to work with policies introduced by <max> or earlier.\n",
            "\n",
            "\u001b[0m\n",
            "-- Tests are disabled. Set FASTFLOAT_TEST to ON to run tests.\n",
            "-- Adding -Og to compile flag\n",
            "-- Could NOT find Doxygen (missing: DOXYGEN_EXECUTABLE) \n",
            "-- Including X11 support\n",
            "\u001b[0mINFODisabling vulkan!\u001b[0m\n",
            "-- Configuring done (0.7s)\n",
            "-- Generating done (0.1s)\n",
            "-- Build files have been written to: /content/modules/madrona_mjx/build\n",
            "[  1%] Built target madrona_vk_loader\n",
            "[  2%] Built target madrona_err\n",
            "[  3%] Built target madrona_embree_lib\n",
            "[  4%] Built target generate_vk_dispatch\n",
            "[  5%] Built target madrona_std_mem\n",
            "[  7%] Built target madrona_mem\n",
            "[ 18%] Built target meshoptimizer\n",
            "[ 19%] Built target simdjson\n",
            "[ 19%] Built target madrona_libdxc_shlib\n",
            "[ 20%] Built target spv_reflect\n",
            "[ 35%] Built target glfw\n",
            "[ 36%] Built target madrona_cuda\n",
            "[ 44%] Built target nanobind-static\n",
            "[ 48%] Built target imgui_impl\n",
            "[ 53%] Built target madrona_common\n",
            "[ 54%] Built target madrona_python_utils\n",
            "[ 56%] Built target madrona_bvh_builder\n",
            "[ 56%] Built target madrona_python_bindings\n",
            "[ 57%] Built target madrona_json\n",
            "[ 59%] Built target madrona_physics_assets\n",
            "[ 63%] Built target madrona_mw_core\n",
            "[ 64%] Built target madrona_render_shader_compiler\n",
            "[ 65%] Built target madrona_render_asset_processor\n",
            "[ 66%] Built target madrona_physics_loader\n",
            "[ 67%] Built target madrona_rendering_system\n",
            "[ 72%] Built target madrona_render_vk\n",
            "[ 73%] Built target madrona_mw_cpu\n",
            "[ 75%] Built target madrona_render_vk_cuda\n",
            "[ 78%] Built target madrona_mw_gpu\n",
            "[ 82%] Built target madrona_importer\n",
            "[ 86%] Built target madrona_mw_physics\n",
            "[ 88%] Built target madmjx_cpu_impl\n",
            "[ 91%] Built target madrona_render_core\n",
            "[ 93%] Built target madrona_render\n",
            "[ 94%] Built target madrona_window\n",
            "[ 95%] Built target madmjx_mgr\n",
            "[ 96%] Built target _madrona_mjx_batch_renderer\n",
            "[ 98%] Built target madrona_viz\n",
            "[100%] Built target _madrona_mjx_visualizer\n",
            "Obtaining file:///content/modules/madrona_mjx\n",
            "  Checking if build backend supports build_editable ... \u001b[?25l\u001b[?25hdone\n",
            "  Getting requirements to build editable ... \u001b[?25l\u001b[?25hdone\n",
            "  Installing backend dependencies ... \u001b[?25l\u001b[?25hdone\n",
            "  Preparing editable metadata (pyproject.toml) ... \u001b[?25l\u001b[?25hdone\n",
            "Building wheels for collected packages: madrona_mjx\n",
            "  Building editable for madrona_mjx (pyproject.toml) ... \u001b[?25l\u001b[?25hdone\n",
            "  Created wheel for madrona_mjx: filename=madrona_mjx-0.0.1-cp311-cp311-manylinux_2_35_x86_64.whl size=1436 sha256=b6b00ece57bf7802cff89b88cea8d81c74df7d7731d97d20cd0e7822b332d798\n",
            "  Stored in directory: /tmp/pip-ephem-wheel-cache-_nidlr87/wheels/a5/37/00/42c419a2c81af3576cd8463d4c8cca06ba401c717b9d4eab84\n",
            "Successfully built madrona_mjx\n",
            "Installing collected packages: madrona_mjx\n",
            "  Attempting uninstall: madrona_mjx\n",
            "    Found existing installation: madrona_mjx 0.0.1\n",
            "    Uninstalling madrona_mjx-0.0.1:\n",
            "      Successfully uninstalled madrona_mjx-0.0.1\n",
            "Successfully installed madrona_mjx-0.0.1\n"
          ]
        },
        {
          "output_type": "display_data",
          "data": {
            "application/vnd.colab-display-data+json": {
              "pip_warning": {
                "packages": [
                  "_madrona_mjx_redir"
                ]
              },
              "id": "e8c2be8944a243a48362654a82ed24b0"
            }
          },
          "metadata": {}
        },
        {
          "output_type": "stream",
          "name": "stdout",
          "text": [
            "fatal: destination path 'unitree-go2-mjx-rl' already exists and is not an empty directory.\n",
            "Obtaining file:///content/unitree-go2-mjx-rl\n",
            "  Installing build dependencies ... \u001b[?25l\u001b[?25hdone\n",
            "  Checking if build backend supports build_editable ... \u001b[?25l\u001b[?25hdone\n",
            "  Getting requirements to build editable ... \u001b[?25l\u001b[?25hdone\n",
            "  Preparing editable metadata (pyproject.toml) ... \u001b[?25l\u001b[?25hdone\n",
            "Requirement already satisfied: mujoco==3.3.4 in /usr/local/lib/python3.11/dist-packages (from quadruped_mjx_rl==0.0.1) (3.3.4)\n",
            "Requirement already satisfied: mujoco_mjx==3.3.4 in /usr/local/lib/python3.11/dist-packages (from quadruped_mjx_rl==0.0.1) (3.3.4)\n",
            "Requirement already satisfied: brax==0.12.4 in /usr/local/lib/python3.11/dist-packages (from quadruped_mjx_rl==0.0.1) (0.12.4)\n",
            "Requirement already satisfied: mediapy in /usr/local/lib/python3.11/dist-packages (from quadruped_mjx_rl==0.0.1) (1.2.4)\n",
            "Requirement already satisfied: ml_collections in /usr/local/lib/python3.11/dist-packages (from quadruped_mjx_rl==0.0.1) (1.1.0)\n",
            "Requirement already satisfied: pyyaml in /usr/local/lib/python3.11/dist-packages (from quadruped_mjx_rl==0.0.1) (6.0.2)\n",
            "Requirement already satisfied: dacite==1.9.2 in /usr/local/lib/python3.11/dist-packages (from quadruped_mjx_rl==0.0.1) (1.9.2)\n",
            "Requirement already satisfied: jax==0.5.2 in /usr/local/lib/python3.11/dist-packages (from quadruped_mjx_rl==0.0.1) (0.5.2)\n",
            "Requirement already satisfied: numpy in /usr/local/lib/python3.11/dist-packages (from quadruped_mjx_rl==0.0.1) (2.0.2)\n",
            "Requirement already satisfied: flax==0.10.6 in /usr/local/lib/python3.11/dist-packages (from quadruped_mjx_rl==0.0.1) (0.10.6)\n",
            "Requirement already satisfied: matplotlib in /usr/local/lib/python3.11/dist-packages (from quadruped_mjx_rl==0.0.1) (3.10.0)\n",
            "Requirement already satisfied: orbax==0.1.9 in /usr/local/lib/python3.11/dist-packages (from quadruped_mjx_rl==0.0.1) (0.1.9)\n",
            "Requirement already satisfied: tqdm in /usr/local/lib/python3.11/dist-packages (from quadruped_mjx_rl==0.0.1) (4.67.1)\n",
            "Requirement already satisfied: optax==0.2.4 in /usr/local/lib/python3.11/dist-packages (from quadruped_mjx_rl==0.0.1) (0.2.4)\n",
            "Requirement already satisfied: absl-py in /usr/local/lib/python3.11/dist-packages (from brax==0.12.4->quadruped_mjx_rl==0.0.1) (1.4.0)\n",
            "Requirement already satisfied: etils in /usr/local/lib/python3.11/dist-packages (from brax==0.12.4->quadruped_mjx_rl==0.0.1) (1.13.0)\n",
            "Requirement already satisfied: flask in /usr/local/lib/python3.11/dist-packages (from brax==0.12.4->quadruped_mjx_rl==0.0.1) (3.1.1)\n",
            "Requirement already satisfied: flask-cors in /usr/local/lib/python3.11/dist-packages (from brax==0.12.4->quadruped_mjx_rl==0.0.1) (6.0.1)\n",
            "Requirement already satisfied: jaxlib>=0.4.6 in /usr/local/lib/python3.11/dist-packages (from brax==0.12.4->quadruped_mjx_rl==0.0.1) (0.5.1)\n",
            "Requirement already satisfied: jaxopt in /usr/local/lib/python3.11/dist-packages (from brax==0.12.4->quadruped_mjx_rl==0.0.1) (0.8.5)\n",
            "Requirement already satisfied: jinja2 in /usr/local/lib/python3.11/dist-packages (from brax==0.12.4->quadruped_mjx_rl==0.0.1) (3.1.6)\n",
            "Requirement already satisfied: orbax-checkpoint in /usr/local/lib/python3.11/dist-packages (from brax==0.12.4->quadruped_mjx_rl==0.0.1) (0.11.19)\n",
            "Requirement already satisfied: pillow in /usr/local/lib/python3.11/dist-packages (from brax==0.12.4->quadruped_mjx_rl==0.0.1) (11.3.0)\n",
            "Requirement already satisfied: scipy in /usr/local/lib/python3.11/dist-packages (from brax==0.12.4->quadruped_mjx_rl==0.0.1) (1.16.0)\n",
            "Requirement already satisfied: tensorboardx in /usr/local/lib/python3.11/dist-packages (from brax==0.12.4->quadruped_mjx_rl==0.0.1) (2.6.4)\n",
            "Requirement already satisfied: trimesh in /usr/local/lib/python3.11/dist-packages (from brax==0.12.4->quadruped_mjx_rl==0.0.1) (4.7.1)\n",
            "Requirement already satisfied: typing-extensions in /usr/local/lib/python3.11/dist-packages (from brax==0.12.4->quadruped_mjx_rl==0.0.1) (4.14.1)\n",
            "Requirement already satisfied: msgpack in /usr/local/lib/python3.11/dist-packages (from flax==0.10.6->quadruped_mjx_rl==0.0.1) (1.1.1)\n",
            "Requirement already satisfied: tensorstore in /usr/local/lib/python3.11/dist-packages (from flax==0.10.6->quadruped_mjx_rl==0.0.1) (0.1.74)\n",
            "Requirement already satisfied: rich>=11.1 in /usr/local/lib/python3.11/dist-packages (from flax==0.10.6->quadruped_mjx_rl==0.0.1) (13.9.4)\n",
            "Requirement already satisfied: treescope>=0.1.7 in /usr/local/lib/python3.11/dist-packages (from flax==0.10.6->quadruped_mjx_rl==0.0.1) (0.1.9)\n",
            "Requirement already satisfied: ml_dtypes>=0.4.0 in /usr/local/lib/python3.11/dist-packages (from jax==0.5.2->quadruped_mjx_rl==0.0.1) (0.4.1)\n",
            "Requirement already satisfied: opt_einsum in /usr/local/lib/python3.11/dist-packages (from jax==0.5.2->quadruped_mjx_rl==0.0.1) (3.4.0)\n",
            "Requirement already satisfied: glfw in /usr/local/lib/python3.11/dist-packages (from mujoco==3.3.4->quadruped_mjx_rl==0.0.1) (2.9.0)\n",
            "Requirement already satisfied: pyopengl in /usr/local/lib/python3.11/dist-packages (from mujoco==3.3.4->quadruped_mjx_rl==0.0.1) (3.1.9)\n",
            "Requirement already satisfied: chex>=0.1.87 in /usr/local/lib/python3.11/dist-packages (from optax==0.2.4->quadruped_mjx_rl==0.0.1) (0.1.90)\n",
            "Requirement already satisfied: contourpy>=1.0.1 in /usr/local/lib/python3.11/dist-packages (from matplotlib->quadruped_mjx_rl==0.0.1) (1.3.2)\n",
            "Requirement already satisfied: cycler>=0.10 in /usr/local/lib/python3.11/dist-packages (from matplotlib->quadruped_mjx_rl==0.0.1) (0.12.1)\n",
            "Requirement already satisfied: fonttools>=4.22.0 in /usr/local/lib/python3.11/dist-packages (from matplotlib->quadruped_mjx_rl==0.0.1) (4.59.0)\n",
            "Requirement already satisfied: kiwisolver>=1.3.1 in /usr/local/lib/python3.11/dist-packages (from matplotlib->quadruped_mjx_rl==0.0.1) (1.4.8)\n",
            "Requirement already satisfied: packaging>=20.0 in /usr/local/lib/python3.11/dist-packages (from matplotlib->quadruped_mjx_rl==0.0.1) (25.0)\n",
            "Requirement already satisfied: pyparsing>=2.3.1 in /usr/local/lib/python3.11/dist-packages (from matplotlib->quadruped_mjx_rl==0.0.1) (3.2.3)\n",
            "Requirement already satisfied: python-dateutil>=2.7 in /usr/local/lib/python3.11/dist-packages (from matplotlib->quadruped_mjx_rl==0.0.1) (2.9.0.post0)\n",
            "Requirement already satisfied: ipython in /usr/local/lib/python3.11/dist-packages (from mediapy->quadruped_mjx_rl==0.0.1) (7.34.0)\n",
            "Requirement already satisfied: toolz>=0.9.0 in /usr/local/lib/python3.11/dist-packages (from chex>=0.1.87->optax==0.2.4->quadruped_mjx_rl==0.0.1) (0.12.1)\n",
            "Requirement already satisfied: nest_asyncio in /usr/local/lib/python3.11/dist-packages (from orbax-checkpoint->brax==0.12.4->quadruped_mjx_rl==0.0.1) (1.6.0)\n",
            "Requirement already satisfied: protobuf in /usr/local/lib/python3.11/dist-packages (from orbax-checkpoint->brax==0.12.4->quadruped_mjx_rl==0.0.1) (5.29.5)\n",
            "Requirement already satisfied: humanize in /usr/local/lib/python3.11/dist-packages (from orbax-checkpoint->brax==0.12.4->quadruped_mjx_rl==0.0.1) (4.12.3)\n",
            "Requirement already satisfied: simplejson>=3.16.0 in /usr/local/lib/python3.11/dist-packages (from orbax-checkpoint->brax==0.12.4->quadruped_mjx_rl==0.0.1) (3.20.1)\n",
            "Requirement already satisfied: six>=1.5 in /usr/local/lib/python3.11/dist-packages (from python-dateutil>=2.7->matplotlib->quadruped_mjx_rl==0.0.1) (1.17.0)\n",
            "Requirement already satisfied: markdown-it-py>=2.2.0 in /usr/local/lib/python3.11/dist-packages (from rich>=11.1->flax==0.10.6->quadruped_mjx_rl==0.0.1) (3.0.0)\n",
            "Requirement already satisfied: pygments<3.0.0,>=2.13.0 in /usr/local/lib/python3.11/dist-packages (from rich>=11.1->flax==0.10.6->quadruped_mjx_rl==0.0.1) (2.19.2)\n",
            "Requirement already satisfied: fsspec in /usr/local/lib/python3.11/dist-packages (from etils[epath]->mujoco==3.3.4->quadruped_mjx_rl==0.0.1) (2025.3.0)\n",
            "Requirement already satisfied: importlib_resources in /usr/local/lib/python3.11/dist-packages (from etils[epath]->mujoco==3.3.4->quadruped_mjx_rl==0.0.1) (6.5.2)\n",
            "Requirement already satisfied: zipp in /usr/local/lib/python3.11/dist-packages (from etils[epath]->mujoco==3.3.4->quadruped_mjx_rl==0.0.1) (3.23.0)\n",
            "Requirement already satisfied: blinker>=1.9.0 in /usr/local/lib/python3.11/dist-packages (from flask->brax==0.12.4->quadruped_mjx_rl==0.0.1) (1.9.0)\n",
            "Requirement already satisfied: click>=8.1.3 in /usr/local/lib/python3.11/dist-packages (from flask->brax==0.12.4->quadruped_mjx_rl==0.0.1) (8.2.1)\n",
            "Requirement already satisfied: itsdangerous>=2.2.0 in /usr/local/lib/python3.11/dist-packages (from flask->brax==0.12.4->quadruped_mjx_rl==0.0.1) (2.2.0)\n",
            "Requirement already satisfied: markupsafe>=2.1.1 in /usr/local/lib/python3.11/dist-packages (from flask->brax==0.12.4->quadruped_mjx_rl==0.0.1) (3.0.2)\n",
            "Requirement already satisfied: werkzeug>=3.1.0 in /usr/local/lib/python3.11/dist-packages (from flask->brax==0.12.4->quadruped_mjx_rl==0.0.1) (3.1.3)\n",
            "Requirement already satisfied: setuptools>=18.5 in /usr/local/lib/python3.11/dist-packages (from ipython->mediapy->quadruped_mjx_rl==0.0.1) (75.2.0)\n",
            "Requirement already satisfied: jedi>=0.16 in /usr/local/lib/python3.11/dist-packages (from ipython->mediapy->quadruped_mjx_rl==0.0.1) (0.19.2)\n",
            "Requirement already satisfied: decorator in /usr/local/lib/python3.11/dist-packages (from ipython->mediapy->quadruped_mjx_rl==0.0.1) (4.4.2)\n",
            "Requirement already satisfied: pickleshare in /usr/local/lib/python3.11/dist-packages (from ipython->mediapy->quadruped_mjx_rl==0.0.1) (0.7.5)\n",
            "Requirement already satisfied: traitlets>=4.2 in /usr/local/lib/python3.11/dist-packages (from ipython->mediapy->quadruped_mjx_rl==0.0.1) (5.7.1)\n",
            "Requirement already satisfied: prompt-toolkit!=3.0.0,!=3.0.1,<3.1.0,>=2.0.0 in /usr/local/lib/python3.11/dist-packages (from ipython->mediapy->quadruped_mjx_rl==0.0.1) (3.0.51)\n",
            "Requirement already satisfied: backcall in /usr/local/lib/python3.11/dist-packages (from ipython->mediapy->quadruped_mjx_rl==0.0.1) (0.2.0)\n",
            "Requirement already satisfied: matplotlib-inline in /usr/local/lib/python3.11/dist-packages (from ipython->mediapy->quadruped_mjx_rl==0.0.1) (0.1.7)\n",
            "Requirement already satisfied: pexpect>4.3 in /usr/local/lib/python3.11/dist-packages (from ipython->mediapy->quadruped_mjx_rl==0.0.1) (4.9.0)\n",
            "Requirement already satisfied: parso<0.9.0,>=0.8.4 in /usr/local/lib/python3.11/dist-packages (from jedi>=0.16->ipython->mediapy->quadruped_mjx_rl==0.0.1) (0.8.4)\n",
            "Requirement already satisfied: mdurl~=0.1 in /usr/local/lib/python3.11/dist-packages (from markdown-it-py>=2.2.0->rich>=11.1->flax==0.10.6->quadruped_mjx_rl==0.0.1) (0.1.2)\n",
            "Requirement already satisfied: ptyprocess>=0.5 in /usr/local/lib/python3.11/dist-packages (from pexpect>4.3->ipython->mediapy->quadruped_mjx_rl==0.0.1) (0.7.0)\n",
            "Requirement already satisfied: wcwidth in /usr/local/lib/python3.11/dist-packages (from prompt-toolkit!=3.0.0,!=3.0.1,<3.1.0,>=2.0.0->ipython->mediapy->quadruped_mjx_rl==0.0.1) (0.2.13)\n",
            "Building wheels for collected packages: quadruped_mjx_rl\n",
            "  Building editable for quadruped_mjx_rl (pyproject.toml) ... \u001b[?25l\u001b[?25hdone\n",
            "  Created wheel for quadruped_mjx_rl: filename=quadruped_mjx_rl-0.0.1-0.editable-py3-none-any.whl size=1945 sha256=80ae03f605a5c5f4243c1e49e0412229fc1584252908f94710a44ae54860e0df\n",
            "  Stored in directory: /tmp/pip-ephem-wheel-cache-6ivi77g9/wheels/f5/17/dc/1310c3fc1ac418e3ffd03caf359f7d6df62e5e764b13e82f9a\n",
            "Successfully built quadruped_mjx_rl\n",
            "Installing collected packages: quadruped_mjx_rl\n",
            "  Attempting uninstall: quadruped_mjx_rl\n",
            "    Found existing installation: quadruped_mjx_rl 0.0.1\n",
            "    Uninstalling quadruped_mjx_rl-0.0.1:\n",
            "      Successfully uninstalled quadruped_mjx_rl-0.0.1\n",
            "Successfully installed quadruped_mjx_rl-0.0.1\n"
          ]
        },
        {
          "output_type": "display_data",
          "data": {
            "application/vnd.colab-display-data+json": {
              "pip_warning": {
                "packages": [
                  "quadruped_mjx_rl"
                ]
              },
              "id": "c3d1d9ef58284cb798d091cabb9a211c"
            }
          },
          "metadata": {}
        }
      ],
      "source": [
        "# @title Install madrona_mjx and quadruped_mjx_rl\n",
        "\n",
        "# install additional missing packages\n",
        "!sudo apt install -y libx11-dev libxrandr-dev libxinerama-dev libxcursor-dev libxi-dev mesa-common-dev\n",
        "# the following is for kaggle\n",
        "#!sudo apt install -y nvidia-cuda-toolkit\n",
        "\n",
        "# install jax with cuda enabled\n",
        "!pip install -U \"jax[cuda12_local]==0.5.2\"\n",
        "\n",
        "# get madrona mjx and its subpackages\n",
        "!mkdir modules\n",
        "!git clone https://github.com/shacklettbp/madrona_mjx.git modules/madrona_mjx\n",
        "!git -C modules/madrona_mjx submodule update --init --recursive\n",
        "\n",
        "# build madrona mjx\n",
        "!mkdir modules/madrona_mjx/build\n",
        "!cd modules/madrona_mjx/build && cmake -DLOAD_VULKAN=OFF .. && make -j 8\n",
        "\n",
        "# install madrona mjx\n",
        "!pip install -e modules/madrona_mjx\n",
        "\n",
        "# Clones and installs our Quadruped RL package\n",
        "!git clone https://github.com/alexeiplatzer/unitree-go2-mjx-rl.git\n",
        "!pip install -e unitree-go2-mjx-rl"
      ]
    },
    {
      "cell_type": "code",
      "source": [
        "# @title Refresh the package if any necessary changes have been pushed. Important in development\n",
        "repo_path = \"./unitree-go2-mjx-rl\"\n",
        "!git -C {repo_path} pull"
      ],
      "metadata": {
        "colab": {
          "base_uri": "https://localhost:8080/"
        },
        "id": "Jd7XPJWYa4Qt",
        "outputId": "908c2a0a-d568-41fd-9cbb-c4e0eb2a7a14"
      },
      "id": "Jd7XPJWYa4Qt",
      "execution_count": 14,
      "outputs": [
        {
          "output_type": "stream",
          "name": "stdout",
          "text": [
            "remote: Enumerating objects: 9, done.\u001b[K\n",
            "remote: Counting objects:  11% (1/9)\u001b[K\rremote: Counting objects:  22% (2/9)\u001b[K\rremote: Counting objects:  33% (3/9)\u001b[K\rremote: Counting objects:  44% (4/9)\u001b[K\rremote: Counting objects:  55% (5/9)\u001b[K\rremote: Counting objects:  66% (6/9)\u001b[K\rremote: Counting objects:  77% (7/9)\u001b[K\rremote: Counting objects:  88% (8/9)\u001b[K\rremote: Counting objects: 100% (9/9)\u001b[K\rremote: Counting objects: 100% (9/9), done.\u001b[K\n",
            "remote: Compressing objects: 100% (1/1)\u001b[K\rremote: Compressing objects: 100% (1/1), done.\u001b[K\n",
            "remote: Total 5 (delta 4), reused 5 (delta 4), pack-reused 0 (from 0)\u001b[K\n",
            "Unpacking objects:  20% (1/5)\rUnpacking objects:  40% (2/5)\rUnpacking objects:  60% (3/5)\rUnpacking objects:  80% (4/5)\rUnpacking objects: 100% (5/5)\rUnpacking objects: 100% (5/5), 413 bytes | 206.00 KiB/s, done.\n",
            "From https://github.com/alexeiplatzer/unitree-go2-mjx-rl\n",
            "   570d00b..472f778  main       -> origin/main\n",
            "Updating 570d00b..472f778\n",
            "Fast-forward\n",
            " resources/unitree_go2/go2_mjx_vision.xml | 2 \u001b[32m+\u001b[m\u001b[31m-\u001b[m\n",
            " 1 file changed, 1 insertion(+), 1 deletion(-)\n"
          ]
        }
      ]
    },
    {
      "cell_type": "code",
      "source": [
        "# @title Session setup\n",
        "# Check if MuJoCo installation was successful\n",
        "import distutils.util\n",
        "import os\n",
        "import subprocess\n",
        "if subprocess.run('nvidia-smi').returncode:\n",
        "    raise RuntimeError(\n",
        "        'Cannot communicate with GPU. '\n",
        "        'Make sure you are using a GPU Colab runtime. '\n",
        "        'Go to the Runtime menu and select Choose runtime type.'\n",
        "    )\n",
        "\n",
        "# On your second reading, load the compiled rendering backend to save time!\n",
        "os.environ[\"MADRONA_MWGPU_KERNEL_CACHE\"] = \"modules/madrona_mjx/build/cache\"\n",
        "# Ensure that Madrona gets the chance to pre-allocate memory before Jax\n",
        "os.environ[\"XLA_PYTHON_CLIENT_PREALLOCATE\"] = \"false\"\n",
        "\n",
        "# Temporarily limit to just one device\n",
        "# os.environ[\"CUDA_VISIBLE_DEVICES\"] = \"0\"\n",
        "\n",
        "# Add an ICD config so that glvnd can pick up the Nvidia EGL driver.\n",
        "# This is usually installed as part of an Nvidia driver package, but the Colab\n",
        "# kernel doesn't install its driver via APT, and as a result the ICD is missing.\n",
        "# (https://github.com/NVIDIA/libglvnd/blob/master/src/EGL/icd_enumeration.md)\n",
        "NVIDIA_ICD_CONFIG_PATH = '/usr/share/glvnd/egl_vendor.d/10_nvidia.json'\n",
        "if not os.path.exists(NVIDIA_ICD_CONFIG_PATH):\n",
        "    with open(NVIDIA_ICD_CONFIG_PATH, 'w') as f:\n",
        "        f.write(\"\"\"{\n",
        "        \"file_format_version\" : \"1.0.0\",\n",
        "        \"ICD\" : {\n",
        "            \"library_path\" : \"libEGL_nvidia.so.0\"\n",
        "        }\n",
        "    }\n",
        "    \"\"\")\n",
        "\n",
        "# Configure MuJoCo to use the EGL rendering backend (requires GPU)\n",
        "print('Setting environment variable to use GPU rendering:')\n",
        "%env MUJOCO_GL=egl\n",
        "\n",
        "try:\n",
        "    print('Checking that the installation succeeded:')\n",
        "    import mujoco\n",
        "\n",
        "    mujoco.MjModel.from_xml_string('<mujoco/>')\n",
        "except Exception as e:\n",
        "    raise e from RuntimeError(\n",
        "        'Something went wrong during installation. Check the shell output above '\n",
        "        'for more information.\\n'\n",
        "        'If using a hosted Colab runtime, make sure you enable GPU acceleration '\n",
        "        'by going to the Runtime menu and selecting \"Choose runtime type\".'\n",
        "    )\n",
        "\n",
        "print('Installation successful.')\n",
        "\n",
        "# Tell XLA to use Triton GEMM, this improves steps/sec by ~30% on some GPUs\n",
        "xla_flags = os.environ.get('XLA_FLAGS', '')\n",
        "xla_flags += ' --xla_gpu_triton_gemm_any=True'\n",
        "os.environ['XLA_FLAGS'] = xla_flags\n",
        "\n",
        "# More legible printing from numpy.\n",
        "import numpy as np\n",
        "np.set_printoptions(precision=3, suppress=True, linewidth=100)\n",
        "\n",
        "# Prepare paths\n",
        "from etils.epath import Path\n",
        "repo_path = Path(\"unitree-go2-mjx-rl\")\n",
        "configs_path = repo_path / \"configs\"\n",
        "scenes_path = repo_path / \"resources\" / \"unitree_go2\"\n",
        "results_path = Path(\"results\")\n",
        "results_path.mkdir(parents=True, exist_ok=True)"
      ],
      "metadata": {
        "colab": {
          "base_uri": "https://localhost:8080/"
        },
        "cellView": "form",
        "id": "s3EYSwtWa58n",
        "outputId": "dbfe3079-29a9-4e22-947c-238d774f0815"
      },
      "id": "s3EYSwtWa58n",
      "execution_count": 1,
      "outputs": [
        {
          "output_type": "stream",
          "name": "stdout",
          "text": [
            "Setting environment variable to use GPU rendering:\n",
            "env: MUJOCO_GL=egl\n",
            "Checking that the installation succeeded:\n",
            "Installation successful.\n"
          ]
        }
      ]
    },
    {
      "cell_type": "code",
      "source": [
        "# @title Prepare all configurations\n",
        "from quadruped_mjx_rl.config_utils import prepare_configs\n",
        "from quadruped_mjx_rl.environments import get_env_factory\n",
        "from quadruped_mjx_rl.training import train_with_vision\n",
        "\n",
        "\n",
        "robot_config = prepare_configs(configs_path / \"unitree_go2.yaml\")[\"robot\"]\n",
        "rl_configs = prepare_configs(configs_path / \"vision_ppo.yaml\")\n",
        "\n",
        "environment_config = rl_configs[\"environment\"]\n",
        "\n",
        "model_config = rl_configs[\"model\"]\n",
        "model_config.modules.adapter_convolutional = [8, 16, 32]\n",
        "model_config.modules.encoder_convolutional = [8, 16, 32]\n",
        "\n",
        "training_config = rl_configs[\"training\"]\n",
        "training_config.num_envs = 64\n",
        "training_config.num_eval_envs = 64\n",
        "training_config.batch_size = 64\n",
        "\n",
        "vision_config = rl_configs[\"vision\"]\n",
        "vision_config.render_width = 64\n",
        "vision_config.render_batch_size = 64\n",
        "\n",
        "init_scene_path = scenes_path / \"scene_mjx_empty_arena.xml\"\n",
        "\n",
        "# train_with_vision(\n",
        "#     robot_config=robot_config,\n",
        "#     env_config=environment_config,\n",
        "#     init_scene_path=init_scene_path,\n",
        "#     model_config=model_config,\n",
        "#     training_config=training_config,\n",
        "#     vision_config=vision_config,\n",
        "#     params_save_path=results_path / \"my_model_vision\",\n",
        "# )"
      ],
      "metadata": {
        "cellView": "form",
        "id": "m_5hV6hObAle"
      },
      "id": "m_5hV6hObAle",
      "execution_count": 2,
      "outputs": []
    },
    {
      "cell_type": "code",
      "source": [
        "# @title Prepare the environment model\n",
        "from quadruped_mjx_rl.environments.physics_pipeline import load_to_spec, spec_to_model\n",
        "from quadruped_mjx_rl.terrain_gen.tile import make_arena\n",
        "from quadruped_mjx_rl.environments import rendering, QuadrupedJoystickBaseEnv\n",
        "from quadruped_mjx_rl.terrain_gen.tile import tile_center_qpos\n",
        "\n",
        "spec = load_to_spec(init_scene_path)\n",
        "spec = make_arena(spec)\n",
        "env_model = spec_to_model(spec)\n",
        "env_model = QuadrupedJoystickBaseEnv.customize_model(env_model, environment_config)\n",
        "\n",
        "init_qpos = env_model.keyframe(\"home\").qpos\n",
        "init_qpos = tile_center_qpos(col=-8, row=0, base_qpos=init_qpos)"
      ],
      "metadata": {
        "id": "WHMbT_NvcURk"
      },
      "id": "WHMbT_NvcURk",
      "execution_count": 3,
      "outputs": []
    },
    {
      "cell_type": "code",
      "source": [
        "init_qpos"
      ],
      "metadata": {
        "colab": {
          "base_uri": "https://localhost:8080/"
        },
        "id": "hTKKWO5tfQxS",
        "outputId": "cfcd5e8f-6600-41a2-8629-99347365591f"
      },
      "id": "hTKKWO5tfQxS",
      "execution_count": 4,
      "outputs": [
        {
          "output_type": "execute_result",
          "data": {
            "text/plain": [
              "array([-32.  ,   0.  ,   0.32,   1.  ,   0.  ,   0.  ,   0.  ,   0.  ,   0.9 ,  -1.8 ,   0.  ,\n",
              "         0.9 ,  -1.8 ,   0.  ,   0.9 ,  -1.8 ,   0.  ,   0.9 ,  -1.8 ])"
            ]
          },
          "metadata": {},
          "execution_count": 4
        }
      ]
    },
    {
      "cell_type": "code",
      "source": [
        "# Render\n",
        "#camera = rendering.large_overview_camera()\n",
        "camera = mujoco.MjvCamera()\n",
        "mujoco.mjv_defaultCamera(camera)\n",
        "camera.lookat = [0, 0, 0]\n",
        "camera.distance = 18\n",
        "camera.elevation = -30\n",
        "# image = rendering.render_model(env_model, camera=camera, initial_keyframe=\"home\")\n",
        "mj_data = mujoco.MjData(env_model)\n",
        "mj_data.qpos = init_qpos\n",
        "with mujoco.Renderer(env_model) as renderer:\n",
        "    mujoco.mj_forward(env_model, mj_data)\n",
        "    renderer.update_scene(mj_data, camera=camera)\n",
        "    image = renderer.render()\n",
        "rendering.show_image(image)"
      ],
      "metadata": {
        "colab": {
          "base_uri": "https://localhost:8080/",
          "height": 263
        },
        "id": "T2sYkWOLe-VW",
        "outputId": "15bb471e-b5ce-4d04-d1cd-c4f940394cd0"
      },
      "id": "T2sYkWOLe-VW",
      "execution_count": 15,
      "outputs": [
        {
          "output_type": "display_data",
          "data": {
            "text/plain": [
              "<IPython.core.display.HTML object>"
            ],
            "text/html": [
              "<table class=\"show_images\" style=\"border-spacing:0px;\"><tr><td style=\"padding:1px;\"><img width=\"320\" height=\"240\" style=\"image-rendering:auto; object-fit:cover;\" src=\"data:image/png;base64,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\"/></td></tr></table>"
            ]
          },
          "metadata": {}
        }
      ]
    },
    {
      "cell_type": "code",
      "source": [
        "mj_data.qpos"
      ],
      "metadata": {
        "colab": {
          "base_uri": "https://localhost:8080/"
        },
        "id": "oR_WjPllwTkW",
        "outputId": "e4004d91-5f58-4e92-ad8e-46e324b0635c"
      },
      "id": "oR_WjPllwTkW",
      "execution_count": 6,
      "outputs": [
        {
          "output_type": "execute_result",
          "data": {
            "text/plain": [
              "array([-32.  ,   0.  ,   0.32,   1.  ,   0.  ,   0.  ,   0.  ,   0.  ,   0.9 ,  -1.8 ,   0.  ,\n",
              "         0.9 ,  -1.8 ,   0.  ,   0.9 ,  -1.8 ,   0.  ,   0.9 ,  -1.8 ])"
            ]
          },
          "metadata": {},
          "execution_count": 6
        }
      ]
    },
    {
      "cell_type": "code",
      "source": [
        "from quadruped_mjx_rl.environments import get_env_factory\n",
        "from quadruped_mjx_rl.robotic_vision import get_renderer\n",
        "import functools\n",
        "from quadruped_mjx_rl.environments.wrappers import wrap_for_training\n",
        "import jax\n",
        "\n",
        "make_renderer = functools.partial(get_renderer, vision_config=vision_config)\n",
        "env_factory = get_env_factory(\n",
        "    robot_config=robot_config,\n",
        "    environment_config=environment_config,\n",
        "    env_model=env_model,\n",
        "    vision_config=vision_config,\n",
        "    init_qpos=init_qpos,\n",
        "    renderer_maker=make_renderer,\n",
        ")\n",
        "env = env_factory()\n",
        "\n",
        "# env = wrap_for_training(\n",
        "#     env=env,\n",
        "#     vision=True,\n",
        "#     num_vision_envs=training_config.num_envs,\n",
        "# )\n",
        "# jit_reset = jax.jit(env.reset)\n",
        "# jit_step = jax.jit(env.step)"
      ],
      "metadata": {
        "colab": {
          "base_uri": "https://localhost:8080/"
        },
        "id": "kNnqBw36icyp",
        "outputId": "6b87ee69-ac2e-44fd-b023-6f3454c09dfe"
      },
      "id": "kNnqBw36icyp",
      "execution_count": 7,
      "outputs": [
        {
          "output_type": "stream",
          "name": "stderr",
          "text": [
            "/usr/local/lib/python3.11/dist-packages/brax/io/mjcf.py:480: UserWarning: Brax System, piplines and environments are not actively being maintained. Please see MJX for a well maintained JAX-based physics engine: https://github.com/google-deepmind/mujoco/tree/main/mjx. For a host of environments that use MJX, see: https://github.com/google-deepmind/mujoco_playground.\n",
            "  warnings.warn(\n"
          ]
        }
      ]
    },
    {
      "cell_type": "code",
      "source": [
        "env = wrap_for_training(\n",
        "    env=env,\n",
        "    vision=True,\n",
        "    num_vision_envs=training_config.num_envs,\n",
        ")\n",
        "jit_reset = jax.jit(env.reset)\n",
        "jit_step = jax.jit(env.step)"
      ],
      "metadata": {
        "id": "yckD8ZwLvEpq"
      },
      "id": "yckD8ZwLvEpq",
      "execution_count": 8,
      "outputs": []
    },
    {
      "cell_type": "code",
      "source": [
        "state = jit_reset(jax.random.split(jax.random.PRNGKey(0), training_config.num_envs))"
      ],
      "metadata": {
        "id": "5WBXMIYqjXHL"
      },
      "id": "5WBXMIYqjXHL",
      "execution_count": 9,
      "outputs": []
    },
    {
      "cell_type": "code",
      "source": [
        "import jax.numpy as jnp\n",
        "state = jit_step(state, jnp.zeros((training_config.num_envs, env.action_size)))"
      ],
      "metadata": {
        "id": "D6AZlzfHjZHZ"
      },
      "id": "D6AZlzfHjZHZ",
      "execution_count": 10,
      "outputs": []
    },
    {
      "cell_type": "code",
      "source": [
        "frontal_view = state.obs[\"pixels/view_frontal_ego\"]\n",
        "print(frontal_view.shape)\n",
        "terrain_view = state.obs[\"pixels/view_terrain\"]\n",
        "print(terrain_view.shape)"
      ],
      "metadata": {
        "colab": {
          "base_uri": "https://localhost:8080/"
        },
        "id": "Ro2BmlLTkYby",
        "outputId": "de3e89c0-310a-4a29-c1ef-7c6b9e78ce74"
      },
      "id": "Ro2BmlLTkYby",
      "execution_count": 11,
      "outputs": [
        {
          "output_type": "stream",
          "name": "stdout",
          "text": [
            "(64, 64, 64, 3)\n",
            "(64, 64, 64, 1)\n"
          ]
        }
      ]
    },
    {
      "cell_type": "code",
      "source": [
        "import mediapy as media\n",
        "\n",
        "def tile(img, d):\n",
        "    assert img.shape[0] == d*d\n",
        "    img = img.reshape((d,d)+img.shape[1:])\n",
        "    return np.concat(np.concat(img, axis=1), axis=1)  # replace with 2 for multi-camera tensors!\n",
        "\n",
        "# image = tile(rgb_tensor[:16], 4)\n",
        "# image.shape\n",
        "frontal_view_image = tile(frontal_view[:16], 4)\n",
        "print(frontal_view_image.shape)\n",
        "terrain_view_image = tile(terrain_view[:16], 4)\n",
        "print(terrain_view_image.shape)"
      ],
      "metadata": {
        "colab": {
          "base_uri": "https://localhost:8080/"
        },
        "id": "TwEoRucUkbca",
        "outputId": "fbf18cba-b028-44ee-f372-6ce87811692c"
      },
      "id": "TwEoRucUkbca",
      "execution_count": 12,
      "outputs": [
        {
          "output_type": "stream",
          "name": "stdout",
          "text": [
            "(256, 256, 3)\n",
            "(256, 256, 1)\n"
          ]
        }
      ]
    },
    {
      "cell_type": "code",
      "source": [
        "media.show_image(frontal_view_image, width=512)"
      ],
      "metadata": {
        "colab": {
          "base_uri": "https://localhost:8080/",
          "height": 535
        },
        "id": "coDdASGDke4f",
        "outputId": "4e216877-e266-479d-851f-dd5ea05277bd"
      },
      "id": "coDdASGDke4f",
      "execution_count": 13,
      "outputs": [
        {
          "output_type": "display_data",
          "data": {
            "text/plain": [
              "<IPython.core.display.HTML object>"
            ],
            "text/html": [
              "<table class=\"show_images\" style=\"border-spacing:0px;\"><tr><td style=\"padding:1px;\"><img width=\"512\" height=\"512\" style=\"image-rendering:pixelated; object-fit:cover;\" src=\"data:image/png;base64,iVBORw0KGgoAAAANSUhEUgAAAQAAAAEACAIAAADTED8xAAAFZElEQVR4nO3dTU4jOQAF4HjEVbgCs2WDxIkREhu2zRU4jGdBT2uGnyQVu+Jyve9bdlSu55DXrkRO5XAAAAAAAAAAAAAAAACAiZTuI9b6fux85bb7GfuSf6wr528tQK1vrQnKXeMILeQPz7+4ALW+tpzvpFLuVx1/j/kv+F+s/vTAJPl/D/b1n5bmP33uWl8WjdhXKQ+NI8jfYvf5Pxeg1ufVwvRRyuORR+Vf287yl1qfRkWB4W6OXA7C7ikA0RSAaApAtL9GB4CRrABEswIQzQpANCsA0RSAaApANO8BiGYFIJoCEE0BiKYARFMAorV/CrT0G82b+tCp59exr679ljbDZzF+CjfDEwwl/Fjjp+ASiGgKQDQFIJoCEE0BiKYARFMAoikA0RSAaApANAUgmgIQTQGIds526P6/JPmzVbcHrjqR629s7DKd8fsxx25KP2c79Baeoy52M5EPu5nOyIm4BCKaAhBNAYimAERTAKIpANEUAAAAAAAAAAAAAAAAAGAW/W+WVuv7sfOV2+5n7Ev+sa6cv7UAtb61Jih3jSO0kD88/+IC1PraZZyPwb4ZqNxfNNTZp/w+fzfyH/dd/m4vnsPy/KfPXevLohH7KuWhcQT5W+w+/+cC1Pq8Wpg+Snk88qj8a9tZ/lLr06goMNw5vw8Au6UARFMAoikA0dwblGhWAKJZAYhmBSCaFYBoCkA0BSCa9wBEswIQTQGIpgBEUwCiKQDRunwK1HJria19BtXzC9qDLJ3CwPDtd+VpDX/TnKBDiC3ZwVwmmsL4qC6BiKYARFMAoikA0RSAaApANAUgmgIQTQGIpgBEUwCiKQDRFIBovb4UP+Mu4v6/kPl/K81u7dhfrfpnGryXvst26MPol/JlZsx8mDb2TwZPxyUQ0RSAaApANAUgmgIQTQGIpgAAAAAAAAAAAAAAAAAAs+h8m7Fa30+cr9z2PWNfJ/Mftj2F3efvHr61ALW+tSYod40jtKj1158gSw/9fVj5u2Oepf7Nf8HfcTv5m16Eja+fxeeu9bXlfCeVcr/q+PIfl5b/RAFqfbk4ShelPLQcPjz/oW0K8jc6Gf5zAWp9Xi1MH6U8HnlU/rXtLH+p9WlUFBiu1+8DwJQUgGgKQDQFIJp7gxLNCkA0KwDRrABEswIQTQGIpgBE8x6AaFYAoikA0RSAaApANAUg2kqfAp3/Xfstfwb131lsOedX3z7/E03heq+fm8bjfzDRc33EvLOYN/mH6+V3CUQ0BSCaAhBNAYimAERTAKIpANEUgGgKQDQFIJoCEE0BiKYARFu6Hbrzr0qe7bLtgaPSfnVB/u2EP3TanjlwRj/mX7odeq59tnOl/WTq8N/a4oxcAhFNAYimAERTAKIpANEUgGgKAAAAAAAAAAAAAAAAADCL/jfrqvX92PnKbfczdnQ8/IfZp7Dl/Nd//lsLUOtba4Jy1zhCi1p//Qmy9NDfh5W/O+ZZav7nvyV/PTQ//4sLUOtry/lOKuV+1fHlPy4t/+kC1PpyWZQuSnloOXxs+A+zT2Hf+T8XoNbnNcN0UMrjkUflX9vO8pdan0ZFgeGW/j4A7IoCEE0BiKYARHNvUKJZAYhmBSCaFYBoVgCiKQDRFIBo3gMQzQpANAUgmgIQTQGIpgBEa/wU6LKbSkzxudOnqW0586K/wmYncs4s+oe/aTt8s89mu4mmNlHUI8bMwiUQ0RSAaApANAUgmgIQTQGIpgBEUwCiKQDRFIBoCkA0BSCaAhDt/O3Q/X9P8ou++wGvEPh8l01t1BS6/CG28Pyfnsj526Gn23M7XeCvpp7CHOFdAhFNAYimAERTAKIpANEUgGgKQLR/APDsaFSLwXxnAAAAAElFTkSuQmCC\"/></td></tr></table>"
            ]
          },
          "metadata": {}
        }
      ]
    },
    {
      "cell_type": "code",
      "source": [
        "media.show_image(terrain_view_image, width=512)"
      ],
      "metadata": {
        "colab": {
          "base_uri": "https://localhost:8080/",
          "height": 535
        },
        "id": "RceXU9Fjkgxr",
        "outputId": "a87ace3f-6b78-450a-c174-a7742051932c"
      },
      "id": "RceXU9Fjkgxr",
      "execution_count": 14,
      "outputs": [
        {
          "output_type": "display_data",
          "data": {
            "text/plain": [
              "<IPython.core.display.HTML object>"
            ],
            "text/html": [
              "<table class=\"show_images\" style=\"border-spacing:0px;\"><tr><td style=\"padding:1px;\"><img width=\"512\" height=\"512\" style=\"image-rendering:pixelated; object-fit:cover;\" src=\"data:image/png;base64,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\"/></td></tr></table>"
            ]
          },
          "metadata": {}
        }
      ]
    },
    {
      "cell_type": "code",
      "source": [
        "# @title train\n",
        "from quadruped_mjx_rl import training\n",
        "\n",
        "train_fn = training.get_training_fn(\n",
        "    model_config=model_config, training_config=training_config, vision=True\n",
        ")\n",
        "progress_fn, eval_times = training.make_progress_fn(num_timesteps=training_config.num_timesteps)\n",
        "\n",
        "print(\"Starting training with vision...\")\n",
        "make_inference_fn, params, metrics = train_fn(\n",
        "    environment=env,\n",
        "    # eval_env=env,\n",
        "    seed=0,\n",
        "    # randomization_fn=domain_randomize,\n",
        "    progress_fn=progress_fn,\n",
        "    # wrap_env=False,\n",
        ")\n",
        "print(f\"time to jit: {eval_times[1] - eval_times[0]}\")\n",
        "print(f\"time to train: {eval_times[-1] - eval_times[1]}\")\n",
        "\n",
        "# Save params\n",
        "training.save_params(results_path/\"trial_run\", params)\n"
      ],
      "metadata": {
        "colab": {
          "base_uri": "https://localhost:8080/",
          "height": 450
        },
        "id": "8n97nNoyF6AD",
        "outputId": "baf4decd-fbe7-46f6-b716-23cf1b3544f3"
      },
      "id": "8n97nNoyF6AD",
      "execution_count": 14,
      "outputs": [
        {
          "output_type": "stream",
          "name": "stdout",
          "text": [
            "Starting training with vision...\n"
          ]
        },
        {
          "output_type": "error",
          "ename": "UnexpectedTracerError",
          "evalue": "Encountered an unexpected tracer. A function transformed by JAX had a side effect, allowing for a reference to an intermediate value with type float32[261,4] wrapped in a BatchTracer to escape the scope of the transformation.\nJAX transformations require that functions explicitly return their outputs, and disallow saving intermediate values to global state.\nTo catch the leak earlier, try setting the environment variable JAX_CHECK_TRACER_LEAKS or using the `jax.checking_leaks` context manager.\nSee https://jax.readthedocs.io/en/latest/errors.html#jax.errors.UnexpectedTracerError",
          "traceback": [
            "\u001b[0;31m---------------------------------------------------------------------------\u001b[0m",
            "\u001b[0;31mUnexpectedTracerError\u001b[0m                     Traceback (most recent call last)",
            "\u001b[0;32m/tmp/ipython-input-1656952547.py\u001b[0m in \u001b[0;36m<cell line: 0>\u001b[0;34m()\u001b[0m\n\u001b[1;32m      8\u001b[0m \u001b[0;34m\u001b[0m\u001b[0m\n\u001b[1;32m      9\u001b[0m \u001b[0mprint\u001b[0m\u001b[0;34m(\u001b[0m\u001b[0;34m\"Starting training with vision...\"\u001b[0m\u001b[0;34m)\u001b[0m\u001b[0;34m\u001b[0m\u001b[0;34m\u001b[0m\u001b[0m\n\u001b[0;32m---> 10\u001b[0;31m make_inference_fn, params, metrics = train_fn(\n\u001b[0m\u001b[1;32m     11\u001b[0m     \u001b[0menvironment\u001b[0m\u001b[0;34m=\u001b[0m\u001b[0menv\u001b[0m\u001b[0;34m,\u001b[0m\u001b[0;34m\u001b[0m\u001b[0;34m\u001b[0m\u001b[0m\n\u001b[1;32m     12\u001b[0m     \u001b[0;31m# eval_env=env,\u001b[0m\u001b[0;34m\u001b[0m\u001b[0;34m\u001b[0m\u001b[0m\n",
            "\u001b[0;32m/content/unitree-go2-mjx-rl/src/quadruped_mjx_rl/models/agents/ppo/guided_ppo/training.py\u001b[0m in \u001b[0;36mtrain\u001b[0;34m(environment, num_timesteps, max_devices_per_host, wrap_env, madrona_backend, augment_pixels, num_envs, episode_length, action_repeat, wrap_env_fn, randomization_fn, teacher_student_network_factory, teacher_learning_rate, student_learning_rate, student_steps_per_teacher_step, entropy_cost, discounting, unroll_length, batch_size, num_minibatches, num_updates_per_batch, num_resets_per_eval, normalize_observations, reward_scaling, clipping_epsilon, gae_lambda, max_grad_norm, normalize_advantage, seed, num_evals, eval_env, num_eval_envs, deterministic_eval, log_training_metrics, training_metrics_steps, progress_fn, policy_params_fn, restore_params, restore_value_fn)\u001b[0m\n\u001b[1;32m    146\u001b[0m     \u001b[0;32massert\u001b[0m \u001b[0mnum_envs\u001b[0m \u001b[0;34m%\u001b[0m \u001b[0mdevice_count\u001b[0m \u001b[0;34m==\u001b[0m \u001b[0;36m0\u001b[0m\u001b[0;34m\u001b[0m\u001b[0;34m\u001b[0m\u001b[0m\n\u001b[1;32m    147\u001b[0m \u001b[0;34m\u001b[0m\u001b[0m\n\u001b[0;32m--> 148\u001b[0;31m     env = _utils.maybe_wrap_env(\n\u001b[0m\u001b[1;32m    149\u001b[0m         \u001b[0menvironment\u001b[0m\u001b[0;34m,\u001b[0m\u001b[0;34m\u001b[0m\u001b[0;34m\u001b[0m\u001b[0m\n\u001b[1;32m    150\u001b[0m         \u001b[0mwrap_env\u001b[0m\u001b[0;34m,\u001b[0m\u001b[0;34m\u001b[0m\u001b[0;34m\u001b[0m\u001b[0m\n",
            "\u001b[0;32m/content/unitree-go2-mjx-rl/src/quadruped_mjx_rl/models/agents/ppo/training_utils.py\u001b[0m in \u001b[0;36mmaybe_wrap_env\u001b[0;34m(env, wrap_env, num_envs, episode_length, action_repeat, device_count, key_env, wrap_env_fn, randomization_fn, vision)\u001b[0m\n\u001b[1;32m     85\u001b[0m         \u001b[0mv_randomization_fn\u001b[0m \u001b[0;34m=\u001b[0m \u001b[0mfunctools\u001b[0m\u001b[0;34m.\u001b[0m\u001b[0mpartial\u001b[0m\u001b[0;34m(\u001b[0m\u001b[0mrandomization_fn\u001b[0m\u001b[0;34m,\u001b[0m \u001b[0mrng\u001b[0m\u001b[0;34m=\u001b[0m\u001b[0mrandomization_rng\u001b[0m\u001b[0;34m)\u001b[0m\u001b[0;34m\u001b[0m\u001b[0;34m\u001b[0m\u001b[0m\n\u001b[1;32m     86\u001b[0m     \u001b[0mwrap\u001b[0m \u001b[0;34m=\u001b[0m \u001b[0mwrap_env_fn\u001b[0m \u001b[0;32mor\u001b[0m \u001b[0mwrap_for_training\u001b[0m\u001b[0;34m\u001b[0m\u001b[0;34m\u001b[0m\u001b[0m\n\u001b[0;32m---> 87\u001b[0;31m     return wrap(\n\u001b[0m\u001b[1;32m     88\u001b[0m         \u001b[0menv\u001b[0m\u001b[0;34m,\u001b[0m\u001b[0;34m\u001b[0m\u001b[0;34m\u001b[0m\u001b[0m\n\u001b[1;32m     89\u001b[0m         \u001b[0mepisode_length\u001b[0m\u001b[0;34m=\u001b[0m\u001b[0mepisode_length\u001b[0m\u001b[0;34m,\u001b[0m\u001b[0;34m\u001b[0m\u001b[0;34m\u001b[0m\u001b[0m\n",
            "\u001b[0;32m/content/unitree-go2-mjx-rl/src/quadruped_mjx_rl/environments/wrappers.py\u001b[0m in \u001b[0;36mwrap_for_training\u001b[0;34m(env, episode_length, action_repeat, randomization_fn, vision, num_vision_envs)\u001b[0m\n\u001b[1;32m     50\u001b[0m     \"\"\"\n\u001b[1;32m     51\u001b[0m     \u001b[0;32mif\u001b[0m \u001b[0mvision\u001b[0m\u001b[0;34m:\u001b[0m\u001b[0;34m\u001b[0m\u001b[0;34m\u001b[0m\u001b[0m\n\u001b[0;32m---> 52\u001b[0;31m         \u001b[0menv\u001b[0m \u001b[0;34m=\u001b[0m \u001b[0mMadronaWrapper\u001b[0m\u001b[0;34m(\u001b[0m\u001b[0menv\u001b[0m\u001b[0;34m,\u001b[0m \u001b[0mnum_vision_envs\u001b[0m\u001b[0;34m,\u001b[0m \u001b[0mrandomization_fn\u001b[0m\u001b[0;34m)\u001b[0m\u001b[0;34m\u001b[0m\u001b[0;34m\u001b[0m\u001b[0m\n\u001b[0m\u001b[1;32m     53\u001b[0m     \u001b[0;32melif\u001b[0m \u001b[0mrandomization_fn\u001b[0m \u001b[0;32mis\u001b[0m \u001b[0;32mNone\u001b[0m\u001b[0;34m:\u001b[0m\u001b[0;34m\u001b[0m\u001b[0;34m\u001b[0m\u001b[0m\n\u001b[1;32m     54\u001b[0m         \u001b[0menv\u001b[0m \u001b[0;34m=\u001b[0m \u001b[0mVmapWrapper\u001b[0m\u001b[0;34m(\u001b[0m\u001b[0menv\u001b[0m\u001b[0;34m)\u001b[0m\u001b[0;34m\u001b[0m\u001b[0;34m\u001b[0m\u001b[0m\n",
            "\u001b[0;32m/content/unitree-go2-mjx-rl/src/quadruped_mjx_rl/environments/wrappers.py\u001b[0m in \u001b[0;36m__init__\u001b[0;34m(self, env, num_worlds, randomization_fn)\u001b[0m\n\u001b[1;32m    162\u001b[0m                 \u001b[0mnum_worlds\u001b[0m\u001b[0;34m=\u001b[0m\u001b[0mnum_worlds\u001b[0m\u001b[0;34m,\u001b[0m\u001b[0;34m\u001b[0m\u001b[0;34m\u001b[0m\u001b[0m\n\u001b[1;32m    163\u001b[0m             )\n\u001b[0;32m--> 164\u001b[0;31m         \u001b[0mself\u001b[0m\u001b[0;34m.\u001b[0m\u001b[0menv\u001b[0m \u001b[0;34m=\u001b[0m \u001b[0mDomainRandomizationVmapWrapper\u001b[0m\u001b[0;34m(\u001b[0m\u001b[0menv\u001b[0m\u001b[0;34m,\u001b[0m \u001b[0mrandomization_fn\u001b[0m\u001b[0;34m)\u001b[0m\u001b[0;34m\u001b[0m\u001b[0;34m\u001b[0m\u001b[0m\n\u001b[0m\u001b[1;32m    165\u001b[0m         \u001b[0mself\u001b[0m\u001b[0;34m.\u001b[0m\u001b[0mnum_worlds\u001b[0m \u001b[0;34m=\u001b[0m \u001b[0mnum_worlds\u001b[0m\u001b[0;34m\u001b[0m\u001b[0;34m\u001b[0m\u001b[0m\n\u001b[1;32m    166\u001b[0m \u001b[0;34m\u001b[0m\u001b[0m\n",
            "\u001b[0;32m/usr/local/lib/python3.11/dist-packages/brax/envs/wrappers/training.py\u001b[0m in \u001b[0;36m__init__\u001b[0;34m(self, env, randomization_fn)\u001b[0m\n\u001b[1;32m    227\u001b[0m   ):\n\u001b[1;32m    228\u001b[0m     \u001b[0msuper\u001b[0m\u001b[0;34m(\u001b[0m\u001b[0;34m)\u001b[0m\u001b[0;34m.\u001b[0m\u001b[0m__init__\u001b[0m\u001b[0;34m(\u001b[0m\u001b[0menv\u001b[0m\u001b[0;34m)\u001b[0m\u001b[0;34m\u001b[0m\u001b[0;34m\u001b[0m\u001b[0m\n\u001b[0;32m--> 229\u001b[0;31m     \u001b[0mself\u001b[0m\u001b[0;34m.\u001b[0m\u001b[0m_sys_v\u001b[0m\u001b[0;34m,\u001b[0m \u001b[0mself\u001b[0m\u001b[0;34m.\u001b[0m\u001b[0m_in_axes\u001b[0m \u001b[0;34m=\u001b[0m \u001b[0mrandomization_fn\u001b[0m\u001b[0;34m(\u001b[0m\u001b[0mself\u001b[0m\u001b[0;34m.\u001b[0m\u001b[0msys\u001b[0m\u001b[0;34m)\u001b[0m\u001b[0;34m\u001b[0m\u001b[0;34m\u001b[0m\u001b[0m\n\u001b[0m\u001b[1;32m    230\u001b[0m \u001b[0;34m\u001b[0m\u001b[0m\n\u001b[1;32m    231\u001b[0m   \u001b[0;32mdef\u001b[0m \u001b[0m_env_fn\u001b[0m\u001b[0;34m(\u001b[0m\u001b[0mself\u001b[0m\u001b[0;34m,\u001b[0m \u001b[0msys\u001b[0m\u001b[0;34m:\u001b[0m \u001b[0mSystem\u001b[0m\u001b[0;34m)\u001b[0m \u001b[0;34m->\u001b[0m \u001b[0mEnv\u001b[0m\u001b[0;34m:\u001b[0m\u001b[0;34m\u001b[0m\u001b[0;34m\u001b[0m\u001b[0m\n",
            "\u001b[0;32m/content/unitree-go2-mjx-rl/src/quadruped_mjx_rl/environments/wrappers.py\u001b[0m in \u001b[0;36m_identity_vision_randomization_fn\u001b[0;34m(pipeline_model, num_worlds)\u001b[0m\n\u001b[1;32m     80\u001b[0m         {\n\u001b[1;32m     81\u001b[0m             \"geom_rgba\": jnp.repeat(\n\u001b[0;32m---> 82\u001b[0;31m                 \u001b[0mjnp\u001b[0m\u001b[0;34m.\u001b[0m\u001b[0mexpand_dims\u001b[0m\u001b[0;34m(\u001b[0m\u001b[0mpipeline_model\u001b[0m\u001b[0;34m.\u001b[0m\u001b[0mgeom_rgba\u001b[0m\u001b[0;34m,\u001b[0m \u001b[0;36m0\u001b[0m\u001b[0;34m)\u001b[0m\u001b[0;34m,\u001b[0m \u001b[0mnum_worlds\u001b[0m\u001b[0;34m,\u001b[0m \u001b[0maxis\u001b[0m\u001b[0;34m=\u001b[0m\u001b[0;36m0\u001b[0m\u001b[0;34m\u001b[0m\u001b[0;34m\u001b[0m\u001b[0m\n\u001b[0m\u001b[1;32m     83\u001b[0m             ),\n\u001b[1;32m     84\u001b[0m             \"geom_matid\": jnp.repeat(\n",
            "\u001b[0;32m/usr/local/lib/python3.11/dist-packages/jax/_src/numpy/lax_numpy.py\u001b[0m in \u001b[0;36mexpand_dims\u001b[0;34m(a, axis)\u001b[0m\n\u001b[1;32m   2439\u001b[0m   \u001b[0mutil\u001b[0m\u001b[0;34m.\u001b[0m\u001b[0mcheck_arraylike\u001b[0m\u001b[0;34m(\u001b[0m\u001b[0;34m\"expand_dims\"\u001b[0m\u001b[0;34m,\u001b[0m \u001b[0ma\u001b[0m\u001b[0;34m)\u001b[0m\u001b[0;34m\u001b[0m\u001b[0;34m\u001b[0m\u001b[0m\n\u001b[1;32m   2440\u001b[0m   \u001b[0maxis\u001b[0m \u001b[0;34m=\u001b[0m \u001b[0m_ensure_index_tuple\u001b[0m\u001b[0;34m(\u001b[0m\u001b[0maxis\u001b[0m\u001b[0;34m)\u001b[0m\u001b[0;34m\u001b[0m\u001b[0;34m\u001b[0m\u001b[0m\n\u001b[0;32m-> 2441\u001b[0;31m   \u001b[0;32mreturn\u001b[0m \u001b[0mlax\u001b[0m\u001b[0;34m.\u001b[0m\u001b[0mexpand_dims\u001b[0m\u001b[0;34m(\u001b[0m\u001b[0ma\u001b[0m\u001b[0;34m,\u001b[0m \u001b[0maxis\u001b[0m\u001b[0;34m)\u001b[0m\u001b[0;34m\u001b[0m\u001b[0;34m\u001b[0m\u001b[0m\n\u001b[0m\u001b[1;32m   2442\u001b[0m \u001b[0;34m\u001b[0m\u001b[0m\n\u001b[1;32m   2443\u001b[0m \u001b[0;34m\u001b[0m\u001b[0m\n",
            "\u001b[0;32m/usr/local/lib/python3.11/dist-packages/jax/_src/lax/lax.py\u001b[0m in \u001b[0;36mexpand_dims\u001b[0;34m(array, dimensions)\u001b[0m\n\u001b[1;32m   3072\u001b[0m     \u001b[0mresult_shape\u001b[0m\u001b[0;34m.\u001b[0m\u001b[0minsert\u001b[0m\u001b[0;34m(\u001b[0m\u001b[0mi\u001b[0m\u001b[0;34m,\u001b[0m \u001b[0;36m1\u001b[0m\u001b[0;34m)\u001b[0m\u001b[0;34m\u001b[0m\u001b[0;34m\u001b[0m\u001b[0m\n\u001b[1;32m   3073\u001b[0m   \u001b[0mbroadcast_dims\u001b[0m \u001b[0;34m=\u001b[0m \u001b[0;34m[\u001b[0m\u001b[0mi\u001b[0m \u001b[0;32mfor\u001b[0m \u001b[0mi\u001b[0m \u001b[0;32min\u001b[0m \u001b[0mrange\u001b[0m\u001b[0;34m(\u001b[0m\u001b[0mndim_out\u001b[0m\u001b[0;34m)\u001b[0m \u001b[0;32mif\u001b[0m \u001b[0mi\u001b[0m \u001b[0;32mnot\u001b[0m \u001b[0;32min\u001b[0m \u001b[0mdims_set\u001b[0m\u001b[0;34m]\u001b[0m\u001b[0;34m\u001b[0m\u001b[0;34m\u001b[0m\u001b[0m\n\u001b[0;32m-> 3074\u001b[0;31m   \u001b[0;32mreturn\u001b[0m \u001b[0mbroadcast_in_dim\u001b[0m\u001b[0;34m(\u001b[0m\u001b[0marray\u001b[0m\u001b[0;34m,\u001b[0m \u001b[0mresult_shape\u001b[0m\u001b[0;34m,\u001b[0m \u001b[0mbroadcast_dims\u001b[0m\u001b[0;34m)\u001b[0m\u001b[0;34m\u001b[0m\u001b[0;34m\u001b[0m\u001b[0m\n\u001b[0m\u001b[1;32m   3075\u001b[0m \u001b[0;34m\u001b[0m\u001b[0m\n\u001b[1;32m   3076\u001b[0m \u001b[0;34m\u001b[0m\u001b[0m\n",
            "\u001b[0;32m/usr/local/lib/python3.11/dist-packages/jax/_src/lax/lax.py\u001b[0m in \u001b[0;36mbroadcast_in_dim\u001b[0;34m(operand, shape, broadcast_dimensions, out_sharding)\u001b[0m\n\u001b[1;32m   2280\u001b[0m   \u001b[0;32melse\u001b[0m\u001b[0;34m:\u001b[0m\u001b[0;34m\u001b[0m\u001b[0;34m\u001b[0m\u001b[0m\n\u001b[1;32m   2281\u001b[0m     \u001b[0mdyn_shape\u001b[0m\u001b[0;34m,\u001b[0m \u001b[0mstatic_shape\u001b[0m \u001b[0;34m=\u001b[0m \u001b[0;34m[\u001b[0m\u001b[0;34m]\u001b[0m\u001b[0;34m,\u001b[0m \u001b[0mshape\u001b[0m  \u001b[0;31m# type: ignore\u001b[0m\u001b[0;34m\u001b[0m\u001b[0;34m\u001b[0m\u001b[0m\n\u001b[0;32m-> 2282\u001b[0;31m   return broadcast_in_dim_p.bind(\n\u001b[0m\u001b[1;32m   2283\u001b[0m       \u001b[0moperand\u001b[0m\u001b[0;34m,\u001b[0m \u001b[0;34m*\u001b[0m\u001b[0mdyn_shape\u001b[0m\u001b[0;34m,\u001b[0m \u001b[0mshape\u001b[0m\u001b[0;34m=\u001b[0m\u001b[0mtuple\u001b[0m\u001b[0;34m(\u001b[0m\u001b[0mstatic_shape\u001b[0m\u001b[0;34m)\u001b[0m\u001b[0;34m,\u001b[0m\u001b[0;34m\u001b[0m\u001b[0;34m\u001b[0m\u001b[0m\n\u001b[1;32m   2284\u001b[0m       \u001b[0mbroadcast_dimensions\u001b[0m\u001b[0;34m=\u001b[0m\u001b[0mtuple\u001b[0m\u001b[0;34m(\u001b[0m\u001b[0mbroadcast_dimensions\u001b[0m\u001b[0;34m)\u001b[0m\u001b[0;34m,\u001b[0m\u001b[0;34m\u001b[0m\u001b[0;34m\u001b[0m\u001b[0m\n",
            "\u001b[0;32m/usr/local/lib/python3.11/dist-packages/jax/_src/core.py\u001b[0m in \u001b[0;36mbind\u001b[0;34m(self, *args, **params)\u001b[0m\n\u001b[1;32m    500\u001b[0m   \u001b[0;32mdef\u001b[0m \u001b[0mbind\u001b[0m\u001b[0;34m(\u001b[0m\u001b[0mself\u001b[0m\u001b[0;34m,\u001b[0m \u001b[0;34m*\u001b[0m\u001b[0margs\u001b[0m\u001b[0;34m,\u001b[0m \u001b[0;34m**\u001b[0m\u001b[0mparams\u001b[0m\u001b[0;34m)\u001b[0m\u001b[0;34m:\u001b[0m\u001b[0;34m\u001b[0m\u001b[0;34m\u001b[0m\u001b[0m\n\u001b[1;32m    501\u001b[0m     \u001b[0margs\u001b[0m \u001b[0;34m=\u001b[0m \u001b[0margs\u001b[0m \u001b[0;32mif\u001b[0m \u001b[0mself\u001b[0m\u001b[0;34m.\u001b[0m\u001b[0mskip_canonicalization\u001b[0m \u001b[0;32melse\u001b[0m \u001b[0mmap\u001b[0m\u001b[0;34m(\u001b[0m\u001b[0mcanonicalize_value\u001b[0m\u001b[0;34m,\u001b[0m \u001b[0margs\u001b[0m\u001b[0;34m)\u001b[0m\u001b[0;34m\u001b[0m\u001b[0;34m\u001b[0m\u001b[0m\n\u001b[0;32m--> 502\u001b[0;31m     \u001b[0;32mreturn\u001b[0m \u001b[0mself\u001b[0m\u001b[0;34m.\u001b[0m\u001b[0m_true_bind\u001b[0m\u001b[0;34m(\u001b[0m\u001b[0;34m*\u001b[0m\u001b[0margs\u001b[0m\u001b[0;34m,\u001b[0m \u001b[0;34m**\u001b[0m\u001b[0mparams\u001b[0m\u001b[0;34m)\u001b[0m\u001b[0;34m\u001b[0m\u001b[0;34m\u001b[0m\u001b[0m\n\u001b[0m\u001b[1;32m    503\u001b[0m \u001b[0;34m\u001b[0m\u001b[0m\n\u001b[1;32m    504\u001b[0m   \u001b[0;32mdef\u001b[0m \u001b[0m_true_bind\u001b[0m\u001b[0;34m(\u001b[0m\u001b[0mself\u001b[0m\u001b[0;34m,\u001b[0m \u001b[0;34m*\u001b[0m\u001b[0margs\u001b[0m\u001b[0;34m,\u001b[0m \u001b[0;34m**\u001b[0m\u001b[0mparams\u001b[0m\u001b[0;34m)\u001b[0m\u001b[0;34m:\u001b[0m\u001b[0;34m\u001b[0m\u001b[0;34m\u001b[0m\u001b[0m\n",
            "\u001b[0;32m/usr/local/lib/python3.11/dist-packages/jax/_src/core.py\u001b[0m in \u001b[0;36m_true_bind\u001b[0;34m(self, *args, **params)\u001b[0m\n\u001b[1;32m    507\u001b[0m           \u001b[0;32mand\u001b[0m \u001b[0;32mnot\u001b[0m \u001b[0marg\u001b[0m\u001b[0;34m.\u001b[0m\u001b[0m_trace\u001b[0m\u001b[0;34m.\u001b[0m\u001b[0mis_valid\u001b[0m\u001b[0;34m(\u001b[0m\u001b[0;34m)\u001b[0m\u001b[0;34m\u001b[0m\u001b[0;34m\u001b[0m\u001b[0m\n\u001b[1;32m    508\u001b[0m           and not config.data_dependent_tracing_fallback.value):\n\u001b[0;32m--> 509\u001b[0;31m         \u001b[0;32mraise\u001b[0m \u001b[0mescaped_tracer_error\u001b[0m\u001b[0;34m(\u001b[0m\u001b[0marg\u001b[0m\u001b[0;34m)\u001b[0m\u001b[0;34m\u001b[0m\u001b[0;34m\u001b[0m\u001b[0m\n\u001b[0m\u001b[1;32m    510\u001b[0m     \u001b[0;31m# TODO: figure out how to handle function arguments\u001b[0m\u001b[0;34m\u001b[0m\u001b[0;34m\u001b[0m\u001b[0m\n\u001b[1;32m    511\u001b[0m     \u001b[0;31m# assert (not config.enable_checks.value or\u001b[0m\u001b[0;34m\u001b[0m\u001b[0;34m\u001b[0m\u001b[0m\n",
            "\u001b[0;31mUnexpectedTracerError\u001b[0m: Encountered an unexpected tracer. A function transformed by JAX had a side effect, allowing for a reference to an intermediate value with type float32[261,4] wrapped in a BatchTracer to escape the scope of the transformation.\nJAX transformations require that functions explicitly return their outputs, and disallow saving intermediate values to global state.\nTo catch the leak earlier, try setting the environment variable JAX_CHECK_TRACER_LEAKS or using the `jax.checking_leaks` context manager.\nSee https://jax.readthedocs.io/en/latest/errors.html#jax.errors.UnexpectedTracerError"
          ]
        }
      ]
    }
  ],
  "metadata": {
    "kernelspec": {
      "display_name": "Python 3",
      "name": "python3"
    },
    "language_info": {
      "codemirror_mode": {
        "name": "ipython",
        "version": 2
      },
      "file_extension": ".py",
      "mimetype": "text/x-python",
      "name": "python",
      "nbconvert_exporter": "python",
      "pygments_lexer": "ipython2",
      "version": "2.7.6"
    },
    "colab": {
      "provenance": [],
      "gpuType": "T4"
    },
    "accelerator": "GPU"
  },
  "nbformat": 4,
  "nbformat_minor": 5
}