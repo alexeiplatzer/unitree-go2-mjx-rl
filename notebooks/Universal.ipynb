{
  "cells": [
    {
      "cell_type": "markdown",
      "metadata": {
        "id": "view-in-github",
        "colab_type": "text"
      },
      "source": [
        "<a href=\"https://colab.research.google.com/github/alexeiplatzer/unitree-go2-mjx-rl/blob/main/notebooks/Universal.ipynb\" target=\"_parent\"><img src=\"https://colab.research.google.com/assets/colab-badge.svg\" alt=\"Open In Colab\"/></a>"
      ]
    },
    {
      "metadata": {
        "id": "f4d6a6a44d14ed1b"
      },
      "cell_type": "markdown",
      "source": [
        "# Univeral Notebook for Quadruped RL Training in MJX"
      ],
      "id": "f4d6a6a44d14ed1b"
    },
    {
      "metadata": {
        "id": "e3a9f2f1b31ad2d8"
      },
      "cell_type": "markdown",
      "source": [
        "## Hardware Setup"
      ],
      "id": "e3a9f2f1b31ad2d8"
    },
    {
      "cell_type": "code",
      "source": [
        "# @title Setup configuration\n",
        "\n",
        "# @markdown Choose your hardware option:\n",
        "hardware = \"Colab\" # @param [\"local\",\"Colab\",\"Kaggle\"]\n",
        "\n",
        "# @markdown Choose whether you want to build the rendering setup for training\n",
        "# @markdown with vision, and with what backend:\n",
        "vision_backend = \"None\" # @param [\"None\",\"MJX\",\"Madrona\"]"
      ],
      "metadata": {
        "id": "Kg6Ab0jgovuC"
      },
      "id": "Kg6Ab0jgovuC",
      "execution_count": 1,
      "outputs": []
    },
    {
      "cell_type": "code",
      "source": [
        "# @title run this cell once each time on a new machine\n",
        "\n",
        "import time\n",
        "\n",
        "if vision_backend == \"Madrona\":\n",
        "    # Install madrona MJX\n",
        "    print(\"Intalling Madrona MJX...\")\n",
        "    start_time = time.perf_counter()\n",
        "    print(\"Setting up environment... (Step 1/3)\")\n",
        "    !pip uninstall -y jax\n",
        "    !pip install jax[\"cuda12_local\"]==0.4.35\n",
        "\n",
        "    !sudo apt install libx11-dev libxrandr-dev libxinerama-dev libxcursor-dev libxi-dev mesa-common-dev\n",
        "\n",
        "    !mkdir modules\n",
        "    !git clone https://github.com/shacklettbp/madrona_mjx.git modules/madrona_mjx\n",
        "\n",
        "    !git -C modules/madrona_mjx submodule update --init --recursive\n",
        "\n",
        "    !mkdir modules/madrona_mjx/build\n",
        "\n",
        "    if hardware == \"Kaggle\":\n",
        "        !sudo apt-get install -y nvidia-cuda-toolkit\n",
        "\n",
        "    print(\"Building the Madrona backend ... (Step 2/3)\")\n",
        "    !cd modules/madrona_mjx/build && cmake -DLOAD_VULKAN=OFF .. && make -j 8\n",
        "\n",
        "    print (\"Installing Madrona MJX ... (Step 3/3)\")\n",
        "    !pip install -e modules/madrona_mjx\n",
        "\n",
        "    minutes, seconds = divmod((time.perf_counter() - start_time), 60)\n",
        "    print(f\"Finished installing Madrona MJX in {minutes} m {seconds:.2f} s\")\n",
        "\n",
        "# Clones and installs our Quadruped RL package\n",
        "!git clone https://github.com/alexeiplatzer/unitree-go2-mjx-rl.git\n",
        "!pip install -e unitree-go2-mjx-rl/"
      ],
      "metadata": {
        "collapsed": true,
        "colab": {
          "base_uri": "https://localhost:8080/"
        },
        "id": "Wv3uImDzrY6N",
        "outputId": "d0b79c14-9066-45b9-dcf8-e026ec2596b4"
      },
      "id": "Wv3uImDzrY6N",
      "execution_count": 2,
      "outputs": [
        {
          "output_type": "stream",
          "name": "stdout",
          "text": [
            "Cloning into 'unitree-go2-mjx-rl'...\n",
            "remote: Enumerating objects: 856, done.\u001b[K\n",
            "remote: Counting objects: 100% (145/145), done.\u001b[K\n",
            "remote: Compressing objects: 100% (91/91), done.\u001b[K\n",
            "remote: Total 856 (delta 70), reused 105 (delta 41), pack-reused 711 (from 1)\u001b[K\n",
            "Receiving objects: 100% (856/856), 22.29 MiB | 30.03 MiB/s, done.\n",
            "Resolving deltas: 100% (434/434), done.\n",
            "Obtaining file:///content/unitree-go2-mjx-rl\n",
            "  Installing build dependencies ... \u001b[?25l\u001b[?25hdone\n",
            "  Checking if build backend supports build_editable ... \u001b[?25l\u001b[?25hdone\n",
            "  Getting requirements to build editable ... \u001b[?25l\u001b[?25hdone\n",
            "  Preparing editable metadata (pyproject.toml) ... \u001b[?25l\u001b[?25hdone\n",
            "Collecting mujoco (from quadruped_mjx_rl==0.0.1)\n",
            "  Downloading mujoco-3.3.1-cp311-cp311-manylinux_2_17_x86_64.manylinux2014_x86_64.whl.metadata (44 kB)\n",
            "\u001b[2K     \u001b[90m━━━━━━━━━━━━━━━━━━━━━━━━━━━━━━━━━━━━━━━━\u001b[0m \u001b[32m44.4/44.4 kB\u001b[0m \u001b[31m3.6 MB/s\u001b[0m eta \u001b[36m0:00:00\u001b[0m\n",
            "\u001b[?25hCollecting mujoco_mjx (from quadruped_mjx_rl==0.0.1)\n",
            "  Downloading mujoco_mjx-3.3.1-py3-none-any.whl.metadata (3.4 kB)\n",
            "Collecting brax (from quadruped_mjx_rl==0.0.1)\n",
            "  Downloading brax-0.12.3-py3-none-any.whl.metadata (20 kB)\n",
            "Collecting mediapy (from quadruped_mjx_rl==0.0.1)\n",
            "  Downloading mediapy-1.2.3-py3-none-any.whl.metadata (4.8 kB)\n",
            "Collecting ml_collections (from quadruped_mjx_rl==0.0.1)\n",
            "  Downloading ml_collections-1.1.0-py3-none-any.whl.metadata (22 kB)\n",
            "Requirement already satisfied: pyyaml in /usr/local/lib/python3.11/dist-packages (from quadruped_mjx_rl==0.0.1) (6.0.2)\n",
            "Collecting dacite (from quadruped_mjx_rl==0.0.1)\n",
            "  Downloading dacite-1.9.2-py3-none-any.whl.metadata (17 kB)\n",
            "Requirement already satisfied: absl-py in /usr/local/lib/python3.11/dist-packages (from brax->quadruped_mjx_rl==0.0.1) (1.4.0)\n",
            "Collecting dm-env (from brax->quadruped_mjx_rl==0.0.1)\n",
            "  Downloading dm_env-1.6-py3-none-any.whl.metadata (966 bytes)\n",
            "Requirement already satisfied: etils in /usr/local/lib/python3.11/dist-packages (from brax->quadruped_mjx_rl==0.0.1) (1.12.2)\n",
            "Requirement already satisfied: flask in /usr/local/lib/python3.11/dist-packages (from brax->quadruped_mjx_rl==0.0.1) (3.1.0)\n",
            "Collecting flask-cors (from brax->quadruped_mjx_rl==0.0.1)\n",
            "  Downloading flask_cors-5.0.1-py3-none-any.whl.metadata (961 bytes)\n",
            "Requirement already satisfied: flax in /usr/local/lib/python3.11/dist-packages (from brax->quadruped_mjx_rl==0.0.1) (0.10.5)\n",
            "Requirement already satisfied: grpcio in /usr/local/lib/python3.11/dist-packages (from brax->quadruped_mjx_rl==0.0.1) (1.71.0)\n",
            "Requirement already satisfied: gym in /usr/local/lib/python3.11/dist-packages (from brax->quadruped_mjx_rl==0.0.1) (0.25.2)\n",
            "Requirement already satisfied: jax>=0.4.6 in /usr/local/lib/python3.11/dist-packages (from brax->quadruped_mjx_rl==0.0.1) (0.5.2)\n",
            "Requirement already satisfied: jaxlib>=0.4.6 in /usr/local/lib/python3.11/dist-packages (from brax->quadruped_mjx_rl==0.0.1) (0.5.1)\n",
            "Collecting jaxopt (from brax->quadruped_mjx_rl==0.0.1)\n",
            "  Downloading jaxopt-0.8.5-py3-none-any.whl.metadata (3.3 kB)\n",
            "Requirement already satisfied: jinja2 in /usr/local/lib/python3.11/dist-packages (from brax->quadruped_mjx_rl==0.0.1) (3.1.6)\n",
            "Requirement already satisfied: numpy in /usr/local/lib/python3.11/dist-packages (from brax->quadruped_mjx_rl==0.0.1) (2.0.2)\n",
            "Requirement already satisfied: optax in /usr/local/lib/python3.11/dist-packages (from brax->quadruped_mjx_rl==0.0.1) (0.2.4)\n",
            "Requirement already satisfied: orbax-checkpoint in /usr/local/lib/python3.11/dist-packages (from brax->quadruped_mjx_rl==0.0.1) (0.11.12)\n",
            "Requirement already satisfied: pillow in /usr/local/lib/python3.11/dist-packages (from brax->quadruped_mjx_rl==0.0.1) (11.1.0)\n",
            "Collecting pytinyrenderer (from brax->quadruped_mjx_rl==0.0.1)\n",
            "  Downloading pytinyrenderer-0.0.14-cp311-cp311-manylinux_2_17_x86_64.manylinux2014_x86_64.whl.metadata (1.2 kB)\n",
            "Requirement already satisfied: scipy in /usr/local/lib/python3.11/dist-packages (from brax->quadruped_mjx_rl==0.0.1) (1.14.1)\n",
            "Collecting tensorboardx (from brax->quadruped_mjx_rl==0.0.1)\n",
            "  Downloading tensorboardX-2.6.2.2-py2.py3-none-any.whl.metadata (5.8 kB)\n",
            "Collecting trimesh (from brax->quadruped_mjx_rl==0.0.1)\n",
            "  Downloading trimesh-4.6.8-py3-none-any.whl.metadata (18 kB)\n",
            "Requirement already satisfied: typing-extensions in /usr/local/lib/python3.11/dist-packages (from brax->quadruped_mjx_rl==0.0.1) (4.13.2)\n",
            "Requirement already satisfied: ipython in /usr/local/lib/python3.11/dist-packages (from mediapy->quadruped_mjx_rl==0.0.1) (7.34.0)\n",
            "Requirement already satisfied: matplotlib in /usr/local/lib/python3.11/dist-packages (from mediapy->quadruped_mjx_rl==0.0.1) (3.10.0)\n",
            "Collecting glfw (from mujoco->quadruped_mjx_rl==0.0.1)\n",
            "  Downloading glfw-2.9.0-py2.py27.py3.py30.py31.py32.py33.py34.py35.py36.py37.py38.p39.p310.p311.p312.p313-none-manylinux_2_28_x86_64.whl.metadata (5.4 kB)\n",
            "Requirement already satisfied: pyopengl in /usr/local/lib/python3.11/dist-packages (from mujoco->quadruped_mjx_rl==0.0.1) (3.1.9)\n",
            "Requirement already satisfied: ml_dtypes>=0.4.0 in /usr/local/lib/python3.11/dist-packages (from jax>=0.4.6->brax->quadruped_mjx_rl==0.0.1) (0.4.1)\n",
            "Requirement already satisfied: opt_einsum in /usr/local/lib/python3.11/dist-packages (from jax>=0.4.6->brax->quadruped_mjx_rl==0.0.1) (3.4.0)\n",
            "Requirement already satisfied: dm-tree in /usr/local/lib/python3.11/dist-packages (from dm-env->brax->quadruped_mjx_rl==0.0.1) (0.1.9)\n",
            "Requirement already satisfied: fsspec in /usr/local/lib/python3.11/dist-packages (from etils[epath]->mujoco->quadruped_mjx_rl==0.0.1) (2025.3.2)\n",
            "Requirement already satisfied: importlib_resources in /usr/local/lib/python3.11/dist-packages (from etils[epath]->mujoco->quadruped_mjx_rl==0.0.1) (6.5.2)\n",
            "Requirement already satisfied: zipp in /usr/local/lib/python3.11/dist-packages (from etils[epath]->mujoco->quadruped_mjx_rl==0.0.1) (3.21.0)\n",
            "Requirement already satisfied: Werkzeug>=3.1 in /usr/local/lib/python3.11/dist-packages (from flask->brax->quadruped_mjx_rl==0.0.1) (3.1.3)\n",
            "Requirement already satisfied: itsdangerous>=2.2 in /usr/local/lib/python3.11/dist-packages (from flask->brax->quadruped_mjx_rl==0.0.1) (2.2.0)\n",
            "Requirement already satisfied: click>=8.1.3 in /usr/local/lib/python3.11/dist-packages (from flask->brax->quadruped_mjx_rl==0.0.1) (8.1.8)\n",
            "Requirement already satisfied: blinker>=1.9 in /usr/local/lib/python3.11/dist-packages (from flask->brax->quadruped_mjx_rl==0.0.1) (1.9.0)\n",
            "Requirement already satisfied: MarkupSafe>=2.0 in /usr/local/lib/python3.11/dist-packages (from jinja2->brax->quadruped_mjx_rl==0.0.1) (3.0.2)\n",
            "Requirement already satisfied: msgpack in /usr/local/lib/python3.11/dist-packages (from flax->brax->quadruped_mjx_rl==0.0.1) (1.1.0)\n",
            "Requirement already satisfied: tensorstore in /usr/local/lib/python3.11/dist-packages (from flax->brax->quadruped_mjx_rl==0.0.1) (0.1.73)\n",
            "Requirement already satisfied: rich>=11.1 in /usr/local/lib/python3.11/dist-packages (from flax->brax->quadruped_mjx_rl==0.0.1) (13.9.4)\n",
            "Requirement already satisfied: treescope>=0.1.7 in /usr/local/lib/python3.11/dist-packages (from flax->brax->quadruped_mjx_rl==0.0.1) (0.1.9)\n",
            "Requirement already satisfied: cloudpickle>=1.2.0 in /usr/local/lib/python3.11/dist-packages (from gym->brax->quadruped_mjx_rl==0.0.1) (3.1.1)\n",
            "Requirement already satisfied: gym-notices>=0.0.4 in /usr/local/lib/python3.11/dist-packages (from gym->brax->quadruped_mjx_rl==0.0.1) (0.0.8)\n",
            "Requirement already satisfied: setuptools>=18.5 in /usr/local/lib/python3.11/dist-packages (from ipython->mediapy->quadruped_mjx_rl==0.0.1) (75.2.0)\n",
            "Collecting jedi>=0.16 (from ipython->mediapy->quadruped_mjx_rl==0.0.1)\n",
            "  Downloading jedi-0.19.2-py2.py3-none-any.whl.metadata (22 kB)\n",
            "Requirement already satisfied: decorator in /usr/local/lib/python3.11/dist-packages (from ipython->mediapy->quadruped_mjx_rl==0.0.1) (4.4.2)\n",
            "Requirement already satisfied: pickleshare in /usr/local/lib/python3.11/dist-packages (from ipython->mediapy->quadruped_mjx_rl==0.0.1) (0.7.5)\n",
            "Requirement already satisfied: traitlets>=4.2 in /usr/local/lib/python3.11/dist-packages (from ipython->mediapy->quadruped_mjx_rl==0.0.1) (5.7.1)\n",
            "Requirement already satisfied: prompt-toolkit!=3.0.0,!=3.0.1,<3.1.0,>=2.0.0 in /usr/local/lib/python3.11/dist-packages (from ipython->mediapy->quadruped_mjx_rl==0.0.1) (3.0.51)\n",
            "Requirement already satisfied: pygments in /usr/local/lib/python3.11/dist-packages (from ipython->mediapy->quadruped_mjx_rl==0.0.1) (2.18.0)\n",
            "Requirement already satisfied: backcall in /usr/local/lib/python3.11/dist-packages (from ipython->mediapy->quadruped_mjx_rl==0.0.1) (0.2.0)\n",
            "Requirement already satisfied: matplotlib-inline in /usr/local/lib/python3.11/dist-packages (from ipython->mediapy->quadruped_mjx_rl==0.0.1) (0.1.7)\n",
            "Requirement already satisfied: pexpect>4.3 in /usr/local/lib/python3.11/dist-packages (from ipython->mediapy->quadruped_mjx_rl==0.0.1) (4.9.0)\n",
            "Requirement already satisfied: contourpy>=1.0.1 in /usr/local/lib/python3.11/dist-packages (from matplotlib->mediapy->quadruped_mjx_rl==0.0.1) (1.3.2)\n",
            "Requirement already satisfied: cycler>=0.10 in /usr/local/lib/python3.11/dist-packages (from matplotlib->mediapy->quadruped_mjx_rl==0.0.1) (0.12.1)\n",
            "Requirement already satisfied: fonttools>=4.22.0 in /usr/local/lib/python3.11/dist-packages (from matplotlib->mediapy->quadruped_mjx_rl==0.0.1) (4.57.0)\n",
            "Requirement already satisfied: kiwisolver>=1.3.1 in /usr/local/lib/python3.11/dist-packages (from matplotlib->mediapy->quadruped_mjx_rl==0.0.1) (1.4.8)\n",
            "Requirement already satisfied: packaging>=20.0 in /usr/local/lib/python3.11/dist-packages (from matplotlib->mediapy->quadruped_mjx_rl==0.0.1) (24.2)\n",
            "Requirement already satisfied: pyparsing>=2.3.1 in /usr/local/lib/python3.11/dist-packages (from matplotlib->mediapy->quadruped_mjx_rl==0.0.1) (3.2.3)\n",
            "Requirement already satisfied: python-dateutil>=2.7 in /usr/local/lib/python3.11/dist-packages (from matplotlib->mediapy->quadruped_mjx_rl==0.0.1) (2.8.2)\n",
            "Requirement already satisfied: chex>=0.1.87 in /usr/local/lib/python3.11/dist-packages (from optax->brax->quadruped_mjx_rl==0.0.1) (0.1.89)\n",
            "Requirement already satisfied: nest_asyncio in /usr/local/lib/python3.11/dist-packages (from orbax-checkpoint->brax->quadruped_mjx_rl==0.0.1) (1.6.0)\n",
            "Requirement already satisfied: protobuf in /usr/local/lib/python3.11/dist-packages (from orbax-checkpoint->brax->quadruped_mjx_rl==0.0.1) (5.29.4)\n",
            "Requirement already satisfied: humanize in /usr/local/lib/python3.11/dist-packages (from orbax-checkpoint->brax->quadruped_mjx_rl==0.0.1) (4.12.2)\n",
            "Requirement already satisfied: simplejson>=3.16.0 in /usr/local/lib/python3.11/dist-packages (from orbax-checkpoint->brax->quadruped_mjx_rl==0.0.1) (3.20.1)\n",
            "Requirement already satisfied: toolz>=0.9.0 in /usr/local/lib/python3.11/dist-packages (from chex>=0.1.87->optax->brax->quadruped_mjx_rl==0.0.1) (0.12.1)\n",
            "Requirement already satisfied: parso<0.9.0,>=0.8.4 in /usr/local/lib/python3.11/dist-packages (from jedi>=0.16->ipython->mediapy->quadruped_mjx_rl==0.0.1) (0.8.4)\n",
            "Requirement already satisfied: ptyprocess>=0.5 in /usr/local/lib/python3.11/dist-packages (from pexpect>4.3->ipython->mediapy->quadruped_mjx_rl==0.0.1) (0.7.0)\n",
            "Requirement already satisfied: wcwidth in /usr/local/lib/python3.11/dist-packages (from prompt-toolkit!=3.0.0,!=3.0.1,<3.1.0,>=2.0.0->ipython->mediapy->quadruped_mjx_rl==0.0.1) (0.2.13)\n",
            "Requirement already satisfied: six>=1.5 in /usr/local/lib/python3.11/dist-packages (from python-dateutil>=2.7->matplotlib->mediapy->quadruped_mjx_rl==0.0.1) (1.17.0)\n",
            "Requirement already satisfied: markdown-it-py>=2.2.0 in /usr/local/lib/python3.11/dist-packages (from rich>=11.1->flax->brax->quadruped_mjx_rl==0.0.1) (3.0.0)\n",
            "Requirement already satisfied: attrs>=18.2.0 in /usr/local/lib/python3.11/dist-packages (from dm-tree->dm-env->brax->quadruped_mjx_rl==0.0.1) (25.3.0)\n",
            "Requirement already satisfied: wrapt>=1.11.2 in /usr/local/lib/python3.11/dist-packages (from dm-tree->dm-env->brax->quadruped_mjx_rl==0.0.1) (1.17.2)\n",
            "Requirement already satisfied: mdurl~=0.1 in /usr/local/lib/python3.11/dist-packages (from markdown-it-py>=2.2.0->rich>=11.1->flax->brax->quadruped_mjx_rl==0.0.1) (0.1.2)\n",
            "Downloading brax-0.12.3-py3-none-any.whl (14.2 MB)\n",
            "\u001b[2K   \u001b[90m━━━━━━━━━━━━━━━━━━━━━━━━━━━━━━━━━━━━━━━━\u001b[0m \u001b[32m14.2/14.2 MB\u001b[0m \u001b[31m110.0 MB/s\u001b[0m eta \u001b[36m0:00:00\u001b[0m\n",
            "\u001b[?25hDownloading dacite-1.9.2-py3-none-any.whl (16 kB)\n",
            "Downloading mediapy-1.2.3-py3-none-any.whl (26 kB)\n",
            "Downloading ml_collections-1.1.0-py3-none-any.whl (76 kB)\n",
            "\u001b[2K   \u001b[90m━━━━━━━━━━━━━━━━━━━━━━━━━━━━━━━━━━━━━━━━\u001b[0m \u001b[32m76.7/76.7 kB\u001b[0m \u001b[31m7.7 MB/s\u001b[0m eta \u001b[36m0:00:00\u001b[0m\n",
            "\u001b[?25hDownloading mujoco-3.3.1-cp311-cp311-manylinux_2_17_x86_64.manylinux2014_x86_64.whl (6.6 MB)\n",
            "\u001b[2K   \u001b[90m━━━━━━━━━━━━━━━━━━━━━━━━━━━━━━━━━━━━━━━━\u001b[0m \u001b[32m6.6/6.6 MB\u001b[0m \u001b[31m42.9 MB/s\u001b[0m eta \u001b[36m0:00:00\u001b[0m\n",
            "\u001b[?25hDownloading mujoco_mjx-3.3.1-py3-none-any.whl (6.7 MB)\n",
            "\u001b[2K   \u001b[90m━━━━━━━━━━━━━━━━━━━━━━━━━━━━━━━━━━━━━━━━\u001b[0m \u001b[32m6.7/6.7 MB\u001b[0m \u001b[31m52.9 MB/s\u001b[0m eta \u001b[36m0:00:00\u001b[0m\n",
            "\u001b[?25hDownloading dm_env-1.6-py3-none-any.whl (26 kB)\n",
            "Downloading flask_cors-5.0.1-py3-none-any.whl (11 kB)\n",
            "Downloading glfw-2.9.0-py2.py27.py3.py30.py31.py32.py33.py34.py35.py36.py37.py38.p39.p310.p311.p312.p313-none-manylinux_2_28_x86_64.whl (243 kB)\n",
            "\u001b[2K   \u001b[90m━━━━━━━━━━━━━━━━━━━━━━━━━━━━━━━━━━━━━━━━\u001b[0m \u001b[32m243.5/243.5 kB\u001b[0m \u001b[31m24.5 MB/s\u001b[0m eta \u001b[36m0:00:00\u001b[0m\n",
            "\u001b[?25hDownloading jaxopt-0.8.5-py3-none-any.whl (172 kB)\n",
            "\u001b[2K   \u001b[90m━━━━━━━━━━━━━━━━━━━━━━━━━━━━━━━━━━━━━━━━\u001b[0m \u001b[32m172.4/172.4 kB\u001b[0m \u001b[31m18.6 MB/s\u001b[0m eta \u001b[36m0:00:00\u001b[0m\n",
            "\u001b[?25hDownloading pytinyrenderer-0.0.14-cp311-cp311-manylinux_2_17_x86_64.manylinux2014_x86_64.whl (1.9 MB)\n",
            "\u001b[2K   \u001b[90m━━━━━━━━━━━━━━━━━━━━━━━━━━━━━━━━━━━━━━━━\u001b[0m \u001b[32m1.9/1.9 MB\u001b[0m \u001b[31m72.9 MB/s\u001b[0m eta \u001b[36m0:00:00\u001b[0m\n",
            "\u001b[?25hDownloading tensorboardX-2.6.2.2-py2.py3-none-any.whl (101 kB)\n",
            "\u001b[2K   \u001b[90m━━━━━━━━━━━━━━━━━━━━━━━━━━━━━━━━━━━━━━━━\u001b[0m \u001b[32m101.7/101.7 kB\u001b[0m \u001b[31m10.2 MB/s\u001b[0m eta \u001b[36m0:00:00\u001b[0m\n",
            "\u001b[?25hDownloading trimesh-4.6.8-py3-none-any.whl (709 kB)\n",
            "\u001b[2K   \u001b[90m━━━━━━━━━━━━━━━━━━━━━━━━━━━━━━━━━━━━━━━━\u001b[0m \u001b[32m709.3/709.3 kB\u001b[0m \u001b[31m55.7 MB/s\u001b[0m eta \u001b[36m0:00:00\u001b[0m\n",
            "\u001b[?25hDownloading jedi-0.19.2-py2.py3-none-any.whl (1.6 MB)\n",
            "\u001b[2K   \u001b[90m━━━━━━━━━━━━━━━━━━━━━━━━━━━━━━━━━━━━━━━━\u001b[0m \u001b[32m1.6/1.6 MB\u001b[0m \u001b[31m77.5 MB/s\u001b[0m eta \u001b[36m0:00:00\u001b[0m\n",
            "\u001b[?25hBuilding wheels for collected packages: quadruped_mjx_rl\n",
            "  Building editable for quadruped_mjx_rl (pyproject.toml) ... \u001b[?25l\u001b[?25hdone\n",
            "  Created wheel for quadruped_mjx_rl: filename=quadruped_mjx_rl-0.0.1-0.editable-py3-none-any.whl size=1875 sha256=b76be20b45445cb06cb5f8ae6d7d7329167c83f1c629d0669966e352a5d4565a\n",
            "  Stored in directory: /tmp/pip-ephem-wheel-cache-vl83req_/wheels/f5/17/dc/1310c3fc1ac418e3ffd03caf359f7d6df62e5e764b13e82f9a\n",
            "Successfully built quadruped_mjx_rl\n",
            "Installing collected packages: pytinyrenderer, glfw, trimesh, tensorboardx, ml_collections, jedi, dacite, dm-env, mujoco, mediapy, flask-cors, mujoco_mjx, jaxopt, brax, quadruped_mjx_rl\n",
            "Successfully installed brax-0.12.3 dacite-1.9.2 dm-env-1.6 flask-cors-5.0.1 glfw-2.9.0 jaxopt-0.8.5 jedi-0.19.2 mediapy-1.2.3 ml_collections-1.1.0 mujoco-3.3.1 mujoco_mjx-3.3.1 pytinyrenderer-0.0.14 quadruped_mjx_rl-0.0.1 tensorboardx-2.6.2.2 trimesh-4.6.8\n"
          ]
        }
      ]
    },
    {
      "cell_type": "markdown",
      "source": [
        "### Now restart the session and continue.\n",
        "### You can skip setup next time while you are on the same machine."
      ],
      "metadata": {
        "id": "W-4afCIErqZU"
      },
      "id": "W-4afCIErqZU"
    },
    {
      "metadata": {
        "id": "e01c74e8011bcec3"
      },
      "cell_type": "markdown",
      "source": [
        "## Training"
      ],
      "id": "e01c74e8011bcec3"
    },
    {
      "cell_type": "code",
      "source": [
        "# @title Configuration for both local and for Colab instances.\n",
        "\n",
        "repo_path = \"./unitree-go2-mjx-rl\"\n",
        "\n",
        "# Refresh the repo for recent changes\n",
        "# Important in development\n",
        "!git -C {repo_path} pull\n",
        "\n",
        "# On your second reading, load the compiled rendering backend to save time!\n",
        "import os\n",
        "os.environ[\"XLA_PYTHON_CLIENT_PREALLOCATE\"] = \"false\"\n",
        "\n",
        "# Check if MuJoCo installation was successful\n",
        "import distutils.util\n",
        "import os\n",
        "import subprocess\n",
        "if subprocess.run('nvidia-smi').returncode:\n",
        "    raise RuntimeError(\n",
        "        'Cannot communicate with GPU. '\n",
        "        'Make sure you are using a GPU Colab runtime. '\n",
        "        'Go to the Runtime menu and select Choose runtime type.'\n",
        "    )\n",
        "\n",
        "# Add an ICD config so that glvnd can pick up the Nvidia EGL driver.\n",
        "# This is usually installed as part of an Nvidia driver package, but the Colab\n",
        "# kernel doesn't install its driver via APT, and as a result the ICD is missing.\n",
        "# (https://github.com/NVIDIA/libglvnd/blob/master/src/EGL/icd_enumeration.md)\n",
        "NVIDIA_ICD_CONFIG_PATH = '/usr/share/glvnd/egl_vendor.d/10_nvidia.json'\n",
        "if not os.path.exists(NVIDIA_ICD_CONFIG_PATH):\n",
        "    with open(NVIDIA_ICD_CONFIG_PATH, 'w') as f:\n",
        "        f.write(\"\"\"{\n",
        "        \"file_format_version\" : \"1.0.0\",\n",
        "        \"ICD\" : {\n",
        "            \"library_path\" : \"libEGL_nvidia.so.0\"\n",
        "        }\n",
        "    }\n",
        "    \"\"\")\n",
        "\n",
        "# Configure MuJoCo to use the EGL rendering backend (requires GPU)\n",
        "print('Setting environment variable to use GPU rendering:')\n",
        "%env MUJOCO_GL=egl\n",
        "\n",
        "try:\n",
        "    print('Checking that the installation succeeded:')\n",
        "    import mujoco\n",
        "\n",
        "    mujoco.MjModel.from_xml_string('<mujoco/>')\n",
        "except Exception as e:\n",
        "    raise e from RuntimeError(\n",
        "        'Something went wrong during installation. Check the shell output above '\n",
        "        'for more information.\\n'\n",
        "        'If using a hosted Colab runtime, make sure you enable GPU acceleration '\n",
        "        'by going to the Runtime menu and selecting \"Choose runtime type\".'\n",
        "    )\n",
        "\n",
        "print('Installation successful.')\n",
        "\n",
        "# Tell XLA to use Triton GEMM, this improves steps/sec by ~30% on some GPUs\n",
        "xla_flags = os.environ.get('XLA_FLAGS', '')\n",
        "xla_flags += ' --xla_gpu_triton_gemm_any=True'\n",
        "os.environ['XLA_FLAGS'] = xla_flags"
      ],
      "metadata": {
        "colab": {
          "base_uri": "https://localhost:8080/"
        },
        "id": "bukHmqYa1kbU",
        "outputId": "1892ca5f-44f6-48f7-b153-48eedfbc079f"
      },
      "id": "bukHmqYa1kbU",
      "execution_count": 1,
      "outputs": [
        {
          "output_type": "stream",
          "name": "stdout",
          "text": [
            "Already up to date.\n",
            "Setting environment variable to use GPU rendering:\n",
            "env: MUJOCO_GL=egl\n",
            "Checking that the installation succeeded:\n",
            "Installation successful.\n"
          ]
        }
      ]
    },
    {
      "cell_type": "code",
      "source": [
        "#@title Choose the policy approximation method\n",
        "model_architecture = \"Actor-Critic\" #@param [\"Actor-Critic\", \"Teacher-Student\"]\n",
        "training_algorithm = \"ppo\" #@param [\"ppo\"]\n",
        "vision_backend = \"None\" #@param [\"None\",\"MJX\",\"Madrona\"]"
      ],
      "metadata": {
        "id": "Owbru8PWGaz5"
      },
      "id": "Owbru8PWGaz5",
      "execution_count": 11,
      "outputs": []
    },
    {
      "cell_type": "code",
      "source": [
        "#@title Choose the Robot\n",
        "from quadruped_mjx_rl.configs import predefined_robot_configs\n",
        "\n",
        "robot = \"unitree_go2\" #@param [\"unitree_go2\", \"google_barkour_vb\"]\n",
        "robot_config = predefined_robot_configs[robot]()\n",
        "init_scene_path = f\"{repo_path}/resources/{robot}/scene_mjx.xml\"\n",
        "# TODO: add scenes for vision"
      ],
      "metadata": {
        "id": "u3tLIqgwHKSW"
      },
      "id": "u3tLIqgwHKSW",
      "execution_count": 5,
      "outputs": []
    },
    {
      "cell_type": "code",
      "source": [
        "# @title Configure Environment\n",
        "from quadruped_mjx_rl import environments\n",
        "\n",
        "if model_architecture == \"Actor-Critic\" and training_algorithm == \"ppo\":\n",
        "    env_class = environments.QuadrupedJoystickEnhancedEnv\n",
        "    env_config_class = environments.EnhancedEnvironmentConfig\n",
        "else:\n",
        "    raise NotImplementedError\n",
        "\n",
        "simulation_timestep = 0.002 #@param {type:\"number\"}\n",
        "control_timestep = 0.002 #@param {type:\"number\"}\n",
        "\n",
        "env_config = env_config_class(\n",
        "    sim=env_config_class.SimConfig(\n",
        "        sim_dt=simulation_timestep,\n",
        "        ctrl_dt=control_timestep,\n",
        "    ),\n",
        ")\n",
        "\n",
        "env = env_class(\n",
        "    environment_config=env_config,\n",
        "    robot_config=robot_config,\n",
        "    init_scene_path=init_scene_path,\n",
        ")\n"
      ],
      "metadata": {
        "id": "a-3B-5r82Ny3"
      },
      "id": "a-3B-5r82Ny3",
      "execution_count": 6,
      "outputs": []
    },
    {
      "cell_type": "code",
      "source": [
        "#@title Configure Model\n",
        "from quadruped_mjx_rl.configs.config_classes import models\n",
        "\n",
        "if model_architecture == \"Actor-Critic\":\n",
        "    #@markdown ---\n",
        "    #@markdown Model hyperparameters for the \"Actor-Critic\" architecture:\n",
        "    policy_layers = [256, 256] #@param\n",
        "    value_layers = [256, 256] #@param\n",
        "\n",
        "    model_config_class = models.ActorCriticConfig\n",
        "    model_config = model_config_class(\n",
        "        modules=model_config_class.ActorCriticModulesConfig(\n",
        "            policy=policy_layers,\n",
        "            value=value_layers,\n",
        "        ),\n",
        "    )\n",
        "elif model_architecture == \"Teacher-Student\":\n",
        "    #@markdown ---\n",
        "    #@markdown Model hyperparameters for the \"Teacher-Student\" architecture:\n",
        "    policy_layers = [256, 256] #@param\n",
        "    value_layers = [256, 256] #@param\n",
        "    teacher_encoder_layers = [256, 256] #@param\n",
        "    student_encoder_layers = [256, 256] #@param\n",
        "    latent_representation_size = 16 # @param {\"type\":\"integer\"}\n",
        "\n",
        "    model_config_class = models.TeacherStudentConfig\n",
        "    model_config = model_config_class(\n",
        "        modules=model_config_class.TeacherStudentModulesConfig(\n",
        "            policy=policy_layers,\n",
        "            value=value_layers,\n",
        "            encoder=teacher_encoder_layers,\n",
        "            adapter=student_encoder_layers,\n",
        "        ),\n",
        "        latent_size=latent_representation_size,\n",
        "    )\n"
      ],
      "metadata": {
        "id": "kD70gssAGIv8"
      },
      "id": "kD70gssAGIv8",
      "execution_count": 8,
      "outputs": []
    },
    {
      "cell_type": "code",
      "source": [
        "#@title Configure training procedure\n",
        "from quadruped_mjx_rl.configs import TrainingConfig\n",
        "\n",
        "\n",
        "if vision_backend == \"None\":\n",
        "    #@markdown ---\n",
        "    #@markdown #### Training without vision:\n",
        "    training_config = TrainingConfig(\n",
        "        num_timesteps=1_000_000 #@param {\"type\":\"integer\"}\n",
        "        ,num_evals=5 #@param {\"type\":\"integer\"}\n",
        "        ,reward_scaling=1 #@param {\"type\":\"integer\"}\n",
        "        ,episode_length=1000 #@param {\"type\":\"integer\"}\n",
        "        ,normalize_observations=True #@param {\"type\":\"boolean\"}\n",
        "        ,action_repeat=1 #@param {\"type\":\"integer\"}\n",
        "        ,unroll_length=10 #@param {\"type\":\"integer\"}\n",
        "        ,num_minibatches=8 #@param {\"type\":\"integer\"}\n",
        "        ,num_updates_per_batch=8 #@param {\"type\":\"integer\"}\n",
        "        ,discounting=0.97 #@param {\"type\":\"number\"}\n",
        "        ,learning_rate=0.0005  #@param {\"type\":\"number\"}\n",
        "        ,entropy_cost=0.005  #@param {\"type\":\"number\"}\n",
        "        ,num_envs=512 #@param {\"type\":\"integer\"}\n",
        "        ,batch_size=256 #@param {\"type\":\"integer\"}\n",
        "    )\n",
        "elif vision_backend == \"Madrona\":\n",
        "    training_config_class = TrainingWithVisionConfig\n",
        "else:\n",
        "    raise NotImplementedError"
      ],
      "metadata": {
        "id": "vZWBhiQB4Vzm"
      },
      "id": "vZWBhiQB4Vzm",
      "execution_count": 12,
      "outputs": []
    },
    {
      "cell_type": "code",
      "source": [
        "#@title #### Training with vision\n",
        "from quadruped_mjx_rl.config_classes import TrainingWithVisionConfig\n",
        "\n",
        "training_config = TrainingWithVisionConfig(\n",
        "    num_timesteps=1_000_000 # @param {\"type\":\"integer\",\"placeholder\":\"1_000_000\"}\n",
        "    num_evals=5 #@param {\"type\":\"integer\",\"default\":\"1\"}\n",
        "    reward_scaling=1 #@param {\"type\":\"integer\"}\n",
        "    episode_length=1000 #@param {\"type\":\"integer\"}\n",
        "    normalize_observations=True #@param {\"type\":\"boolean\"}\n",
        "    action_repeat=1 #@param {\"type\":\"integer\"}\n",
        "    unroll_length=10 #@param {\"type\":\"integer\"}\n",
        "    num_minibatches=8 #@param {\"type\":\"integer\"}\n",
        "    num_updates_per_batch=8 #@param {\"type\":\"integer\"}\n",
        "    discounting=0.97 #@param {\"type\":\"number\"}\n",
        "    learning_rate=0.0005  #@param {\"type\":\"number\"}\n",
        "    entropy_cost=0.005  #@param {\"type\":\"number\"}\n",
        "    num_envs=512 #@param {\"type\":\"integer\"}\n",
        "    batch_size=256 #@param {\"type\":\"integer\"}\n",
        "\n",
        ")\n"
      ],
      "metadata": {
        "id": "c1hYmIVx7iFZ"
      },
      "id": "c1hYmIVx7iFZ",
      "execution_count": null,
      "outputs": []
    },
    {
      "cell_type": "code",
      "source": [
        "#@title Set Save Path\n",
        "trained_policy_save_name = \"my_policy\" #@param {\"type\":\"string\"}\n",
        "trained_policy_dir = \"trained_policies\"\n",
        "!mkdir -p {trained_policy_dir}\n",
        "save_model_path = f\"{trained_policy_dir}/{trained_policy_save_name}\"\n",
        "print(f\"Trained policy save path: {save_model_path}\")"
      ],
      "metadata": {
        "id": "49GQ5Q_rQDer"
      },
      "id": "49GQ5Q_rQDer",
      "execution_count": null,
      "outputs": []
    },
    {
      "cell_type": "code",
      "source": [
        "from quadruped_mjx_rl.training import train\n"
      ],
      "metadata": {
        "id": "q5LBMWAO1lV-"
      },
      "id": "q5LBMWAO1lV-",
      "execution_count": null,
      "outputs": []
    },
    {
      "metadata": {
        "id": "c12f2f24636fdfe0"
      },
      "cell_type": "markdown",
      "source": [
        "## Results"
      ],
      "id": "c12f2f24636fdfe0"
    }
  ],
  "metadata": {
    "kernelspec": {
      "display_name": "Python 3",
      "name": "python3"
    },
    "language_info": {
      "codemirror_mode": {
        "name": "ipython",
        "version": 2
      },
      "file_extension": ".py",
      "mimetype": "text/x-python",
      "name": "python",
      "nbconvert_exporter": "python",
      "pygments_lexer": "ipython2",
      "version": "2.7.6"
    },
    "colab": {
      "provenance": [],
      "gpuType": "T4",
      "include_colab_link": true
    },
    "accelerator": "GPU"
  },
  "nbformat": 4,
  "nbformat_minor": 5
}