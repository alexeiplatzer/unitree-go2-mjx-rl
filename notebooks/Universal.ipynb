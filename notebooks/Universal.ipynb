{
  "cells": [
    {
      "cell_type": "markdown",
      "metadata": {
        "id": "view-in-github",
        "colab_type": "text"
      },
      "source": [
        "<a href=\"https://colab.research.google.com/github/alexeiplatzer/unitree-go2-mjx-rl/blob/main/notebooks/Universal.ipynb\" target=\"_parent\"><img src=\"https://colab.research.google.com/assets/colab-badge.svg\" alt=\"Open In Colab\"/></a>"
      ]
    },
    {
      "metadata": {
        "id": "f4d6a6a44d14ed1b"
      },
      "cell_type": "markdown",
      "source": [
        "# **Univeral Notebook for Quadruped RL Training in MJX**\n",
        "This notebook uses the `quadruped-mjx-rl` python package from the `unitree-go2-mjx-rl` repository to train locomotion policies for quadrupeds using reinforcement learning in the Mujoco XLA (MJX) simulation environment."
      ],
      "id": "f4d6a6a44d14ed1b"
    },
    {
      "metadata": {
        "id": "e3a9f2f1b31ad2d8"
      },
      "cell_type": "markdown",
      "source": [
        "# Hardware Setup\n",
        "This part sets up the `quadruped-mjx-rl` package on the machine."
      ],
      "id": "e3a9f2f1b31ad2d8"
    },
    {
      "cell_type": "code",
      "source": [
        "#@title run this cell once each time on a new machine\n",
        "#@markdown #### Setup configuration\n",
        "\n",
        "#@markdown Choose your hardware option:\n",
        "hardware = \"Colab\" #@param [\"local\",\"Colab\",\"Kaggle\"]\n",
        "\n",
        "#@markdown Choose whether you want to build the madrona rendering setup for training\n",
        "#@markdown with vision:\n",
        "build_madrona_backend = False #@param {\"type\":\"boolean\"}\n",
        "\n",
        "#@markdown Choose if you want to pull changes to the package repository during the runtime.\n",
        "#@markdown (Requires a restart after executing this cell!)\n",
        "editable_mode = True #@param {\"type\":\"boolean\"}\n",
        "\n",
        "if build_madrona_backend:\n",
        "    # Install madrona MJX\n",
        "    import time\n",
        "    print(\"Intalling Madrona MJX...\")\n",
        "    start_time = time.perf_counter()\n",
        "    print(\"Setting up environment... (Step 1/3)\")\n",
        "    !pip uninstall -y jax\n",
        "    !pip install jax[\"cuda12_local\"]==0.4.35\n",
        "\n",
        "    !sudo apt install libx11-dev libxrandr-dev libxinerama-dev libxcursor-dev libxi-dev mesa-common-dev\n",
        "\n",
        "    !mkdir modules\n",
        "    !git clone https://github.com/shacklettbp/madrona_mjx.git modules/madrona_mjx\n",
        "\n",
        "    !git -C modules/madrona_mjx submodule update --init --recursive\n",
        "\n",
        "    !mkdir modules/madrona_mjx/build\n",
        "\n",
        "    if hardware == \"Kaggle\":\n",
        "        !sudo apt-get install -y nvidia-cuda-toolkit\n",
        "\n",
        "    print(\"Building the Madrona backend ... (Step 2/3)\")\n",
        "    !cd modules/madrona_mjx/build && cmake -DLOAD_VULKAN=OFF .. && make -j 8\n",
        "\n",
        "    print (\"Installing Madrona MJX ... (Step 3/3)\")\n",
        "    !pip install -e modules/madrona_mjx\n",
        "\n",
        "    minutes, seconds = divmod((time.perf_counter() - start_time), 60)\n",
        "    print(f\"Finished installing Madrona MJX in {minutes} m {seconds:.2f} s\")\n",
        "\n",
        "# Clones and installs our Quadruped RL package\n",
        "!git clone https://github.com/alexeiplatzer/unitree-go2-mjx-rl.git\n",
        "if editable_mode:\n",
        "    !pip install -e unitree-go2-mjx-rl\n",
        "else:\n",
        "    !pip install unitree-go2-mjx-rl"
      ],
      "metadata": {
        "id": "Kg6Ab0jgovuC",
        "collapsed": true,
        "outputId": "0563daf9-eba1-439e-ccaa-b6850bde58e0",
        "colab": {
          "base_uri": "https://localhost:8080/"
        }
      },
      "id": "Kg6Ab0jgovuC",
      "execution_count": 1,
      "outputs": [
        {
          "output_type": "stream",
          "name": "stdout",
          "text": [
            "Cloning into 'unitree-go2-mjx-rl'...\n",
            "remote: Enumerating objects: 1746, done.\u001b[K\n",
            "remote: Counting objects: 100% (166/166), done.\u001b[K\n",
            "remote: Compressing objects: 100% (102/102), done.\u001b[K\n",
            "remote: Total 1746 (delta 73), reused 113 (delta 58), pack-reused 1580 (from 1)\u001b[K\n",
            "Receiving objects: 100% (1746/1746), 23.12 MiB | 16.38 MiB/s, done.\n",
            "Resolving deltas: 100% (989/989), done.\n",
            "Obtaining file:///content/unitree-go2-mjx-rl\n",
            "  Installing build dependencies ... \u001b[?25l\u001b[?25hdone\n",
            "  Checking if build backend supports build_editable ... \u001b[?25l\u001b[?25hdone\n",
            "  Getting requirements to build editable ... \u001b[?25l\u001b[?25hdone\n",
            "  Preparing editable metadata (pyproject.toml) ... \u001b[?25l\u001b[?25hdone\n",
            "Collecting mujoco (from quadruped_mjx_rl==0.0.1)\n",
            "  Downloading mujoco-3.3.3-cp311-cp311-manylinux_2_17_x86_64.manylinux2014_x86_64.whl.metadata (44 kB)\n",
            "\u001b[2K     \u001b[90m━━━━━━━━━━━━━━━━━━━━━━━━━━━━━━━━━━━━━━━━\u001b[0m \u001b[32m44.4/44.4 kB\u001b[0m \u001b[31m3.8 MB/s\u001b[0m eta \u001b[36m0:00:00\u001b[0m\n",
            "\u001b[?25hCollecting mujoco_mjx (from quadruped_mjx_rl==0.0.1)\n",
            "  Downloading mujoco_mjx-3.3.3-py3-none-any.whl.metadata (3.4 kB)\n",
            "Collecting brax (from quadruped_mjx_rl==0.0.1)\n",
            "  Downloading brax-0.12.4-py3-none-any.whl.metadata (20 kB)\n",
            "Collecting mediapy (from quadruped_mjx_rl==0.0.1)\n",
            "  Downloading mediapy-1.2.4-py3-none-any.whl.metadata (4.8 kB)\n",
            "Collecting ml_collections (from quadruped_mjx_rl==0.0.1)\n",
            "  Downloading ml_collections-1.1.0-py3-none-any.whl.metadata (22 kB)\n",
            "Requirement already satisfied: pyyaml in /usr/local/lib/python3.11/dist-packages (from quadruped_mjx_rl==0.0.1) (6.0.2)\n",
            "Collecting dacite (from quadruped_mjx_rl==0.0.1)\n",
            "  Downloading dacite-1.9.2-py3-none-any.whl.metadata (17 kB)\n",
            "Requirement already satisfied: jax in /usr/local/lib/python3.11/dist-packages (from quadruped_mjx_rl==0.0.1) (0.5.2)\n",
            "Requirement already satisfied: numpy in /usr/local/lib/python3.11/dist-packages (from quadruped_mjx_rl==0.0.1) (2.0.2)\n",
            "Requirement already satisfied: flax in /usr/local/lib/python3.11/dist-packages (from quadruped_mjx_rl==0.0.1) (0.10.6)\n",
            "Requirement already satisfied: matplotlib in /usr/local/lib/python3.11/dist-packages (from quadruped_mjx_rl==0.0.1) (3.10.0)\n",
            "Collecting orbax (from quadruped_mjx_rl==0.0.1)\n",
            "  Downloading orbax-0.1.9.tar.gz (1.6 kB)\n",
            "  Preparing metadata (setup.py) ... \u001b[?25l\u001b[?25hdone\n",
            "Requirement already satisfied: tqdm in /usr/local/lib/python3.11/dist-packages (from quadruped_mjx_rl==0.0.1) (4.67.1)\n",
            "Requirement already satisfied: absl-py in /usr/local/lib/python3.11/dist-packages (from brax->quadruped_mjx_rl==0.0.1) (1.4.0)\n",
            "Requirement already satisfied: etils in /usr/local/lib/python3.11/dist-packages (from brax->quadruped_mjx_rl==0.0.1) (1.12.2)\n",
            "Requirement already satisfied: flask in /usr/local/lib/python3.11/dist-packages (from brax->quadruped_mjx_rl==0.0.1) (3.1.1)\n",
            "Collecting flask-cors (from brax->quadruped_mjx_rl==0.0.1)\n",
            "  Downloading flask_cors-6.0.1-py3-none-any.whl.metadata (5.3 kB)\n",
            "Requirement already satisfied: jaxlib>=0.4.6 in /usr/local/lib/python3.11/dist-packages (from brax->quadruped_mjx_rl==0.0.1) (0.5.1)\n",
            "Collecting jaxopt (from brax->quadruped_mjx_rl==0.0.1)\n",
            "  Downloading jaxopt-0.8.5-py3-none-any.whl.metadata (3.3 kB)\n",
            "Requirement already satisfied: jinja2 in /usr/local/lib/python3.11/dist-packages (from brax->quadruped_mjx_rl==0.0.1) (3.1.6)\n",
            "Requirement already satisfied: optax in /usr/local/lib/python3.11/dist-packages (from brax->quadruped_mjx_rl==0.0.1) (0.2.5)\n",
            "Requirement already satisfied: orbax-checkpoint in /usr/local/lib/python3.11/dist-packages (from brax->quadruped_mjx_rl==0.0.1) (0.11.16)\n",
            "Requirement already satisfied: pillow in /usr/local/lib/python3.11/dist-packages (from brax->quadruped_mjx_rl==0.0.1) (11.2.1)\n",
            "Requirement already satisfied: scipy in /usr/local/lib/python3.11/dist-packages (from brax->quadruped_mjx_rl==0.0.1) (1.15.3)\n",
            "Collecting tensorboardx (from brax->quadruped_mjx_rl==0.0.1)\n",
            "  Downloading tensorboardx-2.6.4-py3-none-any.whl.metadata (6.2 kB)\n",
            "Collecting trimesh (from brax->quadruped_mjx_rl==0.0.1)\n",
            "  Downloading trimesh-4.6.13-py3-none-any.whl.metadata (18 kB)\n",
            "Requirement already satisfied: typing-extensions in /usr/local/lib/python3.11/dist-packages (from brax->quadruped_mjx_rl==0.0.1) (4.14.0)\n",
            "Requirement already satisfied: ml_dtypes>=0.4.0 in /usr/local/lib/python3.11/dist-packages (from jax->quadruped_mjx_rl==0.0.1) (0.4.1)\n",
            "Requirement already satisfied: opt_einsum in /usr/local/lib/python3.11/dist-packages (from jax->quadruped_mjx_rl==0.0.1) (3.4.0)\n",
            "Requirement already satisfied: msgpack in /usr/local/lib/python3.11/dist-packages (from flax->quadruped_mjx_rl==0.0.1) (1.1.1)\n",
            "Requirement already satisfied: tensorstore in /usr/local/lib/python3.11/dist-packages (from flax->quadruped_mjx_rl==0.0.1) (0.1.74)\n",
            "Requirement already satisfied: rich>=11.1 in /usr/local/lib/python3.11/dist-packages (from flax->quadruped_mjx_rl==0.0.1) (13.9.4)\n",
            "Requirement already satisfied: treescope>=0.1.7 in /usr/local/lib/python3.11/dist-packages (from flax->quadruped_mjx_rl==0.0.1) (0.1.9)\n",
            "Requirement already satisfied: contourpy>=1.0.1 in /usr/local/lib/python3.11/dist-packages (from matplotlib->quadruped_mjx_rl==0.0.1) (1.3.2)\n",
            "Requirement already satisfied: cycler>=0.10 in /usr/local/lib/python3.11/dist-packages (from matplotlib->quadruped_mjx_rl==0.0.1) (0.12.1)\n",
            "Requirement already satisfied: fonttools>=4.22.0 in /usr/local/lib/python3.11/dist-packages (from matplotlib->quadruped_mjx_rl==0.0.1) (4.58.4)\n",
            "Requirement already satisfied: kiwisolver>=1.3.1 in /usr/local/lib/python3.11/dist-packages (from matplotlib->quadruped_mjx_rl==0.0.1) (1.4.8)\n",
            "Requirement already satisfied: packaging>=20.0 in /usr/local/lib/python3.11/dist-packages (from matplotlib->quadruped_mjx_rl==0.0.1) (24.2)\n",
            "Requirement already satisfied: pyparsing>=2.3.1 in /usr/local/lib/python3.11/dist-packages (from matplotlib->quadruped_mjx_rl==0.0.1) (3.2.3)\n",
            "Requirement already satisfied: python-dateutil>=2.7 in /usr/local/lib/python3.11/dist-packages (from matplotlib->quadruped_mjx_rl==0.0.1) (2.9.0.post0)\n",
            "Requirement already satisfied: ipython in /usr/local/lib/python3.11/dist-packages (from mediapy->quadruped_mjx_rl==0.0.1) (7.34.0)\n",
            "Collecting glfw (from mujoco->quadruped_mjx_rl==0.0.1)\n",
            "  Downloading glfw-2.9.0-py2.py27.py3.py30.py31.py32.py33.py34.py35.py36.py37.py38.p39.p310.p311.p312.p313-none-manylinux_2_28_x86_64.whl.metadata (5.4 kB)\n",
            "Requirement already satisfied: pyopengl in /usr/local/lib/python3.11/dist-packages (from mujoco->quadruped_mjx_rl==0.0.1) (3.1.9)\n",
            "Requirement already satisfied: nest_asyncio in /usr/local/lib/python3.11/dist-packages (from orbax-checkpoint->brax->quadruped_mjx_rl==0.0.1) (1.6.0)\n",
            "Requirement already satisfied: protobuf in /usr/local/lib/python3.11/dist-packages (from orbax-checkpoint->brax->quadruped_mjx_rl==0.0.1) (5.29.5)\n",
            "Requirement already satisfied: humanize in /usr/local/lib/python3.11/dist-packages (from orbax-checkpoint->brax->quadruped_mjx_rl==0.0.1) (4.12.3)\n",
            "Requirement already satisfied: simplejson>=3.16.0 in /usr/local/lib/python3.11/dist-packages (from orbax-checkpoint->brax->quadruped_mjx_rl==0.0.1) (3.20.1)\n",
            "Requirement already satisfied: six>=1.5 in /usr/local/lib/python3.11/dist-packages (from python-dateutil>=2.7->matplotlib->quadruped_mjx_rl==0.0.1) (1.17.0)\n",
            "Requirement already satisfied: markdown-it-py>=2.2.0 in /usr/local/lib/python3.11/dist-packages (from rich>=11.1->flax->quadruped_mjx_rl==0.0.1) (3.0.0)\n",
            "Requirement already satisfied: pygments<3.0.0,>=2.13.0 in /usr/local/lib/python3.11/dist-packages (from rich>=11.1->flax->quadruped_mjx_rl==0.0.1) (2.19.2)\n",
            "Requirement already satisfied: fsspec in /usr/local/lib/python3.11/dist-packages (from etils[epath]->mujoco->quadruped_mjx_rl==0.0.1) (2025.3.2)\n",
            "Requirement already satisfied: importlib_resources in /usr/local/lib/python3.11/dist-packages (from etils[epath]->mujoco->quadruped_mjx_rl==0.0.1) (6.5.2)\n",
            "Requirement already satisfied: zipp in /usr/local/lib/python3.11/dist-packages (from etils[epath]->mujoco->quadruped_mjx_rl==0.0.1) (3.23.0)\n",
            "Requirement already satisfied: blinker>=1.9.0 in /usr/local/lib/python3.11/dist-packages (from flask->brax->quadruped_mjx_rl==0.0.1) (1.9.0)\n",
            "Requirement already satisfied: click>=8.1.3 in /usr/local/lib/python3.11/dist-packages (from flask->brax->quadruped_mjx_rl==0.0.1) (8.2.1)\n",
            "Requirement already satisfied: itsdangerous>=2.2.0 in /usr/local/lib/python3.11/dist-packages (from flask->brax->quadruped_mjx_rl==0.0.1) (2.2.0)\n",
            "Requirement already satisfied: markupsafe>=2.1.1 in /usr/local/lib/python3.11/dist-packages (from flask->brax->quadruped_mjx_rl==0.0.1) (3.0.2)\n",
            "Requirement already satisfied: werkzeug>=3.1.0 in /usr/local/lib/python3.11/dist-packages (from flask->brax->quadruped_mjx_rl==0.0.1) (3.1.3)\n",
            "Requirement already satisfied: setuptools>=18.5 in /usr/local/lib/python3.11/dist-packages (from ipython->mediapy->quadruped_mjx_rl==0.0.1) (75.2.0)\n",
            "Collecting jedi>=0.16 (from ipython->mediapy->quadruped_mjx_rl==0.0.1)\n",
            "  Downloading jedi-0.19.2-py2.py3-none-any.whl.metadata (22 kB)\n",
            "Requirement already satisfied: decorator in /usr/local/lib/python3.11/dist-packages (from ipython->mediapy->quadruped_mjx_rl==0.0.1) (4.4.2)\n",
            "Requirement already satisfied: pickleshare in /usr/local/lib/python3.11/dist-packages (from ipython->mediapy->quadruped_mjx_rl==0.0.1) (0.7.5)\n",
            "Requirement already satisfied: traitlets>=4.2 in /usr/local/lib/python3.11/dist-packages (from ipython->mediapy->quadruped_mjx_rl==0.0.1) (5.7.1)\n",
            "Requirement already satisfied: prompt-toolkit!=3.0.0,!=3.0.1,<3.1.0,>=2.0.0 in /usr/local/lib/python3.11/dist-packages (from ipython->mediapy->quadruped_mjx_rl==0.0.1) (3.0.51)\n",
            "Requirement already satisfied: backcall in /usr/local/lib/python3.11/dist-packages (from ipython->mediapy->quadruped_mjx_rl==0.0.1) (0.2.0)\n",
            "Requirement already satisfied: matplotlib-inline in /usr/local/lib/python3.11/dist-packages (from ipython->mediapy->quadruped_mjx_rl==0.0.1) (0.1.7)\n",
            "Requirement already satisfied: pexpect>4.3 in /usr/local/lib/python3.11/dist-packages (from ipython->mediapy->quadruped_mjx_rl==0.0.1) (4.9.0)\n",
            "Requirement already satisfied: chex>=0.1.87 in /usr/local/lib/python3.11/dist-packages (from optax->brax->quadruped_mjx_rl==0.0.1) (0.1.89)\n",
            "Requirement already satisfied: toolz>=0.9.0 in /usr/local/lib/python3.11/dist-packages (from chex>=0.1.87->optax->brax->quadruped_mjx_rl==0.0.1) (0.12.1)\n",
            "Requirement already satisfied: parso<0.9.0,>=0.8.4 in /usr/local/lib/python3.11/dist-packages (from jedi>=0.16->ipython->mediapy->quadruped_mjx_rl==0.0.1) (0.8.4)\n",
            "Requirement already satisfied: mdurl~=0.1 in /usr/local/lib/python3.11/dist-packages (from markdown-it-py>=2.2.0->rich>=11.1->flax->quadruped_mjx_rl==0.0.1) (0.1.2)\n",
            "Requirement already satisfied: ptyprocess>=0.5 in /usr/local/lib/python3.11/dist-packages (from pexpect>4.3->ipython->mediapy->quadruped_mjx_rl==0.0.1) (0.7.0)\n",
            "Requirement already satisfied: wcwidth in /usr/local/lib/python3.11/dist-packages (from prompt-toolkit!=3.0.0,!=3.0.1,<3.1.0,>=2.0.0->ipython->mediapy->quadruped_mjx_rl==0.0.1) (0.2.13)\n",
            "Downloading brax-0.12.4-py3-none-any.whl (341 kB)\n",
            "\u001b[2K   \u001b[90m━━━━━━━━━━━━━━━━━━━━━━━━━━━━━━━━━━━━━━━━\u001b[0m \u001b[32m341.7/341.7 kB\u001b[0m \u001b[31m29.9 MB/s\u001b[0m eta \u001b[36m0:00:00\u001b[0m\n",
            "\u001b[?25hDownloading dacite-1.9.2-py3-none-any.whl (16 kB)\n",
            "Downloading mediapy-1.2.4-py3-none-any.whl (26 kB)\n",
            "Downloading ml_collections-1.1.0-py3-none-any.whl (76 kB)\n",
            "\u001b[2K   \u001b[90m━━━━━━━━━━━━━━━━━━━━━━━━━━━━━━━━━━━━━━━━\u001b[0m \u001b[32m76.7/76.7 kB\u001b[0m \u001b[31m7.7 MB/s\u001b[0m eta \u001b[36m0:00:00\u001b[0m\n",
            "\u001b[?25hDownloading mujoco-3.3.3-cp311-cp311-manylinux_2_17_x86_64.manylinux2014_x86_64.whl (6.6 MB)\n",
            "\u001b[2K   \u001b[90m━━━━━━━━━━━━━━━━━━━━━━━━━━━━━━━━━━━━━━━━\u001b[0m \u001b[32m6.6/6.6 MB\u001b[0m \u001b[31m103.0 MB/s\u001b[0m eta \u001b[36m0:00:00\u001b[0m\n",
            "\u001b[?25hDownloading mujoco_mjx-3.3.3-py3-none-any.whl (6.7 MB)\n",
            "\u001b[2K   \u001b[90m━━━━━━━━━━━━━━━━━━━━━━━━━━━━━━━━━━━━━━━━\u001b[0m \u001b[32m6.7/6.7 MB\u001b[0m \u001b[31m122.4 MB/s\u001b[0m eta \u001b[36m0:00:00\u001b[0m\n",
            "\u001b[?25hDownloading flask_cors-6.0.1-py3-none-any.whl (13 kB)\n",
            "Downloading glfw-2.9.0-py2.py27.py3.py30.py31.py32.py33.py34.py35.py36.py37.py38.p39.p310.p311.p312.p313-none-manylinux_2_28_x86_64.whl (243 kB)\n",
            "\u001b[2K   \u001b[90m━━━━━━━━━━━━━━━━━━━━━━━━━━━━━━━━━━━━━━━━\u001b[0m \u001b[32m243.5/243.5 kB\u001b[0m \u001b[31m24.2 MB/s\u001b[0m eta \u001b[36m0:00:00\u001b[0m\n",
            "\u001b[?25hDownloading jaxopt-0.8.5-py3-none-any.whl (172 kB)\n",
            "\u001b[2K   \u001b[90m━━━━━━━━━━━━━━━━━━━━━━━━━━━━━━━━━━━━━━━━\u001b[0m \u001b[32m172.4/172.4 kB\u001b[0m \u001b[31m19.9 MB/s\u001b[0m eta \u001b[36m0:00:00\u001b[0m\n",
            "\u001b[?25hDownloading tensorboardx-2.6.4-py3-none-any.whl (87 kB)\n",
            "\u001b[2K   \u001b[90m━━━━━━━━━━━━━━━━━━━━━━━━━━━━━━━━━━━━━━━━\u001b[0m \u001b[32m87.2/87.2 kB\u001b[0m \u001b[31m9.9 MB/s\u001b[0m eta \u001b[36m0:00:00\u001b[0m\n",
            "\u001b[?25hDownloading trimesh-4.6.13-py3-none-any.whl (712 kB)\n",
            "\u001b[2K   \u001b[90m━━━━━━━━━━━━━━━━━━━━━━━━━━━━━━━━━━━━━━━━\u001b[0m \u001b[32m712.4/712.4 kB\u001b[0m \u001b[31m57.4 MB/s\u001b[0m eta \u001b[36m0:00:00\u001b[0m\n",
            "\u001b[?25hDownloading jedi-0.19.2-py2.py3-none-any.whl (1.6 MB)\n",
            "\u001b[2K   \u001b[90m━━━━━━━━━━━━━━━━━━━━━━━━━━━━━━━━━━━━━━━━\u001b[0m \u001b[32m1.6/1.6 MB\u001b[0m \u001b[31m85.6 MB/s\u001b[0m eta \u001b[36m0:00:00\u001b[0m\n",
            "\u001b[?25hBuilding wheels for collected packages: quadruped_mjx_rl, orbax\n",
            "  Building editable for quadruped_mjx_rl (pyproject.toml) ... \u001b[?25l\u001b[?25hdone\n",
            "  Created wheel for quadruped_mjx_rl: filename=quadruped_mjx_rl-0.0.1-0.editable-py3-none-any.whl size=1904 sha256=b6c382d702ed77f8ad81ee5386a8cbe2059406be1ec0c2dc9ae625c43e4f3091\n",
            "  Stored in directory: /tmp/pip-ephem-wheel-cache-ehqd_usm/wheels/f5/17/dc/1310c3fc1ac418e3ffd03caf359f7d6df62e5e764b13e82f9a\n",
            "  Building wheel for orbax (setup.py) ... \u001b[?25l\u001b[?25hdone\n",
            "  Created wheel for orbax: filename=orbax-0.1.9-py3-none-any.whl size=1496 sha256=fb6bda508810ceb8d2a59eb0a774a60746d688566fe3146c26e98b9e4f09e82b\n",
            "  Stored in directory: /root/.cache/pip/wheels/c3/db/68/3b3d5f58479cc8823c04f14722958d959580e649d5c31a6405\n",
            "Successfully built quadruped_mjx_rl orbax\n",
            "Installing collected packages: glfw, trimesh, tensorboardx, ml_collections, jedi, dacite, mujoco, mediapy, flask-cors, mujoco_mjx, jaxopt, orbax, brax, quadruped_mjx_rl\n",
            "Successfully installed brax-0.12.4 dacite-1.9.2 flask-cors-6.0.1 glfw-2.9.0 jaxopt-0.8.5 jedi-0.19.2 mediapy-1.2.4 ml_collections-1.1.0 mujoco-3.3.3 mujoco_mjx-3.3.3 orbax-0.1.9 quadruped_mjx_rl-0.0.1 tensorboardx-2.6.4 trimesh-4.6.13\n"
          ]
        }
      ]
    },
    {
      "cell_type": "markdown",
      "source": [
        "### Now restart the session and continue.\n",
        "### You can skip setup next time while you are on the same machine."
      ],
      "metadata": {
        "id": "W-4afCIErqZU"
      },
      "id": "W-4afCIErqZU"
    },
    {
      "metadata": {
        "id": "e01c74e8011bcec3"
      },
      "cell_type": "markdown",
      "source": [
        "# Session setup\n",
        "Run once in the beggining of every session, i.e. after restarts and crashes."
      ],
      "id": "e01c74e8011bcec3"
    },
    {
      "cell_type": "code",
      "source": [
        "# @title Refresh the package if any necessary changes have been pushed. Important in development\n",
        "repo_path = \"./unitree-go2-mjx-rl\"\n",
        "!git -C {repo_path} pull"
      ],
      "metadata": {
        "colab": {
          "base_uri": "https://localhost:8080/"
        },
        "id": "kYg-MhCgz2tZ",
        "outputId": "f7d40aba-fb2a-49fb-b8aa-2ed745a021a8",
        "cellView": "form"
      },
      "id": "kYg-MhCgz2tZ",
      "execution_count": 6,
      "outputs": [
        {
          "output_type": "stream",
          "name": "stdout",
          "text": [
            "remote: Enumerating objects: 6, done.\u001b[K\n",
            "remote: Counting objects:  16% (1/6)\u001b[K\rremote: Counting objects:  33% (2/6)\u001b[K\rremote: Counting objects:  50% (3/6)\u001b[K\rremote: Counting objects:  66% (4/6)\u001b[K\rremote: Counting objects:  83% (5/6)\u001b[K\rremote: Counting objects: 100% (6/6)\u001b[K\rremote: Counting objects: 100% (6/6), done.\u001b[K\n",
            "remote: Compressing objects:  50% (1/2)\u001b[K\rremote: Compressing objects: 100% (2/2)\u001b[K\rremote: Compressing objects: 100% (2/2), done.\u001b[K\n",
            "remote: Total 6 (delta 3), reused 6 (delta 3), pack-reused 0 (from 0)\u001b[K\n",
            "Unpacking objects:  16% (1/6)\rUnpacking objects:  33% (2/6)\rUnpacking objects:  50% (3/6)\rUnpacking objects:  66% (4/6)\rUnpacking objects:  83% (5/6)\rUnpacking objects: 100% (6/6)\rUnpacking objects: 100% (6/6), 620 bytes | 620.00 KiB/s, done.\n",
            "From https://github.com/alexeiplatzer/unitree-go2-mjx-rl\n",
            "   f458c4d..5fbd72d  main       -> origin/main\n",
            "Updating f458c4d..5fbd72d\n",
            "Fast-forward\n",
            " configs/google_barkour_vb.yaml                     |    2 \u001b[32m+\u001b[m\u001b[31m-\u001b[m\n",
            " configs/raw_ppo.yaml                               |    4 \u001b[32m+\u001b[m\u001b[31m-\u001b[m\n",
            " configs/render_basic.yaml                          |    3 \u001b[32m+\u001b[m\u001b[31m-\u001b[m\n",
            " configs/unitree_go2.yaml                           |    2 \u001b[32m+\u001b[m\u001b[31m-\u001b[m\n",
            " configs/vision_ppo.yaml                            |    1 \u001b[31m-\u001b[m\n",
            " notebooks/Prototypes/Madroner.ipynb                | 2836 \u001b[32m++++++++++\u001b[m\u001b[31m----------\u001b[m\n",
            " notebooks/Universal.ipynb                          |    4 \u001b[32m+\u001b[m\u001b[31m-\u001b[m\n",
            " pyproject.toml                                     |   15 \u001b[32m+\u001b[m\u001b[31m-\u001b[m\n",
            " requirements.txt                                   |   16 \u001b[32m+\u001b[m\u001b[31m-\u001b[m\n",
            " scripts/config_writer.py                           |    8 \u001b[32m+\u001b[m\u001b[31m-\u001b[m\n",
            " scripts/legacy_render_simple.py                    |   15 \u001b[31m-\u001b[m\n",
            " scripts/legacy_render_student.py                   |   19 \u001b[31m-\u001b[m\n",
            " scripts/train_unitree_go2_raw.py                   |   27 \u001b[32m+\u001b[m\u001b[31m-\u001b[m\n",
            " src/quadruped_mjx_rl/config_utils/__init__.py      |   15 \u001b[32m+\u001b[m\u001b[31m-\u001b[m\n",
            " src/quadruped_mjx_rl/config_utils/config_base.py   |   33 \u001b[32m+\u001b[m\n",
            " src/quadruped_mjx_rl/config_utils/config_keys.py   |   53 \u001b[31m-\u001b[m\n",
            " src/quadruped_mjx_rl/config_utils/file_configs.py  |   63 \u001b[32m+\u001b[m\u001b[31m-\u001b[m\n",
            " .../domain_randomization/randomized_vision.py      |  116 \u001b[31m-\u001b[m\n",
            " src/quadruped_mjx_rl/environments/__init__.py      |    7 \u001b[32m+\u001b[m\u001b[31m-\u001b[m\n",
            " src/quadruped_mjx_rl/environments/joystick_base.py |   43 \u001b[32m+\u001b[m\u001b[31m-\u001b[m\n",
            " .../environments/joystick_teacher_student.py       |   30 \u001b[32m+\u001b[m\u001b[31m-\u001b[m\n",
            " .../environments/{base.py => quadruped_base.py}    |   74 \u001b[32m+\u001b[m\u001b[31m-\u001b[m\n",
            " src/quadruped_mjx_rl/environments/rendering.py     |   26 \u001b[32m+\u001b[m\n",
            " .../environments/simple_vision_playground.py       |   36 \u001b[32m+\u001b[m\u001b[31m-\u001b[m\n",
            " .../environments/vision_debug_primitive.py         |   15 \u001b[32m+\u001b[m\u001b[31m-\u001b[m\n",
            " src/quadruped_mjx_rl/environments/wrappers.py      |   51 \u001b[32m+\u001b[m\u001b[31m-\u001b[m\n",
            " src/quadruped_mjx_rl/math.py                       |  410 \u001b[32m+++\u001b[m\n",
            " src/quadruped_mjx_rl/models/__init__.py            |    1 \u001b[31m-\u001b[m\n",
            " src/quadruped_mjx_rl/models/acting.py              |  144 \u001b[32m+\u001b[m\n",
            " .../models/agents/ppo/guided_ppo/losses.py         |    4 \u001b[32m+\u001b[m\u001b[31m-\u001b[m\n",
            " .../models/agents/ppo/guided_ppo/training.py       |  149 \u001b[32m+\u001b[m\u001b[31m-\u001b[m\n",
            " src/quadruped_mjx_rl/models/agents/ppo/losses.py   |   11 \u001b[32m+\u001b[m\u001b[31m-\u001b[m\n",
            " .../models/agents/ppo/raw_ppo/losses.py            |    2 \u001b[32m+\u001b[m\u001b[31m-\u001b[m\n",
            " .../models/agents/ppo/raw_ppo/training.py          |   85 \u001b[32m+\u001b[m\u001b[31m-\u001b[m\n",
            " .../ppo/{_training_utils.py => training_utils.py}  |   39 \u001b[32m+\u001b[m\u001b[31m-\u001b[m\n",
            " .../models/architectures/__init__.py               |    4 \u001b[32m+\u001b[m\u001b[31m-\u001b[m\n",
            " .../models/architectures/guided_actor_critic.py    |   41 \u001b[32m+\u001b[m\u001b[31m-\u001b[m\n",
            " .../models/architectures/raw_actor_critic.py       |   31 \u001b[32m+\u001b[m\u001b[31m-\u001b[m\n",
            " src/quadruped_mjx_rl/models/configs.py             |   51 \u001b[32m+\u001b[m\u001b[31m-\u001b[m\n",
            " src/quadruped_mjx_rl/models/distributions.py       |  148 \u001b[32m+\u001b[m\n",
            " src/quadruped_mjx_rl/models/factories.py           |   26 \u001b[32m+\u001b[m\u001b[31m-\u001b[m\n",
            " src/quadruped_mjx_rl/models/gradients.py           |   53 \u001b[32m+\u001b[m\n",
            " src/quadruped_mjx_rl/models/io.py                  |   17 \u001b[32m+\u001b[m\n",
            " src/quadruped_mjx_rl/models/logger.py              |   53 \u001b[32m+\u001b[m\n",
            " src/quadruped_mjx_rl/models/modules.py             |    5 \u001b[32m+\u001b[m\u001b[31m-\u001b[m\n",
            " src/quadruped_mjx_rl/models/networks.py            |   24 \u001b[32m+\u001b[m\u001b[31m-\u001b[m\n",
            " src/quadruped_mjx_rl/models/pmap.py                |   56 \u001b[32m+\u001b[m\n",
            " .../{rendering.py => policy_rendering.py}          |   65 \u001b[32m+\u001b[m\u001b[31m-\u001b[m\n",
            " src/quadruped_mjx_rl/robotic_vision.py             |   12 \u001b[32m+\u001b[m\u001b[31m-\u001b[m\n",
            " src/quadruped_mjx_rl/robots.py                     |   12 \u001b[32m+\u001b[m\u001b[31m-\u001b[m\n",
            " src/quadruped_mjx_rl/running_statistics.py         |  264 \u001b[32m++\u001b[m\n",
            " src/quadruped_mjx_rl/training.py                   |   57 \u001b[32m+\u001b[m\u001b[31m-\u001b[m\n",
            " src/quadruped_mjx_rl/types.py                      |   63 \u001b[32m+\u001b[m\n",
            " 53 files changed, 3228 insertions(+), 2113 deletions(-)\n",
            " delete mode 100644 scripts/legacy_render_simple.py\n",
            " delete mode 100644 scripts/legacy_render_student.py\n",
            " create mode 100644 src/quadruped_mjx_rl/config_utils/config_base.py\n",
            " delete mode 100644 src/quadruped_mjx_rl/config_utils/config_keys.py\n",
            " delete mode 100644 src/quadruped_mjx_rl/domain_randomization/randomized_vision.py\n",
            " rename src/quadruped_mjx_rl/environments/{base.py => quadruped_base.py} (84%)\n",
            " create mode 100644 src/quadruped_mjx_rl/environments/rendering.py\n",
            " create mode 100644 src/quadruped_mjx_rl/math.py\n",
            " create mode 100644 src/quadruped_mjx_rl/models/acting.py\n",
            " rename src/quadruped_mjx_rl/models/agents/ppo/{_training_utils.py => training_utils.py} (90%)\n",
            " create mode 100644 src/quadruped_mjx_rl/models/distributions.py\n",
            " create mode 100644 src/quadruped_mjx_rl/models/gradients.py\n",
            " create mode 100644 src/quadruped_mjx_rl/models/io.py\n",
            " create mode 100644 src/quadruped_mjx_rl/models/logger.py\n",
            " create mode 100644 src/quadruped_mjx_rl/models/pmap.py\n",
            " rename src/quadruped_mjx_rl/{rendering.py => policy_rendering.py} (74%)\n",
            " create mode 100644 src/quadruped_mjx_rl/running_statistics.py\n",
            " create mode 100644 src/quadruped_mjx_rl/types.py\n"
          ]
        }
      ]
    },
    {
      "cell_type": "code",
      "source": [
        "# @title Configuration for both local and for Colab instances.\n",
        "\n",
        "import os\n",
        "# On your second reading, load the compiled rendering backend to save time!\n",
        "# os.environ[\"MADRONA_MWGPU_KERNEL_CACHE\"] = \"modules/madrona_mjx/build/cache\"\n",
        "# Ensure that Madrona gets the chance to pre-allocate memory before Jax\n",
        "os.environ[\"XLA_PYTHON_CLIENT_PREALLOCATE\"] = \"false\"\n",
        "\n",
        "# Check if MuJoCo installation was successful\n",
        "import distutils.util\n",
        "import subprocess\n",
        "if subprocess.run('nvidia-smi').returncode:\n",
        "    raise RuntimeError(\n",
        "        'Cannot communicate with GPU. '\n",
        "        'Make sure you are using a GPU Colab runtime. '\n",
        "        'Go to the Runtime menu and select Choose runtime type.'\n",
        "    )\n",
        "\n",
        "# Add an ICD config so that glvnd can pick up the Nvidia EGL driver.\n",
        "# This is usually installed as part of an Nvidia driver package, but the Colab\n",
        "# kernel doesn't install its driver via APT, and as a result the ICD is missing.\n",
        "# (https://github.com/NVIDIA/libglvnd/blob/master/src/EGL/icd_enumeration.md)\n",
        "NVIDIA_ICD_CONFIG_PATH = '/usr/share/glvnd/egl_vendor.d/10_nvidia.json'\n",
        "if not os.path.exists(NVIDIA_ICD_CONFIG_PATH):\n",
        "    with open(NVIDIA_ICD_CONFIG_PATH, 'w') as f:\n",
        "        f.write(\"\"\"{\n",
        "        \"file_format_version\" : \"1.0.0\",\n",
        "        \"ICD\" : {\n",
        "            \"library_path\" : \"libEGL_nvidia.so.0\"\n",
        "        }\n",
        "    }\n",
        "    \"\"\")\n",
        "\n",
        "# Configure MuJoCo to use the EGL rendering backend (requires GPU)\n",
        "print('Setting environment variable to use GPU rendering:')\n",
        "%env MUJOCO_GL=egl\n",
        "\n",
        "try:\n",
        "    print('Checking that the installation succeeded:')\n",
        "    import mujoco\n",
        "\n",
        "    mujoco.MjModel.from_xml_string('<mujoco/>')\n",
        "except Exception as e:\n",
        "    raise e from RuntimeError(\n",
        "        'Something went wrong during installation. Check the shell output above '\n",
        "        'for more information.\\n'\n",
        "        'If using a hosted Colab runtime, make sure you enable GPU acceleration '\n",
        "        'by going to the Runtime menu and selecting \"Choose runtime type\".'\n",
        "    )\n",
        "\n",
        "print('Installation successful.')\n",
        "\n",
        "# Tell XLA to use Triton GEMM, this improves steps/sec by ~30% on some GPUs\n",
        "xla_flags = os.environ.get('XLA_FLAGS', '')\n",
        "xla_flags += ' --xla_gpu_triton_gemm_any=True'\n",
        "os.environ['XLA_FLAGS'] = xla_flags\n",
        "\n",
        "# More legible printing from numpy.\n",
        "import numpy as np\n",
        "np.set_printoptions(precision=3, suppress=True, linewidth=100)\n",
        "\n",
        "# Prepare directories\n",
        "from etils.epath import Path\n",
        "repo_path = Path(\"unitree-go2-mjx-rl\")\n",
        "experiments_dir = Path(\"experiments\")\n",
        "trained_policy_dir = experiments_dir / \"trained_policies\"\n",
        "!mkdir -p {trained_policy_dir}\n",
        "configs_dir = experiments_dir / \"configs\"\n",
        "!mkdir -p {configs_dir}\n",
        "rollout_configs_dir = configs_dir / \"rollout_configs\"\n",
        "!mkdir -p {rollout_configs_dir}\n",
        "animations_dir = experiments_dir / \"rendered_rollouts\"\n",
        "!mkdir -p {animations_dir}"
      ],
      "metadata": {
        "colab": {
          "base_uri": "https://localhost:8080/"
        },
        "id": "bukHmqYa1kbU",
        "outputId": "955f291f-ceaf-452b-a96c-f7370697870f",
        "collapsed": true
      },
      "id": "bukHmqYa1kbU",
      "execution_count": 1,
      "outputs": [
        {
          "output_type": "stream",
          "name": "stdout",
          "text": [
            "Setting environment variable to use GPU rendering:\n",
            "env: MUJOCO_GL=egl\n",
            "Checking that the installation succeeded:\n",
            "Installation successful.\n"
          ]
        }
      ]
    },
    {
      "cell_type": "markdown",
      "source": [
        "# Training"
      ],
      "metadata": {
        "id": "XMzQjTFe02jy"
      },
      "id": "XMzQjTFe02jy"
    },
    {
      "cell_type": "markdown",
      "source": [
        "## Configurations"
      ],
      "metadata": {
        "id": "Je7z5nox5BAc"
      },
      "id": "Je7z5nox5BAc"
    },
    {
      "cell_type": "markdown",
      "source": [
        "### Robot Configuration"
      ],
      "metadata": {
        "id": "Z3NL1jWw5RUo"
      },
      "id": "Z3NL1jWw5RUo"
    },
    {
      "cell_type": "code",
      "source": [
        "from quadruped_mjx_rl.robots import predefined_robot_configs\n",
        "#@markdown #### Choose the robot\n",
        "robot = \"unitree_go2\" #@param [\"unitree_go2\", \"google_barkour_vb\"]\n",
        "robot_config = predefined_robot_configs[robot]()"
      ],
      "metadata": {
        "id": "sG1x42W15Lk1"
      },
      "id": "sG1x42W15Lk1",
      "execution_count": 2,
      "outputs": []
    },
    {
      "cell_type": "markdown",
      "source": [
        "### Model Configuration"
      ],
      "metadata": {
        "id": "T_Yt03lL7Aq5"
      },
      "id": "T_Yt03lL7Aq5"
    },
    {
      "cell_type": "code",
      "source": [
        "# @title #### Choose the model architecture and set its hyperparameters\n",
        "from quadruped_mjx_rl import models\n",
        "model_architecture = \"ActorCritic\" # @param [\"ActorCritic\",\"TeacherStudent\",\"TeacherStudentVision\"]\n",
        "# @markdown ---\n",
        "# @markdown **Model hyperparameters for the Actor-Critic Architecture**\n",
        "if model_architecture == \"ActorCritic\":\n",
        "    policy_layers = [256, 256, 256, 256, 256] # @param\n",
        "    value_layers = [256, 256, 256, 256, 256] # @param\n",
        "\n",
        "    model_config_class = models.ActorCriticConfig\n",
        "    model_config = model_config_class(\n",
        "        modules=model_config_class.ModulesConfig(\n",
        "            policy=policy_layers,\n",
        "            value=value_layers,\n",
        "        ),\n",
        "    )\n",
        "# @markdown ---\n",
        "# @markdown **Model hyperparameters for the Teacher-Student Architecture**\n",
        "if model_architecture == \"TeacherStudent\":\n",
        "    policy_layers = [256, 256, 256] # @param\n",
        "    value_layers = [256, 256, 256] # @param\n",
        "    teacher_encoder_layers = [256, 256] # @param\n",
        "    student_encoder_layers = [256, 256] # @param\n",
        "    latent_representation_size = 64 # @param {\"type\":\"integer\"}\n",
        "\n",
        "    model_config_class = models.TeacherStudentConfig\n",
        "    model_config = model_config_class(\n",
        "        modules=model_config_class.ModulesConfig(\n",
        "            policy=policy_layers,\n",
        "            value=value_layers,\n",
        "            encoder=teacher_encoder_layers,\n",
        "            adapter=student_encoder_layers,\n",
        "        ),\n",
        "        latent_size=latent_representation_size,\n",
        "    )\n",
        "# @markdown ---\n",
        "# @markdown **Model hyperparameters for the Teacher-Student-Vision Architecture**\n",
        "if model_architecture == \"TeacherStudentVision\":\n",
        "    policy_layers = [128, 128] #@param\n",
        "    value_layers = [256, 256] #@param\n",
        "    teacher_encoder_convolutional_layers = [32, 64, 64] #@param\n",
        "    teacher_encoder_dense_layers = [256, 256] #@param\n",
        "    student_encoder_convolutional_layers = [32, 64, 64] #@param\n",
        "    student_encoder_dense_layers = [256, 256] #@param\n",
        "    latent_representation_size = 128 # @param {\"type\":\"integer\"}\n",
        "\n",
        "    model_config_class = models.TeacherStudentVisionConfig\n",
        "    model_config = model_config_class(\n",
        "        modules=model_config_class.ModulesConfig(\n",
        "            policy=policy_layers,\n",
        "            value=value_layers,\n",
        "            encoder_convolutional=teacher_encoder_convolutional_layers,\n",
        "            encoder_dense=teacher_encoder_dense_layers,\n",
        "            adapter_convolutional=student_encoder_convolutional_layers,\n",
        "            adapter_dense=student_encoder_dense_layers,\n",
        "        ),\n",
        "        latent_size=latent_representation_size,\n",
        "    )"
      ],
      "metadata": {
        "id": "0lyhU5RA4z-v"
      },
      "id": "0lyhU5RA4z-v",
      "execution_count": 3,
      "outputs": []
    },
    {
      "cell_type": "markdown",
      "source": [],
      "metadata": {
        "id": "SEZsFvkE5MQW"
      },
      "id": "SEZsFvkE5MQW"
    },
    {
      "cell_type": "markdown",
      "source": [
        "### Environment Configuration"
      ],
      "metadata": {
        "id": "rj25fvg75_gi"
      },
      "id": "rj25fvg75_gi"
    },
    {
      "cell_type": "code",
      "source": [
        "#@title #### Configure the Environment\n",
        "from quadruped_mjx_rl import environments\n",
        "\n",
        "model_architecture = type(model_config).model_class_key()\n",
        "if model_architecture == \"TeacherStudentVision\":\n",
        "    env_config_class = environments.QuadrupedVisionEnvConfig\n",
        "elif model_architecture == \"TeacherStudent\":\n",
        "    env_config_class = environments.TeacherStudentEnvironmentConfig\n",
        "elif model_architecture == \"ActorCritic\":\n",
        "    env_config_class = environments.JoystickBaseEnvConfig\n",
        "else:\n",
        "    raise NotImplementedError\n",
        "\n",
        "# TODO: add support for more environment params\n",
        "simulation_timestep = 0.002 #@param {type:\"number\"}\n",
        "control_timestep = 0.04 #@param {type:\"number\"}\n",
        "\n",
        "environment_config = env_config_class(\n",
        "    sim=env_config_class.SimConfig(\n",
        "        sim_dt=simulation_timestep,\n",
        "        ctrl_dt=control_timestep,\n",
        "    ),\n",
        ")"
      ],
      "metadata": {
        "id": "YOQJblkZ6Djd"
      },
      "id": "YOQJblkZ6Djd",
      "execution_count": 4,
      "outputs": []
    },
    {
      "cell_type": "markdown",
      "source": [
        "### Training Configuration"
      ],
      "metadata": {
        "id": "Sqxbk2lXz_2F"
      },
      "id": "Sqxbk2lXz_2F"
    },
    {
      "cell_type": "code",
      "source": [
        "# @title #### Configure the training process\n",
        "from quadruped_mjx_rl.training import TrainingConfig, TrainingWithVisionConfig\n",
        "from quadruped_mjx_rl.robotic_vision import VisionConfig\n",
        "model_architecture = type(model_config).model_class_key()\n",
        "# @markdown ---\n",
        "# @markdown **Training hyperparameters without vision**\n",
        "if model_architecture == \"ActorCritic\" or model_architecture == \"TeacherStudent\":\n",
        "    training_config = TrainingConfig(\n",
        "        num_timesteps=1_000_000 #@param {\"type\":\"integer\"}\n",
        "        ,\n",
        "        num_evals=5 #@param {\"type\":\"integer\"}\n",
        "        ,\n",
        "        reward_scaling=1 #@param {\"type\":\"integer\"}\n",
        "        ,\n",
        "        episode_length=1000 #@param {\"type\":\"integer\"}\n",
        "        ,\n",
        "        normalize_observations=True #@param {\"type\":\"boolean\"}\n",
        "        ,\n",
        "        action_repeat=1 #@param {\"type\":\"integer\"}\n",
        "        ,\n",
        "        unroll_length=10 #@param {\"type\":\"integer\"}\n",
        "        ,\n",
        "        num_minibatches=8 #@param {\"type\":\"integer\"}\n",
        "        ,\n",
        "        num_updates_per_batch=8 #@param {\"type\":\"integer\"}\n",
        "        ,\n",
        "        discounting=0.97 #@param {\"type\":\"number\"}\n",
        "        ,\n",
        "        learning_rate=0.0005  #@param {\"type\":\"number\"}\n",
        "        ,\n",
        "        entropy_cost=0.005  #@param {\"type\":\"number\"}\n",
        "        ,\n",
        "        num_envs=512 #@param {\"type\":\"integer\"}\n",
        "        ,\n",
        "        batch_size=256 #@param {\"type\":\"integer\"}\n",
        "    )\n",
        "    vision_config = None\n",
        "# @markdown ---\n",
        "# @markdown **Training hyperparameters with vision**\n",
        "elif model_architecture == \"TeacherStudentVision\":\n",
        "    training_config = TrainingWithVisionConfig(\n",
        "        num_timesteps=1_000_000 # @param {\"type\":\"integer\"}\n",
        "        ,\n",
        "        num_evals=5 # @param {\"type\":\"integer\"}\n",
        "        ,\n",
        "        reward_scaling=1 # @param {\"type\":\"integer\"}\n",
        "        ,\n",
        "        episode_length=1000 # @param {\"type\":\"integer\"}\n",
        "        ,\n",
        "        normalize_observations=True # @param {\"type\":\"boolean\"}\n",
        "        ,\n",
        "        action_repeat=1 # vision restriction\n",
        "        ,\n",
        "        unroll_length=10 # @param {\"type\":\"integer\"}\n",
        "        ,\n",
        "        num_minibatches=8 # @param {\"type\":\"integer\"}\n",
        "        ,\n",
        "        num_updates_per_batch=8 # @param {\"type\":\"integer\"}\n",
        "        ,\n",
        "        discounting=0.97 # @param {\"type\":\"number\"}\n",
        "        ,\n",
        "        learning_rate=0.0005  # @param {\"type\":\"number\"}\n",
        "        ,\n",
        "        entropy_cost=0.005  # @param {\"type\":\"number\"}\n",
        "        ,\n",
        "        num_envs=512 # @param {\"type\":\"integer\"}\n",
        "        ,\n",
        "        batch_size=256 # @param {\"type\":\"integer\"}\n",
        "    )\n",
        "# @markdown **Vision renderer parameters**\n",
        "    vision_config = VisionConfig(\n",
        "        render_batch_size=training_config.num_envs\n",
        "        ,\n",
        "        enabled_cameras=[0, 1, 2] # @param\n",
        "        ,\n",
        "        enabled_geom_groups=[0, 1, 2] # @param\n",
        "        ,\n",
        "        render_width=64 # @param {\"type\": \"integer\"}\n",
        "    )\n",
        "else:\n",
        "    raise NotImplementedError"
      ],
      "metadata": {
        "id": "9v7k-gt1_Yq8"
      },
      "id": "9v7k-gt1_Yq8",
      "execution_count": 9,
      "outputs": []
    },
    {
      "cell_type": "markdown",
      "source": [
        "### Save configs to a yaml file"
      ],
      "metadata": {
        "id": "Qt85mYUk7z4E"
      },
      "id": "Qt85mYUk7z4E"
    },
    {
      "cell_type": "code",
      "source": [
        "# @title #### Save configs\n",
        "from quadruped_mjx_rl.config_utils import save_configs\n",
        "# @markdown Fill out a name for the experiment and all configuration parameters.\n",
        "# @markdown If you want to add another experiment, change the parameters and run\n",
        "# @markdown this cell again.\n",
        "experiment_name = \"my_experiment\" # @param {type:\"string\"}\n",
        "config_file_path = configs_dir / f\"{experiment_name}.yaml\"\n",
        "configs_to_save = [robot_config, model_config, environment_config, training_config]\n",
        "if vision_config is not None:\n",
        "    configs_to_save.append(vision_config)\n",
        "save_configs(config_file_path, *configs_to_save)\n",
        "print(f\"Experiment configs saved to {config_file_path}\")"
      ],
      "metadata": {
        "id": "rLrv5OSa7559",
        "colab": {
          "base_uri": "https://localhost:8080/"
        },
        "outputId": "bec5b2c1-7f99-49ad-b03b-281546e7c82b"
      },
      "id": "rLrv5OSa7559",
      "execution_count": 10,
      "outputs": [
        {
          "output_type": "stream",
          "name": "stdout",
          "text": [
            "Experiment configs saved to experiments/configs/my_experiment.yaml\n"
          ]
        }
      ]
    },
    {
      "cell_type": "markdown",
      "source": [
        "## Training runs"
      ],
      "metadata": {
        "id": "SsQGJoge0Yjp"
      },
      "id": "SsQGJoge0Yjp"
    },
    {
      "cell_type": "code",
      "source": [
        "#@title List all configuration files\n",
        "!ls {configs_dir}"
      ],
      "metadata": {
        "colab": {
          "base_uri": "https://localhost:8080/"
        },
        "id": "EE81C3Ev9RRx",
        "outputId": "9b559624-a9be-49d2-da03-6eca081424ec"
      },
      "id": "EE81C3Ev9RRx",
      "execution_count": 11,
      "outputs": [
        {
          "output_type": "stream",
          "name": "stdout",
          "text": [
            "my_experiment.yaml  rollout_configs\n"
          ]
        }
      ]
    },
    {
      "cell_type": "code",
      "source": [
        "# @title Sequentially run training for all configurations\n",
        "from quadruped_mjx_rl.config_utils import prepare_configs\n",
        "from quadruped_mjx_rl.training import train\n",
        "from quadruped_mjx_rl import environments\n",
        "from quadruped_mjx_rl.environments import get_env_factory\n",
        "\n",
        "# @markdown Choose with which configs to train\n",
        "training_runs = None # @param {\"type\":\"raw\",\"placeholder\":\"[\\\"experiment_name1\\\", \\\"experiment_name2\\\", ... ]\"}\n",
        "# @markdown or\n",
        "run_them_all = True # @param {\"type\":\"boolean\"}\n",
        "if run_them_all:\n",
        "    training_runs = [\n",
        "        config_file.stem\n",
        "        for config_file in configs_dir.iterdir() if config_file.name.endswith(\".yaml\")\n",
        "    ]\n",
        "\n",
        "\n",
        "for experiment_name in training_runs:\n",
        "    config_path = configs_dir / f\"{experiment_name}.yaml\"\n",
        "    configs = prepare_configs(config_path)\n",
        "    environment_config = configs[\"environment\"]\n",
        "    robot_config = configs[\"robot\"]\n",
        "    model_config = configs[\"model\"]\n",
        "    training_config = configs[\"training\"]\n",
        "    vision_config = configs.get(\"vision\")\n",
        "\n",
        "    if isinstance(environment_config, environments.QuadrupedVisionEnvConfig):\n",
        "        scene_file = \"scene_mjx_vision.xml\"\n",
        "    else:\n",
        "        scene_file = \"scene_mjx.xml\"\n",
        "    init_scene_path = repo_path / \"resources\" / robot_config.robot_name / scene_file\n",
        "\n",
        "    env_factory, uses_vision = get_env_factory(\n",
        "        env_config=environment_config,\n",
        "        robot_config=robot_config,\n",
        "        init_scene_path=init_scene_path,\n",
        "    )\n",
        "\n",
        "    trained_policy_save_path = trained_policy_dir / f\"{experiment_name}\"\n",
        "\n",
        "    print(f\"Starting training for: {experiment_name}\")\n",
        "    train(\n",
        "        env_factory=env_factory,\n",
        "        model_config=model_config,\n",
        "        training_config=training_config,\n",
        "        model_save_path=trained_policy_save_path,\n",
        "        checkpoints_save_path=None, #TODO: enable\n",
        "        vision=uses_vision,\n",
        "        vision_config=vision_config,\n",
        "    )\n",
        "    print(f\"Trained policy saved to {trained_policy_save_path}\")"
      ],
      "metadata": {
        "id": "q5LBMWAO1lV-",
        "colab": {
          "base_uri": "https://localhost:8080/",
          "height": 1000
        },
        "outputId": "009c5c22-d7b9-4c9f-d908-10e15d9ba4f7",
        "collapsed": true
      },
      "id": "q5LBMWAO1lV-",
      "execution_count": 12,
      "outputs": [
        {
          "output_type": "stream",
          "name": "stdout",
          "text": [
            "Starting training for: my_experiment\n"
          ]
        },
        {
          "output_type": "stream",
          "name": "stderr",
          "text": [
            "/usr/local/lib/python3.11/dist-packages/brax/io/mjcf.py:480: UserWarning: Brax System, piplines and environments are not actively being maintained. Please see MJX for a well maintained JAX-based physics engine: https://github.com/google-deepmind/mujoco/tree/main/mjx. For a host of environments that use MJX, see: https://github.com/google-deepmind/mujoco_playground.\n",
            "  warnings.warn(\n",
            "/content/unitree-go2-mjx-rl/src/quadruped_mjx_rl/models/agents/ppo/raw_ppo/training.py:443: UserWarning: Explicitly requested dtype <class 'jax.numpy.int64'> requested in array is not available, and will be truncated to dtype int32. To enable more dtypes, set the jax_enable_x64 configuration option or the JAX_ENABLE_X64 shell environment variable. See https://github.com/jax-ml/jax#current-gotchas for more.\n",
            "  env_steps=jnp.array(0, dtype=jnp.int64),\n"
          ]
        },
        {
          "output_type": "display_data",
          "data": {
            "text/plain": [
              "<Figure size 640x480 with 1 Axes>"
            ],
            "image/png": "[encoded data removed]"
          },
          "metadata": {}
        },
        {
          "output_type": "display_data",
          "data": {
            "text/plain": [
              "<Figure size 640x480 with 1 Axes>"
            ],
            "image/png": "[encoded data removed]"
          },
          "metadata": {}
        },
        {
          "output_type": "display_data",
          "data": {
            "text/plain": [
              "<Figure size 640x480 with 1 Axes>"
            ],
            "image/png": "[encoded data removed]"
          },
          "metadata": {}
        },
        {
          "output_type": "display_data",
          "data": {
            "text/plain": [
              "<Figure size 640x480 with 1 Axes>"
            ],
            "image/png": "[encoded data removed]"
          },
          "metadata": {}
        },
        {
          "output_type": "display_data",
          "data": {
            "text/plain": [
              "<Figure size 640x480 with 1 Axes>"
            ],
            "image/png": "[encoded data removed]"
          },
          "metadata": {}
        },
        {
          "output_type": "stream",
          "name": "stdout",
          "text": [
            "time to jit: 0:02:01.439327\n",
            "time to train: 0:03:26.616924\n",
            "Trained policy saved to experiments/trained_policies/my_experiment\n"
          ]
        }
      ]
    },
    {
      "metadata": {
        "id": "c12f2f24636fdfe0"
      },
      "cell_type": "markdown",
      "source": [
        "# Results\n",
        "This section can be run independently from the training section, including after restarts and crashes. As long as all the created files remain in the session's disk memory."
      ],
      "id": "c12f2f24636fdfe0"
    },
    {
      "cell_type": "code",
      "source": [
        "#@title List all configured experiments\n",
        "!ls {configs_dir}"
      ],
      "metadata": {
        "colab": {
          "base_uri": "https://localhost:8080/"
        },
        "id": "Pycy46wVy5YT",
        "outputId": "a67d800a-dcfd-4216-d744-fd6d4545514c"
      },
      "id": "Pycy46wVy5YT",
      "execution_count": 13,
      "outputs": [
        {
          "output_type": "stream",
          "name": "stdout",
          "text": [
            "my_experiment.yaml  rollout_configs\n"
          ]
        }
      ]
    },
    {
      "cell_type": "code",
      "source": [
        "# @title Configure a rollout for rendering\n",
        "from quadruped_mjx_rl.config_utils import save_configs\n",
        "from quadruped_mjx_rl.policy_rendering import RenderConfig\n",
        "\n",
        "experiment_name = \"my_experiment\"  #@param {type:\"string\"}\n",
        "rollout_name = \"my_rollout\" # @param {type:\"string\"}\n",
        "\n",
        "n_steps = 500 # @param {\"type\":\"integer\"}\n",
        "render_every = 2 # @param {\"type\":\"integer\"}\n",
        "random_seed = 0 # @param {\"type\":\"integer\"}\n",
        "\n",
        "# @markdown ---\n",
        "# @markdown Joystick command for the robot to follow (in SI)\n",
        "x_vel = 1.0 # @param {\"type\":\"number\"}\n",
        "y_vel = 0.0 # @param {\"type\":\"number\"}\n",
        "ang_vel = 0.0 # @param {\"type\":\"number\"}\n",
        "\n",
        "render_config = RenderConfig(\n",
        "    n_steps=n_steps,\n",
        "    episode_length=n_steps * 2,\n",
        "    render_every=render_every,\n",
        "    seed=random_seed,\n",
        "    command={\n",
        "        \"x_vel\": x_vel,\n",
        "        \"y_vel\": y_vel,\n",
        "        \"ang_vel\": ang_vel,\n",
        "    },\n",
        ")\n",
        "\n",
        "config_file_path = rollout_configs_dir / f\"{experiment_name}_rendering_{rollout_name}.yaml\"\n",
        "save_configs(config_file_path, render_config)\n",
        "print(f\"Rollout configs saved to {config_file_path}\")"
      ],
      "metadata": {
        "colab": {
          "base_uri": "https://localhost:8080/"
        },
        "id": "kc97NpZXyav4",
        "outputId": "03072792-15a2-49c3-b57d-bbd40c9647dc"
      },
      "id": "kc97NpZXyav4",
      "execution_count": 15,
      "outputs": [
        {
          "output_type": "stream",
          "name": "stdout",
          "text": [
            "Rollout configs saved to experiments/configs/rollout_configs/my_experiment_rendering_my_rollout.yaml\n"
          ]
        }
      ]
    },
    {
      "cell_type": "code",
      "source": [
        "# @title Render all configured policy rollouts\n",
        "from quadruped_mjx_rl.policy_rendering import render_policy_rollout\n",
        "from quadruped_mjx_rl import environments\n",
        "from quadruped_mjx_rl.environments import get_env_factory\n",
        "from quadruped_mjx_rl.config_utils import prepare_configs\n",
        "\n",
        "# @markdown All rollouts present will be rendered\n",
        "delete_rollouts_after_rendering = True # @param {\"type\":\"boolean\"}\n",
        "save_rollout_gifs = True # @param {\"type\":\"boolean\"}\n",
        "\n",
        "for experiment_config_file in configs_dir.iterdir():\n",
        "    if not experiment_config_file.name.endswith(\".yaml\"):\n",
        "        continue\n",
        "    experiment_name = experiment_config_file.stem\n",
        "    configs = prepare_configs(experiment_config_file)\n",
        "    environment_config = configs[\"environment\"]\n",
        "    robot_config = configs[\"robot\"]\n",
        "    model_config = configs[\"model\"]\n",
        "    vision_config = configs.get(\"vision\")\n",
        "\n",
        "    init_scene_path = repo_path / \"resources\" / robot_config.robot_name / \"scene_mjx.xml\"\n",
        "\n",
        "    env_factory, vision = get_env_factory(\n",
        "        env_config=environment_config,\n",
        "        robot_config=robot_config,\n",
        "        init_scene_path=init_scene_path,\n",
        "    )\n",
        "\n",
        "    trained_policy = trained_policy_dir / f\"{experiment_name}\"\n",
        "\n",
        "    rollout_configs_list = []\n",
        "    for rollout_config_file in rollout_configs_dir.iterdir():\n",
        "        if (\n",
        "            not rollout_config_file.name.endswith(\".yaml\")\n",
        "            or \"_rendering_\" not in rollout_config_file.name\n",
        "            or experiment_name != rollout_config_file.name.split(\"_rendering_\")[0]\n",
        "        ):\n",
        "            continue\n",
        "        rollout_configs_list.append(rollout_config_file)\n",
        "\n",
        "        render_config = prepare_configs(rollout_config_file)[\"render\"]\n",
        "\n",
        "        if save_rollout_gifs:\n",
        "            animation_save_path = animations_dir / f\"{rollout_config_file.stem}.gif\"\n",
        "        else:\n",
        "            animation_save_path = None\n",
        "\n",
        "        render_policy_rollout(\n",
        "            env_factory=env_factory,\n",
        "            model_config=model_config,\n",
        "            trained_model_path=trained_policy,\n",
        "            render_config=render_config,\n",
        "            animation_save_path=animation_save_path,\n",
        "            vision=vision,\n",
        "        )\n",
        "\n",
        "    if delete_rollouts_after_rendering:\n",
        "        for rollout_config_file in rollout_configs_list:\n",
        "            rollout_config_file.unlink()"
      ],
      "metadata": {
        "id": "8HeGg0vmxTDB",
        "outputId": "c2868bc8-c661-460b-a55e-6cf16aa94e86",
        "colab": {
          "base_uri": "https://localhost:8080/"
        }
      },
      "id": "8HeGg0vmxTDB",
      "execution_count": 18,
      "outputs": [
        {
          "output_type": "stream",
          "name": "stderr",
          "text": [
            "/usr/local/lib/python3.11/dist-packages/brax/io/mjcf.py:480: UserWarning: Brax System, piplines and environments are not actively being maintained. Please see MJX for a well maintained JAX-based physics engine: https://github.com/google-deepmind/mujoco/tree/main/mjx. For a host of environments that use MJX, see: https://github.com/google-deepmind/mujoco_playground.\n",
            "  warnings.warn(\n"
          ]
        }
      ]
    },
    {
      "cell_type": "code",
      "source": [
        "# @title Saving results\n",
        "from google.colab import files, drive\n",
        "from etils.epath import Path\n",
        "\n",
        "# @markdown (This can be run in a separate session)\n",
        "\n",
        "# @markdown Choose what you want to save\n",
        "policies = True # @param {\"type\":\"boolean\"}\n",
        "rollout_gifs = True # @param {\"type\":\"boolean\"}\n",
        "config_files = True # @param {\"type\":\"boolean\"}\n",
        "# @markdown Only the configs for the training are saved\n",
        "\n",
        "# @markdown Choose whether you want to download your results\n",
        "download_results = False # @ param {\"type\":\"boolean\"}\n",
        "\n",
        "# @markdown Choose whether you want to save results to your Google drive\n",
        "save_to_drive = True # @param {\"type\":\"boolean\"}\n",
        "drive_save_folder = \"quadruped_mjx_rl_Results\" # @param {type:\"string\"}\n",
        "if save_to_drive:\n",
        "    drive.mount('/content/drive')\n",
        "\n",
        "for do_save, directory in zip(\n",
        "    [policies, rollout_gifs, config_files], [trained_policy_dir, animations_dir, configs_dir],\n",
        "):\n",
        "    if not do_save:\n",
        "        continue\n",
        "    for file_path in directory.iterdir():\n",
        "        if file_path.is_dir():\n",
        "            continue\n",
        "        if download_results:\n",
        "            files.download(file_path)\n",
        "        if save_to_drive:\n",
        "            drive_dir = Path(f\"/content/drive/MyDrive/{drive_save_folder}/{directory.name}\")\n",
        "            drive_dir.mkdir(parents=True, exist_ok=True)\n",
        "            file_path.copy(\n",
        "                dst=drive_dir / file_path.name, overwrite=True\n",
        "            )\n",
        "\n",
        "if save_to_drive:\n",
        "    drive.flush_and_unmount()"
      ],
      "metadata": {
        "colab": {
          "base_uri": "https://localhost:8080/"
        },
        "id": "5zH157Liqtvq",
        "outputId": "50d3a773-d104-4938-d1f1-e5020b84375e"
      },
      "id": "5zH157Liqtvq",
      "execution_count": 19,
      "outputs": [
        {
          "output_type": "stream",
          "name": "stdout",
          "text": [
            "Mounted at /content/drive\n"
          ]
        }
      ]
    }
  ],
  "metadata": {
    "kernelspec": {
      "display_name": "Python 3",
      "name": "python3"
    },
    "language_info": {
      "codemirror_mode": {
        "name": "ipython",
        "version": 2
      },
      "file_extension": ".py",
      "mimetype": "text/x-python",
      "name": "python",
      "nbconvert_exporter": "python",
      "pygments_lexer": "ipython2",
      "version": "2.7.6"
    },
    "colab": {
      "provenance": [],
      "gpuType": "T4",
      "include_colab_link": true
    },
    "accelerator": "GPU"
  },
  "nbformat": 4,
  "nbformat_minor": 5
}