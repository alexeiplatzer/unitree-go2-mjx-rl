{
  "cells": [
    {
      "cell_type": "markdown",
      "metadata": {
        "id": "view-in-github",
        "colab_type": "text"
      },
      "source": [
        "<a href=\"https://colab.research.google.com/github/alexeiplatzer/unitree-go2-mjx-rl/blob/main/notebooks/Universal.ipynb\" target=\"_parent\"><img src=\"https://colab.research.google.com/assets/colab-badge.svg\" alt=\"Open In Colab\"/></a>"
      ]
    },
    {
      "metadata": {
        "id": "f4d6a6a44d14ed1b"
      },
      "cell_type": "markdown",
      "source": [
        "# **Univeral Notebook for Quadruped RL Training in MJX**\n",
        "This notebook uses the `quadruped-mjx-rl` python package from the `unitree-go2-mjx-rl` repository to train locomotion policies for quadrupeds using reinforcement learning in the Mujoco XLA (MJX) simulation environment."
      ],
      "id": "f4d6a6a44d14ed1b"
    },
    {
      "metadata": {
        "id": "e3a9f2f1b31ad2d8"
      },
      "cell_type": "markdown",
      "source": [
        "# Hardware Setup\n",
        "This part sets up the `quadruped-mjx-rl` package on the machine."
      ],
      "id": "e3a9f2f1b31ad2d8"
    },
    {
      "cell_type": "code",
      "source": [
        "#@title run this cell once each time on a new machine\n",
        "#@markdown #### Setup configuration\n",
        "\n",
        "#@markdown Choose your hardware option:\n",
        "hardware = \"Colab\" #@param [\"local\",\"Colab\",\"Kaggle\"]\n",
        "\n",
        "#@markdown Choose whether you want to build the madrona rendering setup for training\n",
        "#@markdown with vision:\n",
        "build_madrona_backend = False #@param {\"type\":\"boolean\"}\n",
        "\n",
        "#@markdown Choose if you want to pull changes to the package repository during the runtime.\n",
        "#@markdown (Requires a restart after executing this cell!)\n",
        "editable_mode = True #@param {\"type\":\"boolean\"}\n",
        "\n",
        "if build_madrona_backend:\n",
        "    # Install madrona MJX\n",
        "    import time\n",
        "    print(\"Intalling Madrona MJX...\")\n",
        "    start_time = time.perf_counter()\n",
        "\n",
        "    print(\"Setting up environment... (Step 1/3)\")\n",
        "\n",
        "    if hardware==\"Kaggle\":\n",
        "        # Install the 12.4 cuda toolkit\n",
        "        !wget -qO cuda-keyring.deb https://developer.download.nvidia.com/compute/cuda/repos/ubuntu2204/x86_64/cuda-keyring_1.1-1_all.deb\n",
        "        !sudo dpkg -i ./cuda-keyring.deb\n",
        "        !sudo apt-get update -y -qq\n",
        "        !sudo apt-get install -y -qq cuda-toolkit-12-4\n",
        "        %CUDA_HOME=/usr/local/cuda-12.4\n",
        "        %CUDAToolkit_ROOT=/usr/local/cuda-12.4\n",
        "        %XLA_FLAGS=\"--xla_gpu_cuda_data_dir=/usr/local/cuda-12.4\"\n",
        "        %PATH=\"/usr/local/cuda-12.4/bin:$PATH\"\n",
        "        %LD_LIBRARY_PATH=\"/usr/local/cuda-12.4/lib64:${LD_LIBRARY_PATH}\"\n",
        "\n",
        "    !pip install jax[\"cuda12\"]==0.5.2\n",
        "\n",
        "    !sudo apt install libx11-dev libxrandr-dev libxinerama-dev libxcursor-dev libxi-dev mesa-common-dev\n",
        "\n",
        "    !mkdir modules\n",
        "    !git clone https://github.com/shacklettbp/madrona_mjx.git modules/madrona_mjx\n",
        "    !git -C modules/madrona_mjx submodule update --init --recursive\n",
        "    !mkdir modules/madrona_mjx/build\n",
        "\n",
        "    print(\"Building the Madrona backend ... (Step 2/3)\")\n",
        "    !cmake -S modules/madrona_mjx -B modules/madrona_mjx/build -DLOAD_VULKAN=OFF\n",
        "    !cmake --build modules/madrona_mjx/build -j\n",
        "\n",
        "    print (\"Installing Madrona MJX ... (Step 3/3)\")\n",
        "    !pip install modules/madrona_mjx\n",
        "\n",
        "    minutes, seconds = divmod((time.perf_counter() - start_time), 60)\n",
        "    print(f\"Finished installing Madrona MJX in {minutes} m {seconds:.2f} s\")\n",
        "\n",
        "# Clones and installs our Quadruped RL package\n",
        "!git clone https://github.com/alexeiplatzer/unitree-go2-mjx-rl.git\n",
        "if editable_mode:\n",
        "    !pip install -e unitree-go2-mjx-rl\n",
        "else:\n",
        "    !pip install unitree-go2-mjx-rl"
      ],
      "metadata": {
        "id": "Kg6Ab0jgovuC",
        "collapsed": true,
        "colab": {
          "base_uri": "https://localhost:8080/",
          "height": 1000
        },
        "outputId": "ee7e5a74-1d13-4502-d5d6-350d1c731660",
        "cellView": "form"
      },
      "id": "Kg6Ab0jgovuC",
      "execution_count": 1,
      "outputs": [
        {
          "output_type": "stream",
          "name": "stdout",
          "text": [
            "fatal: destination path 'unitree-go2-mjx-rl' already exists and is not an empty directory.\n",
            "Obtaining file:///content/unitree-go2-mjx-rl\n",
            "  Installing build dependencies ... \u001b[?25l\u001b[?25hdone\n",
            "  Checking if build backend supports build_editable ... \u001b[?25l\u001b[?25hdone\n",
            "  Getting requirements to build editable ... \u001b[?25l\u001b[?25hdone\n",
            "  Preparing editable metadata (pyproject.toml) ... \u001b[?25l\u001b[?25hdone\n",
            "Requirement already satisfied: mujoco==3.3.4 in /usr/local/lib/python3.12/dist-packages (from quadruped_mjx_rl==0.0.1) (3.3.4)\n",
            "Requirement already satisfied: mujoco_mjx==3.3.4 in /usr/local/lib/python3.12/dist-packages (from quadruped_mjx_rl==0.0.1) (3.3.4)\n",
            "Requirement already satisfied: brax==0.12.4 in /usr/local/lib/python3.12/dist-packages (from quadruped_mjx_rl==0.0.1) (0.12.4)\n",
            "Requirement already satisfied: mediapy in /usr/local/lib/python3.12/dist-packages (from quadruped_mjx_rl==0.0.1) (1.2.4)\n",
            "Requirement already satisfied: ml_collections in /usr/local/lib/python3.12/dist-packages (from quadruped_mjx_rl==0.0.1) (1.1.0)\n",
            "Requirement already satisfied: pyyaml in /usr/local/lib/python3.12/dist-packages (from quadruped_mjx_rl==0.0.1) (6.0.2)\n",
            "Requirement already satisfied: dacite==1.9.2 in /usr/local/lib/python3.12/dist-packages (from quadruped_mjx_rl==0.0.1) (1.9.2)\n",
            "Requirement already satisfied: jax==0.5.2 in /usr/local/lib/python3.12/dist-packages (from quadruped_mjx_rl==0.0.1) (0.5.2)\n",
            "Requirement already satisfied: numpy in /usr/local/lib/python3.12/dist-packages (from quadruped_mjx_rl==0.0.1) (2.0.2)\n",
            "Requirement already satisfied: flax==0.10.6 in /usr/local/lib/python3.12/dist-packages (from quadruped_mjx_rl==0.0.1) (0.10.6)\n",
            "Requirement already satisfied: matplotlib in /usr/local/lib/python3.12/dist-packages (from quadruped_mjx_rl==0.0.1) (3.10.0)\n",
            "Requirement already satisfied: orbax==0.1.9 in /usr/local/lib/python3.12/dist-packages (from quadruped_mjx_rl==0.0.1) (0.1.9)\n",
            "Requirement already satisfied: tqdm in /usr/local/lib/python3.12/dist-packages (from quadruped_mjx_rl==0.0.1) (4.67.1)\n",
            "Requirement already satisfied: optax==0.2.4 in /usr/local/lib/python3.12/dist-packages (from quadruped_mjx_rl==0.0.1) (0.2.4)\n",
            "Requirement already satisfied: IPython in /usr/local/lib/python3.12/dist-packages (from quadruped_mjx_rl==0.0.1) (7.34.0)\n",
            "Requirement already satisfied: absl-py in /usr/local/lib/python3.12/dist-packages (from brax==0.12.4->quadruped_mjx_rl==0.0.1) (1.4.0)\n",
            "Requirement already satisfied: etils in /usr/local/lib/python3.12/dist-packages (from brax==0.12.4->quadruped_mjx_rl==0.0.1) (1.13.0)\n",
            "Requirement already satisfied: flask in /usr/local/lib/python3.12/dist-packages (from brax==0.12.4->quadruped_mjx_rl==0.0.1) (3.1.2)\n",
            "Requirement already satisfied: flask-cors in /usr/local/lib/python3.12/dist-packages (from brax==0.12.4->quadruped_mjx_rl==0.0.1) (6.0.1)\n",
            "Requirement already satisfied: jaxlib>=0.4.6 in /usr/local/lib/python3.12/dist-packages (from brax==0.12.4->quadruped_mjx_rl==0.0.1) (0.5.1)\n",
            "Requirement already satisfied: jaxopt in /usr/local/lib/python3.12/dist-packages (from brax==0.12.4->quadruped_mjx_rl==0.0.1) (0.8.5)\n",
            "Requirement already satisfied: jinja2 in /usr/local/lib/python3.12/dist-packages (from brax==0.12.4->quadruped_mjx_rl==0.0.1) (3.1.6)\n",
            "Requirement already satisfied: orbax-checkpoint in /usr/local/lib/python3.12/dist-packages (from brax==0.12.4->quadruped_mjx_rl==0.0.1) (0.11.24)\n",
            "Requirement already satisfied: pillow in /usr/local/lib/python3.12/dist-packages (from brax==0.12.4->quadruped_mjx_rl==0.0.1) (11.3.0)\n",
            "Requirement already satisfied: scipy in /usr/local/lib/python3.12/dist-packages (from brax==0.12.4->quadruped_mjx_rl==0.0.1) (1.16.1)\n",
            "Requirement already satisfied: tensorboardx in /usr/local/lib/python3.12/dist-packages (from brax==0.12.4->quadruped_mjx_rl==0.0.1) (2.6.4)\n",
            "Requirement already satisfied: trimesh in /usr/local/lib/python3.12/dist-packages (from brax==0.12.4->quadruped_mjx_rl==0.0.1) (4.8.1)\n",
            "Requirement already satisfied: typing-extensions in /usr/local/lib/python3.12/dist-packages (from brax==0.12.4->quadruped_mjx_rl==0.0.1) (4.15.0)\n",
            "Requirement already satisfied: msgpack in /usr/local/lib/python3.12/dist-packages (from flax==0.10.6->quadruped_mjx_rl==0.0.1) (1.1.1)\n",
            "Requirement already satisfied: tensorstore in /usr/local/lib/python3.12/dist-packages (from flax==0.10.6->quadruped_mjx_rl==0.0.1) (0.1.76)\n",
            "Requirement already satisfied: rich>=11.1 in /usr/local/lib/python3.12/dist-packages (from flax==0.10.6->quadruped_mjx_rl==0.0.1) (13.9.4)\n",
            "Requirement already satisfied: treescope>=0.1.7 in /usr/local/lib/python3.12/dist-packages (from flax==0.10.6->quadruped_mjx_rl==0.0.1) (0.1.10)\n",
            "Requirement already satisfied: ml_dtypes>=0.4.0 in /usr/local/lib/python3.12/dist-packages (from jax==0.5.2->quadruped_mjx_rl==0.0.1) (0.5.3)\n",
            "Requirement already satisfied: opt_einsum in /usr/local/lib/python3.12/dist-packages (from jax==0.5.2->quadruped_mjx_rl==0.0.1) (3.4.0)\n",
            "Requirement already satisfied: glfw in /usr/local/lib/python3.12/dist-packages (from mujoco==3.3.4->quadruped_mjx_rl==0.0.1) (2.9.0)\n",
            "Requirement already satisfied: pyopengl in /usr/local/lib/python3.12/dist-packages (from mujoco==3.3.4->quadruped_mjx_rl==0.0.1) (3.1.10)\n",
            "Requirement already satisfied: chex>=0.1.87 in /usr/local/lib/python3.12/dist-packages (from optax==0.2.4->quadruped_mjx_rl==0.0.1) (0.1.90)\n",
            "Requirement already satisfied: setuptools>=18.5 in /usr/local/lib/python3.12/dist-packages (from IPython->quadruped_mjx_rl==0.0.1) (75.2.0)\n",
            "Requirement already satisfied: jedi>=0.16 in /usr/local/lib/python3.12/dist-packages (from IPython->quadruped_mjx_rl==0.0.1) (0.19.2)\n",
            "Requirement already satisfied: decorator in /usr/local/lib/python3.12/dist-packages (from IPython->quadruped_mjx_rl==0.0.1) (4.4.2)\n",
            "Requirement already satisfied: pickleshare in /usr/local/lib/python3.12/dist-packages (from IPython->quadruped_mjx_rl==0.0.1) (0.7.5)\n",
            "Requirement already satisfied: traitlets>=4.2 in /usr/local/lib/python3.12/dist-packages (from IPython->quadruped_mjx_rl==0.0.1) (5.7.1)\n",
            "Requirement already satisfied: prompt-toolkit!=3.0.0,!=3.0.1,<3.1.0,>=2.0.0 in /usr/local/lib/python3.12/dist-packages (from IPython->quadruped_mjx_rl==0.0.1) (3.0.52)\n",
            "Requirement already satisfied: pygments in /usr/local/lib/python3.12/dist-packages (from IPython->quadruped_mjx_rl==0.0.1) (2.19.2)\n",
            "Requirement already satisfied: backcall in /usr/local/lib/python3.12/dist-packages (from IPython->quadruped_mjx_rl==0.0.1) (0.2.0)\n",
            "Requirement already satisfied: matplotlib-inline in /usr/local/lib/python3.12/dist-packages (from IPython->quadruped_mjx_rl==0.0.1) (0.1.7)\n",
            "Requirement already satisfied: pexpect>4.3 in /usr/local/lib/python3.12/dist-packages (from IPython->quadruped_mjx_rl==0.0.1) (4.9.0)\n",
            "Requirement already satisfied: contourpy>=1.0.1 in /usr/local/lib/python3.12/dist-packages (from matplotlib->quadruped_mjx_rl==0.0.1) (1.3.3)\n",
            "Requirement already satisfied: cycler>=0.10 in /usr/local/lib/python3.12/dist-packages (from matplotlib->quadruped_mjx_rl==0.0.1) (0.12.1)\n",
            "Requirement already satisfied: fonttools>=4.22.0 in /usr/local/lib/python3.12/dist-packages (from matplotlib->quadruped_mjx_rl==0.0.1) (4.59.2)\n",
            "Requirement already satisfied: kiwisolver>=1.3.1 in /usr/local/lib/python3.12/dist-packages (from matplotlib->quadruped_mjx_rl==0.0.1) (1.4.9)\n",
            "Requirement already satisfied: packaging>=20.0 in /usr/local/lib/python3.12/dist-packages (from matplotlib->quadruped_mjx_rl==0.0.1) (25.0)\n",
            "Requirement already satisfied: pyparsing>=2.3.1 in /usr/local/lib/python3.12/dist-packages (from matplotlib->quadruped_mjx_rl==0.0.1) (3.2.3)\n",
            "Requirement already satisfied: python-dateutil>=2.7 in /usr/local/lib/python3.12/dist-packages (from matplotlib->quadruped_mjx_rl==0.0.1) (2.9.0.post0)\n",
            "Requirement already satisfied: toolz>=0.9.0 in /usr/local/lib/python3.12/dist-packages (from chex>=0.1.87->optax==0.2.4->quadruped_mjx_rl==0.0.1) (0.12.1)\n",
            "Requirement already satisfied: parso<0.9.0,>=0.8.4 in /usr/local/lib/python3.12/dist-packages (from jedi>=0.16->IPython->quadruped_mjx_rl==0.0.1) (0.8.5)\n",
            "Requirement already satisfied: nest_asyncio in /usr/local/lib/python3.12/dist-packages (from orbax-checkpoint->brax==0.12.4->quadruped_mjx_rl==0.0.1) (1.6.0)\n",
            "Requirement already satisfied: aiofiles in /usr/local/lib/python3.12/dist-packages (from orbax-checkpoint->brax==0.12.4->quadruped_mjx_rl==0.0.1) (24.1.0)\n",
            "Requirement already satisfied: protobuf in /usr/local/lib/python3.12/dist-packages (from orbax-checkpoint->brax==0.12.4->quadruped_mjx_rl==0.0.1) (5.29.5)\n",
            "Requirement already satisfied: humanize in /usr/local/lib/python3.12/dist-packages (from orbax-checkpoint->brax==0.12.4->quadruped_mjx_rl==0.0.1) (4.13.0)\n",
            "Requirement already satisfied: simplejson>=3.16.0 in /usr/local/lib/python3.12/dist-packages (from orbax-checkpoint->brax==0.12.4->quadruped_mjx_rl==0.0.1) (3.20.1)\n",
            "Requirement already satisfied: ptyprocess>=0.5 in /usr/local/lib/python3.12/dist-packages (from pexpect>4.3->IPython->quadruped_mjx_rl==0.0.1) (0.7.0)\n",
            "Requirement already satisfied: wcwidth in /usr/local/lib/python3.12/dist-packages (from prompt-toolkit!=3.0.0,!=3.0.1,<3.1.0,>=2.0.0->IPython->quadruped_mjx_rl==0.0.1) (0.2.13)\n",
            "Requirement already satisfied: six>=1.5 in /usr/local/lib/python3.12/dist-packages (from python-dateutil>=2.7->matplotlib->quadruped_mjx_rl==0.0.1) (1.17.0)\n",
            "Requirement already satisfied: markdown-it-py>=2.2.0 in /usr/local/lib/python3.12/dist-packages (from rich>=11.1->flax==0.10.6->quadruped_mjx_rl==0.0.1) (4.0.0)\n",
            "Requirement already satisfied: fsspec in /usr/local/lib/python3.12/dist-packages (from etils[epath]->mujoco==3.3.4->quadruped_mjx_rl==0.0.1) (2025.3.0)\n",
            "Requirement already satisfied: importlib_resources in /usr/local/lib/python3.12/dist-packages (from etils[epath]->mujoco==3.3.4->quadruped_mjx_rl==0.0.1) (6.5.2)\n",
            "Requirement already satisfied: zipp in /usr/local/lib/python3.12/dist-packages (from etils[epath]->mujoco==3.3.4->quadruped_mjx_rl==0.0.1) (3.23.0)\n",
            "Requirement already satisfied: blinker>=1.9.0 in /usr/local/lib/python3.12/dist-packages (from flask->brax==0.12.4->quadruped_mjx_rl==0.0.1) (1.9.0)\n",
            "Requirement already satisfied: click>=8.1.3 in /usr/local/lib/python3.12/dist-packages (from flask->brax==0.12.4->quadruped_mjx_rl==0.0.1) (8.2.1)\n",
            "Requirement already satisfied: itsdangerous>=2.2.0 in /usr/local/lib/python3.12/dist-packages (from flask->brax==0.12.4->quadruped_mjx_rl==0.0.1) (2.2.0)\n",
            "Requirement already satisfied: markupsafe>=2.1.1 in /usr/local/lib/python3.12/dist-packages (from flask->brax==0.12.4->quadruped_mjx_rl==0.0.1) (3.0.2)\n",
            "Requirement already satisfied: werkzeug>=3.1.0 in /usr/local/lib/python3.12/dist-packages (from flask->brax==0.12.4->quadruped_mjx_rl==0.0.1) (3.1.3)\n",
            "Requirement already satisfied: mdurl~=0.1 in /usr/local/lib/python3.12/dist-packages (from markdown-it-py>=2.2.0->rich>=11.1->flax==0.10.6->quadruped_mjx_rl==0.0.1) (0.1.2)\n",
            "Building wheels for collected packages: quadruped_mjx_rl\n",
            "  Building editable for quadruped_mjx_rl (pyproject.toml) ... \u001b[?25l\u001b[?25hdone\n",
            "  Created wheel for quadruped_mjx_rl: filename=quadruped_mjx_rl-0.0.1-0.editable-py3-none-any.whl size=1943 sha256=a21af704bb5192610e5f5b14fdaaa7bb1c85b8f7315b35608af8fcac402a9672\n",
            "  Stored in directory: /tmp/pip-ephem-wheel-cache-2b3m565v/wheels/69/a8/f7/6388f9792c334613332ec581d654046b6dcb0f2561a271a157\n",
            "Successfully built quadruped_mjx_rl\n",
            "Installing collected packages: quadruped_mjx_rl\n",
            "  Attempting uninstall: quadruped_mjx_rl\n",
            "    Found existing installation: quadruped_mjx_rl 0.0.1\n",
            "    Uninstalling quadruped_mjx_rl-0.0.1:\n",
            "      Successfully uninstalled quadruped_mjx_rl-0.0.1\n",
            "Successfully installed quadruped_mjx_rl-0.0.1\n"
          ]
        },
        {
          "output_type": "display_data",
          "data": {
            "application/vnd.colab-display-data+json": {
              "pip_warning": {
                "packages": [
                  "quadruped_mjx_rl"
                ]
              },
              "id": "7c517ef70e754877a6d2cc4ca5e696fc"
            }
          },
          "metadata": {}
        }
      ]
    },
    {
      "cell_type": "markdown",
      "source": [
        "### Now restart the session and continue.\n",
        "### You can skip setup next time while you are on the same machine."
      ],
      "metadata": {
        "id": "W-4afCIErqZU"
      },
      "id": "W-4afCIErqZU"
    },
    {
      "metadata": {
        "id": "e01c74e8011bcec3"
      },
      "cell_type": "markdown",
      "source": [
        "# Session setup\n",
        "Run once in the beggining of every session, i.e. after restarts and crashes."
      ],
      "id": "e01c74e8011bcec3"
    },
    {
      "cell_type": "code",
      "source": [
        "# @title Refresh the package if any necessary changes have been pushed. Important in development\n",
        "repo_path = \"./unitree-go2-mjx-rl\"\n",
        "!git -C {repo_path} pull"
      ],
      "metadata": {
        "id": "kYg-MhCgz2tZ",
        "cellView": "form",
        "outputId": "d087cacb-ff1a-42d8-a104-4c3737b76b51",
        "colab": {
          "base_uri": "https://localhost:8080/"
        }
      },
      "id": "kYg-MhCgz2tZ",
      "execution_count": 7,
      "outputs": [
        {
          "output_type": "stream",
          "name": "stdout",
          "text": [
            "remote: Enumerating objects: 6, done.\u001b[K\n",
            "remote: Counting objects:  16% (1/6)\u001b[K\rremote: Counting objects:  33% (2/6)\u001b[K\rremote: Counting objects:  50% (3/6)\u001b[K\rremote: Counting objects:  66% (4/6)\u001b[K\rremote: Counting objects:  83% (5/6)\u001b[K\rremote: Counting objects: 100% (6/6)\u001b[K\rremote: Counting objects: 100% (6/6), done.\u001b[K\n",
            "remote: Total 6 (delta 4), reused 6 (delta 4), pack-reused 0 (from 0)\u001b[K\n",
            "Unpacking objects:  16% (1/6)\rUnpacking objects:  33% (2/6)\rUnpacking objects:  50% (3/6)\rUnpacking objects:  66% (4/6)\rUnpacking objects:  83% (5/6)\rUnpacking objects: 100% (6/6)\rUnpacking objects: 100% (6/6), 495 bytes | 247.00 KiB/s, done.\n",
            "From https://github.com/alexeiplatzer/unitree-go2-mjx-rl\n",
            "   6c75107..3341918  main       -> origin/main\n",
            "Updating 6c75107..3341918\n",
            "Fast-forward\n",
            " src/quadruped_mjx_rl/terrain_gen/obstacles.py | 2 \u001b[32m+\u001b[m\u001b[31m-\u001b[m\n",
            " 1 file changed, 1 insertion(+), 1 deletion(-)\n"
          ]
        }
      ]
    },
    {
      "cell_type": "code",
      "source": [
        "# @title Configuration for both local and for Colab instances.\n",
        "\n",
        "# Configure logging\n",
        "import logging\n",
        "logging.basicConfig(level=logging.INFO, force=True)\n",
        "logging.info(\"Logging switched on.\")\n",
        "\n",
        "import os\n",
        "\n",
        "#@markdown Choose your hardware option:\n",
        "hardware = \"Colab\" #@param [\"local\",\"Colab\",\"Kaggle\"]\n",
        "\n",
        "#@markdown Choose whether you want to build the madrona rendering setup for training\n",
        "#@markdown with vision:\n",
        "build_madrona_backend = False #@param {\"type\":\"boolean\"}\n",
        "\n",
        "if build_madrona_backend:\n",
        "    from pathlib import Path\n",
        "    # On your second reading, load the compiled rendering backend to save time!\n",
        "    cache_path = Path(\"modules/madrona_mjx/build/cache\")\n",
        "    if cache_path.exists():\n",
        "        os.environ[\"MADRONA_MWGPU_KERNEL_CACHE\"] = \"modules/madrona_mjx/build/cache\"\n",
        "    # Ensure that Madrona gets the chance to pre-allocate memory before Jax\n",
        "    os.environ[\"XLA_PYTHON_CLIENT_PREALLOCATE\"] = \"false\"\n",
        "\n",
        "# Check if MuJoCo installation was successful\n",
        "import subprocess\n",
        "if subprocess.run('nvidia-smi').returncode:\n",
        "    raise RuntimeError(\n",
        "        'Cannot communicate with GPU. '\n",
        "        'Make sure you are using a GPU Colab runtime. '\n",
        "        'Go to the Runtime menu and select Choose runtime type.'\n",
        "    )\n",
        "\n",
        "# Add an ICD config so that glvnd can pick up the Nvidia EGL driver.\n",
        "# This is usually installed as part of an Nvidia driver package, but the Colab\n",
        "# kernel doesn't install its driver via APT, and as a result the ICD is missing.\n",
        "# (https://github.com/NVIDIA/libglvnd/blob/master/src/EGL/icd_enumeration.md)\n",
        "NVIDIA_ICD_CONFIG_PATH = '/usr/share/glvnd/egl_vendor.d/10_nvidia.json'\n",
        "if not os.path.exists(NVIDIA_ICD_CONFIG_PATH):\n",
        "    with open(NVIDIA_ICD_CONFIG_PATH, 'w') as f:\n",
        "        f.write(\"\"\"{\n",
        "        \"file_format_version\" : \"1.0.0\",\n",
        "        \"ICD\" : {\n",
        "            \"library_path\" : \"libEGL_nvidia.so.0\"\n",
        "        }\n",
        "    }\n",
        "    \"\"\")\n",
        "\n",
        "# Configure MuJoCo to use the EGL rendering backend (requires GPU)\n",
        "print('Setting environment variable to use GPU rendering:')\n",
        "%env MUJOCO_GL=egl\n",
        "\n",
        "try:\n",
        "    print('Checking that the installation succeeded:')\n",
        "    import mujoco\n",
        "\n",
        "    mujoco.MjModel.from_xml_string('<mujoco/>')\n",
        "except Exception as e:\n",
        "    raise e from RuntimeError(\n",
        "        'Something went wrong during installation. Check the shell output above '\n",
        "        'for more information.\\n'\n",
        "        'If using a hosted Colab runtime, make sure you enable GPU acceleration '\n",
        "        'by going to the Runtime menu and selecting \"Choose runtime type\".'\n",
        "    )\n",
        "\n",
        "print('Installation successful.')\n",
        "\n",
        "# Tell XLA to use Triton GEMM, this improves steps/sec by ~30% on some GPUs\n",
        "xla_flags = os.environ.get('XLA_FLAGS', '')\n",
        "xla_flags += ' --xla_gpu_triton_gemm_any=True'\n",
        "os.environ['XLA_FLAGS'] = xla_flags\n",
        "\n",
        "# More legible printing from numpy.\n",
        "import numpy as np\n",
        "np.set_printoptions(precision=3, suppress=True, linewidth=100)\n",
        "\n",
        "# Prepare directories\n",
        "from etils.epath import Path\n",
        "repo_path = Path(\"unitree-go2-mjx-rl\")\n",
        "experiments_dir = Path(\"experiments\")\n",
        "trained_policy_dir = experiments_dir / \"trained_policies\"\n",
        "!mkdir -p {trained_policy_dir}\n",
        "configs_dir = experiments_dir / \"configs\"\n",
        "!mkdir -p {configs_dir}\n",
        "rollout_configs_dir = configs_dir / \"rollout_configs\"\n",
        "!mkdir -p {rollout_configs_dir}\n",
        "animations_dir = experiments_dir / \"rendered_rollouts\"\n",
        "!mkdir -p {animations_dir}"
      ],
      "metadata": {
        "colab": {
          "base_uri": "https://localhost:8080/"
        },
        "id": "bukHmqYa1kbU",
        "outputId": "e21f2a68-9a59-49ae-eee1-26d23f259ed1",
        "collapsed": true,
        "cellView": "form"
      },
      "id": "bukHmqYa1kbU",
      "execution_count": 1,
      "outputs": [
        {
          "output_type": "stream",
          "name": "stderr",
          "text": [
            "INFO:root:Logging switched on.\n",
            "INFO:OpenGL.acceleratesupport:No OpenGL_accelerate module loaded: No module named 'OpenGL_accelerate'\n"
          ]
        },
        {
          "output_type": "stream",
          "name": "stdout",
          "text": [
            "Setting environment variable to use GPU rendering:\n",
            "env: MUJOCO_GL=egl\n",
            "Checking that the installation succeeded:\n",
            "Installation successful.\n"
          ]
        }
      ]
    },
    {
      "cell_type": "markdown",
      "source": [
        "# Training"
      ],
      "metadata": {
        "id": "XMzQjTFe02jy"
      },
      "id": "XMzQjTFe02jy"
    },
    {
      "cell_type": "markdown",
      "source": [
        "## Configurations"
      ],
      "metadata": {
        "id": "Je7z5nox5BAc"
      },
      "id": "Je7z5nox5BAc"
    },
    {
      "cell_type": "markdown",
      "source": [
        "### Robot Configuration"
      ],
      "metadata": {
        "id": "Z3NL1jWw5RUo"
      },
      "id": "Z3NL1jWw5RUo"
    },
    {
      "cell_type": "code",
      "source": [
        "from quadruped_mjx_rl.robots import predefined_robot_configs\n",
        "#@markdown #### Choose the robot\n",
        "robot = \"unitree_go2\" #@param [\"unitree_go2\", \"google_barkour_vb\"]\n",
        "robot_config = predefined_robot_configs[robot]()"
      ],
      "metadata": {
        "id": "sG1x42W15Lk1"
      },
      "id": "sG1x42W15Lk1",
      "execution_count": 2,
      "outputs": []
    },
    {
      "cell_type": "markdown",
      "source": [
        "### Model Configuration"
      ],
      "metadata": {
        "id": "T_Yt03lL7Aq5"
      },
      "id": "T_Yt03lL7Aq5"
    },
    {
      "cell_type": "code",
      "source": [
        "#@title #### Choose the model architecture and set its hyperparameters\n",
        "from quadruped_mjx_rl import models\n",
        "model_architecture = \"ActorCritic\" #@param [\"ActorCritic\",\"TeacherStudent\",\"TeacherStudentVision\"]\n",
        "#@markdown ---\n",
        "#@markdown **Model hyperparameters for the Actor-Critic Architecture**\n",
        "if model_architecture == \"ActorCritic\":\n",
        "    policy_layers = [128, 128, 128, 128, 128] # @param\n",
        "    value_layers = [256, 256, 256, 256, 256] # @param\n",
        "\n",
        "    model_config_class = models.ActorCriticConfig\n",
        "    model_config = model_config_class(\n",
        "        modules=model_config_class.ModulesConfig(\n",
        "            policy=policy_layers,\n",
        "            value=value_layers,\n",
        "        ),\n",
        "    )\n",
        "#@markdown ---\n",
        "#@markdown **Model hyperparameters for the Teacher-Student Architecture**\n",
        "if model_architecture == \"TeacherStudent\":\n",
        "    policy_layers = [256, 256, 256] #@param\n",
        "    value_layers = [256, 256, 256] #@param\n",
        "    teacher_encoder_layers = [256, 256] #@param\n",
        "    student_encoder_layers = [256, 256] #@param\n",
        "    latent_representation_size = 64 # @param {\"type\":\"integer\"}\n",
        "\n",
        "    model_config_class = models.TeacherStudentConfig\n",
        "    model_config = model_config_class(\n",
        "        modules=model_config_class.ModulesConfig(\n",
        "            policy=policy_layers,\n",
        "            value=value_layers,\n",
        "            encoder=teacher_encoder_layers,\n",
        "            adapter=student_encoder_layers,\n",
        "        ),\n",
        "        latent_size=latent_representation_size,\n",
        "    )\n",
        "#@markdown ---\n",
        "#@markdown **Model hyperparameters for the Teacher-Student-Vision Architecture**\n",
        "if model_architecture == \"TeacherStudentVision\":\n",
        "    policy_layers = [128, 128] #@param\n",
        "    value_layers = [256, 256] #@param\n",
        "    teacher_encoder_convolutional_layers = [32, 64, 64] #@param\n",
        "    teacher_encoder_dense_layers = [256, 256] #@param\n",
        "    student_encoder_convolutional_layers = [32, 64, 64] #@param\n",
        "    student_encoder_dense_layers = [256, 256] #@param\n",
        "    latent_representation_size = 128 #@param {\"type\":\"integer\"}\n",
        "\n",
        "    model_config_class = models.TeacherStudentVisionConfig\n",
        "    model_config = model_config_class(\n",
        "        modules=model_config_class.ModulesConfig(\n",
        "            policy=policy_layers,\n",
        "            value=value_layers,\n",
        "            encoder_convolutional=teacher_encoder_convolutional_layers,\n",
        "            encoder_dense=teacher_encoder_dense_layers,\n",
        "            adapter_convolutional=student_encoder_convolutional_layers,\n",
        "            adapter_dense=student_encoder_dense_layers,\n",
        "        ),\n",
        "        latent_size=latent_representation_size,\n",
        "    )"
      ],
      "metadata": {
        "id": "0lyhU5RA4z-v",
        "cellView": "form"
      },
      "id": "0lyhU5RA4z-v",
      "execution_count": 3,
      "outputs": []
    },
    {
      "cell_type": "markdown",
      "source": [],
      "metadata": {
        "id": "SEZsFvkE5MQW"
      },
      "id": "SEZsFvkE5MQW"
    },
    {
      "cell_type": "markdown",
      "source": [
        "### Environment Configuration"
      ],
      "metadata": {
        "id": "rj25fvg75_gi"
      },
      "id": "rj25fvg75_gi"
    },
    {
      "cell_type": "code",
      "source": [
        "#@title #### Configure the Environment\n",
        "from quadruped_mjx_rl import environments\n",
        "\n",
        "model_architecture = type(model_config).config_class_key()\n",
        "if model_architecture == \"TeacherStudentVision\":\n",
        "    env_config_class = environments.QuadrupedVisionEnvConfig\n",
        "elif model_architecture == \"TeacherStudent\":\n",
        "    env_config_class = environments.TeacherStudentEnvironmentConfig\n",
        "elif model_architecture == \"ActorCritic\":\n",
        "    env_config_class = environments.JoystickBaseEnvConfig\n",
        "else:\n",
        "    raise NotImplementedError\n",
        "\n",
        "# TODO: add support for more environment params\n",
        "simulation_timestep = 0.002 #@param {type:\"number\"}\n",
        "control_timestep = 0.04 #@param {type:\"number\"}\n",
        "\n",
        "environment_config = env_config_class(\n",
        "    sim=env_config_class.SimConfig(\n",
        "        sim_dt=simulation_timestep,\n",
        "        ctrl_dt=control_timestep,\n",
        "    ),\n",
        ")"
      ],
      "metadata": {
        "id": "YOQJblkZ6Djd",
        "cellView": "form"
      },
      "id": "YOQJblkZ6Djd",
      "execution_count": 4,
      "outputs": []
    },
    {
      "cell_type": "markdown",
      "source": [
        "### Training Configuration"
      ],
      "metadata": {
        "id": "Sqxbk2lXz_2F"
      },
      "id": "Sqxbk2lXz_2F"
    },
    {
      "cell_type": "code",
      "source": [
        "#@title #### Configure the training process\n",
        "from quadruped_mjx_rl.training.configs import (\n",
        "    TrainingConfig,\n",
        "    TrainingWithVisionConfig,\n",
        "    HyperparamsPPO,\n",
        "    OptimizerConfig,\n",
        "    TeacherStudentOptimizerConfig,\n",
        ")\n",
        "from quadruped_mjx_rl.robotic_vision import VisionConfig\n",
        "model_architecture = type(model_config).config_class_key()\n",
        "#@markdown ---\n",
        "#@markdown **PPO Hyperparameters**\n",
        "discounting = 0.97 #@param {\"type\":\"number\"}\n",
        "entropy_cost = 0.01 #@param {\"type\":\"number\"}\n",
        "clipping_epsilon = 0.3 #@param {\"type\":\"number\"}\n",
        "gae_lambda = 0.95 #@param {\"type\":\"number\"}\n",
        "normalize_advantage = True #@param {\"type\":\"boolean\"}\n",
        "reward_scaling = 1 #@param {\"type\":\"integer\"}\n",
        "learning_rate = 0.0004 #@param {\"type\":\"number\"}\n",
        "ppo_hyperparams = HyperparamsPPO(\n",
        "    discounting=discounting,\n",
        "    entropy_cost=entropy_cost,\n",
        "    clipping_epsilon=clipping_epsilon,\n",
        "    gae_lambda=gae_lambda,\n",
        "    normalize_advantage=normalize_advantage,\n",
        ")\n",
        "#@markdown **Teacher-Student specific hyperparameters**\n",
        "#@markdown ---\n",
        "if model_architecture == \"TeacherStudent\" or model_architecture == \"TeacherStudentVision\":\n",
        "    student_learning_rate = 0.001 #@param {\"type\":\"number\"}\n",
        "    max_grad_norm = 1.0 #@param\n",
        "    optimizer_config = TeacherStudentOptimizerConfig(\n",
        "        learning_rate=learning_rate,\n",
        "        student_learning_rate=student_learning_rate,\n",
        "        max_grad_norm=max_grad_norm,\n",
        "    )\n",
        "else:\n",
        "    optimizer_config = OptimizerConfig(learning_rate=learning_rate)\n",
        "#@markdown ---\n",
        "#@markdown **Training hyperparameters without vision**\n",
        "if model_architecture == \"ActorCritic\" or model_architecture == \"TeacherStudent\":\n",
        "    num_envs = 8192 #@param {\"type\":\"integer\"}\n",
        "    num_eval_envs = 8192 #@param {\"type\":\"integer\"}\n",
        "    seed = 0 #@param {\"type\":\"integer\"}\n",
        "    num_timesteps = 100_000_000 #@param {\"type\":\"integer\"}\n",
        "    num_evals = 10 #@param {\"type\":\"integer\"}\n",
        "    deterministic_eval = False #@param {\"type\":\"boolean\"}\n",
        "    num_resets_per_eval = 0 #@param {\"type\":\"integer\"}\n",
        "    episode_length = 1000 #@param {\"type\":\"integer\"}\n",
        "    unroll_length = 20 #@param {\"type\":\"integer\"}\n",
        "    normalize_observations = True  #@param {\"type\":\"boolean\"}\n",
        "    action_repeat = 1 #@param {\"type\":\"integer\"}\n",
        "    batch_size = 256 #@param {\"type\":\"integer\"}\n",
        "    num_updates_per_batch = 4 #@param {\"type\":\"integer\"}\n",
        "    num_minibatches = 32 #@param {\"type\":\"integer\"}\n",
        "    training_config = TrainingConfig(\n",
        "        num_envs=num_envs,\n",
        "        num_eval_envs=num_eval_envs,\n",
        "        seed=seed,\n",
        "        num_timesteps=num_timesteps,\n",
        "        num_evals=num_evals,\n",
        "        deterministic_eval=deterministic_eval,\n",
        "        num_resets_per_eval=num_resets_per_eval,\n",
        "        episode_length=episode_length,\n",
        "        unroll_length=unroll_length,\n",
        "        normalize_observations=normalize_observations,\n",
        "        action_repeat=action_repeat,\n",
        "        batch_size=batch_size,\n",
        "        num_updates_per_batch=num_updates_per_batch,\n",
        "        num_minibatches=num_minibatches,\n",
        "        rl_hyperparams=ppo_hyperparams,\n",
        "        optimizer=optimizer_config\n",
        "    )\n",
        "    vision_config = None\n",
        "#@markdown ---\n",
        "#@markdown **Training hyperparameters with vision**\n",
        "elif model_architecture == \"TeacherStudentVision\":\n",
        "    num_envs = 256 #@param {\"type\":\"integer\"}\n",
        "    num_eval_envs = 256 #@param {\"type\":\"integer\"}\n",
        "    seed = 0 #@param {\"type\":\"integer\"}\n",
        "    num_timesteps = 100_000_000 #@param {\"type\":\"integer\"}\n",
        "    num_evals = 10 #@param {\"type\":\"integer\"}\n",
        "    deterministic_eval = False #@param {\"type\":\"boolean\"}\n",
        "    num_resets_per_eval = 0 #@param {\"type\":\"integer\"}\n",
        "    episode_length = 1000 #@param {\"type\":\"integer\"}\n",
        "    unroll_length = 20 #@param {\"type\":\"integer\"}\n",
        "    normalize_observations = True  #@param {\"type\":\"boolean\"}\n",
        "    action_repeat = 1\n",
        "    batch_size = 256 #@param {\"type\":\"integer\"}\n",
        "    num_updates_per_batch = 4 #@param {\"type\":\"integer\"}\n",
        "    num_minibatches = 32 #@param {\"type\":\"integer\"}\n",
        "    training_config = TrainingWithVisionConfig(\n",
        "        num_envs=num_envs,\n",
        "        num_eval_envs=num_eval_envs,\n",
        "        seed=seed,\n",
        "        num_timesteps=num_timesteps,\n",
        "        num_evals=num_evals,\n",
        "        deterministic_eval=deterministic_eval,\n",
        "        num_resets_per_eval=num_resets_per_eval,\n",
        "        episode_length=episode_length,\n",
        "        unroll_length=unroll_length,\n",
        "        normalize_observations=normalize_observations,\n",
        "        action_repeat=action_repeat,\n",
        "        batch_size=batch_size,\n",
        "        num_updates_per_batch=num_updates_per_batch,\n",
        "        num_minibatches=num_minibatches,\n",
        "        rl_hyperparams=ppo_hyperparams,\n",
        "        optimizer=optimizer_config,\n",
        "    )\n",
        "#@markdown **Vision renderer parameters**\n",
        "    enabled_cameras=[0, 1, 2] # @param\n",
        "    enabled_geom_groups=[0, 1, 2] # @param\n",
        "    render_width=64 # @param {\"type\": \"integer\"}\n",
        "    render_height=64 # @param {\"type\": \"integer\"}\n",
        "    vision_config = VisionConfig(\n",
        "        render_batch_size=training_config.num_envs,\n",
        "        enabled_cameras=enabled_cameras,\n",
        "        enabled_geom_groups=enabled_geom_groups,\n",
        "        render_width=render_width,\n",
        "        render_height=render_height,\n",
        "    )\n",
        "else:\n",
        "    raise NotImplementedError"
      ],
      "metadata": {
        "id": "9v7k-gt1_Yq8",
        "cellView": "form"
      },
      "id": "9v7k-gt1_Yq8",
      "execution_count": 5,
      "outputs": []
    },
    {
      "cell_type": "code",
      "source": [
        "#@title #### Configure the terrain generation\n",
        "use_challenging_terrain = True #@param {\"type\":\"boolean\"}\n",
        "if use_challenging_terrain:\n",
        "    from quadruped_mjx_rl.terrain_gen.obstacles import FlatTile, StripesTile\n",
        "    from quadruped_mjx_rl.terrain_gen.tile import TerrainConfig\n",
        "    flat_tile = FlatTile()\n",
        "    stripes_tile = StripesTile()\n",
        "    terrain_config = TerrainConfig(tiles=[[\n",
        "        FlatTile(),\n",
        "        StripesTile(stripe_amplitude=0.04),\n",
        "        StripesTile(stripe_amplitude=0.08),\n",
        "        StripesTile(stripe_amplitude=0.12),\n",
        "        StripesTile(stripe_amplitude=0.16),\n",
        "    ]])"
      ],
      "metadata": {
        "id": "dvd48ZTX3DFK"
      },
      "id": "dvd48ZTX3DFK",
      "execution_count": 6,
      "outputs": []
    },
    {
      "cell_type": "markdown",
      "source": [
        "### Save configs to a yaml file"
      ],
      "metadata": {
        "id": "Qt85mYUk7z4E"
      },
      "id": "Qt85mYUk7z4E"
    },
    {
      "cell_type": "code",
      "source": [
        "#@title #### Save configs\n",
        "from quadruped_mjx_rl.config_utils import save_configs\n",
        "#@markdown Fill out a name for the experiment and all configuration parameters.\n",
        "#@markdown If you want to add another experiment, change the parameters and run\n",
        "#@markdown this cell again.\n",
        "experiment_name = \"my_experiment\" # @param {type:\"string\"}\n",
        "config_file_path = configs_dir / f\"{experiment_name}.yaml\"\n",
        "configs_to_save = [robot_config, model_config, environment_config, training_config]\n",
        "if vision_config is not None:\n",
        "    configs_to_save.append(vision_config)\n",
        "# if use_challenging_terrain:\n",
        "#     configs_to_save.append(terrain_config)\n",
        "save_configs(config_file_path, *configs_to_save)\n",
        "print(f\"Experiment configs saved to {config_file_path}\")"
      ],
      "metadata": {
        "id": "rLrv5OSa7559",
        "colab": {
          "base_uri": "https://localhost:8080/"
        },
        "outputId": "fb49a6db-5173-465d-eef5-d58b8c929e84"
      },
      "id": "rLrv5OSa7559",
      "execution_count": 10,
      "outputs": [
        {
          "output_type": "stream",
          "name": "stdout",
          "text": [
            "Experiment configs saved to experiments/configs/my_experiment.yaml\n"
          ]
        }
      ]
    },
    {
      "cell_type": "markdown",
      "source": [
        "## Training runs"
      ],
      "metadata": {
        "id": "SsQGJoge0Yjp"
      },
      "id": "SsQGJoge0Yjp"
    },
    {
      "cell_type": "code",
      "source": [
        "#@title List all configuration files\n",
        "!ls {configs_dir}"
      ],
      "metadata": {
        "colab": {
          "base_uri": "https://localhost:8080/"
        },
        "id": "EE81C3Ev9RRx",
        "outputId": "f4c8775b-4cd8-491f-9dd4-cf2603525a26"
      },
      "id": "EE81C3Ev9RRx",
      "execution_count": 8,
      "outputs": [
        {
          "output_type": "stream",
          "name": "stdout",
          "text": [
            "my_experiment.yaml  rollout_configs\n"
          ]
        }
      ]
    },
    {
      "cell_type": "code",
      "source": [
        "# @title Sequentially run training for all configurations\n",
        "import functools\n",
        "from quadruped_mjx_rl.config_utils import prepare_configs\n",
        "from quadruped_mjx_rl.training.train_interface import train\n",
        "from quadruped_mjx_rl import environments\n",
        "from quadruped_mjx_rl.environments import get_env_factory\n",
        "from quadruped_mjx_rl.environments.physics_pipeline import load_to_spec, spec_to_model\n",
        "from quadruped_mjx_rl.environments.rendering import render_model, large_overview_camera\n",
        "\n",
        "# @markdown Choose with which configs to train\n",
        "training_runs = None # @param {\"type\":\"raw\",\"placeholder\":\"[\\\"experiment_name1\\\", \\\"experiment_name2\\\", ... ]\"}\n",
        "# @markdown or\n",
        "run_them_all = True # @param {\"type\":\"boolean\"}\n",
        "if run_them_all:\n",
        "    training_runs = [\n",
        "        config_file.stem\n",
        "        for config_file in configs_dir.iterdir() if config_file.name.endswith(\".yaml\")\n",
        "    ]\n",
        "\n",
        "\n",
        "for experiment_name in training_runs:\n",
        "    config_path = configs_dir / f\"{experiment_name}.yaml\"\n",
        "    configs = prepare_configs(config_path)\n",
        "    environment_config = configs[\"environment\"]\n",
        "    robot_config = configs[\"robot\"]\n",
        "    model_config = configs[\"model\"]\n",
        "    training_config = configs[\"training\"]\n",
        "    vision_config = configs.get(\"vision\")\n",
        "    # terrain_config = configs.get(\"terrain\")\n",
        "\n",
        "    if terrain_config is not None:\n",
        "        scene_file = \"scene_mjx_empty_arena.xml\"\n",
        "    elif isinstance(environment_config, environments.QuadrupedVisionEnvConfig):\n",
        "        scene_file = \"scene_mjx_vision.xml\"\n",
        "    else:\n",
        "        scene_file = \"scene_mjx.xml\"\n",
        "    init_scene_path = repo_path / \"resources\" / robot_config.robot_name / scene_file\n",
        "\n",
        "    env_spec = load_to_spec(init_scene_path)\n",
        "    if terrain_config is not None:\n",
        "        terrain_config.make_arena(env_spec)\n",
        "    env_model = spec_to_model(env_spec)\n",
        "    env_model = environments.QuadrupedJoystickBaseEnv.customize_model(\n",
        "        env_model, environment_config\n",
        "    )\n",
        "\n",
        "    render_model(env_model=env_model, camera=large_overview_camera())\n",
        "\n",
        "    if vision_config is not None:\n",
        "        # instantiating mjx before madrona\n",
        "        from mujoco import mjx\n",
        "        mjx_model = mjx.put_model(env_model)\n",
        "        mjx_data = mjx.make_data(mjx_model)\n",
        "        mjx_data = mjx_data.replace(qpos=jnp.array(init_qpos))\n",
        "        mjx_data = mjx.forward(mjx_model, mjx_data)\n",
        "\n",
        "        from quadruped_mjx_rl.robotic_vision import get_renderer\n",
        "        renderer_maker=functools.partial(get_renderer, vision_config=vision_config)\n",
        "        get_env_factory = functools.partial(\n",
        "            get_env_factory, vision_config=vision_config, renderer_maker=renderer_maker\n",
        "        )\n",
        "    env_factory = get_env_factory(\n",
        "        robot_config=robot_config,\n",
        "        environment_config=environment_config,\n",
        "        env_model=env_model,\n",
        "    )\n",
        "\n",
        "    logging.info(\"Initializing the environment...\")\n",
        "    env = env_factory()\n",
        "    if vision_config is None:\n",
        "        eval_env = env_factory()\n",
        "    else:\n",
        "        eval_env = None\n",
        "\n",
        "\n",
        "    trained_policy_save_path = trained_policy_dir / f\"{experiment_name}\"\n",
        "\n",
        "    print(f\"Starting training for: {experiment_name}\")\n",
        "    params = train(\n",
        "        training_env=env,\n",
        "        evaluation_env=eval_env,\n",
        "        model_config=model_config,\n",
        "        training_config=training_config,\n",
        "    )\n",
        "    from quadruped_mjx_rl.models.io import save_params\n",
        "    save_params(trained_policy_save_path, params)\n",
        "    print(f\"Trained policy saved to {trained_policy_save_path}\")"
      ],
      "metadata": {
        "id": "q5LBMWAO1lV-",
        "colab": {
          "base_uri": "https://localhost:8080/"
        },
        "outputId": "165fba38-5f4c-428f-e74d-46702317813b",
        "collapsed": true
      },
      "id": "q5LBMWAO1lV-",
      "execution_count": null,
      "outputs": [
        {
          "output_type": "stream",
          "name": "stderr",
          "text": [
            "INFO:root:Initializing the environment...\n",
            "INFO:root:Using JAX default device: TFRT_CPU_0.\n",
            "INFO:root:No CUDA GPU devices found in jax.devices(\"cuda\").\n",
            "INFO:root:Using JAX default device: TFRT_CPU_0.\n",
            "INFO:root:No CUDA GPU devices found in jax.devices(\"cuda\").\n",
            "INFO:root:Device count: 1, process count: 1 (id 0), local device count: 1, devices to be used count: 1\n"
          ]
        },
        {
          "output_type": "stream",
          "name": "stdout",
          "text": [
            "Starting training for: my_experiment\n"
          ]
        },
        {
          "output_type": "stream",
          "name": "stderr",
          "text": [
            "INFO:root:Using JAX default device: TFRT_CPU_0.\n",
            "INFO:root:No CUDA GPU devices found in jax.devices(\"cuda\").\n",
            "INFO:root:observation size: (465,)\n",
            "INFO:root:observation size: (465,)\n"
          ]
        }
      ]
    },
    {
      "metadata": {
        "id": "c12f2f24636fdfe0"
      },
      "cell_type": "markdown",
      "source": [
        "# Results\n",
        "This section can be run independently from the training section, including after restarts and crashes. As long as all the created files remain in the session's disk memory."
      ],
      "id": "c12f2f24636fdfe0"
    },
    {
      "cell_type": "code",
      "source": [
        "#@title List all configured experiments\n",
        "!ls {configs_dir}"
      ],
      "metadata": {
        "colab": {
          "base_uri": "https://localhost:8080/"
        },
        "id": "Pycy46wVy5YT",
        "outputId": "a67d800a-dcfd-4216-d744-fd6d4545514c"
      },
      "id": "Pycy46wVy5YT",
      "execution_count": null,
      "outputs": [
        {
          "output_type": "stream",
          "name": "stdout",
          "text": [
            "my_experiment.yaml  rollout_configs\n"
          ]
        }
      ]
    },
    {
      "cell_type": "code",
      "source": [
        "# @title Configure a rollout for rendering\n",
        "from quadruped_mjx_rl.config_utils import save_configs\n",
        "from quadruped_mjx_rl.policy_rendering import RenderConfig\n",
        "\n",
        "experiment_name = \"my_experiment\"  #@param {type:\"string\"}\n",
        "rollout_name = \"my_rollout\" # @param {type:\"string\"}\n",
        "\n",
        "n_steps = 500 # @param {\"type\":\"integer\"}\n",
        "render_every = 2 # @param {\"type\":\"integer\"}\n",
        "random_seed = 0 # @param {\"type\":\"integer\"}\n",
        "\n",
        "# @markdown ---\n",
        "# @markdown Joystick command for the robot to follow (in SI)\n",
        "x_vel = 0.8 # @param {\"type\":\"number\"}\n",
        "y_vel = 0.0 # @param {\"type\":\"number\"}\n",
        "ang_vel = 0.0 # @param {\"type\":\"number\"}\n",
        "\n",
        "render_config = RenderConfig(\n",
        "    n_steps=n_steps,\n",
        "    episode_length=n_steps * 2,\n",
        "    render_every=render_every,\n",
        "    seed=random_seed,\n",
        "    command={\n",
        "        \"x_vel\": x_vel,\n",
        "        \"y_vel\": y_vel,\n",
        "        \"ang_vel\": ang_vel,\n",
        "    },\n",
        ")\n",
        "\n",
        "config_file_path = rollout_configs_dir / f\"{experiment_name}_rendering_{rollout_name}.yaml\"\n",
        "save_configs(config_file_path, render_config)\n",
        "print(f\"Rollout configs saved to {config_file_path}\")"
      ],
      "metadata": {
        "colab": {
          "base_uri": "https://localhost:8080/"
        },
        "id": "kc97NpZXyav4",
        "outputId": "03072792-15a2-49c3-b57d-bbd40c9647dc"
      },
      "id": "kc97NpZXyav4",
      "execution_count": null,
      "outputs": [
        {
          "output_type": "stream",
          "name": "stdout",
          "text": [
            "Rollout configs saved to experiments/configs/rollout_configs/my_experiment_rendering_my_rollout.yaml\n"
          ]
        }
      ]
    },
    {
      "cell_type": "code",
      "source": [
        "# @title Render all configured policy rollouts\n",
        "from quadruped_mjx_rl.policy_rendering import render_policy_rollout\n",
        "from quadruped_mjx_rl.environments import get_env_factory\n",
        "from quadruped_mjx_rl.config_utils import prepare_configs\n",
        "\n",
        "# @markdown All rollouts present will be rendered\n",
        "delete_rollouts_after_rendering = True # @param {\"type\":\"boolean\"}\n",
        "save_rollout_gifs = True # @param {\"type\":\"boolean\"}\n",
        "\n",
        "for experiment_config_file in configs_dir.iterdir():\n",
        "    if not experiment_config_file.name.endswith(\".yaml\"):\n",
        "        continue\n",
        "    experiment_name = experiment_config_file.stem\n",
        "    configs = prepare_configs(experiment_config_file)\n",
        "    environment_config = configs[\"environment\"]\n",
        "    robot_config = configs[\"robot\"]\n",
        "    model_config = configs[\"model\"]\n",
        "    vision_config = configs.get(\"vision\")\n",
        "\n",
        "    init_scene_path = repo_path / \"resources\" / robot_config.robot_name / \"scene_mjx.xml\"\n",
        "\n",
        "    env_factory, vision = get_env_factory(\n",
        "        env_config=environment_config,\n",
        "        robot_config=robot_config,\n",
        "        init_scene_path=init_scene_path,\n",
        "    )\n",
        "\n",
        "    trained_policy = trained_policy_dir / f\"{experiment_name}\"\n",
        "\n",
        "    rollout_configs_list = []\n",
        "    for rollout_config_file in rollout_configs_dir.iterdir():\n",
        "        if (\n",
        "            not rollout_config_file.name.endswith(\".yaml\")\n",
        "            or \"_rendering_\" not in rollout_config_file.name\n",
        "            or experiment_name != rollout_config_file.name.split(\"_rendering_\")[0]\n",
        "        ):\n",
        "            continue\n",
        "        rollout_configs_list.append(rollout_config_file)\n",
        "\n",
        "        render_config = prepare_configs(rollout_config_file)[\"render\"]\n",
        "\n",
        "        if save_rollout_gifs:\n",
        "            animation_save_path = animations_dir / f\"{rollout_config_file.stem}.gif\"\n",
        "        else:\n",
        "            animation_save_path = None\n",
        "\n",
        "        render_policy_rollout(\n",
        "            env_factory=env_factory,\n",
        "            model_config=model_config,\n",
        "            trained_model_path=trained_policy,\n",
        "            render_config=render_config,\n",
        "            animation_save_path=animation_save_path,\n",
        "            vision=vision,\n",
        "        )\n",
        "\n",
        "    if delete_rollouts_after_rendering:\n",
        "        for rollout_config_file in rollout_configs_list:\n",
        "            rollout_config_file.unlink()"
      ],
      "metadata": {
        "id": "8HeGg0vmxTDB",
        "colab": {
          "base_uri": "https://localhost:8080/"
        },
        "outputId": "c2868bc8-c661-460b-a55e-6cf16aa94e86"
      },
      "id": "8HeGg0vmxTDB",
      "execution_count": null,
      "outputs": [
        {
          "output_type": "stream",
          "name": "stderr",
          "text": [
            "/usr/local/lib/python3.11/dist-packages/brax/io/mjcf.py:480: UserWarning: Brax System, piplines and environments are not actively being maintained. Please see MJX for a well maintained JAX-based physics engine: https://github.com/google-deepmind/mujoco/tree/main/mjx. For a host of environments that use MJX, see: https://github.com/google-deepmind/mujoco_playground.\n",
            "  warnings.warn(\n"
          ]
        }
      ]
    },
    {
      "cell_type": "code",
      "source": [
        "# @title Saving results\n",
        "from google.colab import files, drive\n",
        "from etils.epath import Path\n",
        "\n",
        "# @markdown (This can be run in a separate session)\n",
        "\n",
        "# @markdown Choose what you want to save\n",
        "policies = True # @param {\"type\":\"boolean\"}\n",
        "rollout_gifs = True # @param {\"type\":\"boolean\"}\n",
        "config_files = True # @param {\"type\":\"boolean\"}\n",
        "# @markdown Only the configs for the training are saved\n",
        "\n",
        "# @markdown Choose whether you want to download your results\n",
        "download_results = False # @ param {\"type\":\"boolean\"}\n",
        "\n",
        "# @markdown Choose whether you want to save results to your Google drive\n",
        "save_to_drive = True # @param {\"type\":\"boolean\"}\n",
        "drive_save_folder = \"quadruped_mjx_rl_Results\" # @param {type:\"string\"}\n",
        "if save_to_drive:\n",
        "    drive.mount('/content/drive')\n",
        "\n",
        "for do_save, directory in zip(\n",
        "    [policies, rollout_gifs, config_files], [trained_policy_dir, animations_dir, configs_dir],\n",
        "):\n",
        "    if not do_save:\n",
        "        continue\n",
        "    for file_path in directory.iterdir():\n",
        "        if file_path.is_dir():\n",
        "            continue\n",
        "        if download_results:\n",
        "            files.download(file_path)\n",
        "        if save_to_drive:\n",
        "            drive_dir = Path(f\"/content/drive/MyDrive/{drive_save_folder}/{directory.name}\")\n",
        "            drive_dir.mkdir(parents=True, exist_ok=True)\n",
        "            file_path.copy(\n",
        "                dst=drive_dir / file_path.name, overwrite=True\n",
        "            )\n",
        "\n",
        "if save_to_drive:\n",
        "    drive.flush_and_unmount()"
      ],
      "metadata": {
        "colab": {
          "base_uri": "https://localhost:8080/"
        },
        "id": "5zH157Liqtvq",
        "outputId": "50d3a773-d104-4938-d1f1-e5020b84375e"
      },
      "id": "5zH157Liqtvq",
      "execution_count": null,
      "outputs": [
        {
          "output_type": "stream",
          "name": "stdout",
          "text": [
            "Mounted at /content/drive\n"
          ]
        }
      ]
    }
  ],
  "metadata": {
    "kernelspec": {
      "display_name": "Python 3",
      "name": "python3"
    },
    "language_info": {
      "codemirror_mode": {
        "name": "ipython",
        "version": 2
      },
      "file_extension": ".py",
      "mimetype": "text/x-python",
      "name": "python",
      "nbconvert_exporter": "python",
      "pygments_lexer": "ipython2",
      "version": "2.7.6"
    },
    "colab": {
      "provenance": [],
      "gpuType": "T4",
      "include_colab_link": true
    },
    "accelerator": "GPU"
  },
  "nbformat": 4,
  "nbformat_minor": 5
}