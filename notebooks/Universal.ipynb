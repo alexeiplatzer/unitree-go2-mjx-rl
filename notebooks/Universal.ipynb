{
 "cells": [
  {
   "cell_type": "markdown",
   "metadata": {
    "id": "view-in-github",
    "colab_type": "text"
   },
   "source": [
    "<a href=\"https://colab.research.google.com/github/alexeiplatzer/unitree-go2-mjx-rl/blob/main/notebooks/Universal.ipynb\" target=\"_parent\"><img src=\"https://colab.research.google.com/assets/colab-badge.svg\" alt=\"Open In Colab\"/></a>"
   ],
   "id": "a8ad26ee2dfd0b6b"
  },
  {
   "metadata": {
    "id": "f4d6a6a44d14ed1b"
   },
   "cell_type": "markdown",
   "source": [
    "# Univeral Notebook for Quadruped RL Training in MJX"
   ],
   "id": "f4d6a6a44d14ed1b"
  },
  {
   "metadata": {
    "id": "e3a9f2f1b31ad2d8"
   },
   "cell_type": "markdown",
   "source": [
    "## Hardware Setup"
   ],
   "id": "e3a9f2f1b31ad2d8"
  },
  {
   "cell_type": "code",
   "source": [
    "# @title Setup configuration\n",
    "\n",
    "# @markdown Choose your hardware option:\n",
    "hardware = \"Colab\" # @param [\"local\",\"Colab\",\"Kaggle\"]\n",
    "\n",
    "# @markdown Choose whether you want to build the rendering setup for training\n",
    "# @markdown with vision, and with what backend:\n",
    "vision_backend = \"None\" # @param [\"None\",\"MJX\",\"Madrona\"]"
   ],
   "metadata": {
    "id": "Kg6Ab0jgovuC",
    "ExecuteTime": {
     "end_time": "2025-05-03T12:15:28.138087Z",
     "start_time": "2025-05-03T12:15:28.132020Z"
    }
   },
   "id": "Kg6Ab0jgovuC",
   "outputs": [],
   "execution_count": 1
  },
  {
   "cell_type": "code",
   "source": [
    "# @title run this cell once each time on a new machine\n",
    "\n",
    "import time\n",
    "\n",
    "if vision_backend == \"Madrona\":\n",
    "    # Install madrona MJX\n",
    "    print(\"Intalling Madrona MJX...\")\n",
    "    start_time = time.perf_counter()\n",
    "    print(\"Setting up environment... (Step 1/3)\")\n",
    "    !pip uninstall -y jax\n",
    "    !pip install jax[\"cuda12_local\"]==0.4.35\n",
    "\n",
    "    !sudo apt install libx11-dev libxrandr-dev libxinerama-dev libxcursor-dev libxi-dev mesa-common-dev\n",
    "\n",
    "    !mkdir modules\n",
    "    !git clone https://github.com/shacklettbp/madrona_mjx.git modules/madrona_mjx\n",
    "\n",
    "    !git -C modules/madrona_mjx submodule update --init --recursive\n",
    "\n",
    "    !mkdir modules/madrona_mjx/build\n",
    "\n",
    "    if hardware == \"Kaggle\":\n",
    "        !sudo apt-get install -y nvidia-cuda-toolkit\n",
    "\n",
    "    print(\"Building the Madrona backend ... (Step 2/3)\")\n",
    "    !cd modules/madrona_mjx/build && cmake -DLOAD_VULKAN=OFF .. && make -j 8\n",
    "\n",
    "    print (\"Installing Madrona MJX ... (Step 3/3)\")\n",
    "    !pip install -e modules/madrona_mjx\n",
    "\n",
    "    minutes, seconds = divmod((time.perf_counter() - start_time), 60)\n",
    "    print(f\"Finished installing Madrona MJX in {minutes} m {seconds:.2f} s\")\n",
    "\n",
    "# Clones and installs our Quadruped RL package\n",
    "!git clone https://github.com/alexeiplatzer/unitree-go2-mjx-rl.git\n",
    "!pip install -e unitree-go2-mjx-rl/"
   ],
   "metadata": {
    "collapsed": true,
    "colab": {
     "base_uri": "https://localhost:8080/"
    },
    "id": "Wv3uImDzrY6N",
    "outputId": "a3013ea4-7d96-4c66-c9b1-8e9bbfb6f852",
    "ExecuteTime": {
     "end_time": "2025-05-03T12:12:36.400175Z",
     "start_time": "2025-05-03T12:12:20.057638Z"
    }
   },
   "id": "Wv3uImDzrY6N",
   "outputs": [
    {
     "name": "stdout",
     "output_type": "stream",
     "text": [
      "Cloning into 'unitree-go2-mjx-rl'...\r\n",
      "remote: Enumerating objects: 993, done.\u001B[K\r\n",
      "remote: Counting objects: 100% (282/282), done.\u001B[K\r\n",
      "remote: Compressing objects: 100% (171/171), done.\u001B[K\r\n",
      "remote: Total 993 (delta 144), reused 199 (delta 83), pack-reused 711 (from 1)\u001B[K\r\n",
      "Receiving objects: 100% (993/993), 22.33 MiB | 5.85 MiB/s, done.\r\n",
      "Resolving deltas: 100% (508/508), done.\r\n",
      "Obtaining file:///home/platzer/TUM/Thesis/unitree-go2-mjx-rl/notebooks/unitree-go2-mjx-rl\r\n",
      "  Installing build dependencies ... \u001B[?25ldone\r\n",
      "\u001B[?25h  Checking if build backend supports build_editable ... \u001B[?25ldone\r\n",
      "\u001B[?25h  Getting requirements to build editable ... \u001B[?25ldone\r\n",
      "\u001B[?25h  Preparing editable metadata (pyproject.toml) ... \u001B[?25ldone\r\n",
      "\u001B[?25hRequirement already satisfied: mujoco in /home/platzer/TUM/Thesis/unitree-go2-mjx-rl/.venv/lib/python3.12/site-packages (from quadruped_mjx_rl==0.0.1) (3.3.0)\r\n",
      "Requirement already satisfied: mujoco_mjx in /home/platzer/TUM/Thesis/unitree-go2-mjx-rl/.venv/lib/python3.12/site-packages (from quadruped_mjx_rl==0.0.1) (3.3.0)\r\n",
      "Requirement already satisfied: brax in /home/platzer/TUM/Thesis/unitree-go2-mjx-rl/.venv/lib/python3.12/site-packages (from quadruped_mjx_rl==0.0.1) (0.12.3)\r\n",
      "Requirement already satisfied: mediapy in /home/platzer/TUM/Thesis/unitree-go2-mjx-rl/.venv/lib/python3.12/site-packages (from quadruped_mjx_rl==0.0.1) (1.2.2)\r\n",
      "Requirement already satisfied: ml_collections in /home/platzer/TUM/Thesis/unitree-go2-mjx-rl/.venv/lib/python3.12/site-packages (from quadruped_mjx_rl==0.0.1) (1.0.0)\r\n",
      "Requirement already satisfied: pyyaml in /home/platzer/TUM/Thesis/unitree-go2-mjx-rl/.venv/lib/python3.12/site-packages (from quadruped_mjx_rl==0.0.1) (6.0.2)\r\n",
      "Requirement already satisfied: dacite in /home/platzer/TUM/Thesis/unitree-go2-mjx-rl/.venv/lib/python3.12/site-packages (from quadruped_mjx_rl==0.0.1) (1.9.2)\r\n",
      "Requirement already satisfied: absl-py in /home/platzer/TUM/Thesis/unitree-go2-mjx-rl/.venv/lib/python3.12/site-packages (from brax->quadruped_mjx_rl==0.0.1) (2.1.0)\r\n",
      "Requirement already satisfied: dm-env in /home/platzer/TUM/Thesis/unitree-go2-mjx-rl/.venv/lib/python3.12/site-packages (from brax->quadruped_mjx_rl==0.0.1) (1.6)\r\n",
      "Requirement already satisfied: etils in /home/platzer/TUM/Thesis/unitree-go2-mjx-rl/.venv/lib/python3.12/site-packages (from brax->quadruped_mjx_rl==0.0.1) (1.12.0)\r\n",
      "Requirement already satisfied: flask in /home/platzer/TUM/Thesis/unitree-go2-mjx-rl/.venv/lib/python3.12/site-packages (from brax->quadruped_mjx_rl==0.0.1) (3.1.0)\r\n",
      "Requirement already satisfied: flask-cors in /home/platzer/TUM/Thesis/unitree-go2-mjx-rl/.venv/lib/python3.12/site-packages (from brax->quadruped_mjx_rl==0.0.1) (5.0.1)\r\n",
      "Requirement already satisfied: flax in /home/platzer/TUM/Thesis/unitree-go2-mjx-rl/.venv/lib/python3.12/site-packages (from brax->quadruped_mjx_rl==0.0.1) (0.10.4)\r\n",
      "Requirement already satisfied: grpcio in /home/platzer/TUM/Thesis/unitree-go2-mjx-rl/.venv/lib/python3.12/site-packages (from brax->quadruped_mjx_rl==0.0.1) (1.70.0)\r\n",
      "Requirement already satisfied: gym in /home/platzer/TUM/Thesis/unitree-go2-mjx-rl/.venv/lib/python3.12/site-packages (from brax->quadruped_mjx_rl==0.0.1) (0.26.2)\r\n",
      "Requirement already satisfied: jax>=0.4.6 in /home/platzer/TUM/Thesis/unitree-go2-mjx-rl/.venv/lib/python3.12/site-packages (from brax->quadruped_mjx_rl==0.0.1) (0.5.2)\r\n",
      "Requirement already satisfied: jaxlib>=0.4.6 in /home/platzer/TUM/Thesis/unitree-go2-mjx-rl/.venv/lib/python3.12/site-packages (from brax->quadruped_mjx_rl==0.0.1) (0.5.1)\r\n",
      "Requirement already satisfied: jaxopt in /home/platzer/TUM/Thesis/unitree-go2-mjx-rl/.venv/lib/python3.12/site-packages (from brax->quadruped_mjx_rl==0.0.1) (0.8.3)\r\n",
      "Requirement already satisfied: jinja2 in /home/platzer/TUM/Thesis/unitree-go2-mjx-rl/.venv/lib/python3.12/site-packages (from brax->quadruped_mjx_rl==0.0.1) (3.1.6)\r\n",
      "Requirement already satisfied: numpy in /home/platzer/TUM/Thesis/unitree-go2-mjx-rl/.venv/lib/python3.12/site-packages (from brax->quadruped_mjx_rl==0.0.1) (2.2.3)\r\n",
      "Requirement already satisfied: optax in /home/platzer/TUM/Thesis/unitree-go2-mjx-rl/.venv/lib/python3.12/site-packages (from brax->quadruped_mjx_rl==0.0.1) (0.2.4)\r\n",
      "Requirement already satisfied: orbax-checkpoint in /home/platzer/TUM/Thesis/unitree-go2-mjx-rl/.venv/lib/python3.12/site-packages (from brax->quadruped_mjx_rl==0.0.1) (0.11.6)\r\n",
      "Requirement already satisfied: pillow in /home/platzer/TUM/Thesis/unitree-go2-mjx-rl/.venv/lib/python3.12/site-packages (from brax->quadruped_mjx_rl==0.0.1) (11.1.0)\r\n",
      "Requirement already satisfied: pytinyrenderer in /home/platzer/TUM/Thesis/unitree-go2-mjx-rl/.venv/lib/python3.12/site-packages (from brax->quadruped_mjx_rl==0.0.1) (0.0.14)\r\n",
      "Requirement already satisfied: scipy in /home/platzer/TUM/Thesis/unitree-go2-mjx-rl/.venv/lib/python3.12/site-packages (from brax->quadruped_mjx_rl==0.0.1) (1.15.2)\r\n",
      "Requirement already satisfied: tensorboardx in /home/platzer/TUM/Thesis/unitree-go2-mjx-rl/.venv/lib/python3.12/site-packages (from brax->quadruped_mjx_rl==0.0.1) (2.6.2.2)\r\n",
      "Requirement already satisfied: trimesh in /home/platzer/TUM/Thesis/unitree-go2-mjx-rl/.venv/lib/python3.12/site-packages (from brax->quadruped_mjx_rl==0.0.1) (4.6.4)\r\n",
      "Requirement already satisfied: typing-extensions in /home/platzer/TUM/Thesis/unitree-go2-mjx-rl/.venv/lib/python3.12/site-packages (from brax->quadruped_mjx_rl==0.0.1) (4.12.2)\r\n",
      "Requirement already satisfied: ipython in /home/platzer/TUM/Thesis/unitree-go2-mjx-rl/.venv/lib/python3.12/site-packages (from mediapy->quadruped_mjx_rl==0.0.1) (8.30.0)\r\n",
      "Requirement already satisfied: matplotlib in /home/platzer/TUM/Thesis/unitree-go2-mjx-rl/.venv/lib/python3.12/site-packages (from mediapy->quadruped_mjx_rl==0.0.1) (3.9.3)\r\n",
      "Requirement already satisfied: six in /home/platzer/TUM/Thesis/unitree-go2-mjx-rl/.venv/lib/python3.12/site-packages (from ml_collections->quadruped_mjx_rl==0.0.1) (1.17.0)\r\n",
      "Requirement already satisfied: glfw in /home/platzer/TUM/Thesis/unitree-go2-mjx-rl/.venv/lib/python3.12/site-packages (from mujoco->quadruped_mjx_rl==0.0.1) (2.8.0)\r\n",
      "Requirement already satisfied: pyopengl in /home/platzer/TUM/Thesis/unitree-go2-mjx-rl/.venv/lib/python3.12/site-packages (from mujoco->quadruped_mjx_rl==0.0.1) (3.1.9)\r\n",
      "Requirement already satisfied: ml_dtypes>=0.4.0 in /home/platzer/TUM/Thesis/unitree-go2-mjx-rl/.venv/lib/python3.12/site-packages (from jax>=0.4.6->brax->quadruped_mjx_rl==0.0.1) (0.5.1)\r\n",
      "Requirement already satisfied: opt_einsum in /home/platzer/TUM/Thesis/unitree-go2-mjx-rl/.venv/lib/python3.12/site-packages (from jax>=0.4.6->brax->quadruped_mjx_rl==0.0.1) (3.4.0)\r\n",
      "Requirement already satisfied: dm-tree in /home/platzer/TUM/Thesis/unitree-go2-mjx-rl/.venv/lib/python3.12/site-packages (from dm-env->brax->quadruped_mjx_rl==0.0.1) (0.1.9)\r\n",
      "Requirement already satisfied: fsspec in /home/platzer/TUM/Thesis/unitree-go2-mjx-rl/.venv/lib/python3.12/site-packages (from etils->brax->quadruped_mjx_rl==0.0.1) (2025.2.0)\r\n",
      "Requirement already satisfied: importlib_resources in /home/platzer/TUM/Thesis/unitree-go2-mjx-rl/.venv/lib/python3.12/site-packages (from etils->brax->quadruped_mjx_rl==0.0.1) (6.5.2)\r\n",
      "Requirement already satisfied: zipp in /home/platzer/TUM/Thesis/unitree-go2-mjx-rl/.venv/lib/python3.12/site-packages (from etils->brax->quadruped_mjx_rl==0.0.1) (3.21.0)\r\n",
      "Requirement already satisfied: Werkzeug>=3.1 in /home/platzer/TUM/Thesis/unitree-go2-mjx-rl/.venv/lib/python3.12/site-packages (from flask->brax->quadruped_mjx_rl==0.0.1) (3.1.3)\r\n",
      "Requirement already satisfied: itsdangerous>=2.2 in /home/platzer/TUM/Thesis/unitree-go2-mjx-rl/.venv/lib/python3.12/site-packages (from flask->brax->quadruped_mjx_rl==0.0.1) (2.2.0)\r\n",
      "Requirement already satisfied: click>=8.1.3 in /home/platzer/TUM/Thesis/unitree-go2-mjx-rl/.venv/lib/python3.12/site-packages (from flask->brax->quadruped_mjx_rl==0.0.1) (8.1.8)\r\n",
      "Requirement already satisfied: blinker>=1.9 in /home/platzer/TUM/Thesis/unitree-go2-mjx-rl/.venv/lib/python3.12/site-packages (from flask->brax->quadruped_mjx_rl==0.0.1) (1.9.0)\r\n",
      "Requirement already satisfied: MarkupSafe>=2.0 in /home/platzer/TUM/Thesis/unitree-go2-mjx-rl/.venv/lib/python3.12/site-packages (from jinja2->brax->quadruped_mjx_rl==0.0.1) (3.0.2)\r\n",
      "Requirement already satisfied: msgpack in /home/platzer/TUM/Thesis/unitree-go2-mjx-rl/.venv/lib/python3.12/site-packages (from flax->brax->quadruped_mjx_rl==0.0.1) (1.1.0)\r\n",
      "Requirement already satisfied: tensorstore in /home/platzer/TUM/Thesis/unitree-go2-mjx-rl/.venv/lib/python3.12/site-packages (from flax->brax->quadruped_mjx_rl==0.0.1) (0.1.72)\r\n",
      "Requirement already satisfied: rich>=11.1 in /home/platzer/TUM/Thesis/unitree-go2-mjx-rl/.venv/lib/python3.12/site-packages (from flax->brax->quadruped_mjx_rl==0.0.1) (13.9.4)\r\n",
      "Requirement already satisfied: treescope>=0.1.7 in /home/platzer/TUM/Thesis/unitree-go2-mjx-rl/.venv/lib/python3.12/site-packages (from flax->brax->quadruped_mjx_rl==0.0.1) (0.1.9)\r\n",
      "Requirement already satisfied: cloudpickle>=1.2.0 in /home/platzer/TUM/Thesis/unitree-go2-mjx-rl/.venv/lib/python3.12/site-packages (from gym->brax->quadruped_mjx_rl==0.0.1) (3.1.1)\r\n",
      "Requirement already satisfied: gym-notices>=0.0.4 in /home/platzer/TUM/Thesis/unitree-go2-mjx-rl/.venv/lib/python3.12/site-packages (from gym->brax->quadruped_mjx_rl==0.0.1) (0.0.8)\r\n",
      "Requirement already satisfied: decorator in /home/platzer/TUM/Thesis/unitree-go2-mjx-rl/.venv/lib/python3.12/site-packages (from ipython->mediapy->quadruped_mjx_rl==0.0.1) (5.1.1)\r\n",
      "Requirement already satisfied: jedi>=0.16 in /home/platzer/TUM/Thesis/unitree-go2-mjx-rl/.venv/lib/python3.12/site-packages (from ipython->mediapy->quadruped_mjx_rl==0.0.1) (0.19.2)\r\n",
      "Requirement already satisfied: matplotlib-inline in /home/platzer/TUM/Thesis/unitree-go2-mjx-rl/.venv/lib/python3.12/site-packages (from ipython->mediapy->quadruped_mjx_rl==0.0.1) (0.1.7)\r\n",
      "Requirement already satisfied: pexpect>4.3 in /home/platzer/TUM/Thesis/unitree-go2-mjx-rl/.venv/lib/python3.12/site-packages (from ipython->mediapy->quadruped_mjx_rl==0.0.1) (4.9.0)\r\n",
      "Requirement already satisfied: prompt_toolkit<3.1.0,>=3.0.41 in /home/platzer/TUM/Thesis/unitree-go2-mjx-rl/.venv/lib/python3.12/site-packages (from ipython->mediapy->quadruped_mjx_rl==0.0.1) (3.0.48)\r\n",
      "Requirement already satisfied: pygments>=2.4.0 in /home/platzer/TUM/Thesis/unitree-go2-mjx-rl/.venv/lib/python3.12/site-packages (from ipython->mediapy->quadruped_mjx_rl==0.0.1) (2.19.1)\r\n",
      "Requirement already satisfied: stack_data in /home/platzer/TUM/Thesis/unitree-go2-mjx-rl/.venv/lib/python3.12/site-packages (from ipython->mediapy->quadruped_mjx_rl==0.0.1) (0.6.3)\r\n",
      "Requirement already satisfied: traitlets>=5.13.0 in /home/platzer/TUM/Thesis/unitree-go2-mjx-rl/.venv/lib/python3.12/site-packages (from ipython->mediapy->quadruped_mjx_rl==0.0.1) (5.14.3)\r\n",
      "Requirement already satisfied: contourpy>=1.0.1 in /home/platzer/TUM/Thesis/unitree-go2-mjx-rl/.venv/lib/python3.12/site-packages (from matplotlib->mediapy->quadruped_mjx_rl==0.0.1) (1.3.1)\r\n",
      "Requirement already satisfied: cycler>=0.10 in /home/platzer/TUM/Thesis/unitree-go2-mjx-rl/.venv/lib/python3.12/site-packages (from matplotlib->mediapy->quadruped_mjx_rl==0.0.1) (0.12.1)\r\n",
      "Requirement already satisfied: fonttools>=4.22.0 in /home/platzer/TUM/Thesis/unitree-go2-mjx-rl/.venv/lib/python3.12/site-packages (from matplotlib->mediapy->quadruped_mjx_rl==0.0.1) (4.55.2)\r\n",
      "Requirement already satisfied: kiwisolver>=1.3.1 in /home/platzer/TUM/Thesis/unitree-go2-mjx-rl/.venv/lib/python3.12/site-packages (from matplotlib->mediapy->quadruped_mjx_rl==0.0.1) (1.4.7)\r\n",
      "Requirement already satisfied: packaging>=20.0 in /home/platzer/TUM/Thesis/unitree-go2-mjx-rl/.venv/lib/python3.12/site-packages (from matplotlib->mediapy->quadruped_mjx_rl==0.0.1) (24.2)\r\n",
      "Requirement already satisfied: pyparsing>=2.3.1 in /home/platzer/TUM/Thesis/unitree-go2-mjx-rl/.venv/lib/python3.12/site-packages (from matplotlib->mediapy->quadruped_mjx_rl==0.0.1) (3.2.0)\r\n",
      "Requirement already satisfied: python-dateutil>=2.7 in /home/platzer/TUM/Thesis/unitree-go2-mjx-rl/.venv/lib/python3.12/site-packages (from matplotlib->mediapy->quadruped_mjx_rl==0.0.1) (2.9.0.post0)\r\n",
      "Requirement already satisfied: chex>=0.1.87 in /home/platzer/TUM/Thesis/unitree-go2-mjx-rl/.venv/lib/python3.12/site-packages (from optax->brax->quadruped_mjx_rl==0.0.1) (0.1.89)\r\n",
      "Requirement already satisfied: nest_asyncio in /home/platzer/TUM/Thesis/unitree-go2-mjx-rl/.venv/lib/python3.12/site-packages (from orbax-checkpoint->brax->quadruped_mjx_rl==0.0.1) (1.6.0)\r\n",
      "Requirement already satisfied: protobuf in /home/platzer/TUM/Thesis/unitree-go2-mjx-rl/.venv/lib/python3.12/site-packages (from orbax-checkpoint->brax->quadruped_mjx_rl==0.0.1) (6.30.0)\r\n",
      "Requirement already satisfied: humanize in /home/platzer/TUM/Thesis/unitree-go2-mjx-rl/.venv/lib/python3.12/site-packages (from orbax-checkpoint->brax->quadruped_mjx_rl==0.0.1) (4.12.1)\r\n",
      "Requirement already satisfied: simplejson>=3.16.0 in /home/platzer/TUM/Thesis/unitree-go2-mjx-rl/.venv/lib/python3.12/site-packages (from orbax-checkpoint->brax->quadruped_mjx_rl==0.0.1) (3.20.1)\r\n",
      "Requirement already satisfied: setuptools in /home/platzer/TUM/Thesis/unitree-go2-mjx-rl/.venv/lib/python3.12/site-packages (from chex>=0.1.87->optax->brax->quadruped_mjx_rl==0.0.1) (75.8.2)\r\n",
      "Requirement already satisfied: toolz>=0.9.0 in /home/platzer/TUM/Thesis/unitree-go2-mjx-rl/.venv/lib/python3.12/site-packages (from chex>=0.1.87->optax->brax->quadruped_mjx_rl==0.0.1) (1.0.0)\r\n",
      "Requirement already satisfied: parso<0.9.0,>=0.8.4 in /home/platzer/TUM/Thesis/unitree-go2-mjx-rl/.venv/lib/python3.12/site-packages (from jedi>=0.16->ipython->mediapy->quadruped_mjx_rl==0.0.1) (0.8.4)\r\n",
      "Requirement already satisfied: ptyprocess>=0.5 in /home/platzer/TUM/Thesis/unitree-go2-mjx-rl/.venv/lib/python3.12/site-packages (from pexpect>4.3->ipython->mediapy->quadruped_mjx_rl==0.0.1) (0.7.0)\r\n",
      "Requirement already satisfied: wcwidth in /home/platzer/TUM/Thesis/unitree-go2-mjx-rl/.venv/lib/python3.12/site-packages (from prompt_toolkit<3.1.0,>=3.0.41->ipython->mediapy->quadruped_mjx_rl==0.0.1) (0.2.13)\r\n",
      "Requirement already satisfied: markdown-it-py>=2.2.0 in /home/platzer/TUM/Thesis/unitree-go2-mjx-rl/.venv/lib/python3.12/site-packages (from rich>=11.1->flax->brax->quadruped_mjx_rl==0.0.1) (3.0.0)\r\n",
      "Requirement already satisfied: attrs>=18.2.0 in /home/platzer/TUM/Thesis/unitree-go2-mjx-rl/.venv/lib/python3.12/site-packages (from dm-tree->dm-env->brax->quadruped_mjx_rl==0.0.1) (25.1.0)\r\n",
      "Requirement already satisfied: wrapt>=1.11.2 in /home/platzer/TUM/Thesis/unitree-go2-mjx-rl/.venv/lib/python3.12/site-packages (from dm-tree->dm-env->brax->quadruped_mjx_rl==0.0.1) (1.17.2)\r\n",
      "Requirement already satisfied: executing>=1.2.0 in /home/platzer/TUM/Thesis/unitree-go2-mjx-rl/.venv/lib/python3.12/site-packages (from stack_data->ipython->mediapy->quadruped_mjx_rl==0.0.1) (2.1.0)\r\n",
      "Requirement already satisfied: asttokens>=2.1.0 in /home/platzer/TUM/Thesis/unitree-go2-mjx-rl/.venv/lib/python3.12/site-packages (from stack_data->ipython->mediapy->quadruped_mjx_rl==0.0.1) (3.0.0)\r\n",
      "Requirement already satisfied: pure-eval in /home/platzer/TUM/Thesis/unitree-go2-mjx-rl/.venv/lib/python3.12/site-packages (from stack_data->ipython->mediapy->quadruped_mjx_rl==0.0.1) (0.2.3)\r\n",
      "Requirement already satisfied: mdurl~=0.1 in /home/platzer/TUM/Thesis/unitree-go2-mjx-rl/.venv/lib/python3.12/site-packages (from markdown-it-py>=2.2.0->rich>=11.1->flax->brax->quadruped_mjx_rl==0.0.1) (0.1.2)\r\n",
      "Building wheels for collected packages: quadruped_mjx_rl\r\n",
      "  Building editable for quadruped_mjx_rl (pyproject.toml) ... \u001B[?25ldone\r\n",
      "\u001B[?25h  Created wheel for quadruped_mjx_rl: filename=quadruped_mjx_rl-0.0.1-0.editable-py3-none-any.whl size=1902 sha256=c6c354bd6f2ebb6a2a736dda72f851f9ab57c1d27eaac69136c58fa377d17edb\r\n",
      "  Stored in directory: /tmp/pip-ephem-wheel-cache-ckf868ry/wheels/9b/0b/6f/123a8d31167a2a1723cdf5e0178cfe10935f270d552b5e8100\r\n",
      "Successfully built quadruped_mjx_rl\r\n",
      "Installing collected packages: quadruped_mjx_rl\r\n",
      "  Attempting uninstall: quadruped_mjx_rl\r\n",
      "    Found existing installation: quadruped_mjx_rl 0.0.1\r\n",
      "    Not uninstalling quadruped-mjx-rl at /home/platzer/TUM/Thesis/unitree-go2-mjx-rl/src, outside environment /home/platzer/TUM/Thesis/unitree-go2-mjx-rl/.venv\r\n",
      "    Can't uninstall 'quadruped_mjx_rl'. No files were found to uninstall.\r\n",
      "Successfully installed quadruped_mjx_rl-0.0.1\r\n",
      "\r\n",
      "\u001B[1m[\u001B[0m\u001B[34;49mnotice\u001B[0m\u001B[1;39;49m]\u001B[0m\u001B[39;49m A new release of pip is available: \u001B[0m\u001B[31;49m23.2.1\u001B[0m\u001B[39;49m -> \u001B[0m\u001B[32;49m25.1\u001B[0m\r\n",
      "\u001B[1m[\u001B[0m\u001B[34;49mnotice\u001B[0m\u001B[1;39;49m]\u001B[0m\u001B[39;49m To update, run: \u001B[0m\u001B[32;49mpip install --upgrade pip\u001B[0m\r\n"
     ]
    }
   ],
   "execution_count": 2
  },
  {
   "cell_type": "markdown",
   "source": [
    "### Now restart the session and continue.\n",
    "### You can skip setup next time while you are on the same machine."
   ],
   "metadata": {
    "id": "W-4afCIErqZU"
   },
   "id": "W-4afCIErqZU"
  },
  {
   "metadata": {
    "id": "e01c74e8011bcec3"
   },
   "cell_type": "markdown",
   "source": [
    "## Training"
   ],
   "id": "e01c74e8011bcec3"
  },
  {
   "cell_type": "code",
   "source": [
    "# @title Configuration for both local and for Colab instances.\n",
    "\n",
    "repo_path = \"./unitree-go2-mjx-rl\"\n",
    "\n",
    "# Refresh the repo for recent changes\n",
    "# Important in development\n",
    "!git -C {repo_path} pull\n",
    "\n",
    "# On your second reading, load the compiled rendering backend to save time!\n",
    "import os\n",
    "os.environ[\"XLA_PYTHON_CLIENT_PREALLOCATE\"] = \"false\"\n",
    "\n",
    "# Check if MuJoCo installation was successful\n",
    "import distutils.util\n",
    "import os\n",
    "import subprocess\n",
    "# if subprocess.run('nvidia-smi').returncode:\n",
    "#     raise RuntimeError(\n",
    "#         'Cannot communicate with GPU. '\n",
    "#         'Make sure you are using a GPU Colab runtime. '\n",
    "#         'Go to the Runtime menu and select Choose runtime type.'\n",
    "#     )\n",
    "\n",
    "# Add an ICD config so that glvnd can pick up the Nvidia EGL driver.\n",
    "# This is usually installed as part of an Nvidia driver package, but the Colab\n",
    "# kernel doesn't install its driver via APT, and as a result the ICD is missing.\n",
    "# (https://github.com/NVIDIA/libglvnd/blob/master/src/EGL/icd_enumeration.md)\n",
    "NVIDIA_ICD_CONFIG_PATH = '/usr/share/glvnd/egl_vendor.d/10_nvidia.json'\n",
    "# if not os.path.exists(NVIDIA_ICD_CONFIG_PATH):\n",
    "#     with open(NVIDIA_ICD_CONFIG_PATH, 'w') as f:\n",
    "#         f.write(\"\"\"{\n",
    "#         \"file_format_version\" : \"1.0.0\",\n",
    "#         \"ICD\" : {\n",
    "#             \"library_path\" : \"libEGL_nvidia.so.0\"\n",
    "#         }\n",
    "#     }\n",
    "#     \"\"\")\n",
    "\n",
    "# Configure MuJoCo to use the EGL rendering backend (requires GPU)\n",
    "print('Setting environment variable to use GPU rendering:')\n",
    "%env MUJOCO_GL=egl\n",
    "\n",
    "try:\n",
    "    print('Checking that the installation succeeded:')\n",
    "    import mujoco\n",
    "\n",
    "    mujoco.MjModel.from_xml_string('<mujoco/>')\n",
    "except Exception as e:\n",
    "    raise e from RuntimeError(\n",
    "        'Something went wrong during installation. Check the shell output above '\n",
    "        'for more information.\\n'\n",
    "        'If using a hosted Colab runtime, make sure you enable GPU acceleration '\n",
    "        'by going to the Runtime menu and selecting \"Choose runtime type\".'\n",
    "    )\n",
    "\n",
    "print('Installation successful.')\n",
    "\n",
    "# Tell XLA to use Triton GEMM, this improves steps/sec by ~30% on some GPUs\n",
    "xla_flags = os.environ.get('XLA_FLAGS', '')\n",
    "xla_flags += ' --xla_gpu_triton_gemm_any=True'\n",
    "os.environ['XLA_FLAGS'] = xla_flags"
   ],
   "metadata": {
    "colab": {
     "base_uri": "https://localhost:8080/"
    },
    "id": "bukHmqYa1kbU",
    "outputId": "abde7633-38a5-4e50-e8be-1e15637e8460",
    "ExecuteTime": {
     "end_time": "2025-05-03T12:14:00.762422Z",
     "start_time": "2025-05-03T12:13:59.215539Z"
    }
   },
   "id": "bukHmqYa1kbU",
   "outputs": [
    {
     "name": "stdout",
     "output_type": "stream",
     "text": [
      "Already up to date.\r\n",
      "Setting environment variable to use GPU rendering:\n",
      "env: MUJOCO_GL=egl\n",
      "Checking that the installation succeeded:\n",
      "Installation successful.\n"
     ]
    }
   ],
   "execution_count": 4
  },
  {
   "cell_type": "code",
   "source": [
    "#@title Prepare experiments directory\n",
    "from etils.epath import Path\n",
    "\n",
    "experiments_dir = Path(\"experiments\")\n",
    "trained_policy_dir = experiments_dir / \"trained_policies\"\n",
    "!mkdir -p {trained_policy_dir}\n",
    "configs_dir = experiments_dir / \"configs\"\n",
    "!mkdir -p {configs_dir}\n",
    "\n",
    "experiment_configs = {}"
   ],
   "metadata": {
    "id": "8YX0CJPqDw4a",
    "ExecuteTime": {
     "end_time": "2025-05-03T12:14:06.731759Z",
     "start_time": "2025-05-03T12:14:06.434944Z"
    }
   },
   "id": "8YX0CJPqDw4a",
   "outputs": [],
   "execution_count": 5
  },
  {
   "cell_type": "code",
   "source": [
    "#@title Configure a training procedure\n",
    "from quadruped_mjx_rl.configs import predefined_robot_configs\n",
    "from quadruped_mjx_rl import environments\n",
    "from quadruped_mjx_rl.configs.config_classes import models\n",
    "from quadruped_mjx_rl.configs import TrainingConfig\n",
    "from quadruped_mjx_rl.configs import save_configs\n",
    "\n",
    "#@markdown Fill out a name for the experiment and all configuration parameters.\n",
    "#@markdown If you want to add another experiment, change the parameters and run\n",
    "#@markdown this cell again.\n",
    "experiment_name = \"my_experiment\" #@param {type:\"string\"}\n",
    "config_dict = {}\n",
    "experiment_configs[experiment_name] = config_dict\n",
    "\n",
    "#@markdown ---\n",
    "#@markdown #### Choose the policy approximation method\n",
    "model_architecture = \"Actor-Critic\" #@param [\"Actor-Critic\", \"Teacher-Student\"]\n",
    "training_algorithm = \"ppo\" #@param [\"ppo\"]\n",
    "vision_backend = \"None\" #@param [\"None\",\"MJX\",\"Madrona\"]\n",
    "\n",
    "#@markdown ---\n",
    "#@markdown #### Choose the robot\n",
    "robot = \"unitree_go2\" #@param [\"unitree_go2\", \"google_barkour_vb\"]\n",
    "robot_config = predefined_robot_configs[robot]()\n",
    "config_dict[\"robot_config\"] = robot_config\n",
    "init_scene_path = f\"{repo_path}/resources/{robot}/scene_mjx.xml\"\n",
    "# TODO: add scenes for vision\n",
    "\n",
    "#@markdown ---\n",
    "#@markdown #### Configure Environment\n",
    "if model_architecture == \"Actor-Critic\" and training_algorithm == \"ppo\":\n",
    "    env_class = environments.QuadrupedJoystickEnhancedEnv\n",
    "    env_config_class = environments.EnhancedEnvironmentConfig\n",
    "else:\n",
    "    raise NotImplementedError\n",
    "\n",
    "simulation_timestep = 0.002 #@param {type:\"number\"}\n",
    "control_timestep = 0.002 #@param {type:\"number\"}\n",
    "\n",
    "env_config = env_config_class(\n",
    "    sim=env_config_class.SimConfig(\n",
    "        sim_dt=simulation_timestep,\n",
    "        ctrl_dt=control_timestep,\n",
    "    ),\n",
    ")\n",
    "config_dict[\"env_config\"] = env_config\n",
    "\n",
    "env = env_class(\n",
    "    environment_config=env_config,\n",
    "    robot_config=robot_config,\n",
    "    init_scene_path=init_scene_path,\n",
    ")\n",
    "\n",
    "#@markdown ---\n",
    "#@markdown #### Configure Model\n",
    "if model_architecture == \"Actor-Critic\":\n",
    "    #@markdown ---\n",
    "    #@markdown Model hyperparameters for the \"Actor-Critic\" architecture:\n",
    "    policy_layers = [256, 256] #@param\n",
    "    value_layers = [256, 256] #@param\n",
    "\n",
    "    model_config_class = models.ActorCriticConfig\n",
    "    model_config = model_config_class(\n",
    "        modules=model_config_class.ActorCriticModulesConfig(\n",
    "            policy=policy_layers,\n",
    "            value=value_layers,\n",
    "        ),\n",
    "    )\n",
    "elif model_architecture == \"Teacher-Student\":\n",
    "    #@markdown ---\n",
    "    #@markdown Model hyperparameters for the \"Teacher-Student\" architecture:\n",
    "    policy_layers = [256, 256] #@param\n",
    "    value_layers = [256, 256] #@param\n",
    "    teacher_encoder_layers = [256, 256] #@param\n",
    "    student_encoder_layers = [256, 256] #@param\n",
    "    latent_representation_size = 16 # @param {\"type\":\"integer\"}\n",
    "\n",
    "    model_config_class = models.TeacherStudentConfig\n",
    "    model_config = model_config_class(\n",
    "        modules=model_config_class.TeacherStudentModulesConfig(\n",
    "            policy=policy_layers,\n",
    "            value=value_layers,\n",
    "            encoder=teacher_encoder_layers,\n",
    "            adapter=student_encoder_layers,\n",
    "        ),\n",
    "        latent_size=latent_representation_size,\n",
    "    )\n",
    "config_dict[\"model_config\"] = model_config\n",
    "\n",
    "#@markdown ---\n",
    "#@markdown #### #@title Configure training procedure\n",
    "if vision_backend == \"None\":\n",
    "    #@markdown ---\n",
    "    #@markdown #### Training without vision:\n",
    "    training_config = TrainingConfig(\n",
    "        num_timesteps=1_000_000 #@param {\"type\":\"integer\"}\n",
    "        ,num_evals=5 #@param {\"type\":\"integer\"}\n",
    "        ,reward_scaling=1 #@param {\"type\":\"integer\"}\n",
    "        ,episode_length=1000 #@param {\"type\":\"integer\"}\n",
    "        ,normalize_observations=True #@param {\"type\":\"boolean\"}\n",
    "        ,action_repeat=1 #@param {\"type\":\"integer\"}\n",
    "        ,unroll_length=10 #@param {\"type\":\"integer\"}\n",
    "        ,num_minibatches=8 #@param {\"type\":\"integer\"}\n",
    "        ,num_updates_per_batch=8 #@param {\"type\":\"integer\"}\n",
    "        ,discounting=0.97 #@param {\"type\":\"number\"}\n",
    "        ,learning_rate=0.0005  #@param {\"type\":\"number\"}\n",
    "        ,entropy_cost=0.005  #@param {\"type\":\"number\"}\n",
    "        ,num_envs=512 #@param {\"type\":\"integer\"}\n",
    "        ,batch_size=256 #@param {\"type\":\"integer\"}\n",
    "    )\n",
    "elif vision_backend == \"Madrona\":\n",
    "    training_config_class = TrainingWithVisionConfig\n",
    "else:\n",
    "    raise NotImplementedError\n",
    "config_dict[\"training_config\"] = training_config\n",
    "\n",
    "config_file_path = configs_dir / f\"{experiment_name}.yaml\"\n",
    "save_configs(config_file_path, *config_dict.values())\n",
    "print(f\"Experiment configs saved to {config_file_path}\")\n",
    "\n",
    "trained_policy_save_path = trained_policy_dir / f\"{experiment_name}\"\n",
    "print(f\"Trained policy saved to {trained_policy_save_path}\")"
   ],
   "metadata": {
    "id": "9v7k-gt1_Yq8",
    "outputId": "ae90120c-6fd3-48b0-ad30-28f1b78bc24f",
    "colab": {
     "base_uri": "https://localhost:8080/",
     "height": 453
    },
    "ExecuteTime": {
     "end_time": "2025-05-03T12:14:14.817268Z",
     "start_time": "2025-05-03T12:14:09.775232Z"
    }
   },
   "id": "9v7k-gt1_Yq8",
   "outputs": [
    {
     "name": "stdout",
     "output_type": "stream",
     "text": [
      "Error saving config: EnhancedEnvironmentConfig(observation_noise=EnvironmentConfig.ObservationNoiseConfig(general_noise=0.05), control=EnvironmentConfig.ControlConfig(action_scale=0.3), command=EnvironmentConfig.CommandConfig(resampling_time=500, ranges=EnvironmentConfig.CommandConfig.RangesConfig(lin_vel_x=(-0.6, 1.5), lin_vel_y=(-0.8, 0.8), ang_vel_yaw=(-0.7, 0.7))), domain_rand=EnhancedEnvironmentConfig.DomainRandConfig(kick_vel=0.05, kick_interval=10), sim=EnhancedEnvironmentConfig.SimConfig(ctrl_dt=0.002, sim_dt=0.002, override=EnhancedEnvironmentConfig.SimConfig.OverrideConfig(Kp=35.0, Kd=0.5)), rewards=EnhancedEnvironmentConfig.RewardConfig(tracking_sigma=0.25, termination_body_height=0.18, scales=EnhancedEnvironmentConfig.RewardConfig.ScalesConfig(tracking_lin_vel=1.5, tracking_ang_vel=0.8, lin_vel_z=-2.0, ang_vel_xy=-0.05, orientation=-5.0, torques=-0.0002, action_rate=-0.01, feet_air_time=0.2, stand_still=-0.5, termination=-1.0, foot_slip=-0.1)), environment_class='Enhanced', _environment_class=~EnvType)\n"
     ]
    },
    {
     "ename": "KeyError",
     "evalue": "\"Could not find config key for <class 'quadruped_mjx_rl.environments.ppo_enhanced.EnhancedEnvironmentConfig'>\"",
     "output_type": "error",
     "traceback": [
      "\u001B[0;31m---------------------------------------------------------------------------\u001B[0m",
      "\u001B[0;31mKeyError\u001B[0m                                  Traceback (most recent call last)",
      "File \u001B[0;32m~/TUM/Thesis/unitree-go2-mjx-rl/src/quadruped_mjx_rl/configs/config_utils/config_keys.py:46\u001B[0m, in \u001B[0;36mConfigKey.from_config_base_class\u001B[0;34m(config_class)\u001B[0m\n\u001B[1;32m     45\u001B[0m \u001B[38;5;28;01mtry\u001B[39;00m:\n\u001B[0;32m---> 46\u001B[0m     \u001B[38;5;28;01mreturn\u001B[39;00m \u001B[43minv_dict\u001B[49m\u001B[43m[\u001B[49m\u001B[43mconfig_class\u001B[49m\u001B[43m]\u001B[49m\n\u001B[1;32m     47\u001B[0m \u001B[38;5;28;01mexcept\u001B[39;00m \u001B[38;5;167;01mKeyError\u001B[39;00m:\n",
      "\u001B[0;31mKeyError\u001B[0m: <class 'quadruped_mjx_rl.environments.ppo_enhanced.EnhancedEnvironmentConfig'>",
      "\nDuring handling of the above exception, another exception occurred:\n",
      "\u001B[0;31mKeyError\u001B[0m                                  Traceback (most recent call last)",
      "Cell \u001B[0;32mIn[6], line 118\u001B[0m\n\u001B[1;32m    115\u001B[0m config_dict[\u001B[38;5;124m\"\u001B[39m\u001B[38;5;124mtraining_config\u001B[39m\u001B[38;5;124m\"\u001B[39m] \u001B[38;5;241m=\u001B[39m training_config\n\u001B[1;32m    117\u001B[0m config_file_path \u001B[38;5;241m=\u001B[39m configs_dir \u001B[38;5;241m/\u001B[39m \u001B[38;5;124mf\u001B[39m\u001B[38;5;124m\"\u001B[39m\u001B[38;5;132;01m{\u001B[39;00mexperiment_name\u001B[38;5;132;01m}\u001B[39;00m\u001B[38;5;124m.yaml\u001B[39m\u001B[38;5;124m\"\u001B[39m\n\u001B[0;32m--> 118\u001B[0m \u001B[43msave_configs\u001B[49m\u001B[43m(\u001B[49m\u001B[43mconfig_file_path\u001B[49m\u001B[43m,\u001B[49m\u001B[43m \u001B[49m\u001B[38;5;241;43m*\u001B[39;49m\u001B[43mconfig_dict\u001B[49m\u001B[38;5;241;43m.\u001B[39;49m\u001B[43mvalues\u001B[49m\u001B[43m(\u001B[49m\u001B[43m)\u001B[49m\u001B[43m)\u001B[49m\n\u001B[1;32m    119\u001B[0m \u001B[38;5;28mprint\u001B[39m(\u001B[38;5;124mf\u001B[39m\u001B[38;5;124m\"\u001B[39m\u001B[38;5;124mExperiment configs saved to \u001B[39m\u001B[38;5;132;01m{\u001B[39;00mconfig_file_path\u001B[38;5;132;01m}\u001B[39;00m\u001B[38;5;124m\"\u001B[39m)\n\u001B[1;32m    121\u001B[0m trained_policy_save_path \u001B[38;5;241m=\u001B[39m trained_policy_dir \u001B[38;5;241m/\u001B[39m \u001B[38;5;124mf\u001B[39m\u001B[38;5;124m\"\u001B[39m\u001B[38;5;132;01m{\u001B[39;00mexperiment_name\u001B[38;5;132;01m}\u001B[39;00m\u001B[38;5;124m\"\u001B[39m\n",
      "File \u001B[0;32m~/TUM/Thesis/unitree-go2-mjx-rl/src/quadruped_mjx_rl/configs/config_utils/file_configs.py:99\u001B[0m, in \u001B[0;36msave_configs\u001B[0;34m(save_file_path, *configs)\u001B[0m\n\u001B[1;32m     97\u001B[0m     \u001B[38;5;28;01mexcept\u001B[39;00m \u001B[38;5;167;01mException\u001B[39;00m \u001B[38;5;28;01mas\u001B[39;00m e:\n\u001B[1;32m     98\u001B[0m         \u001B[38;5;28mprint\u001B[39m(\u001B[38;5;124mf\u001B[39m\u001B[38;5;124m\"\u001B[39m\u001B[38;5;124mError saving config: \u001B[39m\u001B[38;5;132;01m{\u001B[39;00mconfig\u001B[38;5;132;01m}\u001B[39;00m\u001B[38;5;124m\"\u001B[39m)\n\u001B[0;32m---> 99\u001B[0m         \u001B[38;5;28;01mraise\u001B[39;00m e\n\u001B[1;32m    100\u001B[0m final_dict \u001B[38;5;241m=\u001B[39m {\n\u001B[1;32m    101\u001B[0m     ConfigKey\u001B[38;5;241m.\u001B[39mfrom_config_base_class(\u001B[38;5;28mtype\u001B[39m(config))\u001B[38;5;241m.\u001B[39mvalue: asdict(config)\n\u001B[1;32m    102\u001B[0m     \u001B[38;5;28;01mfor\u001B[39;00m config \u001B[38;5;129;01min\u001B[39;00m configs\n\u001B[1;32m    103\u001B[0m }\n\u001B[1;32m    104\u001B[0m \u001B[38;5;28;01mwith\u001B[39;00m \u001B[38;5;28mopen\u001B[39m(save_file_path, \u001B[38;5;124m\"\u001B[39m\u001B[38;5;124mw\u001B[39m\u001B[38;5;124m\"\u001B[39m) \u001B[38;5;28;01mas\u001B[39;00m f:\n",
      "File \u001B[0;32m~/TUM/Thesis/unitree-go2-mjx-rl/src/quadruped_mjx_rl/configs/config_utils/file_configs.py:89\u001B[0m, in \u001B[0;36msave_configs\u001B[0;34m(save_file_path, *configs)\u001B[0m\n\u001B[1;32m     86\u001B[0m \u001B[38;5;28;01mfor\u001B[39;00m config \u001B[38;5;129;01min\u001B[39;00m configs:\n\u001B[1;32m     87\u001B[0m     \u001B[38;5;28;01mtry\u001B[39;00m:\n\u001B[1;32m     88\u001B[0m         final_dict[\n\u001B[0;32m---> 89\u001B[0m             \u001B[43mConfigKey\u001B[49m\u001B[38;5;241;43m.\u001B[39;49m\u001B[43mfrom_config_base_class\u001B[49m\u001B[43m(\u001B[49m\n\u001B[1;32m     90\u001B[0m \u001B[43m                \u001B[49m\u001B[38;5;28;43mtype\u001B[39;49m\u001B[43m(\u001B[49m\n\u001B[1;32m     91\u001B[0m \u001B[43m                    \u001B[49m\u001B[43mconfig\u001B[49m\n\u001B[1;32m     92\u001B[0m \u001B[43m                \u001B[49m\u001B[43m)\u001B[49m\n\u001B[1;32m     93\u001B[0m \u001B[43m            \u001B[49m\u001B[43m)\u001B[49m\u001B[38;5;241m.\u001B[39mvalue\n\u001B[1;32m     94\u001B[0m         ] \u001B[38;5;241m=\u001B[39m asdict(\n\u001B[1;32m     95\u001B[0m             config\n\u001B[1;32m     96\u001B[0m         )\n\u001B[1;32m     97\u001B[0m     \u001B[38;5;28;01mexcept\u001B[39;00m \u001B[38;5;167;01mException\u001B[39;00m \u001B[38;5;28;01mas\u001B[39;00m e:\n\u001B[1;32m     98\u001B[0m         \u001B[38;5;28mprint\u001B[39m(\u001B[38;5;124mf\u001B[39m\u001B[38;5;124m\"\u001B[39m\u001B[38;5;124mError saving config: \u001B[39m\u001B[38;5;132;01m{\u001B[39;00mconfig\u001B[38;5;132;01m}\u001B[39;00m\u001B[38;5;124m\"\u001B[39m)\n",
      "File \u001B[0;32m~/TUM/Thesis/unitree-go2-mjx-rl/src/quadruped_mjx_rl/configs/config_utils/config_keys.py:51\u001B[0m, in \u001B[0;36mConfigKey.from_config_base_class\u001B[0;34m(config_class)\u001B[0m\n\u001B[1;32m     49\u001B[0m     \u001B[38;5;28;01mif\u001B[39;00m supertype \u001B[38;5;129;01min\u001B[39;00m ConfigKey\u001B[38;5;241m.\u001B[39m__members__:\n\u001B[1;32m     50\u001B[0m         \u001B[38;5;28;01mreturn\u001B[39;00m inv_dict[supertype]\n\u001B[0;32m---> 51\u001B[0m \u001B[38;5;28;01mraise\u001B[39;00m \u001B[38;5;167;01mKeyError\u001B[39;00m(\u001B[38;5;124mf\u001B[39m\u001B[38;5;124m\"\u001B[39m\u001B[38;5;124mCould not find config key for \u001B[39m\u001B[38;5;132;01m{\u001B[39;00mconfig_class\u001B[38;5;132;01m}\u001B[39;00m\u001B[38;5;124m\"\u001B[39m)\n",
      "\u001B[0;31mKeyError\u001B[0m: \"Could not find config key for <class 'quadruped_mjx_rl.environments.ppo_enhanced.EnhancedEnvironmentConfig'>\""
     ]
    }
   ],
   "execution_count": 6
  },
  {
   "cell_type": "code",
   "source": [
    "from quadruped_mjx_rl.training import train\n",
    "from quadruped_mjx_rl.models.agents.ppo.raw_ppo import train as raw_train\n",
    "\n",
    "train(\n",
    "    env=env,\n",
    "    model_config=model_config,\n",
    "    training_config=training_config,\n",
    "    train_fn=raw_train,\n",
    "    model_save_path=trained_policy_save_path,\n",
    "    checkpoints_save_path=None, #TODO: enable\n",
    "    vision=False, #TODO: enable\n",
    ")"
   ],
   "metadata": {
    "id": "q5LBMWAO1lV-"
   },
   "id": "q5LBMWAO1lV-",
   "execution_count": null,
   "outputs": []
  },
  {
   "metadata": {
    "id": "c12f2f24636fdfe0"
   },
   "cell_type": "markdown",
   "source": [
    "## Results"
   ],
   "id": "c12f2f24636fdfe0"
  }
 ],
 "metadata": {
  "kernelspec": {
   "display_name": "Python 3",
   "name": "python3"
  },
  "language_info": {
   "codemirror_mode": {
    "name": "ipython",
    "version": 2
   },
   "file_extension": ".py",
   "mimetype": "text/x-python",
   "name": "python",
   "nbconvert_exporter": "python",
   "pygments_lexer": "ipython2",
   "version": "2.7.6"
  },
  "colab": {
   "provenance": [],
   "gpuType": "T4",
   "include_colab_link": true
  },
  "accelerator": "GPU"
 },
 "nbformat": 4,
 "nbformat_minor": 5
}
