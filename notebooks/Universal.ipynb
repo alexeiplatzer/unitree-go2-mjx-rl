{
 "cells": [
  {
   "cell_type": "markdown",
   "metadata": {
    "id": "view-in-github",
    "colab_type": "text"
   },
   "source": [
    "<a href=\"https://colab.research.google.com/github/alexeiplatzer/unitree-go2-mjx-rl/blob/main/notebooks/Universal.ipynb\" target=\"_parent\"><img src=\"https://colab.research.google.com/assets/colab-badge.svg\" alt=\"Open In Colab\"/></a>"
   ],
   "id": "809f94acded4b1f1"
  },
  {
   "metadata": {
    "id": "f4d6a6a44d14ed1b"
   },
   "cell_type": "markdown",
   "source": [
    "# **Univeral Notebook for Quadruped RL Training in MJX**\n",
    "This notebook uses the `quadruped-mjx-rl` python package from the `unitree-go2-mjx-rl` repository to train locomotion policies for quadrupeds using reinforcement learning in the Mujoco XLA (MJX) simulation environment."
   ],
   "id": "f4d6a6a44d14ed1b"
  },
  {
   "metadata": {
    "id": "e3a9f2f1b31ad2d8"
   },
   "cell_type": "markdown",
   "source": [
    "# Hardware Setup\n",
    "This part sets up the `quadruped-mjx-rl` package on the machine."
   ],
   "id": "e3a9f2f1b31ad2d8"
  },
  {
   "cell_type": "code",
   "source": [
    "#@title run this cell once each time on a new machine\n",
    "#@markdown #### Setup configuration\n",
    "\n",
    "#@markdown Choose your hardware option:\n",
    "hardware = \"Colab\" #@param [\"local\",\"Colab\",\"Kaggle\"]\n",
    "\n",
    "#@markdown Choose whether you want to build the madrona rendering setup for training\n",
    "#@markdown with vision:\n",
    "build_madrona_backend = True #@param {\"type\":\"boolean\"}\n",
    "\n",
    "#@markdown Choose if you want to pull changes to the package repository during the runtime.\n",
    "#@markdown (Requires a restart after executing this cell!)\n",
    "editable_mode = True #@param {\"type\":\"boolean\"}\n",
    "\n",
    "if build_madrona_backend:\n",
    "    # Install madrona MJX\n",
    "    import time\n",
    "    print(\"Intalling Madrona MJX...\")\n",
    "    start_time = time.perf_counter()\n",
    "    print(\"Setting up environment... (Step 1/3)\")\n",
    "    !pip uninstall -y jax\n",
    "    !pip install jax[\"cuda12_local\"]==0.4.35\n",
    "\n",
    "    !sudo apt install libx11-dev libxrandr-dev libxinerama-dev libxcursor-dev libxi-dev mesa-common-dev\n",
    "\n",
    "    !mkdir modules\n",
    "    !git clone https://github.com/shacklettbp/madrona_mjx.git modules/madrona_mjx\n",
    "\n",
    "    !git -C modules/madrona_mjx submodule update --init --recursive\n",
    "\n",
    "    !mkdir modules/madrona_mjx/build\n",
    "\n",
    "    if hardware == \"Kaggle\":\n",
    "        !sudo apt-get install -y nvidia-cuda-toolkit\n",
    "\n",
    "    print(\"Building the Madrona backend ... (Step 2/3)\")\n",
    "    !cd modules/madrona_mjx/build && cmake -DLOAD_VULKAN=OFF .. && make -j 8\n",
    "\n",
    "    print (\"Installing Madrona MJX ... (Step 3/3)\")\n",
    "    !pip install -e modules/madrona_mjx\n",
    "\n",
    "    minutes, seconds = divmod((time.perf_counter() - start_time), 60)\n",
    "    print(f\"Finished installing Madrona MJX in {minutes} m {seconds:.2f} s\")\n",
    "\n",
    "# Clones and installs our Quadruped RL package\n",
    "!git clone https://github.com/alexeiplatzer/unitree-go2-mjx-rl.git\n",
    "if editable_mode:\n",
    "    !pip install -e unitree-go2-mjx-rl\n",
    "else:\n",
    "    !pip install unitree-go2-mjx-rl"
   ],
   "metadata": {
    "id": "Kg6Ab0jgovuC",
    "collapsed": true
   },
   "id": "Kg6Ab0jgovuC",
   "execution_count": null,
   "outputs": []
  },
  {
   "cell_type": "markdown",
   "source": [
    "### Now restart the session and continue.\n",
    "### You can skip setup next time while you are on the same machine."
   ],
   "metadata": {
    "id": "W-4afCIErqZU"
   },
   "id": "W-4afCIErqZU"
  },
  {
   "metadata": {
    "id": "e01c74e8011bcec3"
   },
   "cell_type": "markdown",
   "source": [
    "# Session setup\n",
    "Run once in the beggining of every session, i.e. after restarts and crashes."
   ],
   "id": "e01c74e8011bcec3"
  },
  {
   "cell_type": "code",
   "source": [
    "# @title Refresh the package if any necessary changes have been pushed. Important in development\n",
    "repo_path = \"./unitree-go2-mjx-rl\"\n",
    "!git -C {repo_path} pull"
   ],
   "metadata": {
    "colab": {
     "base_uri": "https://localhost:8080/"
    },
    "id": "kYg-MhCgz2tZ",
    "outputId": "dcb3ef41-1093-45aa-ca2f-533d7487a304"
   },
   "id": "kYg-MhCgz2tZ",
   "execution_count": 6,
   "outputs": [
    {
     "output_type": "stream",
     "name": "stdout",
     "text": [
      "remote: Enumerating objects: 21, done.\u001B[K\n",
      "remote: Counting objects:   6% (1/16)\u001B[K\rremote: Counting objects:  12% (2/16)\u001B[K\rremote: Counting objects:  18% (3/16)\u001B[K\rremote: Counting objects:  25% (4/16)\u001B[K\rremote: Counting objects:  31% (5/16)\u001B[K\rremote: Counting objects:  37% (6/16)\u001B[K\rremote: Counting objects:  43% (7/16)\u001B[K\rremote: Counting objects:  50% (8/16)\u001B[K\rremote: Counting objects:  56% (9/16)\u001B[K\rremote: Counting objects:  62% (10/16)\u001B[K\rremote: Counting objects:  68% (11/16)\u001B[K\rremote: Counting objects:  75% (12/16)\u001B[K\rremote: Counting objects:  81% (13/16)\u001B[K\rremote: Counting objects:  87% (14/16)\u001B[K\rremote: Counting objects:  93% (15/16)\u001B[K\rremote: Counting objects: 100% (16/16)\u001B[K\rremote: Counting objects: 100% (16/16), done.\u001B[K\n",
      "remote: Compressing objects:  25% (1/4)\u001B[K\rremote: Compressing objects:  50% (2/4)\u001B[K\rremote: Compressing objects:  75% (3/4)\u001B[K\rremote: Compressing objects: 100% (4/4)\u001B[K\rremote: Compressing objects: 100% (4/4), done.\u001B[K\n",
      "remote: Total 9 (delta 4), reused 9 (delta 4), pack-reused 0 (from 0)\u001B[K\n",
      "Unpacking objects:  11% (1/9)\rUnpacking objects:  22% (2/9)\rUnpacking objects:  33% (3/9)\rUnpacking objects:  44% (4/9)\rUnpacking objects:  55% (5/9)\rUnpacking objects:  66% (6/9)\rUnpacking objects:  77% (7/9)\rUnpacking objects:  88% (8/9)\rUnpacking objects: 100% (9/9)\rUnpacking objects: 100% (9/9), 905 bytes | 452.00 KiB/s, done.\n",
      "From https://github.com/alexeiplatzer/unitree-go2-mjx-rl\n",
      "   7e4e915..8805921  main       -> origin/main\n",
      "Updating 7e4e915..8805921\n",
      "Fast-forward\n",
      " src/quadruped_mjx_rl/models/architectures/__init__.py | 4 \u001B[32m++\u001B[m\u001B[31m--\u001B[m\n",
      " 1 file changed, 2 insertions(+), 2 deletions(-)\n"
     ]
    }
   ]
  },
  {
   "cell_type": "code",
   "source": [
    "# @title Configuration for both local and for Colab instances.\n",
    "\n",
    "# On your second reading, load the compiled rendering backend to save time!\n",
    "import os\n",
    "os.environ[\"XLA_PYTHON_CLIENT_PREALLOCATE\"] = \"false\"\n",
    "\n",
    "# Check if MuJoCo installation was successful\n",
    "import distutils.util\n",
    "import os\n",
    "import subprocess\n",
    "if subprocess.run('nvidia-smi').returncode:\n",
    "    raise RuntimeError(\n",
    "        'Cannot communicate with GPU. '\n",
    "        'Make sure you are using a GPU Colab runtime. '\n",
    "        'Go to the Runtime menu and select Choose runtime type.'\n",
    "    )\n",
    "\n",
    "# Add an ICD config so that glvnd can pick up the Nvidia EGL driver.\n",
    "# This is usually installed as part of an Nvidia driver package, but the Colab\n",
    "# kernel doesn't install its driver via APT, and as a result the ICD is missing.\n",
    "# (https://github.com/NVIDIA/libglvnd/blob/master/src/EGL/icd_enumeration.md)\n",
    "NVIDIA_ICD_CONFIG_PATH = '/usr/share/glvnd/egl_vendor.d/10_nvidia.json'\n",
    "if not os.path.exists(NVIDIA_ICD_CONFIG_PATH):\n",
    "    with open(NVIDIA_ICD_CONFIG_PATH, 'w') as f:\n",
    "        f.write(\"\"\"{\n",
    "        \"file_format_version\" : \"1.0.0\",\n",
    "        \"ICD\" : {\n",
    "            \"library_path\" : \"libEGL_nvidia.so.0\"\n",
    "        }\n",
    "    }\n",
    "    \"\"\")\n",
    "\n",
    "# Configure MuJoCo to use the EGL rendering backend (requires GPU)\n",
    "print('Setting environment variable to use GPU rendering:')\n",
    "%env MUJOCO_GL=egl\n",
    "\n",
    "try:\n",
    "    print('Checking that the installation succeeded:')\n",
    "    import mujoco\n",
    "\n",
    "    mujoco.MjModel.from_xml_string('<mujoco/>')\n",
    "except Exception as e:\n",
    "    raise e from RuntimeError(\n",
    "        'Something went wrong during installation. Check the shell output above '\n",
    "        'for more information.\\n'\n",
    "        'If using a hosted Colab runtime, make sure you enable GPU acceleration '\n",
    "        'by going to the Runtime menu and selecting \"Choose runtime type\".'\n",
    "    )\n",
    "\n",
    "print('Installation successful.')\n",
    "\n",
    "# Tell XLA to use Triton GEMM, this improves steps/sec by ~30% on some GPUs\n",
    "xla_flags = os.environ.get('XLA_FLAGS', '')\n",
    "xla_flags += ' --xla_gpu_triton_gemm_any=True'\n",
    "os.environ['XLA_FLAGS'] = xla_flags\n",
    "\n",
    "# More legible printing from numpy.\n",
    "import numpy as np\n",
    "np.set_printoptions(precision=3, suppress=True, linewidth=100)"
   ],
   "metadata": {
    "colab": {
     "base_uri": "https://localhost:8080/"
    },
    "id": "bukHmqYa1kbU",
    "outputId": "8035043c-a608-45c9-adb0-8a47bc8276c1",
    "collapsed": true
   },
   "id": "bukHmqYa1kbU",
   "execution_count": 1,
   "outputs": [
    {
     "output_type": "stream",
     "name": "stdout",
     "text": [
      "Setting environment variable to use GPU rendering:\n",
      "env: MUJOCO_GL=egl\n",
      "Checking that the installation succeeded:\n",
      "Installation successful.\n"
     ]
    }
   ]
  },
  {
   "cell_type": "code",
   "source": [
    "#@title Prepare directories\n",
    "from etils.epath import Path\n",
    "\n",
    "repo_path = Path(\"unitree-go2-mjx-rl\")\n",
    "\n",
    "experiments_dir = Path(\"experiments\")\n",
    "trained_policy_dir = experiments_dir / \"trained_policies\"\n",
    "!mkdir -p {trained_policy_dir}\n",
    "configs_dir = experiments_dir / \"configs\"\n",
    "!mkdir -p {configs_dir}\n",
    "rollout_configs_dir = configs_dir / \"rollout_configs\"\n",
    "!mkdir -p {rollout_configs_dir}\n",
    "animations_dir = experiments_dir / \"rendered_rollouts\"\n",
    "!mkdir -p {animations_dir}"
   ],
   "metadata": {
    "id": "8YX0CJPqDw4a"
   },
   "id": "8YX0CJPqDw4a",
   "execution_count": 2,
   "outputs": []
  },
  {
   "cell_type": "markdown",
   "source": [
    "# Training"
   ],
   "metadata": {
    "id": "XMzQjTFe02jy"
   },
   "id": "XMzQjTFe02jy"
  },
  {
   "cell_type": "markdown",
   "source": [
    "## Configurations"
   ],
   "metadata": {
    "id": "Je7z5nox5BAc"
   },
   "id": "Je7z5nox5BAc"
  },
  {
   "cell_type": "markdown",
   "source": [
    "### Robot Configuration"
   ],
   "metadata": {
    "id": "Z3NL1jWw5RUo"
   },
   "id": "Z3NL1jWw5RUo"
  },
  {
   "cell_type": "code",
   "source": [
    "from quadruped_mjx_rl.robots import predefined_robot_configs\n",
    "#@markdown #### Choose the robot\n",
    "robot = \"unitree_go2\" #@param [\"unitree_go2\", \"google_barkour_vb\"]\n",
    "robot_config = predefined_robot_configs[robot]()"
   ],
   "metadata": {
    "id": "sG1x42W15Lk1"
   },
   "id": "sG1x42W15Lk1",
   "execution_count": 3,
   "outputs": []
  },
  {
   "cell_type": "markdown",
   "source": [
    "### Model Configuration"
   ],
   "metadata": {
    "id": "T_Yt03lL7Aq5"
   },
   "id": "T_Yt03lL7Aq5"
  },
  {
   "cell_type": "code",
   "source": [
    "#@title #### Choose the model architecture\n",
    "model_architecture = \"Guided-Vision\" # @param [\"Actor-Critic\",\"Teacher-Student\",\"Guided-Vision\"]"
   ],
   "metadata": {
    "id": "0lyhU5RA4z-v"
   },
   "id": "0lyhU5RA4z-v",
   "execution_count": 4,
   "outputs": []
  },
  {
   "cell_type": "markdown",
   "source": [],
   "metadata": {
    "id": "SEZsFvkE5MQW"
   },
   "id": "SEZsFvkE5MQW"
  },
  {
   "cell_type": "code",
   "source": [
    "#@title #### Model hyperparameters for the \"Actor-Critic\" architecture\n",
    "from quadruped_mjx_rl import models\n",
    "if model_architecture == \"Actor-Critic\":\n",
    "    policy_layers = [256, 256] #@param\n",
    "    value_layers = [256, 256] #@param\n",
    "\n",
    "    model_config_class = models.ActorCriticConfig\n",
    "    model_config = model_config_class(\n",
    "        modules=model_config_class.ModulesConfig(\n",
    "            policy=policy_layers,\n",
    "            value=value_layers,\n",
    "        ),\n",
    "    )"
   ],
   "metadata": {
    "id": "Jq3sQW975aLm",
    "cellView": "form"
   },
   "id": "Jq3sQW975aLm",
   "execution_count": null,
   "outputs": []
  },
  {
   "cell_type": "code",
   "source": [
    "#@title #### Model hyperparameters for the \"Teacher-Student\" architecture\n",
    "from quadruped_mjx_rl import models\n",
    "if model_architecture == \"Teacher-Student\":\n",
    "    policy_layers = [256, 256] #@param\n",
    "    value_layers = [256, 256] #@param\n",
    "    teacher_encoder_layers = [256, 256] #@param\n",
    "    student_encoder_layers = [256, 256] #@param\n",
    "    latent_representation_size = 16 # @param {\"type\":\"integer\"}\n",
    "\n",
    "    model_config_class = models.TeacherStudentConfig\n",
    "    model_config = model_config_class(\n",
    "        modules=model_config_class.ModulesConfig(\n",
    "            policy=policy_layers,\n",
    "            value=value_layers,\n",
    "            encoder=teacher_encoder_layers,\n",
    "            adapter=student_encoder_layers,\n",
    "        ),\n",
    "        latent_size=latent_representation_size,\n",
    "    )"
   ],
   "metadata": {
    "id": "b1vx4hjg7JWX"
   },
   "id": "b1vx4hjg7JWX",
   "execution_count": null,
   "outputs": []
  },
  {
   "cell_type": "code",
   "source": [
    "#@title #### Model hyperparameters for the \"Guided-Vision\" architecture\n",
    "from quadruped_mjx_rl import models\n",
    "if model_architecture == \"Guided-Vision\":\n",
    "    policy_layers = [128, 128] #@param\n",
    "    value_layers = [256, 256] #@param\n",
    "    teacher_encoder_convolutional_layers = [32, 64, 64] #@param\n",
    "    teacher_encoder_dense_layers = [256, 256] #@param\n",
    "    student_encoder_convolutional_layers = [32, 64, 64] #@param\n",
    "    student_encoder_dense_layers = [256, 256] #@param\n",
    "    latent_representation_size = 128 # @param {\"type\":\"integer\"}\n",
    "\n",
    "    model_config_class = models.TeacherStudentVisionConfig\n",
    "    model_config = model_config_class(\n",
    "        modules=model_config_class.ModulesConfig(\n",
    "            policy=policy_layers,\n",
    "            value=value_layers,\n",
    "            encoder_convolutional=teacher_encoder_convolutional_layers,\n",
    "            encoder_dense=teacher_encoder_dense_layers,\n",
    "            adapter_convolutional=student_encoder_convolutional_layers,\n",
    "            adapter_dense=student_encoder_dense_layers,\n",
    "        ),\n",
    "        latent_size=latent_representation_size,\n",
    "    )"
   ],
   "metadata": {
    "colab": {
     "base_uri": "https://localhost:8080/"
    },
    "id": "DU4HovW7WTBG",
    "outputId": "c8d543c6-632e-489e-8c55-92c093b8748c"
   },
   "id": "DU4HovW7WTBG",
   "execution_count": 5,
   "outputs": [
    {
     "output_type": "stream",
     "name": "stderr",
     "text": [
      "/usr/local/lib/python3.11/dist-packages/jaxlib/plugin_support.py:71: RuntimeWarning: JAX plugin jax_cuda12_plugin version 0.4.34 is installed, but it is not compatible with the installed jaxlib version 0.6.0, so it will not be used.\n",
      "  warnings.warn(\n"
     ]
    }
   ]
  },
  {
   "cell_type": "markdown",
   "source": [
    "### Environment Configuration"
   ],
   "metadata": {
    "id": "rj25fvg75_gi"
   },
   "id": "rj25fvg75_gi"
  },
  {
   "cell_type": "code",
   "source": [
    "#@title #### Choose the policy approximation method\n",
    "training_algorithm = \"ppo\" #@param [\"ppo\"]\n",
    "vision_backend = \"Madrona\" #@param [\"None\",\"Madrona\"]"
   ],
   "metadata": {
    "id": "qBWsutqlYokd"
   },
   "id": "qBWsutqlYokd",
   "execution_count": 6,
   "outputs": []
  },
  {
   "cell_type": "code",
   "source": [
    "#@title #### Configure the Environment\n",
    "# TODO: add support for vision environments\n",
    "from quadruped_mjx_rl import environments\n",
    "\n",
    "if training_algorithm != \"ppo\":\n",
    "    raise NotImplementedError\n",
    "if vision_backend == \"Madrona\":\n",
    "    if model_architecture == \"Guided-Vision\":\n",
    "        env_config_class = environments.QuadrupedVisionEnvConfig\n",
    "    else:\n",
    "        raise NotImplementedError\n",
    "elif model_architecture == \"Actor-Critic\":\n",
    "    env_config_class = environments.JoystickBaseEnvConfig\n",
    "elif model_architecture == \"Teacher-Student\":\n",
    "    env_config_class = environments.TeacherStudentEnvironmentConfig\n",
    "else:\n",
    "    raise NotImplementedError\n",
    "\n",
    "# TODO: add support for more environment params\n",
    "simulation_timestep = 0.002 #@param {type:\"number\"}\n",
    "control_timestep = 0.04 #@param {type:\"number\"}\n",
    "\n",
    "environment_config = env_config_class(\n",
    "    sim=env_config_class.SimConfig(\n",
    "        sim_dt=simulation_timestep,\n",
    "        ctrl_dt=control_timestep,\n",
    "    ),\n",
    ")"
   ],
   "metadata": {
    "id": "YOQJblkZ6Djd"
   },
   "id": "YOQJblkZ6Djd",
   "execution_count": 9,
   "outputs": []
  },
  {
   "cell_type": "markdown",
   "source": [
    "### Training Configuration"
   ],
   "metadata": {
    "id": "tZAAQ-xI6lEt"
   },
   "id": "tZAAQ-xI6lEt"
  },
  {
   "cell_type": "code",
   "source": [
    "#@title #### Training without vision:\n",
    "from quadruped_mjx_rl.training import TrainingConfig, TrainingWithVisionConfig\n",
    "if vision_backend == \"None\":\n",
    "    training_config = TrainingConfig(\n",
    "        num_timesteps=1_000_000 #@param {\"type\":\"integer\"}\n",
    "        ,\n",
    "        num_evals=5 #@param {\"type\":\"integer\"}\n",
    "        ,\n",
    "        reward_scaling=1 #@param {\"type\":\"integer\"}\n",
    "        ,\n",
    "        episode_length=1000 #@param {\"type\":\"integer\"}\n",
    "        ,\n",
    "        normalize_observations=True #@param {\"type\":\"boolean\"}\n",
    "        ,\n",
    "        action_repeat=1 #@param {\"type\":\"integer\"}\n",
    "        ,\n",
    "        unroll_length=10 #@param {\"type\":\"integer\"}\n",
    "        ,\n",
    "        num_minibatches=8 #@param {\"type\":\"integer\"}\n",
    "        ,\n",
    "        num_updates_per_batch=8 #@param {\"type\":\"integer\"}\n",
    "        ,\n",
    "        discounting=0.97 #@param {\"type\":\"number\"}\n",
    "        ,\n",
    "        learning_rate=0.0005  #@param {\"type\":\"number\"}\n",
    "        ,\n",
    "        entropy_cost=0.005  #@param {\"type\":\"number\"}\n",
    "        ,\n",
    "        num_envs=512 #@param {\"type\":\"integer\"}\n",
    "        ,\n",
    "        batch_size=256 #@param {\"type\":\"integer\"}\n",
    "    )"
   ],
   "metadata": {
    "id": "9v7k-gt1_Yq8"
   },
   "id": "9v7k-gt1_Yq8",
   "execution_count": null,
   "outputs": []
  },
  {
   "cell_type": "code",
   "source": [
    "#@title Training with vision\n",
    "from quadruped_mjx_rl.training import TrainingConfig, TrainingWithVisionConfig\n",
    "if vision_backend == \"Madrona\":\n",
    "    training_config = TrainingWithVisionConfig(\n",
    "        num_timesteps=1_000_000 #@param {\"type\":\"integer\"}\n",
    "        ,\n",
    "        num_evals=5 #@param {\"type\":\"integer\"}\n",
    "        ,\n",
    "        reward_scaling=1 #@param {\"type\":\"integer\"}\n",
    "        ,\n",
    "        episode_length=1000 #@param {\"type\":\"integer\"}\n",
    "        ,\n",
    "        normalize_observations=True #@param {\"type\":\"boolean\"}\n",
    "        ,\n",
    "        action_repeat=1 # vision restriction\n",
    "        ,\n",
    "        unroll_length=10 #@param {\"type\":\"integer\"}\n",
    "        ,\n",
    "        num_minibatches=8 #@param {\"type\":\"integer\"}\n",
    "        ,\n",
    "        num_updates_per_batch=8 #@param {\"type\":\"integer\"}\n",
    "        ,\n",
    "        discounting=0.97 #@param {\"type\":\"number\"}\n",
    "        ,\n",
    "        learning_rate=0.0005  #@param {\"type\":\"number\"}\n",
    "        ,\n",
    "        entropy_cost=0.005  #@param {\"type\":\"number\"}\n",
    "        ,\n",
    "        num_envs=512 #@param {\"type\":\"integer\"}\n",
    "        ,\n",
    "        batch_size=256 #@param {\"type\":\"integer\"}\n",
    "    )"
   ],
   "metadata": {
    "id": "cHhf4MdFaU49"
   },
   "id": "cHhf4MdFaU49",
   "execution_count": 10,
   "outputs": []
  },
  {
   "cell_type": "markdown",
   "source": [
    "### Save configs to a yaml file"
   ],
   "metadata": {
    "id": "Qt85mYUk7z4E"
   },
   "id": "Qt85mYUk7z4E"
  },
  {
   "cell_type": "code",
   "source": [
    "from quadruped_mjx_rl.config_utils import save_configs\n",
    "#@markdown Fill out a name for the experiment and all configuration parameters.\n",
    "#@markdown If you want to add another experiment, change the parameters and run\n",
    "#@markdown this cell again.\n",
    "experiment_name = \"my_experiment_vision\" #@param {type:\"string\"}\n",
    "config_file_path = configs_dir / f\"{experiment_name}.yaml\"\n",
    "configs_to_save = [robot_config, model_config, environment_config, training_config]\n",
    "save_configs(config_file_path, *configs_to_save)\n",
    "print(f\"Experiment configs saved to {config_file_path}\")"
   ],
   "metadata": {
    "id": "rLrv5OSa7559",
    "colab": {
     "base_uri": "https://localhost:8080/"
    },
    "outputId": "c53aaa36-794f-421f-e7ad-71fd89fe5506"
   },
   "id": "rLrv5OSa7559",
   "execution_count": 11,
   "outputs": [
    {
     "output_type": "stream",
     "name": "stdout",
     "text": [
      "Experiment configs saved to experiments/configs/my_experiment_vision.yaml\n"
     ]
    }
   ]
  },
  {
   "cell_type": "markdown",
   "source": [
    "## Training runs"
   ],
   "metadata": {
    "id": "SsQGJoge0Yjp"
   },
   "id": "SsQGJoge0Yjp"
  },
  {
   "cell_type": "code",
   "source": [
    "#@title List all configuration files\n",
    "!ls {configs_dir}"
   ],
   "metadata": {
    "colab": {
     "base_uri": "https://localhost:8080/"
    },
    "id": "EE81C3Ev9RRx",
    "outputId": "4cfe4302-22f9-4e84-ba3c-51ab3766e660"
   },
   "id": "EE81C3Ev9RRx",
   "execution_count": 12,
   "outputs": [
    {
     "output_type": "stream",
     "name": "stdout",
     "text": [
      "my_experiment_vision.yaml  rollout_configs\n"
     ]
    }
   ]
  },
  {
   "cell_type": "code",
   "source": [
    "#@title Sequentially run training for all configurations\n",
    "from quadruped_mjx_rl.config_utils import prepare_configs, ConfigKey\n",
    "from quadruped_mjx_rl.training import train\n",
    "from quadruped_mjx_rl import environments\n",
    "from quadruped_mjx_rl.environments import get_env_factory\n",
    "\n",
    "#@markdown Choose with which configs to train\n",
    "training_runs = None # @param {\"type\":\"raw\",\"placeholder\":\"[\\\"experiment_name1\\\", \\\"experiment_name2\\\", ... ]\"}\n",
    "#@markdown or\n",
    "run_them_all = True # @param {\"type\":\"boolean\"}\n",
    "if run_them_all:\n",
    "    training_runs = [\n",
    "        config_file.stem\n",
    "        for config_file in configs_dir.iterdir() if config_file.name.endswith(\".yaml\")\n",
    "    ]\n",
    "\n",
    "\n",
    "for experiment_name in training_runs:\n",
    "    config_path = configs_dir / f\"{experiment_name}.yaml\"\n",
    "    configs = prepare_configs(config_path)\n",
    "    environment_config = configs[ConfigKey.ENVIRONMENT]\n",
    "    robot_config = configs[ConfigKey.ROBOT]\n",
    "    model_config = configs[ConfigKey.MODEL]\n",
    "    training_config = configs[ConfigKey.TRAINING]\n",
    "    vision_config = configs.get(ConfigKey.VISION)\n",
    "\n",
    "    if isinstance(environment_config, environments.QuadrupedVisionEnvConfig):\n",
    "        scene_file = \"scene_mjx_vision.xml\"\n",
    "    else:\n",
    "        scene_file = \"scene_mjx.xml\"\n",
    "    init_scene_path = repo_path / \"resources\" / robot_config.robot_name / scene_file\n",
    "\n",
    "    env_factory, uses_vision = get_env_factory(\n",
    "        env_config=environment_config,\n",
    "        robot_config=robot_config,\n",
    "        init_scene_path=init_scene_path,\n",
    "    )\n",
    "\n",
    "    trained_policy_save_path = trained_policy_dir / f\"{experiment_name}\"\n",
    "\n",
    "    print(f\"Starting training for: {experiment_name}\")\n",
    "    train(\n",
    "        env_factory=env_factory,\n",
    "        model_config=model_config,\n",
    "        training_config=training_config,\n",
    "        model_save_path=trained_policy_save_path,\n",
    "        checkpoints_save_path=None, #TODO: enable\n",
    "        vision=uses_vision,\n",
    "        vision_config=configs.get(ConfigKey.VISION),\n",
    "    )\n",
    "    print(f\"Trained policy saved to {trained_policy_save_path}\")"
   ],
   "metadata": {
    "id": "q5LBMWAO1lV-",
    "colab": {
     "base_uri": "https://localhost:8080/"
    },
    "outputId": "fc41a39b-7aa4-4298-8ac4-e5d6ca2bae03",
    "collapsed": true
   },
   "id": "q5LBMWAO1lV-",
   "execution_count": null,
   "outputs": [
    {
     "output_type": "stream",
     "name": "stdout",
     "text": [
      "Starting training for: my_experiment_vision\n"
     ]
    }
   ]
  },
  {
   "metadata": {
    "id": "c12f2f24636fdfe0"
   },
   "cell_type": "markdown",
   "source": [
    "# Results\n",
    "This section can be run independently from the training section, including after restarts and crashes. As long as all the created files remain in the session's disk memory."
   ],
   "id": "c12f2f24636fdfe0"
  },
  {
   "cell_type": "code",
   "source": [
    "#@title List all configured experiments\n",
    "!ls {configs_dir}"
   ],
   "metadata": {
    "colab": {
     "base_uri": "https://localhost:8080/"
    },
    "id": "Pycy46wVy5YT",
    "outputId": "7919b148-514c-42cf-8404-d74a4a22c916"
   },
   "id": "Pycy46wVy5YT",
   "execution_count": null,
   "outputs": [
    {
     "output_type": "stream",
     "name": "stdout",
     "text": [
      "my_experiment.yaml  rollout_configs\n"
     ]
    }
   ]
  },
  {
   "cell_type": "code",
   "source": [
    "# @title Configure a rollout for rendering\n",
    "from quadruped_mjx_rl.config_utils import RenderConfig, save_configs\n",
    "\n",
    "experiment_name = \"my_experiment\" #@param {type:\"string\"}\n",
    "rollout_name = \"my_rollout\" #@param {type:\"string\"}\n",
    "\n",
    "n_steps = 500 #@param {\"type\":\"integer\"}\n",
    "render_every = 2 #@param {\"type\":\"integer\"}\n",
    "random_seed = 0 #@param {\"type\":\"integer\"}\n",
    "\n",
    "#@markdown ---\n",
    "#@markdown Joystick command for the robot to follow (in SI)\n",
    "x_vel = 1.0 #@param {\"type\":\"number\"}\n",
    "y_vel = 0.0 #@param {\"type\":\"number\"}\n",
    "ang_vel = 0.0 #@param {\"type\":\"number\"}\n",
    "\n",
    "render_config = RenderConfig(\n",
    "    n_steps=n_steps,\n",
    "    episode_length=n_steps * 2,\n",
    "    render_every=render_every,\n",
    "    seed=random_seed,\n",
    "    command={\n",
    "        \"x_vel\": x_vel,\n",
    "        \"y_vel\": y_vel,\n",
    "        \"ang_vel\": ang_vel,\n",
    "    },\n",
    ")\n",
    "\n",
    "config_file_path = rollout_configs_dir / f\"{experiment_name}_rendering_{rollout_name}.yaml\"\n",
    "save_configs(config_file_path, render_config)\n",
    "print(f\"Rollout configs saved to {config_file_path}\")"
   ],
   "metadata": {
    "colab": {
     "base_uri": "https://localhost:8080/"
    },
    "id": "kc97NpZXyav4",
    "outputId": "7bcbe517-9015-42bb-dddc-91352155337b",
    "cellView": "form"
   },
   "id": "kc97NpZXyav4",
   "execution_count": null,
   "outputs": [
    {
     "output_type": "stream",
     "name": "stdout",
     "text": [
      "Rollout configs saved to experiments/configs/rollout_configs/my_experiment_rendering_my_rollout.yaml\n"
     ]
    }
   ]
  },
  {
   "cell_type": "code",
   "source": [
    "#@title Render all configured policy rollouts\n",
    "from quadruped_mjx_rl.rendering import render_policy_rollout\n",
    "from quadruped_mjx_rl import environments\n",
    "from quadruped_mjx_rl.environments import get_env_factory\n",
    "from quadruped_mjx_rl.config_utils import prepare_configs\n",
    "from quadruped_mjx_rl.config_utils import ConfigKey\n",
    "\n",
    "#@markdown All rollouts present will be rendered\n",
    "delete_rollouts_after_rendering = True #@param {\"type\":\"boolean\"}\n",
    "save_rollout_gifs = True #@param {\"type\":\"boolean\"}\n",
    "\n",
    "for experiment_config_file in configs_dir.iterdir():\n",
    "    if not experiment_config_file.name.endswith(\".yaml\"):\n",
    "        continue\n",
    "    experiment_name = experiment_config_file.stem\n",
    "    configs = prepare_configs(experiment_config_file)\n",
    "    environment_config = configs[ConfigKey.ENVIRONMENT]\n",
    "    robot_config = configs[ConfigKey.ROBOT]\n",
    "    model_config = configs[ConfigKey.MODEL]\n",
    "    vision_config = configs.get(ConfigKey.VISION)\n",
    "\n",
    "    init_scene_path = repo_path / \"resources\" / robot_config.robot_name / \"scene_mjx.xml\"\n",
    "\n",
    "    env_factory, vision = get_env_factory(\n",
    "        env_config=environment_config,\n",
    "        robot_config=robot_config,\n",
    "        init_scene_path=init_scene_path,\n",
    "    )\n",
    "\n",
    "    trained_policy = trained_policy_dir / f\"{experiment_name}\"\n",
    "\n",
    "    rollout_configs_list = []\n",
    "    for rollout_config_file in rollout_configs_dir.iterdir():\n",
    "        if (\n",
    "            not rollout_config_file.name.endswith(\".yaml\")\n",
    "            or \"_rendering_\" not in rollout_config_file.name\n",
    "            or experiment_name != rollout_config_file.name.split(\"_rendering_\")[0]\n",
    "        ):\n",
    "            continue\n",
    "        rollout_configs_list.append(rollout_config_file)\n",
    "\n",
    "        render_config = prepare_configs(rollout_config_file)\n",
    "\n",
    "        if save_rollout_gifs:\n",
    "            animation_save_path = animations_dir / f\"{rollout_config_file.stem}.gif\"\n",
    "        else:\n",
    "            animation_save_path = None\n",
    "\n",
    "        render_policy_rollout(\n",
    "            env_factory=env_factory,\n",
    "            model_config=model_config,\n",
    "            trained_model_path=trained_policy,\n",
    "            render_config=render_config,\n",
    "            animation_save_path=animation_save_path,\n",
    "            vision=vision,\n",
    "        )\n",
    "\n",
    "    if delete_rollouts_after_rendering:\n",
    "        for rollout_config_file in rollout_configs_list:\n",
    "            rollout_config_file.unlink()"
   ],
   "metadata": {
    "id": "8HeGg0vmxTDB"
   },
   "id": "8HeGg0vmxTDB",
   "execution_count": null,
   "outputs": []
  },
  {
   "cell_type": "code",
   "source": [
    "#@title Saving results\n",
    "from google.colab import files, drive\n",
    "from etils.epath import Path\n",
    "\n",
    "#@markdown (This can be run in a separate session)\n",
    "\n",
    "#@markdown Choose what you want to save\n",
    "policies = True #@param {\"type\":\"boolean\"}\n",
    "rollout_gifs = True #@param {\"type\":\"boolean\"}\n",
    "config_files = True #@param {\"type\":\"boolean\"}\n",
    "#@markdown Only the configs for the training are saved\n",
    "\n",
    "#@markdown Choose whether you want to download your results\n",
    "download_results = False # @param {\"type\":\"boolean\"}\n",
    "\n",
    "#@markdown Choose whether you want to save results to your Google drive\n",
    "save_to_drive = True # @param {\"type\":\"boolean\"}\n",
    "drive_save_folder = \"quadruped_mjx_rl_Results\" # @param {type:\"string\"}\n",
    "if save_to_drive:\n",
    "    drive.mount('/content/drive')\n",
    "\n",
    "for do_save, directory in zip(\n",
    "    [policies, rollout_gifs, config_files], [trained_policy_dir, animations_dir, configs_dir],\n",
    "):\n",
    "    if not do_save:\n",
    "        continue\n",
    "    for file_path in directory.iterdir():\n",
    "        if file_path.is_dir():\n",
    "            continue\n",
    "        if download_results:\n",
    "            files.download(file_path)\n",
    "        if save_to_drive:\n",
    "            drive_dir = Path(f\"/content/drive/MyDrive/{drive_save_folder}/{directory.name}\")\n",
    "            drive_dir.mkdir(parents=True, exist_ok=True)\n",
    "            file_path.copy(\n",
    "                dst=drive_dir / file_path.name, overwrite=True\n",
    "            )\n",
    "\n",
    "if save_to_drive:\n",
    "    drive.flush_and_unmount()"
   ],
   "metadata": {
    "colab": {
     "base_uri": "https://localhost:8080/"
    },
    "id": "5zH157Liqtvq",
    "outputId": "e902e497-8a42-493f-a84b-1521430cd1d6"
   },
   "id": "5zH157Liqtvq",
   "execution_count": null,
   "outputs": [
    {
     "output_type": "stream",
     "name": "stdout",
     "text": [
      "Drive already mounted at /content/drive; to attempt to forcibly remount, call drive.mount(\"/content/drive\", force_remount=True).\n"
     ]
    }
   ]
  }
 ],
 "metadata": {
  "kernelspec": {
   "display_name": "Python 3",
   "name": "python3"
  },
  "language_info": {
   "codemirror_mode": {
    "name": "ipython",
    "version": 2
   },
   "file_extension": ".py",
   "mimetype": "text/x-python",
   "name": "python",
   "nbconvert_exporter": "python",
   "pygments_lexer": "ipython2",
   "version": "2.7.6"
  },
  "colab": {
   "provenance": [],
   "gpuType": "T4",
   "include_colab_link": true
  },
  "accelerator": "GPU"
 },
 "nbformat": 4,
 "nbformat_minor": 5
}
