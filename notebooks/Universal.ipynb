{
  "cells": [
    {
      "cell_type": "markdown",
      "metadata": {
        "id": "view-in-github",
        "colab_type": "text"
      },
      "source": [
        "<a href=\"https://colab.research.google.com/github/alexeiplatzer/unitree-go2-mjx-rl/blob/main/notebooks/Universal.ipynb\" target=\"_parent\"><img src=\"https://colab.research.google.com/assets/colab-badge.svg\" alt=\"Open In Colab\"/></a>"
      ]
    },
    {
      "metadata": {
        "id": "f4d6a6a44d14ed1b"
      },
      "cell_type": "markdown",
      "source": [
        "# Univeral Notebook for Quadruped RL Training in MJX"
      ],
      "id": "f4d6a6a44d14ed1b"
    },
    {
      "metadata": {
        "id": "e3a9f2f1b31ad2d8"
      },
      "cell_type": "markdown",
      "source": [
        "## Hardware Setup"
      ],
      "id": "e3a9f2f1b31ad2d8"
    },
    {
      "cell_type": "code",
      "source": [
        "# @title run this cell once each time on a new machine\n",
        "# @markdown #### Setup configuration\n",
        "\n",
        "# @markdown Choose your hardware option:\n",
        "hardware = \"Colab\" # @param [\"local\",\"Colab\",\"Kaggle\"]\n",
        "\n",
        "# @markdown Choose whether you want to build the madrona rendering setup for training\n",
        "# @markdown with vision:\n",
        "build_madrona_backend = False # @param {\"type\":\"boolean\"}\n",
        "\n",
        "import time\n",
        "\n",
        "if build_madrona_backend:\n",
        "    # Install madrona MJX\n",
        "    print(\"Intalling Madrona MJX...\")\n",
        "    start_time = time.perf_counter()\n",
        "    print(\"Setting up environment... (Step 1/3)\")\n",
        "    !pip uninstall -y jax\n",
        "    !pip install jax[\"cuda12_local\"]==0.4.35\n",
        "\n",
        "    !sudo apt install libx11-dev libxrandr-dev libxinerama-dev libxcursor-dev libxi-dev mesa-common-dev\n",
        "\n",
        "    !mkdir modules\n",
        "    !git clone https://github.com/shacklettbp/madrona_mjx.git modules/madrona_mjx\n",
        "\n",
        "    !git -C modules/madrona_mjx submodule update --init --recursive\n",
        "\n",
        "    !mkdir modules/madrona_mjx/build\n",
        "\n",
        "    if hardware == \"Kaggle\":\n",
        "        !sudo apt-get install -y nvidia-cuda-toolkit\n",
        "\n",
        "    print(\"Building the Madrona backend ... (Step 2/3)\")\n",
        "    !cd modules/madrona_mjx/build && cmake -DLOAD_VULKAN=OFF .. && make -j 8\n",
        "\n",
        "    print (\"Installing Madrona MJX ... (Step 3/3)\")\n",
        "    !pip install -e modules/madrona_mjx\n",
        "\n",
        "    minutes, seconds = divmod((time.perf_counter() - start_time), 60)\n",
        "    print(f\"Finished installing Madrona MJX in {minutes} m {seconds:.2f} s\")\n",
        "\n",
        "# Clones and installs our Quadruped RL package\n",
        "!git clone https://github.com/alexeiplatzer/unitree-go2-mjx-rl.git\n",
        "!pip install -e unitree-go2-mjx-rl/"
      ],
      "metadata": {
        "id": "Kg6Ab0jgovuC",
        "colab": {
          "base_uri": "https://localhost:8080/"
        },
        "cellView": "form",
        "collapsed": true,
        "outputId": "c3eb2cc1-cd90-4a17-86bd-a324e2cef33b"
      },
      "id": "Kg6Ab0jgovuC",
      "execution_count": 1,
      "outputs": [
        {
          "output_type": "stream",
          "name": "stdout",
          "text": [
            "Cloning into 'unitree-go2-mjx-rl'...\n",
            "remote: Enumerating objects: 1131, done.\u001b[K\n",
            "remote: Counting objects: 100% (420/420), done.\u001b[K\n",
            "remote: Compressing objects: 100% (246/246), done.\u001b[K\n",
            "remote: Total 1131 (delta 220), reused 296 (delta 131), pack-reused 711 (from 1)\u001b[K\n",
            "Receiving objects: 100% (1131/1131), 22.65 MiB | 11.13 MiB/s, done.\n",
            "Resolving deltas: 100% (584/584), done.\n",
            "Obtaining file:///content/unitree-go2-mjx-rl\n",
            "  Installing build dependencies ... \u001b[?25l\u001b[?25hdone\n",
            "  Checking if build backend supports build_editable ... \u001b[?25l\u001b[?25hdone\n",
            "  Getting requirements to build editable ... \u001b[?25l\u001b[?25hdone\n",
            "  Preparing editable metadata (pyproject.toml) ... \u001b[?25l\u001b[?25hdone\n",
            "Collecting mujoco (from quadruped_mjx_rl==0.0.1)\n",
            "  Downloading mujoco-3.3.2-cp311-cp311-manylinux_2_17_x86_64.manylinux2014_x86_64.whl.metadata (44 kB)\n",
            "\u001b[2K     \u001b[90m━━━━━━━━━━━━━━━━━━━━━━━━━━━━━━━━━━━━━━━━\u001b[0m \u001b[32m44.4/44.4 kB\u001b[0m \u001b[31m2.3 MB/s\u001b[0m eta \u001b[36m0:00:00\u001b[0m\n",
            "\u001b[?25hCollecting mujoco_mjx (from quadruped_mjx_rl==0.0.1)\n",
            "  Downloading mujoco_mjx-3.3.2-py3-none-any.whl.metadata (3.4 kB)\n",
            "Collecting brax (from quadruped_mjx_rl==0.0.1)\n",
            "  Downloading brax-0.12.3-py3-none-any.whl.metadata (20 kB)\n",
            "Collecting mediapy (from quadruped_mjx_rl==0.0.1)\n",
            "  Downloading mediapy-1.2.4-py3-none-any.whl.metadata (4.8 kB)\n",
            "Collecting ml_collections (from quadruped_mjx_rl==0.0.1)\n",
            "  Downloading ml_collections-1.1.0-py3-none-any.whl.metadata (22 kB)\n",
            "Requirement already satisfied: pyyaml in /usr/local/lib/python3.11/dist-packages (from quadruped_mjx_rl==0.0.1) (6.0.2)\n",
            "Collecting dacite (from quadruped_mjx_rl==0.0.1)\n",
            "  Downloading dacite-1.9.2-py3-none-any.whl.metadata (17 kB)\n",
            "Requirement already satisfied: absl-py in /usr/local/lib/python3.11/dist-packages (from brax->quadruped_mjx_rl==0.0.1) (1.4.0)\n",
            "Collecting dm-env (from brax->quadruped_mjx_rl==0.0.1)\n",
            "  Downloading dm_env-1.6-py3-none-any.whl.metadata (966 bytes)\n",
            "Requirement already satisfied: etils in /usr/local/lib/python3.11/dist-packages (from brax->quadruped_mjx_rl==0.0.1) (1.12.2)\n",
            "Requirement already satisfied: flask in /usr/local/lib/python3.11/dist-packages (from brax->quadruped_mjx_rl==0.0.1) (3.1.0)\n",
            "Collecting flask-cors (from brax->quadruped_mjx_rl==0.0.1)\n",
            "  Downloading flask_cors-5.0.1-py3-none-any.whl.metadata (961 bytes)\n",
            "Requirement already satisfied: flax in /usr/local/lib/python3.11/dist-packages (from brax->quadruped_mjx_rl==0.0.1) (0.10.6)\n",
            "Requirement already satisfied: grpcio in /usr/local/lib/python3.11/dist-packages (from brax->quadruped_mjx_rl==0.0.1) (1.71.0)\n",
            "Requirement already satisfied: gym in /usr/local/lib/python3.11/dist-packages (from brax->quadruped_mjx_rl==0.0.1) (0.25.2)\n",
            "Requirement already satisfied: jax>=0.4.6 in /usr/local/lib/python3.11/dist-packages (from brax->quadruped_mjx_rl==0.0.1) (0.5.2)\n",
            "Requirement already satisfied: jaxlib>=0.4.6 in /usr/local/lib/python3.11/dist-packages (from brax->quadruped_mjx_rl==0.0.1) (0.5.1)\n",
            "Collecting jaxopt (from brax->quadruped_mjx_rl==0.0.1)\n",
            "  Downloading jaxopt-0.8.5-py3-none-any.whl.metadata (3.3 kB)\n",
            "Requirement already satisfied: jinja2 in /usr/local/lib/python3.11/dist-packages (from brax->quadruped_mjx_rl==0.0.1) (3.1.6)\n",
            "Requirement already satisfied: numpy in /usr/local/lib/python3.11/dist-packages (from brax->quadruped_mjx_rl==0.0.1) (2.0.2)\n",
            "Requirement already satisfied: optax in /usr/local/lib/python3.11/dist-packages (from brax->quadruped_mjx_rl==0.0.1) (0.2.4)\n",
            "Requirement already satisfied: orbax-checkpoint in /usr/local/lib/python3.11/dist-packages (from brax->quadruped_mjx_rl==0.0.1) (0.11.12)\n",
            "Requirement already satisfied: pillow in /usr/local/lib/python3.11/dist-packages (from brax->quadruped_mjx_rl==0.0.1) (11.2.1)\n",
            "Collecting pytinyrenderer (from brax->quadruped_mjx_rl==0.0.1)\n",
            "  Downloading pytinyrenderer-0.0.14-cp311-cp311-manylinux_2_17_x86_64.manylinux2014_x86_64.whl.metadata (1.2 kB)\n",
            "Requirement already satisfied: scipy in /usr/local/lib/python3.11/dist-packages (from brax->quadruped_mjx_rl==0.0.1) (1.15.2)\n",
            "Collecting tensorboardx (from brax->quadruped_mjx_rl==0.0.1)\n",
            "  Downloading tensorboardX-2.6.2.2-py2.py3-none-any.whl.metadata (5.8 kB)\n",
            "Collecting trimesh (from brax->quadruped_mjx_rl==0.0.1)\n",
            "  Downloading trimesh-4.6.8-py3-none-any.whl.metadata (18 kB)\n",
            "Requirement already satisfied: typing-extensions in /usr/local/lib/python3.11/dist-packages (from brax->quadruped_mjx_rl==0.0.1) (4.13.2)\n",
            "Requirement already satisfied: ipython in /usr/local/lib/python3.11/dist-packages (from mediapy->quadruped_mjx_rl==0.0.1) (7.34.0)\n",
            "Requirement already satisfied: matplotlib in /usr/local/lib/python3.11/dist-packages (from mediapy->quadruped_mjx_rl==0.0.1) (3.10.0)\n",
            "Collecting glfw (from mujoco->quadruped_mjx_rl==0.0.1)\n",
            "  Downloading glfw-2.9.0-py2.py27.py3.py30.py31.py32.py33.py34.py35.py36.py37.py38.p39.p310.p311.p312.p313-none-manylinux_2_28_x86_64.whl.metadata (5.4 kB)\n",
            "Requirement already satisfied: pyopengl in /usr/local/lib/python3.11/dist-packages (from mujoco->quadruped_mjx_rl==0.0.1) (3.1.9)\n",
            "Requirement already satisfied: ml_dtypes>=0.4.0 in /usr/local/lib/python3.11/dist-packages (from jax>=0.4.6->brax->quadruped_mjx_rl==0.0.1) (0.4.1)\n",
            "Requirement already satisfied: opt_einsum in /usr/local/lib/python3.11/dist-packages (from jax>=0.4.6->brax->quadruped_mjx_rl==0.0.1) (3.4.0)\n",
            "Requirement already satisfied: dm-tree in /usr/local/lib/python3.11/dist-packages (from dm-env->brax->quadruped_mjx_rl==0.0.1) (0.1.9)\n",
            "Requirement already satisfied: fsspec in /usr/local/lib/python3.11/dist-packages (from etils[epath]->mujoco->quadruped_mjx_rl==0.0.1) (2025.3.2)\n",
            "Requirement already satisfied: importlib_resources in /usr/local/lib/python3.11/dist-packages (from etils[epath]->mujoco->quadruped_mjx_rl==0.0.1) (6.5.2)\n",
            "Requirement already satisfied: zipp in /usr/local/lib/python3.11/dist-packages (from etils[epath]->mujoco->quadruped_mjx_rl==0.0.1) (3.21.0)\n",
            "Requirement already satisfied: Werkzeug>=3.1 in /usr/local/lib/python3.11/dist-packages (from flask->brax->quadruped_mjx_rl==0.0.1) (3.1.3)\n",
            "Requirement already satisfied: itsdangerous>=2.2 in /usr/local/lib/python3.11/dist-packages (from flask->brax->quadruped_mjx_rl==0.0.1) (2.2.0)\n",
            "Requirement already satisfied: click>=8.1.3 in /usr/local/lib/python3.11/dist-packages (from flask->brax->quadruped_mjx_rl==0.0.1) (8.1.8)\n",
            "Requirement already satisfied: blinker>=1.9 in /usr/local/lib/python3.11/dist-packages (from flask->brax->quadruped_mjx_rl==0.0.1) (1.9.0)\n",
            "Requirement already satisfied: MarkupSafe>=2.0 in /usr/local/lib/python3.11/dist-packages (from jinja2->brax->quadruped_mjx_rl==0.0.1) (3.0.2)\n",
            "Requirement already satisfied: msgpack in /usr/local/lib/python3.11/dist-packages (from flax->brax->quadruped_mjx_rl==0.0.1) (1.1.0)\n",
            "Requirement already satisfied: tensorstore in /usr/local/lib/python3.11/dist-packages (from flax->brax->quadruped_mjx_rl==0.0.1) (0.1.74)\n",
            "Requirement already satisfied: rich>=11.1 in /usr/local/lib/python3.11/dist-packages (from flax->brax->quadruped_mjx_rl==0.0.1) (13.9.4)\n",
            "Requirement already satisfied: treescope>=0.1.7 in /usr/local/lib/python3.11/dist-packages (from flax->brax->quadruped_mjx_rl==0.0.1) (0.1.9)\n",
            "Requirement already satisfied: cloudpickle>=1.2.0 in /usr/local/lib/python3.11/dist-packages (from gym->brax->quadruped_mjx_rl==0.0.1) (3.1.1)\n",
            "Requirement already satisfied: gym-notices>=0.0.4 in /usr/local/lib/python3.11/dist-packages (from gym->brax->quadruped_mjx_rl==0.0.1) (0.0.8)\n",
            "Requirement already satisfied: setuptools>=18.5 in /usr/local/lib/python3.11/dist-packages (from ipython->mediapy->quadruped_mjx_rl==0.0.1) (75.2.0)\n",
            "Collecting jedi>=0.16 (from ipython->mediapy->quadruped_mjx_rl==0.0.1)\n",
            "  Downloading jedi-0.19.2-py2.py3-none-any.whl.metadata (22 kB)\n",
            "Requirement already satisfied: decorator in /usr/local/lib/python3.11/dist-packages (from ipython->mediapy->quadruped_mjx_rl==0.0.1) (4.4.2)\n",
            "Requirement already satisfied: pickleshare in /usr/local/lib/python3.11/dist-packages (from ipython->mediapy->quadruped_mjx_rl==0.0.1) (0.7.5)\n",
            "Requirement already satisfied: traitlets>=4.2 in /usr/local/lib/python3.11/dist-packages (from ipython->mediapy->quadruped_mjx_rl==0.0.1) (5.7.1)\n",
            "Requirement already satisfied: prompt-toolkit!=3.0.0,!=3.0.1,<3.1.0,>=2.0.0 in /usr/local/lib/python3.11/dist-packages (from ipython->mediapy->quadruped_mjx_rl==0.0.1) (3.0.51)\n",
            "Requirement already satisfied: pygments in /usr/local/lib/python3.11/dist-packages (from ipython->mediapy->quadruped_mjx_rl==0.0.1) (2.19.1)\n",
            "Requirement already satisfied: backcall in /usr/local/lib/python3.11/dist-packages (from ipython->mediapy->quadruped_mjx_rl==0.0.1) (0.2.0)\n",
            "Requirement already satisfied: matplotlib-inline in /usr/local/lib/python3.11/dist-packages (from ipython->mediapy->quadruped_mjx_rl==0.0.1) (0.1.7)\n",
            "Requirement already satisfied: pexpect>4.3 in /usr/local/lib/python3.11/dist-packages (from ipython->mediapy->quadruped_mjx_rl==0.0.1) (4.9.0)\n",
            "Requirement already satisfied: contourpy>=1.0.1 in /usr/local/lib/python3.11/dist-packages (from matplotlib->mediapy->quadruped_mjx_rl==0.0.1) (1.3.2)\n",
            "Requirement already satisfied: cycler>=0.10 in /usr/local/lib/python3.11/dist-packages (from matplotlib->mediapy->quadruped_mjx_rl==0.0.1) (0.12.1)\n",
            "Requirement already satisfied: fonttools>=4.22.0 in /usr/local/lib/python3.11/dist-packages (from matplotlib->mediapy->quadruped_mjx_rl==0.0.1) (4.57.0)\n",
            "Requirement already satisfied: kiwisolver>=1.3.1 in /usr/local/lib/python3.11/dist-packages (from matplotlib->mediapy->quadruped_mjx_rl==0.0.1) (1.4.8)\n",
            "Requirement already satisfied: packaging>=20.0 in /usr/local/lib/python3.11/dist-packages (from matplotlib->mediapy->quadruped_mjx_rl==0.0.1) (24.2)\n",
            "Requirement already satisfied: pyparsing>=2.3.1 in /usr/local/lib/python3.11/dist-packages (from matplotlib->mediapy->quadruped_mjx_rl==0.0.1) (3.2.3)\n",
            "Requirement already satisfied: python-dateutil>=2.7 in /usr/local/lib/python3.11/dist-packages (from matplotlib->mediapy->quadruped_mjx_rl==0.0.1) (2.9.0.post0)\n",
            "Requirement already satisfied: chex>=0.1.87 in /usr/local/lib/python3.11/dist-packages (from optax->brax->quadruped_mjx_rl==0.0.1) (0.1.89)\n",
            "Requirement already satisfied: nest_asyncio in /usr/local/lib/python3.11/dist-packages (from orbax-checkpoint->brax->quadruped_mjx_rl==0.0.1) (1.6.0)\n",
            "Requirement already satisfied: protobuf in /usr/local/lib/python3.11/dist-packages (from orbax-checkpoint->brax->quadruped_mjx_rl==0.0.1) (5.29.4)\n",
            "Requirement already satisfied: humanize in /usr/local/lib/python3.11/dist-packages (from orbax-checkpoint->brax->quadruped_mjx_rl==0.0.1) (4.12.2)\n",
            "Requirement already satisfied: simplejson>=3.16.0 in /usr/local/lib/python3.11/dist-packages (from orbax-checkpoint->brax->quadruped_mjx_rl==0.0.1) (3.20.1)\n",
            "Requirement already satisfied: toolz>=0.9.0 in /usr/local/lib/python3.11/dist-packages (from chex>=0.1.87->optax->brax->quadruped_mjx_rl==0.0.1) (0.12.1)\n",
            "Requirement already satisfied: parso<0.9.0,>=0.8.4 in /usr/local/lib/python3.11/dist-packages (from jedi>=0.16->ipython->mediapy->quadruped_mjx_rl==0.0.1) (0.8.4)\n",
            "Requirement already satisfied: ptyprocess>=0.5 in /usr/local/lib/python3.11/dist-packages (from pexpect>4.3->ipython->mediapy->quadruped_mjx_rl==0.0.1) (0.7.0)\n",
            "Requirement already satisfied: wcwidth in /usr/local/lib/python3.11/dist-packages (from prompt-toolkit!=3.0.0,!=3.0.1,<3.1.0,>=2.0.0->ipython->mediapy->quadruped_mjx_rl==0.0.1) (0.2.13)\n",
            "Requirement already satisfied: six>=1.5 in /usr/local/lib/python3.11/dist-packages (from python-dateutil>=2.7->matplotlib->mediapy->quadruped_mjx_rl==0.0.1) (1.17.0)\n",
            "Requirement already satisfied: markdown-it-py>=2.2.0 in /usr/local/lib/python3.11/dist-packages (from rich>=11.1->flax->brax->quadruped_mjx_rl==0.0.1) (3.0.0)\n",
            "Requirement already satisfied: attrs>=18.2.0 in /usr/local/lib/python3.11/dist-packages (from dm-tree->dm-env->brax->quadruped_mjx_rl==0.0.1) (25.3.0)\n",
            "Requirement already satisfied: wrapt>=1.11.2 in /usr/local/lib/python3.11/dist-packages (from dm-tree->dm-env->brax->quadruped_mjx_rl==0.0.1) (1.17.2)\n",
            "Requirement already satisfied: mdurl~=0.1 in /usr/local/lib/python3.11/dist-packages (from markdown-it-py>=2.2.0->rich>=11.1->flax->brax->quadruped_mjx_rl==0.0.1) (0.1.2)\n",
            "Downloading brax-0.12.3-py3-none-any.whl (14.2 MB)\n",
            "\u001b[2K   \u001b[90m━━━━━━━━━━━━━━━━━━━━━━━━━━━━━━━━━━━━━━━━\u001b[0m \u001b[32m14.2/14.2 MB\u001b[0m \u001b[31m42.7 MB/s\u001b[0m eta \u001b[36m0:00:00\u001b[0m\n",
            "\u001b[?25hDownloading dacite-1.9.2-py3-none-any.whl (16 kB)\n",
            "Downloading mediapy-1.2.4-py3-none-any.whl (26 kB)\n",
            "Downloading ml_collections-1.1.0-py3-none-any.whl (76 kB)\n",
            "\u001b[2K   \u001b[90m━━━━━━━━━━━━━━━━━━━━━━━━━━━━━━━━━━━━━━━━\u001b[0m \u001b[32m76.7/76.7 kB\u001b[0m \u001b[31m7.7 MB/s\u001b[0m eta \u001b[36m0:00:00\u001b[0m\n",
            "\u001b[?25hDownloading mujoco-3.3.2-cp311-cp311-manylinux_2_17_x86_64.manylinux2014_x86_64.whl (6.6 MB)\n",
            "\u001b[2K   \u001b[90m━━━━━━━━━━━━━━━━━━━━━━━━━━━━━━━━━━━━━━━━\u001b[0m \u001b[32m6.6/6.6 MB\u001b[0m \u001b[31m95.5 MB/s\u001b[0m eta \u001b[36m0:00:00\u001b[0m\n",
            "\u001b[?25hDownloading mujoco_mjx-3.3.2-py3-none-any.whl (6.7 MB)\n",
            "\u001b[2K   \u001b[90m━━━━━━━━━━━━━━━━━━━━━━━━━━━━━━━━━━━━━━━━\u001b[0m \u001b[32m6.7/6.7 MB\u001b[0m \u001b[31m97.1 MB/s\u001b[0m eta \u001b[36m0:00:00\u001b[0m\n",
            "\u001b[?25hDownloading dm_env-1.6-py3-none-any.whl (26 kB)\n",
            "Downloading flask_cors-5.0.1-py3-none-any.whl (11 kB)\n",
            "Downloading glfw-2.9.0-py2.py27.py3.py30.py31.py32.py33.py34.py35.py36.py37.py38.p39.p310.p311.p312.p313-none-manylinux_2_28_x86_64.whl (243 kB)\n",
            "\u001b[2K   \u001b[90m━━━━━━━━━━━━━━━━━━━━━━━━━━━━━━━━━━━━━━━━\u001b[0m \u001b[32m243.5/243.5 kB\u001b[0m \u001b[31m24.3 MB/s\u001b[0m eta \u001b[36m0:00:00\u001b[0m\n",
            "\u001b[?25hDownloading jaxopt-0.8.5-py3-none-any.whl (172 kB)\n",
            "\u001b[2K   \u001b[90m━━━━━━━━━━━━━━━━━━━━━━━━━━━━━━━━━━━━━━━━\u001b[0m \u001b[32m172.4/172.4 kB\u001b[0m \u001b[31m17.5 MB/s\u001b[0m eta \u001b[36m0:00:00\u001b[0m\n",
            "\u001b[?25hDownloading pytinyrenderer-0.0.14-cp311-cp311-manylinux_2_17_x86_64.manylinux2014_x86_64.whl (1.9 MB)\n",
            "\u001b[2K   \u001b[90m━━━━━━━━━━━━━━━━━━━━━━━━━━━━━━━━━━━━━━━━\u001b[0m \u001b[32m1.9/1.9 MB\u001b[0m \u001b[31m65.4 MB/s\u001b[0m eta \u001b[36m0:00:00\u001b[0m\n",
            "\u001b[?25hDownloading tensorboardX-2.6.2.2-py2.py3-none-any.whl (101 kB)\n",
            "\u001b[2K   \u001b[90m━━━━━━━━━━━━━━━━━━━━━━━━━━━━━━━━━━━━━━━━\u001b[0m \u001b[32m101.7/101.7 kB\u001b[0m \u001b[31m11.4 MB/s\u001b[0m eta \u001b[36m0:00:00\u001b[0m\n",
            "\u001b[?25hDownloading trimesh-4.6.8-py3-none-any.whl (709 kB)\n",
            "\u001b[2K   \u001b[90m━━━━━━━━━━━━━━━━━━━━━━━━━━━━━━━━━━━━━━━━\u001b[0m \u001b[32m709.3/709.3 kB\u001b[0m \u001b[31m49.3 MB/s\u001b[0m eta \u001b[36m0:00:00\u001b[0m\n",
            "\u001b[?25hDownloading jedi-0.19.2-py2.py3-none-any.whl (1.6 MB)\n",
            "\u001b[2K   \u001b[90m━━━━━━━━━━━━━━━━━━━━━━━━━━━━━━━━━━━━━━━━\u001b[0m \u001b[32m1.6/1.6 MB\u001b[0m \u001b[31m66.8 MB/s\u001b[0m eta \u001b[36m0:00:00\u001b[0m\n",
            "\u001b[?25hBuilding wheels for collected packages: quadruped_mjx_rl\n",
            "  Building editable for quadruped_mjx_rl (pyproject.toml) ... \u001b[?25l\u001b[?25hdone\n",
            "  Created wheel for quadruped_mjx_rl: filename=quadruped_mjx_rl-0.0.1-0.editable-py3-none-any.whl size=1875 sha256=d63ea3c139db57c3fbd348bc189c43c8d6f904fd5c16ea84ee34b360a9d3b023\n",
            "  Stored in directory: /tmp/pip-ephem-wheel-cache-590do7ll/wheels/f5/17/dc/1310c3fc1ac418e3ffd03caf359f7d6df62e5e764b13e82f9a\n",
            "Successfully built quadruped_mjx_rl\n",
            "Installing collected packages: pytinyrenderer, glfw, trimesh, tensorboardx, ml_collections, jedi, dacite, dm-env, mujoco, mediapy, flask-cors, mujoco_mjx, jaxopt, brax, quadruped_mjx_rl\n",
            "Successfully installed brax-0.12.3 dacite-1.9.2 dm-env-1.6 flask-cors-5.0.1 glfw-2.9.0 jaxopt-0.8.5 jedi-0.19.2 mediapy-1.2.4 ml_collections-1.1.0 mujoco-3.3.2 mujoco_mjx-3.3.2 pytinyrenderer-0.0.14 quadruped_mjx_rl-0.0.1 tensorboardx-2.6.2.2 trimesh-4.6.8\n"
          ]
        }
      ]
    },
    {
      "cell_type": "markdown",
      "source": [
        "### Now restart the session and continue.\n",
        "### You can skip setup next time while you are on the same machine."
      ],
      "metadata": {
        "id": "W-4afCIErqZU"
      },
      "id": "W-4afCIErqZU"
    },
    {
      "metadata": {
        "id": "e01c74e8011bcec3"
      },
      "cell_type": "markdown",
      "source": [
        "## Session setup\n",
        "Run once in the beggining of every session, i.e. after restarts and crashes."
      ],
      "id": "e01c74e8011bcec3"
    },
    {
      "cell_type": "code",
      "source": [
        "# @title Refresh the package if any necessary changes have been pushed. Important in development\n",
        "repo_path = \"./unitree-go2-mjx-rl\"\n",
        "!git -C {repo_path} pull"
      ],
      "metadata": {
        "colab": {
          "base_uri": "https://localhost:8080/"
        },
        "id": "kYg-MhCgz2tZ",
        "outputId": "fbdc9c5e-4f35-4286-a66d-5f5d670144d2",
        "cellView": "form"
      },
      "id": "kYg-MhCgz2tZ",
      "execution_count": 1,
      "outputs": [
        {
          "output_type": "stream",
          "name": "stdout",
          "text": [
            "Already up to date.\n"
          ]
        }
      ]
    },
    {
      "cell_type": "code",
      "source": [
        "# @title Configuration for both local and for Colab instances.\n",
        "\n",
        "# On your second reading, load the compiled rendering backend to save time!\n",
        "import os\n",
        "os.environ[\"XLA_PYTHON_CLIENT_PREALLOCATE\"] = \"false\"\n",
        "\n",
        "# Check if MuJoCo installation was successful\n",
        "import distutils.util\n",
        "import os\n",
        "import subprocess\n",
        "if subprocess.run('nvidia-smi').returncode:\n",
        "    raise RuntimeError(\n",
        "        'Cannot communicate with GPU. '\n",
        "        'Make sure you are using a GPU Colab runtime. '\n",
        "        'Go to the Runtime menu and select Choose runtime type.'\n",
        "    )\n",
        "\n",
        "# Add an ICD config so that glvnd can pick up the Nvidia EGL driver.\n",
        "# This is usually installed as part of an Nvidia driver package, but the Colab\n",
        "# kernel doesn't install its driver via APT, and as a result the ICD is missing.\n",
        "# (https://github.com/NVIDIA/libglvnd/blob/master/src/EGL/icd_enumeration.md)\n",
        "NVIDIA_ICD_CONFIG_PATH = '/usr/share/glvnd/egl_vendor.d/10_nvidia.json'\n",
        "if not os.path.exists(NVIDIA_ICD_CONFIG_PATH):\n",
        "    with open(NVIDIA_ICD_CONFIG_PATH, 'w') as f:\n",
        "        f.write(\"\"\"{\n",
        "        \"file_format_version\" : \"1.0.0\",\n",
        "        \"ICD\" : {\n",
        "            \"library_path\" : \"libEGL_nvidia.so.0\"\n",
        "        }\n",
        "    }\n",
        "    \"\"\")\n",
        "\n",
        "# Configure MuJoCo to use the EGL rendering backend (requires GPU)\n",
        "print('Setting environment variable to use GPU rendering:')\n",
        "%env MUJOCO_GL=egl\n",
        "\n",
        "try:\n",
        "    print('Checking that the installation succeeded:')\n",
        "    import mujoco\n",
        "\n",
        "    mujoco.MjModel.from_xml_string('<mujoco/>')\n",
        "except Exception as e:\n",
        "    raise e from RuntimeError(\n",
        "        'Something went wrong during installation. Check the shell output above '\n",
        "        'for more information.\\n'\n",
        "        'If using a hosted Colab runtime, make sure you enable GPU acceleration '\n",
        "        'by going to the Runtime menu and selecting \"Choose runtime type\".'\n",
        "    )\n",
        "\n",
        "print('Installation successful.')\n",
        "\n",
        "# Tell XLA to use Triton GEMM, this improves steps/sec by ~30% on some GPUs\n",
        "xla_flags = os.environ.get('XLA_FLAGS', '')\n",
        "xla_flags += ' --xla_gpu_triton_gemm_any=True'\n",
        "os.environ['XLA_FLAGS'] = xla_flags"
      ],
      "metadata": {
        "colab": {
          "base_uri": "https://localhost:8080/"
        },
        "id": "bukHmqYa1kbU",
        "outputId": "7157737e-d26d-403b-9057-bf86e0e3e815",
        "collapsed": true,
        "cellView": "form"
      },
      "id": "bukHmqYa1kbU",
      "execution_count": 2,
      "outputs": [
        {
          "output_type": "stream",
          "name": "stdout",
          "text": [
            "Setting environment variable to use GPU rendering:\n",
            "env: MUJOCO_GL=egl\n",
            "Checking that the installation succeeded:\n",
            "Installation successful.\n"
          ]
        }
      ]
    },
    {
      "cell_type": "code",
      "source": [
        "#@title Prepare directories\n",
        "from etils.epath import Path\n",
        "\n",
        "repo_path = Path(\"unitree-go2-mjx-rl\")\n",
        "\n",
        "experiments_dir = Path(\"experiments\")\n",
        "trained_policy_dir = experiments_dir / \"trained_policies\"\n",
        "!mkdir -p {trained_policy_dir}\n",
        "configs_dir = experiments_dir / \"configs\"\n",
        "!mkdir -p {configs_dir}\n",
        "rollout_configs_dir = configs_dir / \"rollout_configs\"\n",
        "!mkdir -p {rollout_configs_dir}\n",
        "animations_dir = experiments_dir / \"rendered_rollouts\"\n",
        "!mkdir -p {animations_dir}\n",
        "\n",
        "experiment_configs = {}"
      ],
      "metadata": {
        "id": "8YX0CJPqDw4a",
        "cellView": "form"
      },
      "id": "8YX0CJPqDw4a",
      "execution_count": 3,
      "outputs": []
    },
    {
      "cell_type": "markdown",
      "source": [
        "## Training"
      ],
      "metadata": {
        "id": "XMzQjTFe02jy"
      },
      "id": "XMzQjTFe02jy"
    },
    {
      "cell_type": "code",
      "source": [
        "#@title Configure a training procedure\n",
        "from quadruped_mjx_rl.configs import predefined_robot_configs\n",
        "from quadruped_mjx_rl import environments\n",
        "from quadruped_mjx_rl.configs.config_classes import models\n",
        "from quadruped_mjx_rl.configs import TrainingConfig\n",
        "from quadruped_mjx_rl.configs import save_configs\n",
        "\n",
        "#@markdown Fill out a name for the experiment and all configuration parameters.\n",
        "#@markdown If you want to add another experiment, change the parameters and run\n",
        "#@markdown this cell again.\n",
        "experiment_name = \"my_experiment\" #@param {type:\"string\"}\n",
        "config_dict = {}\n",
        "experiment_configs[experiment_name] = config_dict\n",
        "\n",
        "#@markdown ---\n",
        "#@markdown #### Choose the policy approximation method\n",
        "model_architecture = \"Actor-Critic\" #@param [\"Actor-Critic\", \"Teacher-Student\"]\n",
        "training_algorithm = \"ppo\" #@param [\"ppo\"]\n",
        "vision_backend = \"None\" #@param [\"None\",\"Madrona\"]\n",
        "\n",
        "#@markdown ---\n",
        "#@markdown #### Choose the robot\n",
        "robot = \"unitree_go2\" #@param [\"unitree_go2\", \"google_barkour_vb\"]\n",
        "config_dict[\"robot_config\"] = predefined_robot_configs[robot]()\n",
        "\n",
        "#@markdown ---\n",
        "#@markdown #### Configure Environment\n",
        "if model_architecture == \"Actor-Critic\" and training_algorithm == \"ppo\":\n",
        "    env_config_class = environments.EnhancedEnvironmentConfig\n",
        "else:\n",
        "    raise NotImplementedError\n",
        "\n",
        "simulation_timestep = 0.002 #@param {type:\"number\"}\n",
        "control_timestep = 0.04 #@param {type:\"number\"}\n",
        "\n",
        "config_dict[\"env_config\"] = env_config_class(\n",
        "    sim=env_config_class.SimConfig(\n",
        "        sim_dt=simulation_timestep,\n",
        "        ctrl_dt=control_timestep,\n",
        "    ),\n",
        ")\n",
        "\n",
        "#@markdown ---\n",
        "#@markdown #### Configure Model\n",
        "if model_architecture == \"Actor-Critic\":\n",
        "    #@markdown ---\n",
        "    #@markdown Model hyperparameters for the \"Actor-Critic\" architecture:\n",
        "    policy_layers = [256, 256] #@param\n",
        "    value_layers = [256, 256] #@param\n",
        "\n",
        "    model_config_class = models.ActorCriticConfig\n",
        "    model_config = model_config_class(\n",
        "        modules=model_config_class.ActorCriticModulesConfig(\n",
        "            policy=policy_layers,\n",
        "            value=value_layers,\n",
        "        ),\n",
        "    )\n",
        "elif model_architecture == \"Teacher-Student\":\n",
        "    #@markdown ---\n",
        "    #@markdown Model hyperparameters for the \"Teacher-Student\" architecture:\n",
        "    policy_layers = [256, 256] #@param\n",
        "    value_layers = [256, 256] #@param\n",
        "    teacher_encoder_layers = [256, 256] #@param\n",
        "    student_encoder_layers = [256, 256] #@param\n",
        "    latent_representation_size = 16 # @param {\"type\":\"integer\"}\n",
        "\n",
        "    model_config_class = models.TeacherStudentConfig\n",
        "    model_config = model_config_class(\n",
        "        modules=model_config_class.TeacherStudentModulesConfig(\n",
        "            policy=policy_layers,\n",
        "            value=value_layers,\n",
        "            encoder=teacher_encoder_layers,\n",
        "            adapter=student_encoder_layers,\n",
        "        ),\n",
        "        latent_size=latent_representation_size,\n",
        "    )\n",
        "config_dict[\"model_config\"] = model_config\n",
        "\n",
        "#@markdown ---\n",
        "#@markdown #### Configure training procedure\n",
        "if vision_backend == \"None\":\n",
        "    #@markdown ---\n",
        "    #@markdown #### Training without vision:\n",
        "    training_config = TrainingConfig(\n",
        "        num_timesteps=1_000_000 #@param {\"type\":\"integer\"}\n",
        "        ,\n",
        "        num_evals=5 #@param {\"type\":\"integer\"}\n",
        "        ,\n",
        "        reward_scaling=1 #@param {\"type\":\"integer\"}\n",
        "        ,\n",
        "        episode_length=1000 #@param {\"type\":\"integer\"}\n",
        "        ,\n",
        "        normalize_observations=True #@param {\"type\":\"boolean\"}\n",
        "        ,\n",
        "        action_repeat=1 #@param {\"type\":\"integer\"}\n",
        "        ,\n",
        "        unroll_length=10 #@param {\"type\":\"integer\"}\n",
        "        ,\n",
        "        num_minibatches=8 #@param {\"type\":\"integer\"}\n",
        "        ,\n",
        "        num_updates_per_batch=8 #@param {\"type\":\"integer\"}\n",
        "        ,\n",
        "        discounting=0.97 #@param {\"type\":\"number\"}\n",
        "        ,\n",
        "        learning_rate=0.0005  #@param {\"type\":\"number\"}\n",
        "        ,\n",
        "        entropy_cost=0.005  #@param {\"type\":\"number\"}\n",
        "        ,\n",
        "        num_envs=512 #@param {\"type\":\"integer\"}\n",
        "        ,\n",
        "        batch_size=256 #@param {\"type\":\"integer\"}\n",
        "    )\n",
        "elif vision_backend == \"Madrona\":\n",
        "    training_config_class = TrainingWithVisionConfig\n",
        "else:\n",
        "    raise NotImplementedError\n",
        "config_dict[\"training_config\"] = training_config\n",
        "\n",
        "config_file_path = configs_dir / f\"{experiment_name}.yaml\"\n",
        "configs_to_save = [\n",
        "    config_dict[config_key]\n",
        "    for config_key in config_dict.keys() if config_key.endswith(\"_config\")\n",
        "]\n",
        "save_configs(config_file_path, *configs_to_save)\n",
        "print(f\"Experiment configs saved to {config_file_path}\")"
      ],
      "metadata": {
        "id": "9v7k-gt1_Yq8",
        "colab": {
          "base_uri": "https://localhost:8080/"
        },
        "outputId": "8968046f-5129-467a-9aae-40490f331b3d",
        "cellView": "form"
      },
      "id": "9v7k-gt1_Yq8",
      "execution_count": 4,
      "outputs": [
        {
          "output_type": "stream",
          "name": "stdout",
          "text": [
            "Experiment configs saved to experiments/configs/my_experiment.yaml\n"
          ]
        }
      ]
    },
    {
      "cell_type": "code",
      "source": [
        "#@title List all configured experiments\n",
        "!ls {configs_dir}"
      ],
      "metadata": {
        "colab": {
          "base_uri": "https://localhost:8080/"
        },
        "id": "EE81C3Ev9RRx",
        "outputId": "0455da6e-c7ed-42a4-993e-979e2f7fe115"
      },
      "id": "EE81C3Ev9RRx",
      "execution_count": 5,
      "outputs": [
        {
          "output_type": "stream",
          "name": "stdout",
          "text": [
            "my_experiment.yaml  rollout_configs\n"
          ]
        }
      ]
    },
    {
      "cell_type": "code",
      "source": [
        "#@title Run training for all experiments\n",
        "from quadruped_mjx_rl.configs import prepare_configs, ConfigKey\n",
        "from quadruped_mjx_rl.training import train\n",
        "from quadruped_mjx_rl import environments\n",
        "from quadruped_mjx_rl.models.agents.ppo.raw_ppo.training import train as train_ppo_ac\n",
        "from quadruped_mjx_rl.models.agents.ppo.guided_ppo.training import train as train_ppo_ts\n",
        "\n",
        "#@markdown Choose with which configs to train\n",
        "training_runs = None # @param {\"type\":\"raw\",\"placeholder\":\"[\\\"experiment_name1\\\", \\\"experiment_name2\\\", ... ]\"}\n",
        "#@markdown or\n",
        "run_them_all = True # @param {\"type\":\"boolean\"}\n",
        "if run_them_all:\n",
        "    training_runs = [\n",
        "        config_file.stem\n",
        "        for config_file in configs_dir.iterdir() if config_file.name.endswith(\".yaml\")\n",
        "    ]\n",
        "\n",
        "\n",
        "for experiment_name in training_runs:\n",
        "    config_path = configs_dir / f\"{experiment_name}.yaml\"\n",
        "    configs = prepare_configs(config_path)\n",
        "    environment_config = configs[ConfigKey.ENVIRONMENT]\n",
        "    robot_config = configs[ConfigKey.ROBOT]\n",
        "    model_config = configs[ConfigKey.MODEL]\n",
        "    training_config = configs[ConfigKey.TRAINING]\n",
        "    vision_config = configs.get(ConfigKey.VISION)\n",
        "\n",
        "    init_scene_path = repo_path / \"resources\" / robot_config.robot_name / \"scene_mjx.xml\"\n",
        "\n",
        "    train_function = train_ppo_ac\n",
        "    match type(environment_config):\n",
        "        case environments.TeacherStudentEnvironmentConfig:\n",
        "            env_class = environments.QuadrupedJoystickTeacherStudentEnv\n",
        "            train_function = train_ppo_ts\n",
        "        case environments.EnhancedEnvironmentConfig:\n",
        "            env_class = environments.QuadrupedJoystickEnhancedEnv\n",
        "        case environments.EnvironmentConfig:\n",
        "            env_class = environments.QuadrupedJoystickBaseEnv\n",
        "        case _:\n",
        "            raise NotImplementedError\n",
        "\n",
        "    def env_factory():\n",
        "        return env_class(\n",
        "            environment_config=environment_config,\n",
        "            robot_config=robot_config,\n",
        "            init_scene_path=init_scene_path,\n",
        "        )\n",
        "\n",
        "    del training_config.training_class\n",
        "\n",
        "    trained_policy_save_path = trained_policy_dir / f\"{experiment_name}\"\n",
        "\n",
        "    print(f\"Starting training for: {experiment_name}\")\n",
        "    train(\n",
        "        env_factory=env_factory,\n",
        "        model_config=model_config,\n",
        "        training_config=training_config,\n",
        "        train_fn=train_function,\n",
        "        model_save_path=trained_policy_save_path,\n",
        "        checkpoints_save_path=None, #TODO: enable\n",
        "        vision=False, #TODO: enable\n",
        "    )\n",
        "    print(f\"Trained policy saved to {trained_policy_save_path}\")"
      ],
      "metadata": {
        "id": "q5LBMWAO1lV-",
        "colab": {
          "base_uri": "https://localhost:8080/",
          "height": 1000
        },
        "outputId": "2dda0cb3-f2d1-4e86-f9ef-026565fe73fc",
        "collapsed": true
      },
      "id": "q5LBMWAO1lV-",
      "execution_count": 6,
      "outputs": [
        {
          "output_type": "stream",
          "name": "stdout",
          "text": [
            "Starting training for: my_experiment\n"
          ]
        },
        {
          "output_type": "stream",
          "name": "stderr",
          "text": [
            "/content/unitree-go2-mjx-rl/src/quadruped_mjx_rl/models/agents/ppo/raw_ppo/training.py:449: UserWarning: Explicitly requested dtype <class 'jax.numpy.int64'> requested in array is not available, and will be truncated to dtype int32. To enable more dtypes, set the jax_enable_x64 configuration option or the JAX_ENABLE_X64 shell environment variable. See https://github.com/jax-ml/jax#current-gotchas for more.\n",
            "  env_steps=jnp.array(0, dtype=jnp.int64),\n"
          ]
        },
        {
          "output_type": "display_data",
          "data": {
            "text/plain": [
              "<Figure size 640x480 with 1 Axes>"
            ],
            "image/png": "[encoded data removed]"
          },
          "metadata": {}
        },
        {
          "output_type": "display_data",
          "data": {
            "text/plain": [
              "<Figure size 640x480 with 1 Axes>"
            ],
            "image/png": "[encoded data removed]"
          },
          "metadata": {}
        },
        {
          "output_type": "display_data",
          "data": {
            "text/plain": [
              "<Figure size 640x480 with 1 Axes>"
            ],
            "image/png": "[encoded data removed]"
          },
          "metadata": {}
        },
        {
          "output_type": "display_data",
          "data": {
            "text/plain": [
              "<Figure size 640x480 with 1 Axes>"
            ],
            "image/png": "[encoded data removed]"
          },
          "metadata": {}
        },
        {
          "output_type": "display_data",
          "data": {
            "text/plain": [
              "<Figure size 640x480 with 1 Axes>"
            ],
            "image/png": "[encoded data removed]"
          },
          "metadata": {}
        },
        {
          "output_type": "stream",
          "name": "stdout",
          "text": [
            "time to jit: 0:01:49.050607\n",
            "time to train: 0:03:14.330778\n",
            "Trained policy saved to experiments/trained_policies/my_experiment\n"
          ]
        }
      ]
    },
    {
      "metadata": {
        "id": "c12f2f24636fdfe0"
      },
      "cell_type": "markdown",
      "source": [
        "## Results\n",
        "This section can be run independently from the training section, including after restarts and crashes. As long as all the created files remain in the session's disk memory."
      ],
      "id": "c12f2f24636fdfe0"
    },
    {
      "cell_type": "code",
      "source": [
        "#@title List all configured experiments\n",
        "!ls {configs_dir}"
      ],
      "metadata": {
        "colab": {
          "base_uri": "https://localhost:8080/"
        },
        "id": "Pycy46wVy5YT",
        "outputId": "7919b148-514c-42cf-8404-d74a4a22c916"
      },
      "id": "Pycy46wVy5YT",
      "execution_count": 7,
      "outputs": [
        {
          "output_type": "stream",
          "name": "stdout",
          "text": [
            "my_experiment.yaml  rollout_configs\n"
          ]
        }
      ]
    },
    {
      "cell_type": "code",
      "source": [
        "# @title Configure a rollout for rendering\n",
        "from quadruped_mjx_rl.configs import RenderConfig, save_configs\n",
        "\n",
        "experiment_name = \"my_experiment\" #@param {type:\"string\"}\n",
        "rollout_name = \"my_rollout\" #@param {type:\"string\"}\n",
        "\n",
        "n_steps = 500 #@param {\"type\":\"integer\"}\n",
        "render_every = 2 #@param {\"type\":\"integer\"}\n",
        "random_seed = 0 #@param {\"type\":\"integer\"}\n",
        "\n",
        "#@markdown ---\n",
        "#@markdown Joystick command for the robot to follow (in SI)\n",
        "x_vel = 1.0 #@param {\"type\":\"number\"}\n",
        "y_vel = 0.0 #@param {\"type\":\"number\"}\n",
        "ang_vel = 0.0 #@param {\"type\":\"number\"}\n",
        "\n",
        "render_config = RenderConfig(\n",
        "    n_steps=n_steps,\n",
        "    episode_length=n_steps * 2,\n",
        "    render_every=render_every,\n",
        "    seed=random_seed,\n",
        "    command={\n",
        "        \"x_vel\": x_vel,\n",
        "        \"y_vel\": y_vel,\n",
        "        \"ang_vel\": ang_vel,\n",
        "    },\n",
        ")\n",
        "\n",
        "config_file_path = rollout_configs_dir / f\"{experiment_name}_rendering_{rollout_name}.yaml\"\n",
        "save_configs(config_file_path, render_config)\n",
        "print(f\"Rollout configs saved to {config_file_path}\")"
      ],
      "metadata": {
        "colab": {
          "base_uri": "https://localhost:8080/"
        },
        "id": "kc97NpZXyav4",
        "outputId": "7bcbe517-9015-42bb-dddc-91352155337b"
      },
      "id": "kc97NpZXyav4",
      "execution_count": 8,
      "outputs": [
        {
          "output_type": "stream",
          "name": "stdout",
          "text": [
            "Rollout configs saved to experiments/configs/rollout_configs/my_experiment_rendering_my_rollout.yaml\n"
          ]
        }
      ]
    },
    {
      "cell_type": "code",
      "source": [
        "#@title Render all configured policy rollouts\n",
        "from quadruped_mjx_rl.rendering import render\n",
        "from quadruped_mjx_rl import environments\n",
        "from quadruped_mjx_rl.configs import EnvironmentConfig, prepare_configs\n",
        "from quadruped_mjx_rl.configs import ConfigKey\n",
        "\n",
        "#@markdown All rollouts present will be rendered\n",
        "delete_rollouts_after_rendering = True #@param {\"type\":\"boolean\"}\n",
        "save_rollout_gifs = True #@param {\"type\":\"boolean\"}\n",
        "\n",
        "for experiment_config_file in configs_dir.iterdir():\n",
        "    if not experiment_config_file.name.endswith(\".yaml\"):\n",
        "        continue\n",
        "    experiment_name = experiment_config_file.stem\n",
        "    configs = prepare_configs(experiment_config_file)\n",
        "    environment_config = configs[ConfigKey.ENVIRONMENT]\n",
        "    robot_config = configs[ConfigKey.ROBOT]\n",
        "    model_config = configs[ConfigKey.MODEL]\n",
        "    vision_config = configs.get(ConfigKey.VISION)\n",
        "\n",
        "    init_scene_path = repo_path / \"resources\" / robot_config.robot_name / \"scene_mjx.xml\"\n",
        "\n",
        "    match type(environment_config):\n",
        "        case environments.TeacherStudentEnvironmentConfig:\n",
        "            env_class = environments.QuadrupedJoystickTeacherStudentEnv\n",
        "        case environments.EnhancedEnvironmentConfig:\n",
        "            env_class = environments.QuadrupedJoystickEnhancedEnv\n",
        "        case environments.EnvironmentConfig:\n",
        "            env_class = environments.QuadrupedJoystickBaseEnv\n",
        "        case _:\n",
        "            raise NotImplementedError\n",
        "\n",
        "    def env_factory():\n",
        "        return env_class(\n",
        "            environment_config=environment_config,\n",
        "            robot_config=robot_config,\n",
        "            init_scene_path=init_scene_path,\n",
        "        )\n",
        "\n",
        "    trained_policy = trained_policy_dir / f\"{experiment_name}\"\n",
        "\n",
        "    rollout_configs_list = []\n",
        "    for rollout_config_file in rollout_configs_dir.iterdir():\n",
        "        if (\n",
        "            not rollout_config_file.name.endswith(\".yaml\")\n",
        "            or \"_rendering_\" not in rollout_config_file.name\n",
        "            or experiment_name != rollout_config_file.name.split(\"_rendering_\")[0]\n",
        "        ):\n",
        "            print(not rollout_config_file.name.endswith(\".yaml\") )\n",
        "            print(\"_render_\" not in rollout_config_file.name)\n",
        "            print(experiment_name != rollout_config_file.name.split(\"_render_\")[0])\n",
        "            print(experiment_name)\n",
        "            print(rollout_config_file.name.split(\"_render_\")[0])\n",
        "            print(rollout_config_file.name)\n",
        "            continue\n",
        "        rollout_configs_list.append(rollout_config_file)\n",
        "\n",
        "        render_config = prepare_configs(rollout_config_file)\n",
        "\n",
        "        if save_rollout_gifs:\n",
        "            animation_save_path = animations_dir / f\"{rollout_config_file.stem}.gif\"\n",
        "        else:\n",
        "            animation_save_path = None\n",
        "\n",
        "        render(\n",
        "            env_factory=env_factory,\n",
        "            model_config=model_config,\n",
        "            trained_model_path=trained_policy,\n",
        "            render_config=render_config,\n",
        "            animation_save_path=animation_save_path,\n",
        "            vision=False,\n",
        "        )\n",
        "\n",
        "    if delete_rollouts_after_rendering:\n",
        "        for rollout_config_file in rollout_configs_list:\n",
        "            rollout_config_file.unlink()"
      ],
      "metadata": {
        "id": "8HeGg0vmxTDB"
      },
      "id": "8HeGg0vmxTDB",
      "execution_count": 9,
      "outputs": []
    },
    {
      "cell_type": "code",
      "source": [
        "#@title Saving results\n",
        "from google.colab import files, drive\n",
        "from etils.epath import Path\n",
        "\n",
        "#@markdown (This can be run in a separate session)\n",
        "\n",
        "#@markdown Choose what you want to save\n",
        "policies = True #@param {\"type\":\"boolean\"}\n",
        "rollout_gifs = True #@param {\"type\":\"boolean\"}\n",
        "config_files = True #@param {\"type\":\"boolean\"}\n",
        "#@markdown Only the configs for the training are saved\n",
        "\n",
        "#@markdown Choose whether you want to download your results\n",
        "download_results = False # @param {\"type\":\"boolean\"}\n",
        "\n",
        "#@markdown Choose whether you want to save results to your Google drive\n",
        "save_to_drive = True # @param {\"type\":\"boolean\"}\n",
        "drive_save_folder = \"quadruped_mjx_rl_Results\" # @param {type:\"string\"}\n",
        "if save_to_drive:\n",
        "    drive.mount('/content/drive')\n",
        "\n",
        "for do_save, directory in zip(\n",
        "    [policies, rollout_gifs, config_files], [trained_policy_dir, animations_dir, configs_dir],\n",
        "):\n",
        "    if not do_save:\n",
        "        continue\n",
        "    for file_path in directory.iterdir():\n",
        "        if file_path.is_dir():\n",
        "            continue\n",
        "        if download_results:\n",
        "            files.download(file_path)\n",
        "        if save_to_drive:\n",
        "            drive_dir = Path(f\"/content/drive/MyDrive/{drive_save_folder}/{directory.name}\")\n",
        "            drive_dir.mkdir(parents=True, exist_ok=True)\n",
        "            file_path.copy(\n",
        "                dst=drive_dir / file_path.name, overwrite=True\n",
        "            )\n",
        "\n",
        "if save_to_drive:\n",
        "    drive.flush_and_unmount()"
      ],
      "metadata": {
        "colab": {
          "base_uri": "https://localhost:8080/"
        },
        "id": "5zH157Liqtvq",
        "outputId": "e902e497-8a42-493f-a84b-1521430cd1d6"
      },
      "id": "5zH157Liqtvq",
      "execution_count": 16,
      "outputs": [
        {
          "output_type": "stream",
          "name": "stdout",
          "text": [
            "Drive already mounted at /content/drive; to attempt to forcibly remount, call drive.mount(\"/content/drive\", force_remount=True).\n"
          ]
        }
      ]
    }
  ],
  "metadata": {
    "kernelspec": {
      "display_name": "Python 3",
      "name": "python3"
    },
    "language_info": {
      "codemirror_mode": {
        "name": "ipython",
        "version": 2
      },
      "file_extension": ".py",
      "mimetype": "text/x-python",
      "name": "python",
      "nbconvert_exporter": "python",
      "pygments_lexer": "ipython2",
      "version": "2.7.6"
    },
    "colab": {
      "provenance": [],
      "include_colab_link": true
    }
  },
  "nbformat": 4,
  "nbformat_minor": 5
}