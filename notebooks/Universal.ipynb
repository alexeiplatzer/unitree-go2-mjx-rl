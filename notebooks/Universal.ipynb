{
 "cells": [
  {
   "metadata": {},
   "cell_type": "markdown",
   "source": "# Univeral Notebook for Quadruped RL Training in MJX",
   "id": "f4d6a6a44d14ed1b"
  },
  {
   "metadata": {},
   "cell_type": "markdown",
   "source": "## Hardware Setup",
   "id": "e3a9f2f1b31ad2d8"
  },
  {
   "metadata": {},
   "cell_type": "markdown",
   "source": [
    "### Google Colab\n",
    "Follow this section if you are running the notebook on Google Colab"
   ],
   "id": "9d8a127af4de05f9"
  },
  {
   "metadata": {},
   "cell_type": "markdown",
   "source": "_TODO_",
   "id": "3b13800def84f51d"
  },
  {
   "metadata": {},
   "cell_type": "markdown",
   "source": [
    "### Kaggle\n",
    "Follow this section if you are running the notebook on Kaggle"
   ],
   "id": "e59f5399e3023d8"
  },
  {
   "metadata": {},
   "cell_type": "markdown",
   "source": "_TODO_",
   "id": "52d4dbf31a0a53f7"
  },
  {
   "metadata": {},
   "cell_type": "markdown",
   "source": [
    "### Local Setup\n",
    "Follow this section if you are running this notebook locally"
   ],
   "id": "9b2a180b1c4c643a"
  },
  {
   "metadata": {},
   "cell_type": "markdown",
   "source": "_TODO_",
   "id": "d0b68ef00d2e3150"
  },
  {
   "metadata": {},
   "cell_type": "markdown",
   "source": "## Training",
   "id": "e01c74e8011bcec3"
  },
  {
   "metadata": {},
   "cell_type": "markdown",
   "source": "## Results",
   "id": "c12f2f24636fdfe0"
  }
 ],
 "metadata": {
  "kernelspec": {
   "display_name": "Python 3",
   "language": "python",
   "name": "python3"
  },
  "language_info": {
   "codemirror_mode": {
    "name": "ipython",
    "version": 2
   },
   "file_extension": ".py",
   "mimetype": "text/x-python",
   "name": "python",
   "nbconvert_exporter": "python",
   "pygments_lexer": "ipython2",
   "version": "2.7.6"
  }
 },
 "nbformat": 4,
 "nbformat_minor": 5
}
